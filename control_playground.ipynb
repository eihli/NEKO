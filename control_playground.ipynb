{
 "cells": [
  {
   "cell_type": "code",
   "execution_count": 40,
   "id": "8db616d4-a211-4ba0-b506-eabb353815fe",
   "metadata": {},
   "outputs": [],
   "source": [
    "import minari\n",
    "import gymnasium as gym\n",
    "from gato.tasks.control_task import ControlTask"
   ]
  },
  {
   "cell_type": "code",
   "execution_count": 39,
   "id": "dd15aa8b-2b1d-4bfd-b7ab-32481f543190",
   "metadata": {},
   "outputs": [
    {
     "data": {
      "text/plain": [
       "<module 'gato.tasks.control_task' from '/home/eihli/src/NEKO/gato/tasks/control_task.py'>"
      ]
     },
     "execution_count": 39,
     "metadata": {},
     "output_type": "execute_result"
    }
   ],
   "source": [
    "import importlib\n",
    "import gato.tasks.control_task\n",
    "importlib.reload(gato.tasks.control_task)"
   ]
  },
  {
   "cell_type": "code",
   "execution_count": 7,
   "id": "a9eb40a3-7ba7-45fc-901c-5c3650467ecd",
   "metadata": {},
   "outputs": [],
   "source": [
    "dataset_name = 'BabyAI-GoToOpen-v0'\n",
    "dataset = minari.load_dataset(dataset_name)"
   ]
  },
  {
   "cell_type": "code",
   "execution_count": 14,
   "id": "48e2d91e-6129-4b31-9948-c23816ecc559",
   "metadata": {},
   "outputs": [
    {
     "data": {
      "text/plain": [
       "(<minari.dataset.minari_dataset.MinariDataset at 0x7fdb736327a0>,\n",
       " 'BabyAI-GoToOpen-v0')"
      ]
     },
     "execution_count": 14,
     "metadata": {},
     "output_type": "execute_result"
    }
   ],
   "source": [
    "dataset, dataset.spec.env_spec.id"
   ]
  },
  {
   "cell_type": "code",
   "execution_count": 20,
   "id": "8bb39ed5-1830-43b9-bf39-76b3930c072a",
   "metadata": {},
   "outputs": [],
   "source": [
    "env = gym.make(dataset.spec.env_spec)"
   ]
  },
  {
   "cell_type": "code",
   "execution_count": 23,
   "id": "c6510562-6b7e-4598-b5fa-464d18b6b975",
   "metadata": {},
   "outputs": [],
   "source": [
    "from argparse import Namespace"
   ]
  },
  {
   "cell_type": "code",
   "execution_count": 25,
   "id": "6a94b4b9-fc85-40bc-ba7e-bdd0690a5af0",
   "metadata": {},
   "outputs": [],
   "source": [
    "args = Namespace(patch_size=4)"
   ]
  },
  {
   "cell_type": "code",
   "execution_count": 22,
   "id": "dcdf66fd-3f1a-440a-893a-60492878b545",
   "metadata": {},
   "outputs": [],
   "source": [
    "context_len = 512\n",
    "training_prompg_len_proportion=0.5\n",
    "share_prompt_episodes=True\n",
    "top_5_prompting=None"
   ]
  },
  {
   "cell_type": "markdown",
   "id": "f06ba044-04d3-46c6-8714-48ec277b4c67",
   "metadata": {},
   "source": [
    "# Supported observation spaces\n",
    "\n",
    "The first error I encounter is that the BabyAI environment has a Dict observation space.\n",
    "\n",
    "What would it take to support that type of observation space?\n",
    "\n",
    "Looking at how this is used, I see it conditionally:\n",
    "\n",
    "- If it's a Box that has a shape of length 2 or 3\n",
    "    - Adds image transforms\n",
    "- Otherwise\n",
    "    - Sets `obs_str` to `'continuous_obs'`, which eventually makes its way into `input_dict`, which eventually makes its way to `predict_control`, which doesn't get checked in `predict_control` but eventually makes its way to `tokenize_input_dicts`, and _that's_ where it gets checked.\n",
    "        - It tokenizes the batch with the `continuous_obs_tokenizer`. \n",
    "\n",
    "(Is this a safe condition? Might there be non-image con)\n",
    "\n",
    "## tokens_per_space\n",
    "\n",
    "This is another place where the type of the observation space is checked.\n",
    "\n",
    "Box: `space.shape[0]`\n",
    "Discrete: `1`\n",
    "Dict: ?\n",
    "\n",
    "What is this?\n",
    "\n",
    "`tokens_per_space` gets assigned to `action_tokens` [here](https://github.com/eihli/NEKO/blob/b66b48b88117307a442c43a7f4d8701706670144/gato/tasks/control_task.py#L74) and then used to calculate `tokens_per_timestamp` and is eventually used to create/manipulate the shape of the `input_dict` in [ControlTask.evaluate](https://github.com/eihli/NEKO/blob/b66b48b88117307a442c43a7f4d8701706670144/gato/tasks/control_task.py#L138)."
   ]
  },
  {
   "cell_type": "code",
   "execution_count": 34,
   "id": "f7f4423d-1c28-4f32-9192-21218f90cb15",
   "metadata": {},
   "outputs": [
    {
     "data": {
      "text/plain": [
       "Dict('direction': Discrete(4), 'image': Box(0, 255, (7, 7, 3), uint8), 'mission': MissionSpace(<function BabyAIMissionSpace._gen_mission at 0x7fdb727b09d0>, None))"
      ]
     },
     "execution_count": 34,
     "metadata": {},
     "output_type": "execute_result"
    }
   ],
   "source": [
    "env.observation_space"
   ]
  },
  {
   "cell_type": "code",
   "execution_count": 41,
   "id": "9d28676e-6225-44f0-ae05-ef16596903b4",
   "metadata": {},
   "outputs": [
    {
     "ename": "NotImplementedError",
     "evalue": "Unsupported space: Dict('direction': Discrete(4), 'image': Box(0, 255, (7, 7, 3), uint8), 'mission': MissionSpace(<function BabyAIMissionSpace._gen_mission at 0x7fdb727b09d0>, None))",
     "output_type": "error",
     "traceback": [
      "\u001b[0;31m---------------------------------------------------------------------------\u001b[0m",
      "\u001b[0;31mNotImplementedError\u001b[0m                       Traceback (most recent call last)",
      "Cell \u001b[0;32mIn[41], line 1\u001b[0m\n\u001b[0;32m----> 1\u001b[0m control \u001b[38;5;241m=\u001b[39m \u001b[43mControlTask\u001b[49m\u001b[43m(\u001b[49m\u001b[38;5;124;43m'\u001b[39;49m\u001b[38;5;124;43mplayground_env_name\u001b[39;49m\u001b[38;5;124;43m'\u001b[39;49m\u001b[43m,\u001b[49m\u001b[43m \u001b[49m\u001b[43menv\u001b[49m\u001b[43m,\u001b[49m\u001b[43m \u001b[49m\u001b[43mdataset\u001b[49m\u001b[43m,\u001b[49m\u001b[43m \u001b[49m\u001b[43mcontext_len\u001b[49m\u001b[43m,\u001b[49m\u001b[43m \u001b[49m\u001b[43margs\u001b[49m\u001b[43m)\u001b[49m\n",
      "File \u001b[0;32m~/src/NEKO/gato/tasks/control_task.py:83\u001b[0m, in \u001b[0;36mControlTask.__init__\u001b[0;34m(self, env_name, env, dataset, context_len, args, training_prompt_len_proportion, share_prompt_episodes, top_k_prompting)\u001b[0m\n\u001b[1;32m     81\u001b[0m     \u001b[38;5;28mself\u001b[39m\u001b[38;5;241m.\u001b[39mobservation_tokens \u001b[38;5;241m=\u001b[39m image_shape[\u001b[38;5;241m-\u001b[39m\u001b[38;5;241m1\u001b[39m] \u001b[38;5;241m/\u001b[39m\u001b[38;5;241m/\u001b[39m args\u001b[38;5;241m.\u001b[39mpatch_size \u001b[38;5;241m*\u001b[39m image_shape[\u001b[38;5;241m-\u001b[39m\u001b[38;5;241m2\u001b[39m] \u001b[38;5;241m/\u001b[39m\u001b[38;5;241m/\u001b[39m args\u001b[38;5;241m.\u001b[39mpatch_size\n\u001b[1;32m     82\u001b[0m \u001b[38;5;28;01melse\u001b[39;00m:\n\u001b[0;32m---> 83\u001b[0m     \u001b[38;5;28mself\u001b[39m\u001b[38;5;241m.\u001b[39mobservation_tokens \u001b[38;5;241m=\u001b[39m \u001b[43mtokens_per_space\u001b[49m\u001b[43m(\u001b[49m\u001b[38;5;28;43mself\u001b[39;49m\u001b[38;5;241;43m.\u001b[39;49m\u001b[43menv\u001b[49m\u001b[38;5;241;43m.\u001b[39;49m\u001b[43mobservation_space\u001b[49m\u001b[43m)\u001b[49m\n\u001b[1;32m     85\u001b[0m \u001b[38;5;28mself\u001b[39m\u001b[38;5;241m.\u001b[39mtokens_per_timestep \u001b[38;5;241m=\u001b[39m  \u001b[38;5;28mself\u001b[39m\u001b[38;5;241m.\u001b[39maction_tokens \u001b[38;5;241m+\u001b[39m \u001b[38;5;28mself\u001b[39m\u001b[38;5;241m.\u001b[39mobservation_tokens \u001b[38;5;241m+\u001b[39m \u001b[38;5;241m1\u001b[39m \u001b[38;5;66;03m# additional separator token\u001b[39;00m\n\u001b[1;32m     86\u001b[0m \u001b[38;5;28;01massert\u001b[39;00m context_len \u001b[38;5;241m>\u001b[39m\u001b[38;5;241m=\u001b[39m \u001b[38;5;28mself\u001b[39m\u001b[38;5;241m.\u001b[39mtokens_per_timestep, \u001b[38;5;124mf\u001b[39m\u001b[38;5;124m'\u001b[39m\u001b[38;5;124mContext length must be at least \u001b[39m\u001b[38;5;132;01m{\u001b[39;00m\u001b[38;5;28mself\u001b[39m\u001b[38;5;241m.\u001b[39mtokens_per_timestep\u001b[38;5;132;01m}\u001b[39;00m\u001b[38;5;124m for env \u001b[39m\u001b[38;5;132;01m{\u001b[39;00menv_name\u001b[38;5;132;01m}\u001b[39;00m\u001b[38;5;124m'\u001b[39m\n",
      "File \u001b[0;32m~/src/NEKO/gato/tasks/control_task.py:25\u001b[0m, in \u001b[0;36mtokens_per_space\u001b[0;34m(space)\u001b[0m\n\u001b[1;32m     23\u001b[0m     \u001b[38;5;28;01mreturn\u001b[39;00m \u001b[38;5;241m1\u001b[39m\n\u001b[1;32m     24\u001b[0m \u001b[38;5;28;01melse\u001b[39;00m:\n\u001b[0;32m---> 25\u001b[0m     \u001b[38;5;28;01mraise\u001b[39;00m \u001b[38;5;167;01mNotImplementedError\u001b[39;00m(\u001b[38;5;124mf\u001b[39m\u001b[38;5;124m'\u001b[39m\u001b[38;5;124mUnsupported space: \u001b[39m\u001b[38;5;132;01m{\u001b[39;00mspace\u001b[38;5;132;01m}\u001b[39;00m\u001b[38;5;124m'\u001b[39m)\n",
      "\u001b[0;31mNotImplementedError\u001b[0m: Unsupported space: Dict('direction': Discrete(4), 'image': Box(0, 255, (7, 7, 3), uint8), 'mission': MissionSpace(<function BabyAIMissionSpace._gen_mission at 0x7fdb727b09d0>, None))"
     ]
    }
   ],
   "source": [
    "control = ControlTask('playground_env_name', env, dataset, context_len, args)"
   ]
  },
  {
   "cell_type": "code",
   "execution_count": null,
   "id": "213eab07-ad92-4e69-ba36-aa24e5fd2494",
   "metadata": {},
   "outputs": [],
   "source": []
  }
 ],
 "metadata": {
  "kernelspec": {
   "display_name": "Python 3 (ipykernel)",
   "language": "python",
   "name": "python3"
  },
  "language_info": {
   "codemirror_mode": {
    "name": "ipython",
    "version": 3
   },
   "file_extension": ".py",
   "mimetype": "text/x-python",
   "name": "python",
   "nbconvert_exporter": "python",
   "pygments_lexer": "ipython3",
   "version": "3.10.11"
  }
 },
 "nbformat": 4,
 "nbformat_minor": 5
}
