{
 "cells": [
  {
   "cell_type": "code",
   "execution_count": 1,
   "id": "8775c8c7-c4d3-4bc0-8579-acfdf06dff70",
   "metadata": {},
   "outputs": [],
   "source": [
    "import minari\n",
    "\n",
    "minigrid_dataset = minari.load_dataset('D4RL/minigrid/fourrooms-v0', download=True)\n",
    "env  = minigrid_dataset.recover_environment()"
   ]
  },
  {
   "cell_type": "code",
   "execution_count": 2,
   "id": "3e30c717-48c7-4e88-b0be-9028fbeb1135",
   "metadata": {},
   "outputs": [
    {
     "name": "stdout",
     "output_type": "stream",
     "text": [
      "Observation space: Dict('direction': Discrete(4), 'image': Box(0, 255, (7, 7, 3), uint8), 'mission': Text(1, 14, charset=                                                              ''''''''''''''''''''''''''''''''''''''''''''''''''''''''''''''''''''''''''''''''''''''''''''''''''''''''''''''''''''''''''''(),,,,,,,,,,,,,,,,,,,,,,,,,,,,,,,,,,,,,,,,,,,,,,,,,,,,,,,,,,,,,0123456789ABCDEFGHIJKLMNOPQRSTUVWXYZabcdeeeffghijklmnnoopqrrssttuvwxyzz{}))\n",
      "Action space: Discrete(7)\n",
      "Total episodes: 590\n",
      "Total steps: 10010\n"
     ]
    }
   ],
   "source": [
    "print(\"Observation space:\", minigrid_dataset.observation_space)\n",
    "print(\"Action space:\", minigrid_dataset.action_space)\n",
    "print(\"Total episodes:\", minigrid_dataset.total_episodes)\n",
    "print(\"Total steps:\", minigrid_dataset.total_steps)"
   ]
  },
  {
   "cell_type": "code",
   "execution_count": 3,
   "id": "55d08d2f-b0ef-4354-921e-0c48c27de48f",
   "metadata": {},
   "outputs": [
    {
     "name": "stdout",
     "output_type": "stream",
     "text": [
      "EPISODE ID'S SAMPLE 0: [31, 348, 9, 536, 400]\n",
      "EPISODE ID'S SAMPLE 1: [103, 265, 544, 204, 477]\n",
      "EPISODE ID'S SAMPLE 2: [302, 158, 14, 505, 522]\n",
      "EPISODE ID'S SAMPLE 3: [240, 125, 371, 87, 435]\n",
      "EPISODE ID'S SAMPLE 4: [468, 125, 305, 489, 469]\n"
     ]
    }
   ],
   "source": [
    "minigrid_dataset.set_seed(seed=123)\n",
    "\n",
    "for i in range(5):\n",
    "    # sample 5 episodes from the dataset\n",
    "    episodes = minigrid_dataset.sample_episodes(n_episodes=5)\n",
    "    # get id's from the sampled episodes\n",
    "    ids = list(map(lambda ep: ep.id, episodes))\n",
    "    print(f\"EPISODE ID'S SAMPLE {i}: {ids}\")"
   ]
  },
  {
   "cell_type": "code",
   "execution_count": 4,
   "id": "d82db11c-188c-403c-8a26-ac2c85dbff0c",
   "metadata": {},
   "outputs": [
    {
     "data": {
      "text/plain": [
       "(11, 7, 7, 3)"
      ]
     },
     "execution_count": 4,
     "metadata": {},
     "output_type": "execute_result"
    }
   ],
   "source": [
    "episodes[0].observations[\"image\"].shape"
   ]
  },
  {
   "cell_type": "code",
   "execution_count": 5,
   "id": "661fc51b-2a55-45bf-975f-aca5b6f48742",
   "metadata": {},
   "outputs": [],
   "source": [
    "from minigrid.core import constants as mgc"
   ]
  },
  {
   "cell_type": "code",
   "execution_count": 6,
   "id": "5d35a0a7-b700-490b-8492-84513b73e2e1",
   "metadata": {},
   "outputs": [],
   "source": [
    "def minigrid_to_rgb(obs):\n",
    "    _obs = torch.zeros(obs.shape, dtype=torch.uint8)\n",
    "    for i in range(_obs.size(0)):\n",
    "        for j in range(_obs.size(1)):\n",
    "            _obs[i, j] = torch.from_numpy(mgc.COLORS[mgc.IDX_TO_COLOR[obs[i, j, 1]]]).to(torch.uint8)\n",
    "    return _obs.permute(2, 0, 1)"
   ]
  },
  {
   "cell_type": "code",
   "execution_count": 11,
   "id": "eb7bd59e-728c-4f50-85c5-4333942374f3",
   "metadata": {},
   "outputs": [],
   "source": [
    "import matplotlib.pyplot as plt\n",
    "import torch"
   ]
  },
  {
   "cell_type": "code",
   "execution_count": 12,
   "id": "6ecdb422-9b77-4d63-aa0c-e861a678ce9c",
   "metadata": {},
   "outputs": [
    {
     "data": {
      "image/png": "[encoded data removed]",
      "text/plain": [
       "<Figure size 1500x1500 with 11 Axes>"
      ]
     },
     "metadata": {},
     "output_type": "display_data"
    }
   ],
   "source": [
    "episode = episodes[0]\n",
    "l = episode.observations[\"image\"].shape[0]\n",
    "fig, axs = plt.subplots(l, 1, figsize=(15, 15))\n",
    "for i in range(l):\n",
    "    axs[i].imshow(minigrid_to_rgb(episode.observations[\"image\"][i]).permute(1, 2, 0))\n",
    "    axs[i].axis(\"off\")\n",
    "plt.tight_layout()\n",
    "plt.show()"
   ]
  },
  {
   "cell_type": "code",
   "execution_count": 15,
   "id": "7dd02845-057a-4299-8ece-ec25031ed9ed",
   "metadata": {},
   "outputs": [],
   "source": [
    "import torchvision.transforms.v2 as transforms"
   ]
  },
  {
   "cell_type": "code",
   "execution_count": 37,
   "id": "c1c89bfb-4306-4e66-83ea-6fbbde8722ad",
   "metadata": {
    "scrolled": true
   },
   "outputs": [],
   "source": [
    "image_resize = transforms.Resize((96, 96))"
   ]
  },
  {
   "cell_type": "code",
   "execution_count": 38,
   "id": "b7bf12f1-e8be-492a-9919-416a796d9f79",
   "metadata": {},
   "outputs": [
    {
     "data": {
      "text/plain": [
       "torch.Size([3, 96, 96])"
      ]
     },
     "execution_count": 38,
     "metadata": {},
     "output_type": "execute_result"
    }
   ],
   "source": [
    "resized_minari_grid_observation_image = image_resize([minigrid_to_rgb(episode.observations[\"image\"][1])])\n",
    "resized_minari_grid_observation_image[0].shape"
   ]
  },
  {
   "cell_type": "code",
   "execution_count": 39,
   "id": "e5291506-fa49-483c-83ec-7589a44480d7",
   "metadata": {},
   "outputs": [
    {
     "data": {
      "text/plain": [
       "<matplotlib.image.AxesImage at 0x7eb9af3a2b10>"
      ]
     },
     "execution_count": 39,
     "metadata": {},
     "output_type": "execute_result"
    },
    {
     "data": {
      "image/png": "[encoded data removed]",
      "text/plain": [
       "<Figure size 640x480 with 1 Axes>"
      ]
     },
     "metadata": {},
     "output_type": "display_data"
    }
   ],
   "source": [
    "plt.imshow(image_resize([minigrid_to_rgb(episode.observations[\"image\"][1])])[0].permute(1, 2, 0))"
   ]
  },
  {
   "cell_type": "code",
   "execution_count": null,
   "id": "8f872f10-f398-48a3-8ea3-eee4a83be706",
   "metadata": {},
   "outputs": [],
   "source": [
    "batch = minigrid_dataset.sample_episodes(4)"
   ]
  },
  {
   "cell_type": "code",
   "execution_count": null,
   "id": "866cc1c0-a479-456c-894d-9706093990db",
   "metadata": {},
   "outputs": [],
   "source": [
    "# Text embeddings\n",
    "text_tokens = tokenize_text(sample.observations[\"mission\"], padding=\"longest\", return_tensors=\"pt\")[\"input_ids\"]\n",
    "text_embeddings = embed_text(text_tokens)\n",
    "text_mask = torch.zeros(text_embeddings.size(1))\n",
    "\n",
    "# Visual embeddings\n",
    "minigrid_images = [minigrid_to_rgb(image) for image in batch[0].observations[\"image\"]]\n",
    "minigrid_images_resized = [image_resize(image) for image in minigrid_images]\n",
    "image_tokens = tokenize_image(minigrid_images_resized)\n",
    "# batch[0].observation[\"image\"] is in numpy format, HxWxC.\n",
    "# heights, widths = map(torch.tensor, zip(*[image.shape[1:3] for image in batch[0].observations[\"image\"]]))\n",
    "heights, widths = map(torch.tensor, zip(*[image.shape[1:3] for image in minigrid_images_resized]))\n",
    "n_patch_rows, n_patch_cols = n_patch_rows_cols(12, 12, heights, widths)\n",
    "image_embeddings = embed_image(n_patch_rows, n_patch_cols, image_tokens)\n",
    "image_mask = torch.zeros(image_embeddings.size(1))\n",
    "\n",
    "# Discrete embeddings\n",
    "discrete_tokens = torch.from_numpy(sample.observations[\"direction\"])\n",
    "discrete_embeddings = embed_discrete(discrete_tokens).unsqueeze(dim=1)\n",
    "discrete_mask = torch.zeros(discrete_embeddings.size(1))\n",
    "\n",
    "# Separator_embedding\n",
    "# defined above\n",
    "separator_mask = torch.zeros(1)\n",
    "\n",
    "# Action embeddings\n",
    "action_tokens = torch.from_numpy(sample.actions)\n",
    "action_embeddings = embed_discrete(action_tokens).unsqueeze(dim=1)\n",
    "action_mask = torch.ones(action_embeddings.size(1))\n",
    "\n",
    "observation_sequence_length = len(text_mask) + len(image_mask) + len(discrete_mask) + len(separator_mask) + len(action_mask)\n",
    "\n",
    "sequence = []\n",
    "mask = []\n",
    "for i in range(action_embeddings.size(0)):\n",
    "    sequence.append(torch.concat([text_embeddings[i], image_embeddings[i], discrete_embeddings[i], separator_embedding[0], action_embeddings[i]]))\n",
    "    mask.append(torch.concat([text_mask, image_mask, discrete_mask, separator_mask, action_mask]))\n",
    "\n",
    "# How many episodes can fit in our context window?\n",
    "max_episodes = int(SEQUENCE_LENGTH // len(sequence[0]))\n",
    "\n",
    "# Pick a random episode to start from, and take up to max.\n",
    "offset = random.randint(0, len(sequence) - max_episodes // 2)\n",
    "\n",
    "sequence = torch.concat(sequence)\n",
    "mask = torch.concat(mask)\n",
    "\n",
    "sequence = sequence[offset*observation_sequence_length : (offset+max_episodes)*observation_sequence_length]\n",
    "mask = mask[offset*observation_sequence_length : (offset+max_episodes)*observation_sequence_length]\n",
    "\n",
    "if len(sequence) < SEQUENCE_LENGTH:\n",
    "    mask = torch.concat([mask, torch.zeros(SEQUENCE_LENGTH - len(mask))])\n",
    "    padding = torch.zeros((SEQUENCE_LENGTH - len(sequence), *sequence.shape[1:]))\n",
    "    sequence = torch.concat([sequence, padding])"
   ]
  }
 ],
 "metadata": {
  "kernelspec": {
   "display_name": "Python 3 (ipykernel)",
   "language": "python",
   "name": "python3"
  },
  "language_info": {
   "codemirror_mode": {
    "name": "ipython",
    "version": 3
   },
   "file_extension": ".py",
   "mimetype": "text/x-python",
   "name": "python",
   "nbconvert_exporter": "python",
   "pygments_lexer": "ipython3",
   "version": "3.12.4"
  }
 },
 "nbformat": 4,
 "nbformat_minor": 5
}
