{
 "cells": [
  {
   "cell_type": "markdown",
   "id": "1f79b73b-3072-4d25-9728-305a5a306269",
   "metadata": {},
   "source": [
    "# Mini Gato\n",
    "\n",
    "Goals:\n",
    "\n",
    "- Simplicity\n",
    "- Minimal dependencies\n",
    "- Clear explanations\n",
    "- Quickly iterable executable examples\n",
    "- Extensible architecture\n",
    "\n",
    "Non-goals:\n",
    "\n",
    "- Performance\n",
    "- Eval metrics\n",
    "\n",
    "If I succeed at the goals then I expect the path towards the non-goals will be clear."
   ]
  },
  {
   "cell_type": "markdown",
   "id": "936ca5c8-f3e7-4305-bd11-c3e8bb8846ea",
   "metadata": {},
   "source": [
    "### Definitions\n",
    "\n",
    "- ***ModalBatch*** a batch of samples of some modality\n",
    "- ***ModalSample*** an individual data sample of some modality\n",
    "- ***TextSample*** sample of text modality\n",
    "- ***VQASample*** sample of visual question answering\n",
    "- ***ActionSample*** sample of a visual (and maybe proprioception) task predicting action towards a provided textual goal\n",
    "  - The Gato paper differentiates between image/discrete tasks and image/proprioception/discrete/continuous tasks. I'm going to lump those two together. Continuous values get binned into one of 1024 discrete bins, before they get embedded. So we funnel the behavior into the same channel.\n",
    "  "
   ]
  },
  {
   "cell_type": "code",
   "execution_count": 1,
   "id": "361cb630-6f78-4a7c-8903-4f7342708615",
   "metadata": {},
   "outputs": [],
   "source": [
    "import os\n",
    "from pathlib import Path\n",
    "import re\n",
    "import tempfile\n",
    "import requests\n",
    "\n",
    "def acquire_shakespeare_dataset():\n",
    "    temp_dir = tempfile.gettempdir()\n",
    "    shakespeare_filepath = Path(temp_dir)/\"shakespeare.txt\"\n",
    "    if not os.path.exists(shakespeare_filepath):\n",
    "        data_url = 'https://raw.githubusercontent.com/karpathy/char-rnn/master/data/tinyshakespeare/input.txt'\n",
    "        with open(shakespeare_filepath, 'w', encoding='utf-8') as f:\n",
    "            f.write(requests.get(data_url).text)\n",
    "    \n",
    "    with open(shakespeare_filepath, 'r', encoding='utf-8') as f:\n",
    "        data = f.read()\n",
    "\n",
    "    # Split the dataset into each character's lines.\n",
    "    # Continue taking lines until you have at least 250 words in the sample.\n",
    "    # Add that sample to the dataset.\n",
    "    characters_lines = re.split(r\"\\n\\s*\\n\", data.strip())\n",
    "    MIN_WORDS_PER_BATCH = 250\n",
    "    sample = [characters_lines[0]]\n",
    "    num_words_in_sample = len(characters_lines[0].split())\n",
    "    text_dataset = []\n",
    "    i = 1\n",
    "    while i < len(characters_lines):\n",
    "        if num_words_in_sample > MIN_WORDS_PER_BATCH:\n",
    "            text_dataset.append(\"\\n\\n\".join(sample))\n",
    "            num_words_in_sample -= len(sample[0].split())\n",
    "            sample = sample[1:]\n",
    "        sample += [characters_lines[i]]\n",
    "        num_words_in_sample += len(characters_lines[i].split())\n",
    "        i += 1\n",
    "\n",
    "    return text_dataset"
   ]
  },
  {
   "cell_type": "code",
   "execution_count": 2,
   "id": "8b22ade3-7a23-4fb6-8622-486231974b31",
   "metadata": {},
   "outputs": [],
   "source": [
    "text_dataset = acquire_shakespeare_dataset()"
   ]
  },
  {
   "cell_type": "code",
   "execution_count": 3,
   "id": "5ce958de-31cb-43c7-91c3-b0089c875437",
   "metadata": {},
   "outputs": [
    {
     "name": "stdout",
     "output_type": "stream",
     "text": [
      "Number of samples in the dataset: 7184\n",
      "Character length of first 3 samples: [1632, 1688, 1891]\n",
      "\n",
      "First 80 characters of first sample:\n",
      "\n",
      "First Citizen:\n",
      "Before we proceed any further, hear me speak.\n",
      "\n",
      "All:\n",
      "Speak, speak.\n"
     ]
    }
   ],
   "source": [
    "print(f\"Number of samples in the dataset: {len(text_dataset)}\")\n",
    "print(f\"Character length of first 3 samples: {[len(x) for x in text_dataset[:3]]}\\n\")\n",
    "print(f\"First 80 characters of first sample:\\n\\n{text_dataset[0][:80]}\")"
   ]
  },
  {
   "cell_type": "markdown",
   "id": "e7a3bfdf-54a3-4bb5-a6b3-12bd286d01a4",
   "metadata": {},
   "source": [
    "### Text Tokenization\n",
    "\n",
    "> Text tokens, discrete and continuous values, and actions can be directly set as targets after tokenization. [§ 2.2](https://arxiv.org/pdf/2205.06175#page=4)\n",
    "\n",
    "I think it's going to simplify things if we combine into a single concept all of tokenization, target-setting, and masking.\n",
    "\n",
    "The idea is: we call something like `text_token_prep` or `image_token_prep` and it returns the tokens, the targets, and the attention masks. No matter the modality, we always get those three things returned.\n",
    "\n",
    "Let's write that in such a way that we get the benefit of things like autocomplete."
   ]
  },
  {
   "cell_type": "code",
   "execution_count": 4,
   "id": "841eee38-aca7-4419-ada8-4adcfaa0f463",
   "metadata": {},
   "outputs": [],
   "source": [
    "SEQUENCE_LENGTH = 1024\n",
    "BATCH_SIZE = 4\n",
    "NUM_WORKERS = 4  # DataLoader"
   ]
  },
  {
   "cell_type": "code",
   "execution_count": 113,
   "id": "0c5e350b-d84b-4020-adf4-c08b1c20a8b3",
   "metadata": {},
   "outputs": [],
   "source": [
    "from abc import ABC, abstractmethod\n",
    "from typing import Protocol, runtime_checkable, NewType\n",
    "from dataclasses import dataclass\n",
    "from functools import partial\n",
    "import torch\n",
    "\n",
    "@dataclass\n",
    "class TokenData:\n",
    "    tokens: torch.Tensor = torch.tensor([], dtype=torch.float32)\n",
    "    targets: torch.Tensor = torch.tensor([], dtype=torch.int64)\n",
    "    attention_mask: torch.Tensor = torch.tensor([], dtype=torch.uint8)\n",
    "\n",
    "    def to(self, device):\n",
    "        self.tokens = self.tokens.to(device)\n",
    "        self.targets = self.targets.to(device)\n",
    "        self.attention_mask = self.attention_mask.to(device)\n",
    "        return self\n",
    "\n",
    "class TextTokenData(TokenData):\n",
    "    pass\n",
    "\n",
    "class ImageTokenData(TokenData):\n",
    "    pass\n",
    "# etc... I don't know exactly what all types we'll need for this.\n",
    "# \n",
    "# Example: will we need a single VisualQuestionAnsweringTokenData?\n",
    "# Or, will that be a concatenation of TextTokenData and ImageTokenData?\n",
    "# I just don't know yet."
   ]
  },
  {
   "cell_type": "code",
   "execution_count": 75,
   "id": "27da9006-5c3b-4f94-bf32-0d90baec64d4",
   "metadata": {},
   "outputs": [],
   "source": [
    "class Tokenator(ABC):\n",
    "    @abstractmethod\n",
    "    def __call__(self) -> TokenData:\n",
    "        pass\n",
    "\n",
    "class TextTokenator(Tokenator):\n",
    "    def __init__(self, tokenizer):   \n",
    "        self.tokenizer = tokenizer\n",
    "        \n",
    "    def __call__(self, batch, **kwargs) -> TokenData:\n",
    "        tokenized =  self.tokenizer(batch, **kwargs)\n",
    "        xs = tokenized[\"input_ids\"][:, :-1]\n",
    "        ms = tokenized[\"attention_mask\"][:, :-1]\n",
    "        ys = tokenized[\"input_ids\"][:, 1:]\n",
    "        return TextTokenData(tokens=xs, targets=ys, attention_mask=ms)\n",
    "\n",
    "    def decode(self, *args, **kwargs):\n",
    "        return self.tokenizer.func.decode(*args, **kwargs)\n",
    "\n",
    "    @property\n",
    "    def vocab_size(self):\n",
    "        return self.tokenizer.func.vocab_size"
   ]
  },
  {
   "cell_type": "code",
   "execution_count": 76,
   "id": "e7951172-6c5d-40a6-aaa0-eaf9ab41a5d1",
   "metadata": {},
   "outputs": [],
   "source": [
    "from transformers import GPT2Tokenizer"
   ]
  },
  {
   "cell_type": "code",
   "execution_count": 114,
   "id": "eed3fd06-8b45-4f85-bcb0-458f28c8f20b",
   "metadata": {},
   "outputs": [],
   "source": [
    "# Prefixing with _ to signify global.\n",
    "__text_tokenizer = GPT2Tokenizer.from_pretrained(\"openai-community/gpt2\", clean_up_tokenization_spaces=True)\n",
    "__text_tokenizer.pad_token = __text_tokenizer.eos_token\n",
    "_text_tokenizer = partial(\n",
    "    __text_tokenizer,\n",
    "    max_length=SEQUENCE_LENGTH+1,\n",
    "    truncation=True,\n",
    "    padding=\"max_length\",\n",
    "    return_tensors=\"pt\",\n",
    ")"
   ]
  },
  {
   "cell_type": "code",
   "execution_count": 115,
   "id": "28a3a60a-f4b7-43f6-8d2c-b34722d99d51",
   "metadata": {},
   "outputs": [],
   "source": [
    "text_tokenator = TextTokenator(_text_tokenizer)"
   ]
  },
  {
   "cell_type": "code",
   "execution_count": 116,
   "id": "d44f51ee-1139-4d8e-9d6a-c8efd11d71fc",
   "metadata": {},
   "outputs": [
    {
     "data": {
      "text/plain": [
       "TextTokenData(tokens=tensor([[15496,    11,   995,  ..., 50256, 50256, 50256]]), targets=tensor([[   11,   995,     0,  ..., 50256, 50256, 50256]]), attention_mask=tensor([[1, 1, 1,  ..., 0, 0, 0]]))"
      ]
     },
     "execution_count": 116,
     "metadata": {},
     "output_type": "execute_result"
    }
   ],
   "source": [
    "text_tokenator([\"Hello, world!\"])"
   ]
  },
  {
   "cell_type": "code",
   "execution_count": 117,
   "id": "0bb363b2-a3aa-4157-a99f-669b3bbaa40a",
   "metadata": {},
   "outputs": [],
   "source": [
    "from torch.utils.data import DataLoader"
   ]
  },
  {
   "cell_type": "code",
   "execution_count": 118,
   "id": "6381a53a-e020-41de-a2ca-bb510017e4bb",
   "metadata": {},
   "outputs": [],
   "source": [
    "text_dataloader = DataLoader(text_dataset, batch_size=BATCH_SIZE, collate_fn=text_tokenator)"
   ]
  },
  {
   "cell_type": "code",
   "execution_count": 119,
   "id": "e1e85b77-12ed-4deb-a67d-3d5b12a7e361",
   "metadata": {},
   "outputs": [],
   "source": [
    "text_tokens = next(iter(text_dataloader))"
   ]
  },
  {
   "cell_type": "code",
   "execution_count": 120,
   "id": "430c3ce4-348a-4319-948d-ad8041241154",
   "metadata": {},
   "outputs": [
    {
     "data": {
      "text/plain": [
       "(torch.Size([4, 1024]), torch.Size([4, 1024]), torch.Size([4, 1024]))"
      ]
     },
     "execution_count": 120,
     "metadata": {},
     "output_type": "execute_result"
    }
   ],
   "source": [
    "text_tokens.tokens.shape, text_tokens.targets.shape, text_tokens.attention_mask.shape"
   ]
  },
  {
   "cell_type": "markdown",
   "id": "f49b56ec-ab72-49c3-bbcd-6dbbbdb6ad57",
   "metadata": {},
   "source": [
    "Make sure the 4th element of our target matches what we expect to be predicted after the 4th element of our input. We're tokenizing and offsetting correctly."
   ]
  },
  {
   "cell_type": "code",
   "execution_count": 121,
   "id": "fe0b1513-460a-4074-9327-e5aa5cfae8ec",
   "metadata": {},
   "outputs": [
    {
     "data": {
      "text/plain": [
       "'First Citizen:\\nBefore we proce'"
      ]
     },
     "execution_count": 121,
     "metadata": {},
     "output_type": "execute_result"
    }
   ],
   "source": [
    "text_dataset[0][:30]"
   ]
  },
  {
   "cell_type": "code",
   "execution_count": 122,
   "id": "69b9b68a-5f6e-4abe-b39c-570458d5a7e3",
   "metadata": {},
   "outputs": [
    {
     "data": {
      "text/plain": [
       "(tensor([ 5962, 22307,    25,   198,  8421]),\n",
       " tensor([22307,    25,   198,  8421]))"
      ]
     },
     "execution_count": 122,
     "metadata": {},
     "output_type": "execute_result"
    }
   ],
   "source": [
    "text_tokens.tokens[0, :5], text_tokens.targets[0, :4]"
   ]
  },
  {
   "cell_type": "code",
   "execution_count": 123,
   "id": "40af3be3-1429-4670-87f5-39b72a69869d",
   "metadata": {},
   "outputs": [
    {
     "data": {
      "text/plain": [
       "('First Citizen:\\nBefore', ' we')"
      ]
     },
     "execution_count": 123,
     "metadata": {},
     "output_type": "execute_result"
    }
   ],
   "source": [
    "text_tokenator.decode(text_tokens.tokens[0, :5]), text_tokenator.decode(text_tokens.targets[0, 4])"
   ]
  },
  {
   "cell_type": "markdown",
   "id": "2c2953e0-2609-41c8-b535-025985884673",
   "metadata": {},
   "source": [
    "### Does it work with multiple workers?"
   ]
  },
  {
   "cell_type": "code",
   "execution_count": 124,
   "id": "6e4677de-0485-4d98-ae8e-f5aa9e84b19a",
   "metadata": {},
   "outputs": [],
   "source": [
    "text_dataloader = DataLoader(text_dataset, batch_size=BATCH_SIZE, collate_fn=text_tokenator, num_workers=4)\n",
    "dl = iter(text_dataloader)"
   ]
  },
  {
   "cell_type": "code",
   "execution_count": 125,
   "id": "98a85366-db89-420e-b574-1fe148f19abe",
   "metadata": {},
   "outputs": [],
   "source": [
    "from tqdm.notebook import tqdm"
   ]
  },
  {
   "cell_type": "code",
   "execution_count": 126,
   "id": "9f678153-78ea-4169-820a-2e01712fa373",
   "metadata": {},
   "outputs": [
    {
     "data": {
      "application/vnd.jupyter.widget-view+json": {
       "model_id": "20b47527658647759b0c2e0495360f5a",
       "version_major": 2,
       "version_minor": 0
      },
      "text/plain": [
       "  0%|          | 0/100 [00:00<?, ?it/s]"
      ]
     },
     "metadata": {},
     "output_type": "display_data"
    }
   ],
   "source": [
    "for _ in tqdm(range(100)):\n",
    "    next(dl)"
   ]
  },
  {
   "cell_type": "code",
   "execution_count": 127,
   "id": "50659529-21fc-4abf-8c4e-38fcbe0446c7",
   "metadata": {},
   "outputs": [
    {
     "data": {
      "application/vnd.jupyter.widget-view+json": {
       "model_id": "3dea11b10f01436cb2c7c663694b3407",
       "version_major": 2,
       "version_minor": 0
      },
      "text/plain": [
       "  0%|          | 0/100 [00:00<?, ?it/s]"
      ]
     },
     "metadata": {},
     "output_type": "display_data"
    }
   ],
   "source": [
    "for _ in tqdm(range(100)):\n",
    "    next(dl)"
   ]
  },
  {
   "cell_type": "code",
   "execution_count": 128,
   "id": "11b6d92d-3fd8-4457-80fe-b7c940399146",
   "metadata": {},
   "outputs": [],
   "source": [
    "import torch.nn as nn\n",
    "from transformers import GPT2TokenizerFast, GPT2Config, GPT2Model"
   ]
  },
  {
   "cell_type": "code",
   "execution_count": 129,
   "id": "90ccdf82-72b7-495b-9c2f-f5bdcb576170",
   "metadata": {},
   "outputs": [],
   "source": [
    "EMBEDDING_DIM = 768\n",
    "PATCH_SIZE = 16\n",
    "class MiniGato(nn.Module):\n",
    "    def __init__(\n",
    "        self,\n",
    "        transformer=None,\n",
    "        text_tokenator=None,\n",
    "        sequence_length=SEQUENCE_LENGTH,\n",
    "        embedding_dim=EMBEDDING_DIM,\n",
    "        patch_size=PATCH_SIZE,\n",
    "    ):\n",
    "        super().__init__()\n",
    "        assert text_tokenator, \"text_tokenizer is a required arg\"\n",
    "        self.embedding_dim = embedding_dim\n",
    "        self.text_tokenator = text_tokenator\n",
    "        self.text_embedding = nn.Embedding(\n",
    "            self.vocab_size,\n",
    "            self.embedding_dim,\n",
    "        )\n",
    "\n",
    "        self.transformer = transformer\n",
    "        self.lm_head = nn.Linear(self.transformer.config.hidden_size, self.text_tokenator.vocab_size)\n",
    "\n",
    "    @property\n",
    "    def vocab_size(self):\n",
    "        return self.text_tokenator.vocab_size\n",
    "\n",
    "    def embed_text(self, tokens):\n",
    "        return self.text_embedding(tokens)\n",
    "\n",
    "    def forward(self, tokens):\n",
    "        text_tokens = next((t for t in tokens if isinstance(t, TextTokenData)), [])\n",
    "        text_embeddings = self.text_embedding(text_tokens.tokens)\n",
    "        transformed = self.transformer(inputs_embeds=text_embeddings)\n",
    "        out = self.lm_head(transformed.last_hidden_state)\n",
    "        return out"
   ]
  },
  {
   "cell_type": "code",
   "execution_count": 130,
   "id": "6be93b47-fd0f-46f6-9599-4b0361084a8a",
   "metadata": {},
   "outputs": [],
   "source": [
    "configuration = GPT2Config(\n",
    "    n_embd=EMBEDDING_DIM\n",
    ")\n",
    "transformer = GPT2Model(configuration)\n",
    "model = MiniGato(transformer=transformer, text_tokenator=text_tokenator)"
   ]
  },
  {
   "cell_type": "code",
   "execution_count": 131,
   "id": "1dea7a9a-3a45-424c-9cb9-7c3d2fa01550",
   "metadata": {},
   "outputs": [
    {
     "data": {
      "text/plain": [
       "torch.Size([2, 8, 768])"
      ]
     },
     "execution_count": 131,
     "metadata": {},
     "output_type": "execute_result"
    }
   ],
   "source": [
    "tokens = _text_tokenizer([\"hello, world\", \"foobar\"], return_tensors=\"pt\", padding=\"max_length\", max_length=8)\n",
    "model.text_embedding(tokens[\"input_ids\"]).shape"
   ]
  },
  {
   "cell_type": "code",
   "execution_count": null,
   "id": "7b619a27-706a-4067-bdac-3256dcf9b2b3",
   "metadata": {},
   "outputs": [],
   "source": []
  },
  {
   "cell_type": "code",
   "execution_count": 132,
   "id": "30e70122-81a5-4fb0-8119-800d61a8cc66",
   "metadata": {},
   "outputs": [],
   "source": [
    "out = model([next(dl)])"
   ]
  },
  {
   "cell_type": "code",
   "execution_count": 133,
   "id": "ce4b4ef8-70dd-4ad6-893b-942fe0e75291",
   "metadata": {},
   "outputs": [
    {
     "data": {
      "text/plain": [
       "(torch.Tensor, torch.Size([4, 1024, 50257]))"
      ]
     },
     "execution_count": 133,
     "metadata": {},
     "output_type": "execute_result"
    }
   ],
   "source": [
    "type(out), out.shape"
   ]
  },
  {
   "cell_type": "code",
   "execution_count": null,
   "id": "5b9a324f-41ef-49f2-8013-fd692de0479f",
   "metadata": {},
   "outputs": [],
   "source": []
  },
  {
   "cell_type": "code",
   "execution_count": 134,
   "id": "b8b940cb-83ac-421a-8682-432f774167de",
   "metadata": {},
   "outputs": [],
   "source": [
    "## Loss\n",
    "##\n",
    "## See section 2.3 of the Gato paper.\n",
    "##\n",
    "##   Let b index a training batch of sequences B. We define a masking function m\n",
    "##   such that m(b, l) = 1 if the token at index l is either from text or from\n",
    "##   the logged action of an agent, and 0 otherwise. The training loss for a\n",
    "##   batch B can then be written as...\n",
    "def cross_entropy(predicted, target, mask):\n",
    "    # See: https://youtu.be/kCc8FmEb1nY?list=PLAqhIrjkxbuWI23v9cThsA9GvCAUhRvKZ&t=1553\n",
    "    B, T, C = predicted.shape\n",
    "    predicted = predicted.view(B * T, C)\n",
    "    target = target.view(-1)\n",
    "    losses = F.cross_entropy(predicted, target, reduction=\"none\")\n",
    "    losses = losses * mask.squeeze(-1).view(-1)\n",
    "    loss = losses.sum() / mask.sum()\n",
    "    return loss"
   ]
  },
  {
   "cell_type": "code",
   "execution_count": 135,
   "id": "ad975cb2-68e0-474f-a480-00ed49cc2dbe",
   "metadata": {},
   "outputs": [],
   "source": [
    "device = torch.device('cuda')"
   ]
  },
  {
   "cell_type": "code",
   "execution_count": 136,
   "id": "c701a514-06cd-4929-82fd-38c8148c37c3",
   "metadata": {},
   "outputs": [],
   "source": [
    "def init_model():\n",
    "    configuration = GPT2Config(\n",
    "        n_embd=EMBEDDING_DIM\n",
    "    )\n",
    "    transformer = GPT2Model(configuration)\n",
    "    model = MiniGato(transformer=transformer, text_tokenator=text_tokenator)\n",
    "    return model"
   ]
  },
  {
   "cell_type": "code",
   "execution_count": 137,
   "id": "a6e874b0-f171-44b0-852c-2244ae40f810",
   "metadata": {},
   "outputs": [],
   "source": [
    "model = init_model().to(device)"
   ]
  },
  {
   "cell_type": "code",
   "execution_count": 138,
   "id": "b15135cf-0098-4c99-8c16-872f31f01f20",
   "metadata": {},
   "outputs": [
    {
     "data": {
      "text/plain": [
       "MiniGato(\n",
       "  (text_embedding): Embedding(50257, 768)\n",
       "  (transformer): GPT2Model(\n",
       "    (wte): Embedding(50257, 768)\n",
       "    (wpe): Embedding(1024, 768)\n",
       "    (drop): Dropout(p=0.1, inplace=False)\n",
       "    (h): ModuleList(\n",
       "      (0-11): 12 x GPT2Block(\n",
       "        (ln_1): LayerNorm((768,), eps=1e-05, elementwise_affine=True)\n",
       "        (attn): GPT2SdpaAttention(\n",
       "          (c_attn): Conv1D()\n",
       "          (c_proj): Conv1D()\n",
       "          (attn_dropout): Dropout(p=0.1, inplace=False)\n",
       "          (resid_dropout): Dropout(p=0.1, inplace=False)\n",
       "        )\n",
       "        (ln_2): LayerNorm((768,), eps=1e-05, elementwise_affine=True)\n",
       "        (mlp): GPT2MLP(\n",
       "          (c_fc): Conv1D()\n",
       "          (c_proj): Conv1D()\n",
       "          (act): NewGELUActivation()\n",
       "          (dropout): Dropout(p=0.1, inplace=False)\n",
       "        )\n",
       "      )\n",
       "    )\n",
       "    (ln_f): LayerNorm((768,), eps=1e-05, elementwise_affine=True)\n",
       "  )\n",
       "  (lm_head): Linear(in_features=768, out_features=50257, bias=True)\n",
       ")"
      ]
     },
     "execution_count": 138,
     "metadata": {},
     "output_type": "execute_result"
    }
   ],
   "source": [
    "model"
   ]
  },
  {
   "cell_type": "code",
   "execution_count": 139,
   "id": "abf30c0f-4759-44b3-b9da-f9ccecc5caf5",
   "metadata": {},
   "outputs": [
    {
     "name": "stdout",
     "output_type": "stream",
     "text": [
      "Number of parameters: 2.02e+08\n"
     ]
    }
   ],
   "source": [
    "print(f\"Number of parameters: {sum(p.numel() for p in model.parameters()):.2e}\")"
   ]
  },
  {
   "cell_type": "code",
   "execution_count": 140,
   "id": "75f877d8-e046-49bd-8923-b4cdabe3879e",
   "metadata": {},
   "outputs": [],
   "source": [
    "def init_optimizer(params):\n",
    "    optimizer = torch.optim.AdamW(params)\n",
    "    return optimizer\n",
    "\n",
    "optimizer = init_optimizer(model.parameters())"
   ]
  },
  {
   "cell_type": "code",
   "execution_count": 141,
   "id": "4356174a-3f1c-462b-bb85-8d1b65e374da",
   "metadata": {},
   "outputs": [],
   "source": [
    "from tqdm.notebook import tqdm"
   ]
  },
  {
   "cell_type": "code",
   "execution_count": 142,
   "id": "6c8c464a-abf1-4edb-8f08-e05ed6bd936f",
   "metadata": {},
   "outputs": [],
   "source": [
    "def fresh_text_dataloader():\n",
    "    return DataLoader(text_dataset, batch_size=BATCH_SIZE, collate_fn=text_tokenator, num_workers=4)\n",
    "text_dataloader_iter = iter(fresh_text_dataloader())    "
   ]
  },
  {
   "cell_type": "code",
   "execution_count": 143,
   "id": "902fcb9d-37d1-45d5-9359-cf6e54b04443",
   "metadata": {},
   "outputs": [],
   "source": [
    "text_token_data = next(text_dataloader_iter)"
   ]
  },
  {
   "cell_type": "code",
   "execution_count": 144,
   "id": "4d962e64-291b-46f2-b66c-6db7dee1298f",
   "metadata": {},
   "outputs": [],
   "source": [
    "import torch.nn.functional as F"
   ]
  },
  {
   "cell_type": "code",
   "execution_count": 251,
   "id": "7d130391-fae0-44d5-af20-4e0f8d348986",
   "metadata": {},
   "outputs": [
    {
     "data": {
      "text/plain": [
       "2890"
      ]
     },
     "execution_count": 251,
     "metadata": {},
     "output_type": "execute_result"
    }
   ],
   "source": [
    "import gc\n",
    "torch.cuda.empty_cache()\n",
    "gc.collect()"
   ]
  },
  {
   "cell_type": "code",
   "execution_count": null,
   "id": "cce9af19-39b2-4d6b-a468-9cad36a37be5",
   "metadata": {},
   "outputs": [],
   "source": []
  },
  {
   "cell_type": "code",
   "execution_count": 252,
   "id": "b87ab776-db73-41ed-836a-380cb035ecac",
   "metadata": {},
   "outputs": [],
   "source": [
    "# Step by step.\n",
    "model.train()\n",
    "text_dataloader_iter = iter(fresh_text_dataloader())\n",
    "text_token_data = next(text_dataloader_iter)"
   ]
  },
  {
   "cell_type": "markdown",
   "id": "2aff6a91-885f-4237-be69-6762c3bb954c",
   "metadata": {},
   "source": [
    "### Does it work? Can we overfit?"
   ]
  },
  {
   "cell_type": "code",
   "execution_count": 253,
   "id": "21af8d33-bf6c-4aa2-bbc7-ddeec3d0e01d",
   "metadata": {},
   "outputs": [
    {
     "data": {
      "text/plain": [
       "tensor([[ 5962, 22307,    25,  ..., 50256, 50256, 50256],\n",
       "        [ 3237,    25,   198,  ..., 50256, 50256, 50256],\n",
       "        [ 5962, 22307,    25,  ..., 50256, 50256, 50256],\n",
       "        [ 3237,    25,   198,  ..., 50256, 50256, 50256]])"
      ]
     },
     "execution_count": 253,
     "metadata": {},
     "output_type": "execute_result"
    }
   ],
   "source": [
    "text_token_data.tokens"
   ]
  },
  {
   "cell_type": "code",
   "execution_count": 254,
   "id": "bc07a60b-51d3-4a55-84f6-9737408b12d3",
   "metadata": {},
   "outputs": [
    {
     "data": {
      "text/plain": [
       "\"First Citizen:\\nBefore we proceed any further, hear me speak.\\n\\nAll:\\nSpeak, speak.\\n\\nFirst Citizen:\\nYou are all resolved rather to die than to famish?\\n\\nAll:\\nResolved. resolved.\\n\\nFirst Citizen:\\nFirst, you know Caius Marcius is chief enemy to the people.\\n\\nAll:\\nWe know't, we know't.\\n\\nFirst Citizen:\\nLet us kill him, and we'll have corn at our own price.\\nIs't a verdict?\\n\\nAll:\\nNo more talking on't; let it be done: away, away!\\n\\nSecond Citizen:\\nOne word, good citizens.\\n\\nFirst Citizen:\\nWe are accounted poor citizens, the patricians good.\\nWhat authority surfeits on would relieve us: if they\\nwould yield us but the superfluity, while it were\\nwholesome, we might guess they relieved us humanely;\\nbut they think we are too dear: the leanness that\\nafflicts us, the object of our misery, is as an\\ninventory to particularise their abundance; our\\nsufferance is a gain to them Let us revenge this with\\nour pikes, ere we become rakes: for the gods know I\\nspeak this in hunger for bread, not in thirst for revenge.\\n\\nSecond Citizen:\\nWould you proceed especially against Caius Marcius?\\n\\nAll:\\nAgainst him first: he's a very dog to the commonalty.\\n\\nSecond Citizen:\\nConsider you what services he has done for his country?\\n\\nFirst Citizen:\\nVery well; and could be content to give him good\\nreport fort, but that he pays himself with being proud.\\n\\nSecond Citizen:\\nNay, but speak not maliciously.\\n\\nFirst Citizen:\\nI say unto you, what he hath done famously, he did\\nit to that end: though soft-conscienced men can be\\ncontent to say it was for his country he did it to\\nplease his mother and to be partly proud; which he\\nis, even till the altitude of his virtue.<|endoftext|><|endoftext|><|endoftext|><|endoftext|><|endoftext|><|endoftext|><|endoftext|><|endoftext|><|endoftext|><|endoftext|><|endoftext|><|endoftext|><|endoftext|><|endoftext|><|endoftext|><|endoftext|><|endoftext|><|endoftext|><|endoftext|><|endoftext|><|endoftext|><|endoftext|><|endoftext|><|endoftext|><|endoftext|><|endoftext|><|endoftext|><|endoftext|><|endoftext|><|endoftext|><|endoftext|><|endoftext|><|endoftext|><|endoftext|><|endoftext|><|endoftext|><|endoftext|><|endoftext|><|endoftext|><|endoftext|><|endoftext|><|endoftext|><|endoftext|><|endoftext|><|endoftext|><|endoftext|><|endoftext|><|endoftext|><|endoftext|><|endoftext|><|endoftext|><|endoftext|><|endoftext|><|endoftext|><|endoftext|><|endoftext|><|endoftext|><|endoftext|><|endoftext|><|endoftext|><|endoftext|><|endoftext|><|endoftext|><|endoftext|><|endoftext|><|endoftext|><|endoftext|><|endoftext|><|endoftext|><|endoftext|><|endoftext|><|endoftext|><|endoftext|><|endoftext|><|endoftext|><|endoftext|><|endoftext|><|endoftext|><|endoftext|><|endoftext|><|endoftext|><|endoftext|><|endoftext|><|endoftext|><|endoftext|><|endoftext|><|endoftext|><|endoftext|><|endoftext|><|endoftext|><|endoftext|><|endoftext|><|endoftext|><|endoftext|><|endoftext|><|endoftext|><|endoftext|><|endoftext|><|endoftext|><|endoftext|><|endoftext|><|endoftext|><|endoftext|><|endoftext|><|endoftext|><|endoftext|><|endoftext|><|endoftext|><|endoftext|><|endoftext|><|endoftext|><|endoftext|><|endoftext|><|endoftext|><|endoftext|><|endoftext|><|endoftext|><|endoftext|><|endoftext|><|endoftext|><|endoftext|><|endoftext|><|endoftext|><|endoftext|><|endoftext|><|endoftext|><|endoftext|><|endoftext|><|endoftext|><|endoftext|><|endoftext|><|endoftext|><|endoftext|><|endoftext|><|endoftext|><|endoftext|><|endoftext|><|endoftext|><|endoftext|><|endoftext|><|endoftext|><|endoftext|><|endoftext|><|endoftext|><|endoftext|><|endoftext|><|endoftext|><|endoftext|><|endoftext|><|endoftext|><|endoftext|><|endoftext|><|endoftext|><|endoftext|><|endoftext|><|endoftext|><|endoftext|><|endoftext|><|endoftext|><|endoftext|><|endoftext|><|endoftext|><|endoftext|><|endoftext|><|endoftext|><|endoftext|><|endoftext|><|endoftext|><|endoftext|><|endoftext|><|endoftext|><|endoftext|><|endoftext|><|endoftext|><|endoftext|><|endoftext|><|endoftext|><|endoftext|><|endoftext|><|endoftext|><|endoftext|><|endoftext|><|endoftext|><|endoftext|><|endoftext|><|endoftext|><|endoftext|><|endoftext|><|endoftext|><|endoftext|><|endoftext|><|endoftext|><|endoftext|><|endoftext|><|endoftext|><|endoftext|><|endoftext|><|endoftext|><|endoftext|><|endoftext|><|endoftext|><|endoftext|><|endoftext|><|endoftext|><|endoftext|><|endoftext|><|endoftext|><|endoftext|><|endoftext|><|endoftext|><|endoftext|><|endoftext|><|endoftext|><|endoftext|><|endoftext|><|endoftext|><|endoftext|><|endoftext|><|endoftext|><|endoftext|><|endoftext|><|endoftext|><|endoftext|><|endoftext|><|endoftext|><|endoftext|><|endoftext|><|endoftext|><|endoftext|><|endoftext|><|endoftext|><|endoftext|><|endoftext|><|endoftext|><|endoftext|><|endoftext|><|endoftext|><|endoftext|><|endoftext|><|endoftext|><|endoftext|><|endoftext|><|endoftext|><|endoftext|><|endoftext|><|endoftext|><|endoftext|><|endoftext|><|endoftext|><|endoftext|><|endoftext|><|endoftext|><|endoftext|><|endoftext|><|endoftext|><|endoftext|><|endoftext|><|endoftext|><|endoftext|><|endoftext|><|endoftext|><|endoftext|><|endoftext|><|endoftext|><|endoftext|><|endoftext|><|endoftext|><|endoftext|><|endoftext|><|endoftext|><|endoftext|><|endoftext|><|endoftext|><|endoftext|><|endoftext|><|endoftext|><|endoftext|><|endoftext|><|endoftext|><|endoftext|><|endoftext|><|endoftext|><|endoftext|><|endoftext|><|endoftext|><|endoftext|><|endoftext|><|endoftext|><|endoftext|><|endoftext|><|endoftext|><|endoftext|><|endoftext|><|endoftext|><|endoftext|><|endoftext|><|endoftext|><|endoftext|><|endoftext|><|endoftext|><|endoftext|><|endoftext|><|endoftext|><|endoftext|><|endoftext|><|endoftext|><|endoftext|><|endoftext|><|endoftext|><|endoftext|><|endoftext|><|endoftext|><|endoftext|><|endoftext|><|endoftext|><|endoftext|><|endoftext|><|endoftext|><|endoftext|><|endoftext|><|endoftext|><|endoftext|><|endoftext|><|endoftext|><|endoftext|><|endoftext|><|endoftext|><|endoftext|><|endoftext|><|endoftext|><|endoftext|><|endoftext|><|endoftext|><|endoftext|><|endoftext|><|endoftext|><|endoftext|><|endoftext|><|endoftext|><|endoftext|><|endoftext|><|endoftext|><|endoftext|><|endoftext|><|endoftext|><|endoftext|><|endoftext|><|endoftext|><|endoftext|><|endoftext|><|endoftext|><|endoftext|><|endoftext|><|endoftext|><|endoftext|><|endoftext|><|endoftext|><|endoftext|><|endoftext|><|endoftext|><|endoftext|><|endoftext|><|endoftext|><|endoftext|><|endoftext|><|endoftext|><|endoftext|><|endoftext|><|endoftext|><|endoftext|><|endoftext|><|endoftext|><|endoftext|><|endoftext|><|endoftext|><|endoftext|><|endoftext|><|endoftext|><|endoftext|><|endoftext|><|endoftext|><|endoftext|><|endoftext|><|endoftext|><|endoftext|><|endoftext|><|endoftext|><|endoftext|><|endoftext|><|endoftext|><|endoftext|><|endoftext|><|endoftext|><|endoftext|><|endoftext|><|endoftext|><|endoftext|><|endoftext|><|endoftext|><|endoftext|><|endoftext|><|endoftext|><|endoftext|><|endoftext|><|endoftext|><|endoftext|><|endoftext|><|endoftext|><|endoftext|><|endoftext|><|endoftext|><|endoftext|><|endoftext|><|endoftext|><|endoftext|><|endoftext|><|endoftext|><|endoftext|><|endoftext|><|endoftext|><|endoftext|><|endoftext|><|endoftext|><|endoftext|><|endoftext|><|endoftext|><|endoftext|><|endoftext|><|endoftext|><|endoftext|><|endoftext|><|endoftext|><|endoftext|><|endoftext|><|endoftext|><|endoftext|><|endoftext|><|endoftext|><|endoftext|><|endoftext|><|endoftext|><|endoftext|><|endoftext|><|endoftext|><|endoftext|><|endoftext|><|endoftext|><|endoftext|><|endoftext|><|endoftext|><|endoftext|><|endoftext|><|endoftext|><|endoftext|><|endoftext|><|endoftext|><|endoftext|><|endoftext|><|endoftext|><|endoftext|><|endoftext|><|endoftext|><|endoftext|><|endoftext|><|endoftext|><|endoftext|><|endoftext|><|endoftext|><|endoftext|><|endoftext|><|endoftext|><|endoftext|><|endoftext|><|endoftext|><|endoftext|><|endoftext|><|endoftext|><|endoftext|><|endoftext|><|endoftext|><|endoftext|><|endoftext|><|endoftext|><|endoftext|><|endoftext|><|endoftext|><|endoftext|><|endoftext|><|endoftext|><|endoftext|><|endoftext|><|endoftext|><|endoftext|><|endoftext|><|endoftext|><|endoftext|><|endoftext|><|endoftext|><|endoftext|><|endoftext|><|endoftext|><|endoftext|><|endoftext|><|endoftext|><|endoftext|><|endoftext|><|endoftext|><|endoftext|><|endoftext|><|endoftext|><|endoftext|><|endoftext|><|endoftext|><|endoftext|><|endoftext|><|endoftext|><|endoftext|><|endoftext|><|endoftext|><|endoftext|><|endoftext|><|endoftext|><|endoftext|><|endoftext|><|endoftext|><|endoftext|><|endoftext|><|endoftext|><|endoftext|><|endoftext|><|endoftext|><|endoftext|><|endoftext|><|endoftext|><|endoftext|><|endoftext|><|endoftext|><|endoftext|><|endoftext|><|endoftext|><|endoftext|><|endoftext|><|endoftext|><|endoftext|><|endoftext|><|endoftext|><|endoftext|><|endoftext|><|endoftext|><|endoftext|><|endoftext|><|endoftext|><|endoftext|><|endoftext|><|endoftext|><|endoftext|><|endoftext|><|endoftext|><|endoftext|><|endoftext|><|endoftext|><|endoftext|><|endoftext|><|endoftext|><|endoftext|><|endoftext|><|endoftext|><|endoftext|><|endoftext|><|endoftext|><|endoftext|><|endoftext|>\""
      ]
     },
     "execution_count": 254,
     "metadata": {},
     "output_type": "execute_result"
    }
   ],
   "source": [
    "model.text_tokenator.decode(text_token_data.tokens[0])"
   ]
  },
  {
   "cell_type": "code",
   "execution_count": 255,
   "id": "e1468b7c-6898-4009-9d8e-635f148809f6",
   "metadata": {},
   "outputs": [
    {
     "data": {
      "text/plain": [
       "MiniGato(\n",
       "  (text_embedding): Embedding(50257, 768)\n",
       "  (transformer): GPT2Model(\n",
       "    (wte): Embedding(50257, 768)\n",
       "    (wpe): Embedding(1024, 768)\n",
       "    (drop): Dropout(p=0.1, inplace=False)\n",
       "    (h): ModuleList(\n",
       "      (0-11): 12 x GPT2Block(\n",
       "        (ln_1): LayerNorm((768,), eps=1e-05, elementwise_affine=True)\n",
       "        (attn): GPT2SdpaAttention(\n",
       "          (c_attn): Conv1D()\n",
       "          (c_proj): Conv1D()\n",
       "          (attn_dropout): Dropout(p=0.1, inplace=False)\n",
       "          (resid_dropout): Dropout(p=0.1, inplace=False)\n",
       "        )\n",
       "        (ln_2): LayerNorm((768,), eps=1e-05, elementwise_affine=True)\n",
       "        (mlp): GPT2MLP(\n",
       "          (c_fc): Conv1D()\n",
       "          (c_proj): Conv1D()\n",
       "          (act): NewGELUActivation()\n",
       "          (dropout): Dropout(p=0.1, inplace=False)\n",
       "        )\n",
       "      )\n",
       "    )\n",
       "    (ln_f): LayerNorm((768,), eps=1e-05, elementwise_affine=True)\n",
       "  )\n",
       "  (lm_head): Linear(in_features=768, out_features=50257, bias=True)\n",
       ")"
      ]
     },
     "execution_count": 255,
     "metadata": {},
     "output_type": "execute_result"
    }
   ],
   "source": [
    "model.train()"
   ]
  },
  {
   "cell_type": "code",
   "execution_count": 257,
   "id": "e9956bdf-6f8d-496d-bd6e-a27bf5dcb288",
   "metadata": {},
   "outputs": [
    {
     "data": {
      "application/vnd.jupyter.widget-view+json": {
       "model_id": "7071fd75d6094b11add8f7e950744bbb",
       "version_major": 2,
       "version_minor": 0
      },
      "text/plain": [
       "  0%|          | 0/100 [00:00<?, ?it/s]"
      ]
     },
     "metadata": {},
     "output_type": "display_data"
    }
   ],
   "source": [
    "for _ in tqdm(range(100)):\n",
    "    text_token_data.tokens = text_token_data.tokens.to(device)\n",
    "    text_token_data.targets = text_token_data.targets.to(device)\n",
    "    text_token_data.attention_mask = text_token_data.attention_mask.to(device)\n",
    "    \n",
    "    x = [text_token_data]  # Model branches of type to embed, so we can't send just `.tokens`.\n",
    "    y = torch.concat([text_token_data.targets])\n",
    "    m = torch.concat([text_token_data.attention_mask])\n",
    "    optimizer.zero_grad()\n",
    "    # forward\n",
    "    text_tokens = next((t for t in x if isinstance(t, TextTokenData)), [])\n",
    "    text_embeddings = model.text_embedding(text_tokens.tokens)\n",
    "    transformed = model.transformer(inputs_embeds=text_embeddings)  # Would be stacked with other modalities.\n",
    "    p = model.lm_head(transformed.last_hidden_state)\n",
    "    # The above is effectively `p = model(x)`\n",
    "    \n",
    "    loss = cross_entropy(p, y, m)\n",
    "    loss.backward()\n",
    "    optimizer.step()"
   ]
  },
  {
   "cell_type": "code",
   "execution_count": 223,
   "id": "910e75ad-e444-46c0-b2d8-7386e913de51",
   "metadata": {},
   "outputs": [
    {
     "data": {
      "text/plain": [
       "TextTokenData(tokens=tensor([[ 5962, 22307,    25,  ..., 50256, 50256, 50256]], device='cuda:0'), targets=tensor([[22307,    25,   628,  ..., 50256, 50256, 50256]], device='cuda:0'), attention_mask=tensor([[1, 1, 1,  ..., 0, 0, 0]], device='cuda:0'))"
      ]
     },
     "execution_count": 223,
     "metadata": {},
     "output_type": "execute_result"
    }
   ],
   "source": [
    "model.text_tokenator([text]).to(device)"
   ]
  },
  {
   "cell_type": "code",
   "execution_count": 266,
   "id": "8d1474fd-572a-4d19-be15-b23b53a2e6d0",
   "metadata": {},
   "outputs": [
    {
     "name": "stdout",
     "output_type": "stream",
     "text": [
      "First Citizen:\n",
      "You are all resolved rather to die than to famish?\n",
      "\n",
      " to the people.\n",
      "\n"
     ]
    }
   ],
   "source": [
    "model.eval()\n",
    "text = \"First Citizen:\"\n",
    "token = None\n",
    "i = 0\n",
    "with torch.no_grad():\n",
    "    while i < 20 and token != model.text_tokenator.tokenizer.func.eos_token_id:\n",
    "        token_data = model.text_tokenator([text]).to(device)\n",
    "        length = token_data.attention_mask.sum().item()\n",
    "        p = model([token_data])\n",
    "        # chosen = torch.multinomial(p.softmax(dim=2)[:, length-1], num_samples=1)\n",
    "        # with temperature\n",
    "        heat = 0.1\n",
    "        heated = p / heat\n",
    "        chosen = torch.multinomial(heated.softmax(dim=2)[:, length-1], num_samples=1)\n",
    "        token = chosen[0]\n",
    "        text += model.text_tokenator.decode(chosen[0])\n",
    "        i += 1\n",
    "print(text)"
   ]
  },
  {
   "cell_type": "code",
   "execution_count": 267,
   "id": "faba9643-9ae7-4513-9383-43ce88cf68e5",
   "metadata": {},
   "outputs": [],
   "source": [
    "def train(model, optimizer):\n",
    "    i = 100\n",
    "    text_i = 0\n",
    "    model.train()\n",
    "    text_dataloader_iter = iter(fresh_text_dataloader())\n",
    "    for epoch in tqdm(range(i)):\n",
    "        try:\n",
    "            text_token_data = next(text_dataloader_iter)\n",
    "        except StopIteration:\n",
    "            text_i += 1\n",
    "            text_dataloader_iter = iter(fresh_text_dataloader())\n",
    "            text_token_data = next(text_dataloader_iter)\n",
    "        text_token_data.tokens = text_token_data.tokens.to(device)\n",
    "        text_token_data.targets = text_token_data.targets.to(device)\n",
    "        text_token_data.attention_mask = text_token_data.attention_mask.to(device)\n",
    "        # Eventually we'll have other modalities' dataloaders and we'll concat their results below.\n",
    "        x = [text_token_data]  # Model branches of type to embed.\n",
    "        y = torch.concat([text_token_data.targets])\n",
    "        m = torch.concat([text_token_data.attention_mask])\n",
    "        optimizer.zero_grad()\n",
    "        p = model(x)\n",
    "        loss = cross_entropy(p, y, m)\n",
    "        loss.backward()\n",
    "        optimizer.step()\n",
    "\n",
    "        if epoch % 10 == 0:\n",
    "            print(f\"Epoch [{epoch}/{i}], Loss: {loss.item()}\")\n",
    "    print(f\"Epoch [{epoch}/{i}], Loss: {loss.item()}\")\n",
    "    print(f\"text: {text_i}\")"
   ]
  },
  {
   "cell_type": "code",
   "execution_count": null,
   "id": "9ac63f2e-3cde-4f10-9b0b-8291e3185838",
   "metadata": {},
   "outputs": [],
   "source": []
  },
  {
   "cell_type": "code",
   "execution_count": 395,
   "id": "c3c33726-82b1-46df-9711-749c927db409",
   "metadata": {},
   "outputs": [
    {
     "data": {
      "application/vnd.jupyter.widget-view+json": {
       "model_id": "b5c5d7232d90430091db24f944d9eaa9",
       "version_major": 2,
       "version_minor": 0
      },
      "text/plain": [
       "  0%|          | 0/100 [00:00<?, ?it/s]"
      ]
     },
     "metadata": {},
     "output_type": "display_data"
    },
    {
     "name": "stdout",
     "output_type": "stream",
     "text": [
      "Epoch [0/100], Loss: 5.402276515960693\n",
      "Epoch [10/100], Loss: 5.388052463531494\n",
      "Epoch [20/100], Loss: 6.653019905090332\n",
      "Epoch [30/100], Loss: 5.597199440002441\n",
      "Epoch [40/100], Loss: 6.08368444442749\n",
      "Epoch [50/100], Loss: 5.975568771362305\n",
      "Epoch [60/100], Loss: 5.656105995178223\n",
      "Epoch [70/100], Loss: 5.5299530029296875\n",
      "Epoch [80/100], Loss: 5.9142537117004395\n",
      "Epoch [90/100], Loss: 5.648364067077637\n",
      "Epoch [99/100], Loss: 5.458223819732666\n",
      "text: 0\n"
     ]
    }
   ],
   "source": [
    "train(model, optimizer)"
   ]
  },
  {
   "cell_type": "markdown",
   "id": "4b57f37e-635c-4e7b-93f4-2a436cea47c9",
   "metadata": {},
   "source": [
    "# VQA"
   ]
  },
  {
   "cell_type": "code",
   "execution_count": 268,
   "id": "9cff1ead-57ce-494a-8aca-5e64729016ef",
   "metadata": {},
   "outputs": [],
   "source": [
    "import random\n",
    "import datasets\n",
    "import torchvision.transforms.v2 as transforms\n",
    "import matplotlib.pyplot as plt"
   ]
  },
  {
   "cell_type": "code",
   "execution_count": 269,
   "id": "5b2d8edb-1c77-4ae3-ba8b-5709963143dd",
   "metadata": {},
   "outputs": [],
   "source": [
    "vqa_dataset = datasets.load_dataset(\"eihli/micro-ok-vqa\").with_format(\"pt\")"
   ]
  },
  {
   "cell_type": "code",
   "execution_count": 270,
   "id": "62e5fe49-26a6-4a10-9d80-69006dc9ea9a",
   "metadata": {},
   "outputs": [
    {
     "data": {
      "text/plain": [
       "DatasetDict({\n",
       "    train: Dataset({\n",
       "        features: ['image', 'question_type', 'confidence', 'answers', 'image_id', 'answer_type', 'question_id', 'question'],\n",
       "        num_rows: 80\n",
       "    })\n",
       "    validation: Dataset({\n",
       "        features: ['image', 'question_type', 'confidence', 'answers', 'image_id', 'answer_type', 'question_id', 'question'],\n",
       "        num_rows: 20\n",
       "    })\n",
       "})"
      ]
     },
     "execution_count": 270,
     "metadata": {},
     "output_type": "execute_result"
    }
   ],
   "source": [
    "vqa_dataset"
   ]
  },
  {
   "cell_type": "code",
   "execution_count": 271,
   "id": "0ff45fd5-fe18-4851-9449-04cb25f98118",
   "metadata": {},
   "outputs": [
    {
     "data": {
      "text/plain": [
       "Dataset({\n",
       "    features: ['image', 'question_type', 'confidence', 'answers', 'image_id', 'answer_type', 'question_id', 'question'],\n",
       "    num_rows: 80\n",
       "})"
      ]
     },
     "execution_count": 271,
     "metadata": {},
     "output_type": "execute_result"
    }
   ],
   "source": [
    "vqa_dataset[\"train\"]"
   ]
  },
  {
   "cell_type": "code",
   "execution_count": 272,
   "id": "b2ab60a1-095f-4e1c-9192-15a2081e2492",
   "metadata": {},
   "outputs": [
    {
     "data": {
      "text/plain": [
       "torch.Size([3, 479, 640])"
      ]
     },
     "execution_count": 272,
     "metadata": {},
     "output_type": "execute_result"
    }
   ],
   "source": [
    "vqa_dataset['train']['image'][0].shape"
   ]
  },
  {
   "cell_type": "code",
   "execution_count": 273,
   "id": "5acafcdb-e26f-4e4a-ad83-d5461f4651ce",
   "metadata": {},
   "outputs": [
    {
     "data": {
      "text/plain": [
       "['What is the hairstyle of the blond called?',\n",
       " 'How old do you have to be in canada to do this?',\n",
       " 'Can you guess the place where the man is playing?',\n",
       " 'Which rail company is named after a town in new mexico?',\n",
       " 'Is the boy swimming or doing another water activity?']"
      ]
     },
     "execution_count": 273,
     "metadata": {},
     "output_type": "execute_result"
    }
   ],
   "source": [
    "vqa_dataset[\"train\"][\"question\"][:5]"
   ]
  },
  {
   "cell_type": "code",
   "execution_count": 274,
   "id": "8a630670-8fe1-4de8-8c84-7125c42b315f",
   "metadata": {},
   "outputs": [
    {
     "data": {
      "text/plain": [
       "(10,\n",
       " [{'answer': 'pony tail',\n",
       "   'raw_answer': 'pony tail',\n",
       "   'answer_confidence': 'yes',\n",
       "   'answer_id': tensor(1)},\n",
       "  {'answer': 'pony tail',\n",
       "   'raw_answer': 'pony tail',\n",
       "   'answer_confidence': 'yes',\n",
       "   'answer_id': tensor(2)},\n",
       "  {'answer': 'pony tail',\n",
       "   'raw_answer': 'pony tail',\n",
       "   'answer_confidence': 'yes',\n",
       "   'answer_id': tensor(3)}])"
      ]
     },
     "execution_count": 274,
     "metadata": {},
     "output_type": "execute_result"
    }
   ],
   "source": [
    "len(vqa_dataset[\"train\"][\"answers\"][0]), vqa_dataset[\"train\"][\"answers\"][0][:3]"
   ]
  },
  {
   "cell_type": "code",
   "execution_count": 307,
   "id": "6b42f359-954e-4059-ac69-9b8732831253",
   "metadata": {},
   "outputs": [],
   "source": [
    "# First things first, let's get the images resized, cropped, and normalized.\n",
    "\n",
    "vqa_transform = transforms.Compose([\n",
    "    # No particular reason to use `transforms.Compose` here since we're only doing one transform. But it's nice to know about.\n",
    "    transforms.RandomResizedCrop((192, 192), (0.5, 1.0)),\n",
    "    transforms.ToDtype(torch.float32, scale=True),\n",
    "    transforms.Normalize([0.485, 0.456, 0.406], [0.229, 0.224, 0.225])    \n",
    "])"
   ]
  },
  {
   "cell_type": "code",
   "execution_count": 308,
   "id": "e9f94f65-9f36-495e-979f-0d1b751a3e6f",
   "metadata": {},
   "outputs": [],
   "source": [
    "from torch.utils.data import Dataset"
   ]
  },
  {
   "cell_type": "code",
   "execution_count": 316,
   "id": "382730b1-eccb-4d1c-bfe1-68c79884a0f5",
   "metadata": {},
   "outputs": [],
   "source": [
    "class TransformDataset(Dataset):\n",
    "    def __init__(self, dataset, transform):\n",
    "        self.dataset = dataset\n",
    "        self.transform = transform\n",
    "\n",
    "    def __len__(self):\n",
    "        return len(self.dataset)\n",
    "\n",
    "    def __getitem__(self, idx):\n",
    "        item = self.dataset[idx]\n",
    "        answer = random.choice(item[\"answers\"])[\"answer\"]\n",
    "        question = item[\"question\"]\n",
    "        image = self.transform(item[\"image\"])        \n",
    "        return {\n",
    "            \"question\": question,\n",
    "            \"image\": image,\n",
    "            \"answer\": answer,\n",
    "        }        \n",
    "\n",
    "transformed_vqa_dataset = TransformDataset(vqa_dataset[\"train\"], vqa_transform)"
   ]
  },
  {
   "cell_type": "code",
   "execution_count": 317,
   "id": "b8143d0c-c829-4197-9ce4-625edb4da856",
   "metadata": {},
   "outputs": [],
   "source": [
    "def micro_ok_vqa_collate_fn(batch):\n",
    "    answers = [random.choice(el[\"answers\"])[\"answer\"] for el in batch]\n",
    "    questions = [el[\"question\"] for el in batch]\n",
    "    images = torch.stack([micro_ok_vqa_transform(el[\"image\"]) for el in batch])\n",
    "    return {\n",
    "        \"question\": questions,\n",
    "        \"image\": images,\n",
    "        \"answer\": answers,\n",
    "    }"
   ]
  },
  {
   "cell_type": "code",
   "execution_count": 318,
   "id": "37e952dd-c7af-45ff-81bb-0d77975964cb",
   "metadata": {},
   "outputs": [
    {
     "data": {
      "text/plain": [
       "tensor([[[-2.0494, -2.0494, -2.0323,  ..., -1.3473, -1.2788, -1.3130],\n",
       "         [-2.0494, -2.0323, -2.0837,  ..., -1.0219, -1.0219, -1.0904],\n",
       "         [-2.0665, -2.0494, -2.0837,  ..., -1.0390, -1.0904, -1.0390],\n",
       "         ...,\n",
       "         [ 0.7077,  0.6049,  0.5193,  ...,  0.9132,  0.8618,  0.6906],\n",
       "         [ 0.6906,  0.5364,  0.4679,  ...,  1.2385,  1.1187,  1.0331],\n",
       "         [ 0.7248,  0.5536,  0.5022,  ...,  1.4612,  1.4440,  1.4783]],\n",
       "\n",
       "        [[-0.8452, -0.8452, -0.8452,  ..., -0.1800, -0.1625, -0.1800],\n",
       "         [-0.8803, -0.8627, -0.8803,  ..., -0.1625, -0.1450, -0.1450],\n",
       "         [-0.9153, -0.8803, -0.8978,  ..., -0.2850, -0.3025, -0.2675],\n",
       "         ...,\n",
       "         [ 0.5028,  0.3627,  0.2052,  ...,  0.3978,  0.3978,  0.2927],\n",
       "         [ 0.5028,  0.3277,  0.1702,  ...,  1.1681,  1.0280,  0.9580],\n",
       "         [ 0.5203,  0.3277,  0.2052,  ...,  1.6758,  1.6583,  1.6933]],\n",
       "\n",
       "        [[ 0.1128,  0.1128,  0.1302,  ...,  0.4265,  0.4265,  0.4265],\n",
       "         [ 0.1128,  0.1128,  0.0779,  ...,  0.5311,  0.5485,  0.5311],\n",
       "         [ 0.0779,  0.0953,  0.0779,  ...,  0.5311,  0.5136,  0.5659],\n",
       "         ...,\n",
       "         [ 0.6008,  0.4788,  0.3568,  ...,  0.3393,  0.2871,  0.1825],\n",
       "         [ 0.6182,  0.4614,  0.3045,  ...,  1.5768,  1.4025,  1.2631],\n",
       "         [ 0.6531,  0.4788,  0.3219,  ...,  2.1171,  2.1171,  2.0997]]])"
      ]
     },
     "execution_count": 318,
     "metadata": {},
     "output_type": "execute_result"
    }
   ],
   "source": [
    "transformed_vqa_dataset[0][\"image\"]"
   ]
  },
  {
   "cell_type": "code",
   "execution_count": 319,
   "id": "6d81fabb-4c17-4d9d-a068-b02f9f1736c0",
   "metadata": {},
   "outputs": [],
   "source": [
    "from torchvision.models import resnet18, ResNet18_Weights\n",
    "from torchvision.transforms import transforms\n",
    "\n",
    "# Load pre-trained ResNet18\n",
    "resnet18 = resnet18(weights=ResNet18_Weights.DEFAULT)"
   ]
  },
  {
   "cell_type": "code",
   "execution_count": 320,
   "id": "1826632b-04fa-42a8-896c-46e1c9c88ebf",
   "metadata": {},
   "outputs": [],
   "source": [
    "class ImageTokenator(Tokenator):\n",
    "    def __init__(self, tokenizer):   \n",
    "        self.tokenizer = tokenizer\n",
    "        \n",
    "    def __call__(self, batch, **kwargs) -> TokenData:\n",
    "        tokenized =  self.tokenizer(batch, **kwargs)\n",
    "        xs = tokenized[\"input_ids\"][:, :-1]\n",
    "        # We're not predicting image tokens, so zero out the attention and predictions.\n",
    "        ms = ys = torch.zeros(xs.shape[:2])\n",
    "        return ImageTokenData(tokens=xs, targets=ys, attention_mask=ms)"
   ]
  },
  {
   "cell_type": "code",
   "execution_count": 30,
   "id": "242c21ce",
   "metadata": {},
   "outputs": [],
   "source": []
  },
  {
   "cell_type": "code",
   "execution_count": 31,
   "id": "7131d1fe-ff58-4a76-a1f2-78ceb486dcf1",
   "metadata": {},
   "outputs": [],
   "source": [
    "vqa_dl = DataLoader(vqa_dataset[\"train\"], batch_size=BATCH_SIZE, collate_fn=micro_ok_vqa_collate_fn, num_workers=4)"
   ]
  },
  {
   "cell_type": "code",
   "execution_count": 32,
   "id": "d8721d35-e5ac-4220-870e-45ed3b201e2d",
   "metadata": {},
   "outputs": [],
   "source": [
    "dl = iter(vqa_dl)"
   ]
  },
  {
   "cell_type": "code",
   "execution_count": 33,
   "id": "501819e9-29da-48e2-90f7-c2d3ff6d834f",
   "metadata": {},
   "outputs": [],
   "source": [
    "vqa_batch = next(dl)"
   ]
  },
  {
   "cell_type": "code",
   "execution_count": 34,
   "id": "57bd4154-69f2-4b47-8cae-df212f54b49c",
   "metadata": {},
   "outputs": [
    {
     "data": {
      "text/plain": [
       "torch.Size([4, 3, 192, 192])"
      ]
     },
     "execution_count": 34,
     "metadata": {},
     "output_type": "execute_result"
    }
   ],
   "source": [
    "vqa_batch[\"image\"].shape"
   ]
  },
  {
   "cell_type": "code",
   "execution_count": 35,
   "id": "c8c07945-992b-4f25-93f9-30b828f08efb",
   "metadata": {},
   "outputs": [],
   "source": [
    "from einops import rearrange"
   ]
  },
  {
   "cell_type": "code",
   "execution_count": 36,
   "id": "232e02ae-c43e-4e1c-9b9a-f77e3950427b",
   "metadata": {},
   "outputs": [],
   "source": [
    "PATCH_SIZE = 12"
   ]
  },
  {
   "cell_type": "code",
   "execution_count": 37,
   "id": "dc8e6373-342d-4810-b574-fdf9eac3bb52",
   "metadata": {},
   "outputs": [],
   "source": [
    "images = vqa_batch[\"image\"]"
   ]
  },
  {
   "cell_type": "code",
   "execution_count": 38,
   "id": "500a5ec8-690e-4f7e-9bd3-f71e5691bcd8",
   "metadata": {},
   "outputs": [
    {
     "data": {
      "text/plain": [
       "torch.Size([4, 256, 432])"
      ]
     },
     "execution_count": 38,
     "metadata": {},
     "output_type": "execute_result"
    }
   ],
   "source": [
    "patches = rearrange(images, 'b c (h s1) (w s2) -> b (h w) (s1 s2 c)', s1=PATCH_SIZE, s2=PATCH_SIZE)\n",
    "patches.shape"
   ]
  },
  {
   "cell_type": "code",
   "execution_count": 39,
   "id": "c6c1bd0b-86e4-46ad-a9ac-0c4a48bac5ed",
   "metadata": {},
   "outputs": [
    {
     "data": {
      "text/plain": [
       "torch.Size([4, 256, 432])"
      ]
     },
     "execution_count": 39,
     "metadata": {},
     "output_type": "execute_result"
    }
   ],
   "source": [
    "patches_matplotlib_dims = rearrange(images, 'b c (h s1) (w s2) -> b (h w) s1 s2 c', s1=PATCH_SIZE, s2=PATCH_SIZE)\n",
    "patches.shape"
   ]
  },
  {
   "cell_type": "code",
   "execution_count": 40,
   "id": "1a83cb8d-cff1-475d-b741-3d5c7f2cd8ae",
   "metadata": {},
   "outputs": [
    {
     "data": {
      "image/png": "[encoded data removed]",
      "text/plain": [
       "<Figure size 800x100 with 32 Axes>"
      ]
     },
     "metadata": {},
     "output_type": "display_data"
    }
   ],
   "source": [
    "fig, axes = plt.subplots(nrows=2, ncols=16, figsize=(8, 1))\n",
    "\n",
    "for i in range(2):\n",
    "    for j in range(16):\n",
    "        axes[i, j].imshow(patches_matplotlib_dims[0][i * 16 + j])\n",
    "        axes[i, j].axis(\"off\")\n",
    "plt.tight_layout()\n",
    "plt.show()"
   ]
  },
  {
   "cell_type": "code",
   "execution_count": 41,
   "id": "4821112e-a8cb-4032-a6f4-04eeda48ad97",
   "metadata": {},
   "outputs": [
    {
     "data": {
      "text/plain": [
       "torch.Size([4, 3, 192, 192])"
      ]
     },
     "execution_count": 41,
     "metadata": {},
     "output_type": "execute_result"
    }
   ],
   "source": [
    "reconstructed = rearrange(patches, 'b (ph pw) (sh sw c) -> b c (ph sh) (pw sw)', ph=16, pw=16, sh=PATCH_SIZE, sw=PATCH_SIZE)\n",
    "reconstructed.shape"
   ]
  },
  {
   "cell_type": "code",
   "execution_count": 42,
   "id": "581b684c-12b1-44c5-93b7-2ebc0a581292",
   "metadata": {},
   "outputs": [
    {
     "data": {
      "text/plain": [
       "tensor(True)"
      ]
     },
     "execution_count": 42,
     "metadata": {},
     "output_type": "execute_result"
    }
   ],
   "source": [
    "(reconstructed == images).all()"
   ]
  },
  {
   "cell_type": "code",
   "execution_count": 43,
   "id": "c39af499-1c2a-490e-9a38-cae851fb6b6c",
   "metadata": {},
   "outputs": [],
   "source": [
    "def images_to_patches(images, patch_size=12):\n",
    "    return rearrange(images, 'b c (h s1) (w s2) -> b (h w) (c s1 s2)', s1=patch_size, s2=patch_size)\n",
    "\n",
    "# We don't need this as part of Gato. It's just here to play with and visually test the code.\n",
    "def patches_to_image(patches, image_shape, patch_size=12):\n",
    "    channels, height, width = image_shape\n",
    "    patch_height = height // patch_size\n",
    "    patch_width = width // patch_size\n",
    "    reconstructed = rearrange(\n",
    "        patches, \n",
    "        'b (ph pw) (c ps1 ps2) -> b c (ph ps1) (pw ps2)',\n",
    "        ph=patch_height,\n",
    "        pw=patch_width,\n",
    "        ps1=patch_size,\n",
    "        ps2=patch_size,\n",
    "    )\n",
    "    return reconstructed"
   ]
  },
  {
   "cell_type": "code",
   "execution_count": 44,
   "id": "181ac218-0a5e-4607-87f8-f7ce313b3761",
   "metadata": {},
   "outputs": [
    {
     "data": {
      "text/plain": [
       "tensor(True)"
      ]
     },
     "execution_count": 44,
     "metadata": {},
     "output_type": "execute_result"
    }
   ],
   "source": [
    "# And to prove that we can go from image -> patch -> image\n",
    "recovered_images = patches_to_image(images_to_patches(images), (3, 192, 192))\n",
    "(recovered_images == images).all()"
   ]
  },
  {
   "cell_type": "code",
   "execution_count": 45,
   "id": "b95a8fe0-ee5e-452a-9d41-f61e08193d55",
   "metadata": {},
   "outputs": [],
   "source": [
    "def normalize_to_between_minus_one_plus_one(t: torch.Tensor):\n",
    "    min_val, max_val = t.min(), t.max()\n",
    "    if min_val == max_val:\n",
    "        return torch.zeros_like(t)\n",
    "    normalized = 2 * (t - min_val) / (max_val - min_val) - 1\n",
    "    return normalized"
   ]
  },
  {
   "cell_type": "code",
   "execution_count": 46,
   "id": "d1902b9e-03a1-4b55-a3e6-bb8156d43d39",
   "metadata": {},
   "outputs": [
    {
     "data": {
      "text/plain": [
       "tensor([-1.0000, -0.6000, -0.2000,  0.2000,  0.6000,  1.0000])"
      ]
     },
     "execution_count": 46,
     "metadata": {},
     "output_type": "execute_result"
    }
   ],
   "source": [
    "normalize_to_between_minus_one_plus_one(torch.arange(6))"
   ]
  },
  {
   "cell_type": "code",
   "execution_count": 47,
   "id": "7518563f-c284-475e-aa50-b170b04ef053",
   "metadata": {},
   "outputs": [],
   "source": [
    "# There's a small deviation in the NEKO codebase from the paper.\n",
    "# The paper normalizes _per patch_. The NEKO codebase currently normalizes _per image_.\n",
    "# https://github.com/eihli/NEKO/blob/master/gato/policy/embeddings.py#L38\n",
    "# This notebook normalizeds per patch. That's what this utility helps.\n",
    "def apply_along_dimension(func, dim, tensor):\n",
    "    tensor = tensor.transpose(0, dim)\n",
    "    shape = tensor.shape\n",
    "    tensor = tensor.reshape(shape[0], -1)\n",
    "    result = torch.stack([func(tensor[:, i]) for i in range(tensor.size(1))], dim=1)\n",
    "    result = result.reshape(shape).transpose(0, dim)\n",
    "    return result"
   ]
  },
  {
   "cell_type": "code",
   "execution_count": 48,
   "id": "34010d4d-869b-4ebf-882b-2802d42990a1",
   "metadata": {},
   "outputs": [
    {
     "name": "stdout",
     "output_type": "stream",
     "text": [
      "starting tensor:\n",
      "tensor([[[ 0,  1],\n",
      "         [ 2,  3]],\n",
      "\n",
      "        [[ 4,  5],\n",
      "         [ 6,  7]],\n",
      "\n",
      "        [[ 8,  9],\n",
      "         [10, 11]]])\n",
      "\n",
      "t * t.min() along dim 0:\n",
      "tensor([[[ 0,  1],\n",
      "         [ 4,  9]],\n",
      "\n",
      "        [[ 0,  5],\n",
      "         [12, 21]],\n",
      "\n",
      "        [[ 0,  9],\n",
      "         [20, 33]]])\n",
      "\n",
      "t * t.min() along dim 1:\n",
      "tensor([[[ 0,  1],\n",
      "         [ 0,  3]],\n",
      "\n",
      "        [[16, 25],\n",
      "         [24, 35]],\n",
      "\n",
      "        [[64, 81],\n",
      "         [80, 99]]])\n",
      "\n",
      "t * t.min() along dim 2:\n",
      "tensor([[[  0,   0],\n",
      "         [  4,   6]],\n",
      "\n",
      "        [[ 16,  20],\n",
      "         [ 36,  42]],\n",
      "\n",
      "        [[ 64,  72],\n",
      "         [100, 110]]])\n",
      "\n"
     ]
    }
   ],
   "source": [
    "example = torch.arange(12).view(3, 2, 2)\n",
    "print(f\"starting tensor:\\n{example}\\n\")\n",
    "print(f\"t * t.min() along dim 0:\\n{apply_along_dimension(lambda t: t * t.min(), 0, example)}\\n\")\n",
    "print(f\"t * t.min() along dim 1:\\n{apply_along_dimension(lambda t: t * t.min(), 1, example)}\\n\")\n",
    "print(f\"t * t.min() along dim 2:\\n{apply_along_dimension(lambda t: t * t.min(), 2, example)}\\n\")"
   ]
  },
  {
   "cell_type": "code",
   "execution_count": 49,
   "id": "6d445099-0188-41c3-b3bc-23d177d9da9f",
   "metadata": {},
   "outputs": [],
   "source": [
    "TokensImage = namedtuple(\"TokensImage\", [\"xs\", \"ys\", \"ms\"])"
   ]
  },
  {
   "cell_type": "code",
   "execution_count": 50,
   "id": "62a7506e-02c0-42f7-a374-1f9ef108d506",
   "metadata": {},
   "outputs": [],
   "source": [
    "def tokenize_image(image: torch.Tensor, patch_size=PATCH_SIZE) -> torch.Tensor:\n",
    "    \"\"\"Convert images to patches, normalize each patch, then prepare it for\n",
    "    embedding by reshaping to CxHxW so that we can send it through the conv\n",
    "    layers of a ResNet block.\n",
    "    \"\"\" \n",
    "    image = images_to_patches(image, patch_size=patch_size)\n",
    "    # Hardcoding as a reminder to do something smarter\n",
    "    SQUARE_ROOT_OF_PATCH_SIZE = 3.464\n",
    "    xs = (\n",
    "        apply_along_dimension(\n",
    "            normalize_to_between_minus_one_plus_one, 2, image\n",
    "        )\n",
    "        / SQUARE_ROOT_OF_PATCH_SIZE\n",
    "    )\n",
    "    # We don't predict images, but we need ys\n",
    "    # becaues these image ys will be in our \n",
    "    # concatenated ys of text/image/action/etc...\n",
    "    ys = torch.zeros((xs.size(0), xs.size(1)))\n",
    "    ms = torch.zeros_like(ys)  # Same story as above.\n",
    "    return TokensImage(xs, ys, ms)"
   ]
  },
  {
   "cell_type": "code",
   "execution_count": 51,
   "id": "f09c059a-9c71-4630-b2f7-f0f6cf993a51",
   "metadata": {},
   "outputs": [],
   "source": [
    "image_tokens = tokenize_image(vqa_batch[\"image\"])"
   ]
  },
  {
   "cell_type": "code",
   "execution_count": 52,
   "id": "fbe8aaf9-63aa-40c4-953a-2423f08a1d27",
   "metadata": {},
   "outputs": [
    {
     "data": {
      "text/plain": [
       "(torch.Size([4, 256, 432]), torch.Size([4, 256]), torch.Size([4, 256]))"
      ]
     },
     "execution_count": 52,
     "metadata": {},
     "output_type": "execute_result"
    }
   ],
   "source": [
    "image_tokens.xs.shape, image_tokens.ys.shape, image_tokens.ms.shape"
   ]
  },
  {
   "cell_type": "markdown",
   "id": "23a736b3-3407-4044-97cf-d460f7138f87",
   "metadata": {},
   "source": [
    "# Control"
   ]
  },
  {
   "cell_type": "code",
   "execution_count": 53,
   "id": "e4116062-78ae-48e9-a035-26afea3ca804",
   "metadata": {},
   "outputs": [],
   "source": [
    "import minari\n",
    "\n",
    "minigrid_dataset = minari.load_dataset('D4RL/minigrid/fourrooms-v0', download=True)\n",
    "env  = minigrid_dataset.recover_environment()"
   ]
  },
  {
   "cell_type": "code",
   "execution_count": 54,
   "id": "15213a19-9fbf-4abb-a193-c0e9b1aebd18",
   "metadata": {},
   "outputs": [
    {
     "name": "stdout",
     "output_type": "stream",
     "text": [
      "Observation space: Dict('direction': Discrete(4), 'image': Box(0, 255, (7, 7, 3), uint8), 'mission': Text(1, 14, charset=                                                              ''''''''''''''''''''''''''''''''''''''''''''''''''''''''''''''''''''''''''''''''''''''''''''''''''''''''''''''''''''''''''''(),,,,,,,,,,,,,,,,,,,,,,,,,,,,,,,,,,,,,,,,,,,,,,,,,,,,,,,,,,,,,0123456789ABCDEFGHIJKLMNOPQRSTUVWXYZabcdeeeffghijklmnnoopqrrssttuvwxyzz{}))\n",
      "Action space: Discrete(7)\n",
      "Total episodes: 590\n",
      "Total steps: 10010\n"
     ]
    }
   ],
   "source": [
    "print(\"Observation space:\", minigrid_dataset.observation_space)\n",
    "print(\"Action space:\", minigrid_dataset.action_space)\n",
    "print(\"Total episodes:\", minigrid_dataset.total_episodes)\n",
    "print(\"Total steps:\", minigrid_dataset.total_steps)"
   ]
  },
  {
   "cell_type": "code",
   "execution_count": 55,
   "id": "e92b937f-a4ac-4315-beb0-27c67fcf63de",
   "metadata": {},
   "outputs": [
    {
     "name": "stdout",
     "output_type": "stream",
     "text": [
      "EPISODE ID'S SAMPLE 0: [31, 348, 9, 536, 400]\n",
      "EPISODE ID'S SAMPLE 1: [103, 265, 544, 204, 477]\n",
      "EPISODE ID'S SAMPLE 2: [302, 158, 14, 505, 522]\n",
      "EPISODE ID'S SAMPLE 3: [240, 125, 371, 87, 435]\n",
      "EPISODE ID'S SAMPLE 4: [468, 125, 305, 489, 469]\n"
     ]
    }
   ],
   "source": [
    "minigrid_dataset.set_seed(seed=123)\n",
    "\n",
    "for i in range(5):\n",
    "    # sample 5 episodes from the dataset\n",
    "    episodes = minigrid_dataset.sample_episodes(n_episodes=5)\n",
    "    # get id's from the sampled episodes\n",
    "    ids = list(map(lambda ep: ep.id, episodes))\n",
    "    print(f\"EPISODE ID'S SAMPLE {i}: {ids}\")"
   ]
  },
  {
   "cell_type": "code",
   "execution_count": 56,
   "id": "9be5ef71-357d-4220-b9f0-bca382f6db64",
   "metadata": {},
   "outputs": [
    {
     "data": {
      "text/plain": [
       "(11, 7, 7, 3)"
      ]
     },
     "execution_count": 56,
     "metadata": {},
     "output_type": "execute_result"
    }
   ],
   "source": [
    "episodes[0].observations[\"image\"].shape"
   ]
  },
  {
   "cell_type": "code",
   "execution_count": 57,
   "id": "2b74b036-8798-4bee-acd9-b549b7052f0c",
   "metadata": {},
   "outputs": [
    {
     "data": {
      "text/plain": [
       "array([0, 0, 0, 0, 0, 0, 0, 3, 3, 3, 3])"
      ]
     },
     "execution_count": 57,
     "metadata": {},
     "output_type": "execute_result"
    }
   ],
   "source": [
    "episodes[0].observations[\"direction\"]"
   ]
  },
  {
   "cell_type": "code",
   "execution_count": 58,
   "id": "1fdd70c4-09b5-445f-b5bb-391df3b584fd",
   "metadata": {},
   "outputs": [],
   "source": [
    "episode = episodes[0]"
   ]
  },
  {
   "cell_type": "code",
   "execution_count": 59,
   "id": "6655d914-f99b-4689-be44-54baa430a1b8",
   "metadata": {},
   "outputs": [
    {
     "data": {
      "text/plain": [
       "array([2, 2, 2, 2, 2, 2, 0, 2, 2, 2])"
      ]
     },
     "execution_count": 59,
     "metadata": {},
     "output_type": "execute_result"
    }
   ],
   "source": [
    "episode.actions"
   ]
  },
  {
   "cell_type": "code",
   "execution_count": 60,
   "id": "8dd4020d-7d6c-47cf-a01f-5c0e05334d1c",
   "metadata": {},
   "outputs": [],
   "source": [
    "from minigrid.core import constants as mgc"
   ]
  },
  {
   "cell_type": "code",
   "execution_count": 241,
   "id": "899e5a17-61ca-4d29-b2e7-97fd155eee2b",
   "metadata": {},
   "outputs": [],
   "source": [
    "def minigrid_to_rgb(obs):\n",
    "    _obs = torch.zeros(obs.shape, dtype=torch.uint8)\n",
    "    for i in range(_obs.size(0)):\n",
    "        for j in range(_obs.size(1)):\n",
    "            _obs[i, j] = torch.from_numpy(mgc.COLORS[mgc.IDX_TO_COLOR[obs[i, j, 1]]]).to(torch.uint8)\n",
    "    return _obs.permute(2, 0, 1)"
   ]
  },
  {
   "cell_type": "code",
   "execution_count": 242,
   "id": "229940fc-d576-43cd-a24c-4c64eea02320",
   "metadata": {},
   "outputs": [
    {
     "data": {
      "text/plain": [
       "(7, 7, 3)"
      ]
     },
     "execution_count": 242,
     "metadata": {},
     "output_type": "execute_result"
    }
   ],
   "source": [
    "obs = episode.observations[\"image\"][0]\n",
    "obs.shape"
   ]
  },
  {
   "cell_type": "code",
   "execution_count": 243,
   "id": "f7ad6c46-0e31-4d23-93e8-478e28cbd4d4",
   "metadata": {},
   "outputs": [
    {
     "data": {
      "text/plain": [
       "array([[1, 0, 0],\n",
       "       [1, 0, 0],\n",
       "       [1, 0, 0],\n",
       "       [1, 0, 0],\n",
       "       [1, 0, 0],\n",
       "       [1, 0, 0],\n",
       "       [1, 0, 0]], dtype=uint8)"
      ]
     },
     "execution_count": 243,
     "metadata": {},
     "output_type": "execute_result"
    }
   ],
   "source": [
    "mgc.IDX_TO_COLOR\n",
    "obs[1]"
   ]
  },
  {
   "cell_type": "code",
   "execution_count": 244,
   "id": "fcfe225d-ccec-4e01-948d-30818dd309f3",
   "metadata": {},
   "outputs": [
    {
     "data": {
      "text/plain": [
       "tensor([[[255, 255, 255, 255, 100,   0, 255],\n",
       "         [255, 255, 255, 255, 100, 255, 255],\n",
       "         [255, 255, 255, 255, 100, 255, 255],\n",
       "         [255, 255, 255, 255, 100, 255, 255],\n",
       "         [255, 255, 255, 255, 100, 255, 255],\n",
       "         [255, 255, 255, 255, 100, 255, 255],\n",
       "         [255, 255, 255, 255, 100, 255, 255]],\n",
       "\n",
       "        [[  0,   0,   0,   0, 100, 255,   0],\n",
       "         [  0,   0,   0,   0, 100,   0,   0],\n",
       "         [  0,   0,   0,   0, 100,   0,   0],\n",
       "         [  0,   0,   0,   0, 100,   0,   0],\n",
       "         [  0,   0,   0,   0, 100,   0,   0],\n",
       "         [  0,   0,   0,   0, 100,   0,   0],\n",
       "         [  0,   0,   0,   0, 100,   0,   0]],\n",
       "\n",
       "        [[  0,   0,   0,   0, 100,   0,   0],\n",
       "         [  0,   0,   0,   0, 100,   0,   0],\n",
       "         [  0,   0,   0,   0, 100,   0,   0],\n",
       "         [  0,   0,   0,   0, 100,   0,   0],\n",
       "         [  0,   0,   0,   0, 100,   0,   0],\n",
       "         [  0,   0,   0,   0, 100,   0,   0],\n",
       "         [  0,   0,   0,   0, 100,   0,   0]]], dtype=torch.uint8)"
      ]
     },
     "execution_count": 244,
     "metadata": {},
     "output_type": "execute_result"
    }
   ],
   "source": [
    "minigrid_to_rgb(episode.observations[\"image\"][5])"
   ]
  },
  {
   "cell_type": "code",
   "execution_count": 245,
   "id": "d243861d-a311-4120-aef5-e7294928136d",
   "metadata": {
    "scrolled": true
   },
   "outputs": [
    {
     "data": {
      "image/png": "[encoded data removed]",
      "text/plain": [
       "<Figure size 1500x1500 with 11 Axes>"
      ]
     },
     "metadata": {},
     "output_type": "display_data"
    }
   ],
   "source": [
    "l = episode.observations[\"image\"].shape[0]\n",
    "fig, axs = plt.subplots(l, 1, figsize=(15, 15))\n",
    "for i in range(l):\n",
    "    axs[i].imshow(minigrid_to_rgb(episode.observations[\"image\"][i]).permute(1, 2, 0))\n",
    "    axs[i].axis(\"off\")\n",
    "plt.tight_layout()\n",
    "plt.show()"
   ]
  },
  {
   "cell_type": "markdown",
   "id": "3b33592b-a844-48b4-96b9-b5c26da316b0",
   "metadata": {},
   "source": [
    "We might want to use something smaller than 192x192. That was a reasonable size for photographs. But this is upscaled from a 7x7 grid. We don't need that much resolution. And the smaller the image, the more we can fit into a context window, which is good for episodic tasks like robotics."
   ]
  },
  {
   "cell_type": "code",
   "execution_count": 246,
   "id": "f107d030-2b5c-4e80-b6b7-49f56ca2351b",
   "metadata": {},
   "outputs": [],
   "source": [
    "CONTROL_PATCH_SIZE = 4"
   ]
  },
  {
   "cell_type": "code",
   "execution_count": 247,
   "id": "72051048-3c03-4639-b062-81573b791c18",
   "metadata": {},
   "outputs": [],
   "source": [
    "minigrid_image_resize = transforms.Resize(\n",
    "    (CONTROL_PATCH_SIZE * 6, CONTROL_PATCH_SIZE * 6)\n",
    ")"
   ]
  },
  {
   "cell_type": "code",
   "execution_count": 248,
   "id": "27465f47-85b1-4505-99b0-0f3e0b8f9ee7",
   "metadata": {},
   "outputs": [
    {
     "data": {
      "text/plain": [
       "torch.Size([3, 7, 7])"
      ]
     },
     "execution_count": 248,
     "metadata": {},
     "output_type": "execute_result"
    }
   ],
   "source": [
    "minigrid_to_rgb(episode.observations[\"image\"][5]).shape"
   ]
  },
  {
   "cell_type": "code",
   "execution_count": 249,
   "id": "8fa2f1d9-fa49-43e6-8b1e-88f4949872a4",
   "metadata": {},
   "outputs": [
    {
     "data": {
      "text/plain": [
       "torch.Size([3, 24, 24])"
      ]
     },
     "execution_count": 249,
     "metadata": {},
     "output_type": "execute_result"
    }
   ],
   "source": [
    "resized_minari_grid_observation_image = minigrid_image_resize([minigrid_to_rgb(episode.observations[\"image\"][1])])\n",
    "resized_minari_grid_observation_image[0].shape"
   ]
  },
  {
   "cell_type": "code",
   "execution_count": 250,
   "id": "623ab239-eec7-42ee-853d-bf9c8ce37153",
   "metadata": {},
   "outputs": [
    {
     "data": {
      "text/plain": [
       "<matplotlib.image.AxesImage at 0x7c1d1f6660c0>"
      ]
     },
     "execution_count": 250,
     "metadata": {},
     "output_type": "execute_result"
    },
    {
     "data": {
      "image/png": "[encoded data removed]",
      "text/plain": [
       "<Figure size 640x480 with 1 Axes>"
      ]
     },
     "metadata": {},
     "output_type": "display_data"
    }
   ],
   "source": [
    "plt.imshow(minigrid_image_resize([minigrid_to_rgb(episode.observations[\"image\"][8])])[0].permute(1, 2, 0))"
   ]
  },
  {
   "cell_type": "code",
   "execution_count": 251,
   "id": "975df50b-52fd-4d06-9f38-4d56c5bc9418",
   "metadata": {
    "scrolled": true
   },
   "outputs": [
    {
     "data": {
      "text/plain": [
       "EpisodeData(id=468, total_steps=10, observations={direction: ndarray of shape (11,) and dtype int64, image: ndarray of shape (11, 7, 7, 3) and dtype uint8, mission: ['reach the goal', 'reach the goal', 'reach the goal', 'reach the goal', 'reach the goal', 'reach the goal', 'reach the goal', 'reach the goal', 'reach the goal', 'reach the goal', 'reach the goal']}, actions=ndarray of shape (10,) and dtype int64, rewards=ndarray of 10 floats, terminations=ndarray of 10 bools, truncations=ndarray of 10 bools, infos=dict with the following keys: [])"
      ]
     },
     "execution_count": 251,
     "metadata": {},
     "output_type": "execute_result"
    }
   ],
   "source": [
    "episodes[0]"
   ]
  },
  {
   "cell_type": "code",
   "execution_count": 252,
   "id": "98e50480-f8c9-41a3-ab84-ee9c0d2e859c",
   "metadata": {},
   "outputs": [],
   "source": [
    "TokensObservation = namedtuple(\"TokensObservation\", [\"xs\", \"ys\", \"ms\"])"
   ]
  },
  {
   "cell_type": "code",
   "execution_count": 253,
   "id": "cedd634f-ea6b-462b-aa3a-00468ddf1288",
   "metadata": {},
   "outputs": [],
   "source": [
    "def tokenize_observation(vocab_size, batch):\n",
    "    xs = torch.tensor(batch, dtype=torch.int)\n",
    "    xs = xs + vocab_size\n",
    "    ys = torch.zeros_like(xs)  # non-textual observations aren't predicted\n",
    "    ms = torch.zeros_like(ys)  # ^ ...\n",
    "    return TokensObservation(xs, ys, ms)"
   ]
  },
  {
   "cell_type": "code",
   "execution_count": 254,
   "id": "3ef46757-309e-47af-8ac6-772e0aa4b475",
   "metadata": {},
   "outputs": [],
   "source": [
    "TokensAction = namedtuple(\"TokensAction\", [\"xs\", \"ys\", \"ms\"])"
   ]
  },
  {
   "cell_type": "code",
   "execution_count": 255,
   "id": "009e4c91-2723-4864-8c10-62b74fa06988",
   "metadata": {},
   "outputs": [],
   "source": [
    "def tokenize_action(vocab_size, batch):\n",
    "    xs = torch.tensor(batch, dtype=torch.int)\n",
    "    xs = xs + vocab_size\n",
    "    ys = torch.zeros_like(xs)  # non-textual observations aren't predicted\n",
    "    ms = torch.zeros_like(ys)  # ^ ...\n",
    "    return TokensAction(xs, ys, ms)"
   ]
  },
  {
   "cell_type": "code",
   "execution_count": 256,
   "id": "68e8e7bb-868a-4601-b79c-6c9c85b96ffc",
   "metadata": {},
   "outputs": [
    {
     "name": "stdout",
     "output_type": "stream",
     "text": [
      "[91]\n"
     ]
    }
   ],
   "source": [
    "separator_token = _text_tokenizer(\"|\")[\"input_ids\"]\n",
    "print(separator_token)\n",
    "SEPARATOR_TOKEN = torch.tensor([91])"
   ]
  },
  {
   "cell_type": "code",
   "execution_count": 257,
   "id": "59427f14-045d-47ee-a3a3-be090ea87937",
   "metadata": {},
   "outputs": [],
   "source": [
    "from collections import namedtuple\n",
    "Timestep = namedtuple(\"Timestep\", [\"text\", \"image\", \"discrete\", \"separator\", \"action\"])"
   ]
  },
  {
   "cell_type": "code",
   "execution_count": null,
   "id": "71d7f295-059b-4995-93b4-74c4ac15b386",
   "metadata": {},
   "outputs": [],
   "source": []
  },
  {
   "cell_type": "code",
   "execution_count": 258,
   "id": "de963649-410b-43c3-ad24-77d9f6e1d24a",
   "metadata": {},
   "outputs": [],
   "source": [
    "def minigrid_collate_fn(tokenize_text, tokenize_image, tokenize_discrete, vocab_size, batch):\n",
    "    sequenced = []\n",
    "    for sample in batch:\n",
    "        text_tokens = tokenize_text(\n",
    "            sample.observations[\"mission\"]\n",
    "        )\n",
    "        image_tokens = tokenize_image([\n",
    "            minigrid_image_resize(minigrid_to_rgb(image))\n",
    "            for image in sample.observations[\"image\"]\n",
    "        ])\n",
    "        discrete_tokens = tokenize_observation(\n",
    "            vocab_size,\n",
    "            [[d] for d in sample.observations[\"direction\"]],\n",
    "        )\n",
    "        action_tokens = tokenize_action(\n",
    "            vocab_size,\n",
    "            [[a] for a in sample.actions]\n",
    "        )\n",
    "        timesteps = []\n",
    "        for i in range(len(sample.actions)):\n",
    "            xs = Timestep(\n",
    "                text_tokens.xs[i],\n",
    "                image_tokens.xs[i],\n",
    "                discrete_tokens.xs[i],\n",
    "                SEPARATOR_TOKEN,\n",
    "                action_tokens.xs[i],\n",
    "            )\n",
    "            ys = Timestep(\n",
    "                text_tokens.ys[i],\n",
    "                image_tokens.ys[i],\n",
    "                discrete_tokens.ys[i],\n",
    "                SEPARATOR_TOKEN,\n",
    "                action_tokens.ys[i],\n",
    "            )\n",
    "            ms = Timestep(\n",
    "                text_tokens.ms[i],\n",
    "                image_tokens.ms[i],\n",
    "                discrete_tokens.ms[i],\n",
    "                SEPARATOR_TOKEN,\n",
    "                action_tokens.ms[i],\n",
    "            )\n",
    "            timesteps.append([xs, ys, ms])\n",
    "        sequenced.append(timesteps)\n",
    "    return sequenced"
   ]
  },
  {
   "cell_type": "code",
   "execution_count": 259,
   "id": "f4b6344a-4297-4e6f-9d3c-126a1a5a1aed",
   "metadata": {},
   "outputs": [
    {
     "data": {
      "text/plain": [
       "TokensObservation(xs=tensor([50257, 50258, 50259, 50259, 50259, 50259, 50259, 50259, 50260, 50260,\n",
       "        50260, 50260, 50260, 50260, 50260, 50260, 50260, 50260, 50260, 50260],\n",
       "       dtype=torch.int32), ys=tensor([0, 0, 0, 0, 0, 0, 0, 0, 0, 0, 0, 0, 0, 0, 0, 0, 0, 0, 0, 0],\n",
       "       dtype=torch.int32), ms=tensor([0, 0, 0, 0, 0, 0, 0, 0, 0, 0, 0, 0, 0, 0, 0, 0, 0, 0, 0, 0],\n",
       "       dtype=torch.int32))"
      ]
     },
     "execution_count": 259,
     "metadata": {},
     "output_type": "execute_result"
    }
   ],
   "source": [
    "discrete_tokens = tokenize_observation(\n",
    "    VOCAB_SIZE,\n",
    "    minigrid_dataset[0].observations[\"direction\"]\n",
    ")\n",
    "discrete_tokens\n",
    "# minigrid_dataset[0].observations[\"direction\"]"
   ]
  },
  {
   "cell_type": "code",
   "execution_count": null,
   "id": "e61abcc9-36d0-41ce-844b-b1e075f4e32b",
   "metadata": {},
   "outputs": [],
   "source": []
  },
  {
   "cell_type": "code",
   "execution_count": 260,
   "id": "51445cf6-cfeb-4225-8c78-19339f963e57",
   "metadata": {},
   "outputs": [],
   "source": [
    "sample = minigrid_dataset[0]"
   ]
  },
  {
   "cell_type": "code",
   "execution_count": 261,
   "id": "38c007d7-cbad-4fc2-9a6d-6e714925954b",
   "metadata": {},
   "outputs": [
    {
     "data": {
      "text/plain": [
       "(4, 7, 7, 3)"
      ]
     },
     "execution_count": 261,
     "metadata": {},
     "output_type": "execute_result"
    }
   ],
   "source": [
    "image = sample.observations[\"image\"][0:4]\n",
    "image.shape"
   ]
  },
  {
   "cell_type": "code",
   "execution_count": 262,
   "id": "f9bdc357-dec8-4645-a17c-255f90f1ed1d",
   "metadata": {},
   "outputs": [],
   "source": [
    "images_resized = torch.stack([minigrid_image_resize(minigrid_to_rgb(i)) for i in image])"
   ]
  },
  {
   "cell_type": "code",
   "execution_count": 263,
   "id": "0b1efc95-57dd-4d20-9abe-64828dd816ab",
   "metadata": {},
   "outputs": [
    {
     "data": {
      "text/plain": [
       "torch.Size([4, 36, 48])"
      ]
     },
     "execution_count": 263,
     "metadata": {},
     "output_type": "execute_result"
    }
   ],
   "source": [
    "images_to_patches(images_resized, CONTROL_PATCH_SIZE).shape"
   ]
  },
  {
   "cell_type": "code",
   "execution_count": 271,
   "id": "b1c4e689-8f34-4058-9dd9-ba9c5a68cd7a",
   "metadata": {},
   "outputs": [
    {
     "data": {
      "text/plain": [
       "torch.Size([4, 3, 24, 24])"
      ]
     },
     "execution_count": 271,
     "metadata": {},
     "output_type": "execute_result"
    }
   ],
   "source": [
    "images_resized.shape"
   ]
  },
  {
   "cell_type": "code",
   "execution_count": 274,
   "id": "25eff6df-333e-4f65-abaf-ead8224de778",
   "metadata": {},
   "outputs": [],
   "source": [
    "tokens = tokenize_image(images_resized, patch_size=CONTROL_PATCH_SIZE)"
   ]
  },
  {
   "cell_type": "code",
   "execution_count": 277,
   "id": "70926f9f-e844-48e5-bfc3-dbc3d600c199",
   "metadata": {},
   "outputs": [
    {
     "data": {
      "text/plain": [
       "(torch.Size([4, 36, 48]), torch.Size([4, 36]))"
      ]
     },
     "execution_count": 277,
     "metadata": {},
     "output_type": "execute_result"
    }
   ],
   "source": [
    "tokens.xs.shape, tokens.ys.shape"
   ]
  },
  {
   "cell_type": "code",
   "execution_count": 293,
   "id": "58aed3a4-2420-4a6a-8e51-bdeba610592c",
   "metadata": {},
   "outputs": [
    {
     "data": {
      "text/plain": [
       "4"
      ]
     },
     "execution_count": 293,
     "metadata": {},
     "output_type": "execute_result"
    }
   ],
   "source": [
    "int((tokens.xs.size(2) / 3) ** 0.5)"
   ]
  },
  {
   "cell_type": "code",
   "execution_count": 279,
   "id": "aac27be3-d2ea-4766-be1d-4c99d07bdbf4",
   "metadata": {},
   "outputs": [],
   "source": [
    "xs = tokens.xs"
   ]
  },
  {
   "cell_type": "code",
   "execution_count": null,
   "id": "0352f50b-b5a3-4b91-a808-eae444cd4c34",
   "metadata": {},
   "outputs": [],
   "source": [
    "n_patch_rows, n_patch_cols = n_patch_rows_cols(self.patch_size, self.patch_size, heights, widths)\n",
    "images_embeddings = []\n",
    "embeddings = self.resnet(tokens)\n",
    "for i, token in enumerate(tokens):\n",
    "    row_interval, col_interval = intervals(n_patch_rows[i].item(), n_patch_cols[i].item())\n",
    "    image_embeddings = []\n",
    "    for j in range(image.size(0)):\n",
    "        row_idx, col_idx = patch_position_sample(row_interval, col_interval, j, mode=\"training\")\n",
    "        embeddings[i][j] += _patch_position_row_embedding(row_idx) + _patch_position_col_embedding(col_idx)  "
   ]
  },
  {
   "cell_type": "code",
   "execution_count": null,
   "id": "7b88cd0c-dd01-45ad-8126-16b5158185de",
   "metadata": {},
   "outputs": [],
   "source": []
  },
  {
   "cell_type": "code",
   "execution_count": 193,
   "id": "99826b1a-f9f7-497f-8c87-942c0b3d04d9",
   "metadata": {},
   "outputs": [
    {
     "data": {
      "text/plain": [
       "torch.Size([1, 36, 48])"
      ]
     },
     "execution_count": 193,
     "metadata": {},
     "output_type": "execute_result"
    }
   ],
   "source": [
    "# [1, 36, 48]\n",
    "# 1 batch\n",
    "#     36 patches\n",
    "#         4x4x3 HxWxC\n",
    "image_tokens.xs.shape"
   ]
  },
  {
   "cell_type": "code",
   "execution_count": 196,
   "id": "8770886b-e76a-4f03-a764-bf73bc3b6b9f",
   "metadata": {},
   "outputs": [],
   "source": [
    "ctrl_dataloader = DataLoader(\n",
    "    minigrid_dataset, \n",
    "    batch_size=BATCH_SIZE,\n",
    "    collate_fn=partial(\n",
    "        minigrid_collate_fn, \n",
    "        partial(tokenize_text, _text_tokenizer), \n",
    "        partial(tokenize_image),\n",
    "        partial(tokenize_observation, _text_tokenizer.vocab_size),\n",
    "        _text_tokenizer.vocab_size,\n",
    "    ),\n",
    "    num_workers=NUM_WORKERS,\n",
    ")"
   ]
  },
  {
   "cell_type": "code",
   "execution_count": 197,
   "id": "28fa3ffe-0cfd-4d07-a801-e31385074196",
   "metadata": {},
   "outputs": [],
   "source": [
    "batch = next(iter(ctrl_dataloader))"
   ]
  },
  {
   "cell_type": "code",
   "execution_count": 198,
   "id": "3bc784ec-c501-493e-b96d-263ea4424a49",
   "metadata": {},
   "outputs": [
    {
     "data": {
      "text/plain": [
       "4"
      ]
     },
     "execution_count": 198,
     "metadata": {},
     "output_type": "execute_result"
    }
   ],
   "source": [
    "len(batch)"
   ]
  },
  {
   "cell_type": "code",
   "execution_count": null,
   "id": "7dfa83ab-f1b8-4c6d-aca4-7b33025ff613",
   "metadata": {},
   "outputs": [],
   "source": []
  },
  {
   "cell_type": "code",
   "execution_count": 199,
   "id": "16e51fcb-e624-4e43-9950-c201747f7890",
   "metadata": {},
   "outputs": [
    {
     "data": {
      "text/plain": [
       "19"
      ]
     },
     "execution_count": 199,
     "metadata": {},
     "output_type": "execute_result"
    }
   ],
   "source": [
    "# batch[0] is the first sample of the batch; an episode\n",
    "len(batch[0])"
   ]
  },
  {
   "cell_type": "code",
   "execution_count": 200,
   "id": "14aac02e-ff78-4bb3-a653-658fe0334dce",
   "metadata": {},
   "outputs": [],
   "source": [
    "# batch[0][0] is the first timestep of the first episode"
   ]
  },
  {
   "cell_type": "code",
   "execution_count": 201,
   "id": "1541c9ea-f1f9-47c7-a80f-d9a08310112d",
   "metadata": {},
   "outputs": [
    {
     "data": {
      "text/plain": [
       "1"
      ]
     },
     "execution_count": 201,
     "metadata": {},
     "output_type": "execute_result"
    }
   ],
   "source": [
    "torch.tensor([1]).size(0)"
   ]
  },
  {
   "cell_type": "code",
   "execution_count": 202,
   "id": "22a22f04-1333-4b07-9277-6c7ad0d5ff9a",
   "metadata": {},
   "outputs": [
    {
     "data": {
      "text/plain": [
       "[1024, 36, 1, 1, 1]"
      ]
     },
     "execution_count": 202,
     "metadata": {},
     "output_type": "execute_result"
    }
   ],
   "source": [
    "[t.size(0) for t in batch[0][0][0]._asdict().values()]"
   ]
  },
  {
   "cell_type": "code",
   "execution_count": 203,
   "id": "787b4baf-51a5-49ed-8fa8-9056e1e3948b",
   "metadata": {},
   "outputs": [
    {
     "data": {
      "text/plain": [
       "Timestep(text=tensor([  262,  3061, 50256,  ..., 50256, 50256, 50256]), image=tensor([0., 0., 0., 0., 0., 0., 0., 0., 0., 0., 0., 0., 0., 0., 0., 0., 0., 0., 0., 0., 0., 0., 0., 0.,\n",
       "        0., 0., 0., 0., 0., 0., 0., 0., 0., 0., 0., 0.]), discrete=tensor([0], dtype=torch.int32), separator=tensor([91]), action=tensor([0], dtype=torch.int32))"
      ]
     },
     "execution_count": 203,
     "metadata": {},
     "output_type": "execute_result"
    }
   ],
   "source": [
    "batch[0][0][1]"
   ]
  },
  {
   "cell_type": "code",
   "execution_count": 204,
   "id": "283249ff-1176-4c0a-8945-3fda113db68f",
   "metadata": {},
   "outputs": [
    {
     "data": {
      "text/plain": [
       "Timestep(text=tensor([16250,   262,  3061,  ..., 50256, 50256, 50256]), image=tensor([[-0.0011, -0.0011, -0.0011,  ..., -0.2887, -0.2887, -0.2887],\n",
       "        [-0.0011, -0.0011, -0.0011,  ..., -0.2887, -0.2887, -0.2887],\n",
       "        [-0.0011, -0.0962, -0.1981,  ..., -0.2276, -0.1619, -0.0962],\n",
       "        ...,\n",
       "        [-0.2670, -0.2670, -0.2670,  ..., -0.0629, -0.0629, -0.0629],\n",
       "        [-0.2670, -0.2670, -0.2670,  ..., -0.0629, -0.0629, -0.0629],\n",
       "        [-0.2670, -0.2670, -0.2670,  ..., -0.0629, -0.0629, -0.0629]]), discrete=tensor([50257], dtype=torch.int32), separator=tensor([91]), action=tensor([50258], dtype=torch.int32))"
      ]
     },
     "execution_count": 204,
     "metadata": {},
     "output_type": "execute_result"
    }
   ],
   "source": [
    "# batch[0][0][0] is the xs of the first timestep\n",
    "# batch[0][0][1] is the ys\n",
    "#            [2] is the ms\n",
    "batch[0][0][0]"
   ]
  },
  {
   "cell_type": "code",
   "execution_count": 205,
   "id": "e7190849-289e-4b66-a7fa-8e14c5146536",
   "metadata": {},
   "outputs": [
    {
     "data": {
      "text/plain": [
       "torch.Size([36, 48])"
      ]
     },
     "execution_count": 205,
     "metadata": {},
     "output_type": "execute_result"
    }
   ],
   "source": [
    "batch[0][0][0].image.shape"
   ]
  },
  {
   "cell_type": "code",
   "execution_count": null,
   "id": "c68547f8-f97d-4547-86d2-68ac7e553987",
   "metadata": {},
   "outputs": [],
   "source": []
  },
  {
   "cell_type": "code",
   "execution_count": 206,
   "id": "1cf6c052-2f09-4832-add9-95ed8f0802b2",
   "metadata": {},
   "outputs": [],
   "source": [
    "import torch.nn as nn"
   ]
  },
  {
   "cell_type": "code",
   "execution_count": 207,
   "id": "00d46b85-985d-42c3-8221-7f17b21816f9",
   "metadata": {},
   "outputs": [],
   "source": [
    "EMBEDDING_DIM = 432"
   ]
  },
  {
   "cell_type": "code",
   "execution_count": 208,
   "id": "36ced850-2cd1-4270-9246-fac0a3deef91",
   "metadata": {},
   "outputs": [],
   "source": [
    "# From section 2.2 of the Gato paper:\n",
    "#\n",
    "#    Tokens belonging to image patches for any time-step are embedded using a\n",
    "#    single ResNet (He et al., 2016a) block to obtain a vector per patch. For\n",
    "#    image patch token embeddings, we also add a learnable within-image position\n",
    "#    encoding vector.\n",
    "class ResNetV2Block(nn.Module):\n",
    "    def __init__(self, in_channels, out_channels, stride=1, num_groups=24):\n",
    "        super(ResNetV2Block, self).__init__()\n",
    "        self.gn1 = nn.GroupNorm(1, in_channels)\n",
    "        self.gelu = nn.GELU()\n",
    "        self.conv1 = nn.Conv2d(\n",
    "            in_channels,\n",
    "            out_channels,\n",
    "            kernel_size=3,\n",
    "            stride=stride,\n",
    "            padding=1,\n",
    "            bias=False,\n",
    "        )\n",
    "        self.gn2 = nn.GroupNorm(num_groups, out_channels)\n",
    "        self.conv2 = nn.Conv2d(\n",
    "            out_channels, in_channels, kernel_size=3, stride=1, padding=1, bias=False\n",
    "        )\n",
    "\n",
    "    def forward(self, x):\n",
    "        B, T, CHW = x.shape\n",
    "        # TODO: Remove these hardcoded values.\n",
    "        out = rearrange(x, 'b t (c h w) -> (b t) c h w', c=3, h=16)\n",
    "        out = self.gn1(out)\n",
    "        out = self.gelu(out)\n",
    "        out = self.conv1(out)\n",
    "        out = self.gn2(out)\n",
    "        out = self.gelu(out)\n",
    "        out = self.conv2(out)\n",
    "        return x + rearrange(out, '(b t) c h w -> b t (c h w)', b=B, t=T)\n",
    "\n",
    "_image_embedding = ResNetV2Block(3, EMBEDDING_DIM)\n",
    "# This _position_embedding doesn't match exactly what's in the Gato paper.\n",
    "# The gato/policy/embeddings.py file has the exact implementation from the paper.\n",
    "# https://github.com/eihli/NEKO/blob/explore-simplify-dataset-dataloader/gato/policy/embeddings.py#L91"
   ]
  },
  {
   "cell_type": "code",
   "execution_count": 209,
   "id": "a9c65e0d-8b1a-425a-876a-7da25f49460d",
   "metadata": {},
   "outputs": [],
   "source": [
    "def num_patches(patch_size, image_dim):\n",
    "    return (image_dim / patch_size).to(torch.uint8)"
   ]
  },
  {
   "cell_type": "code",
   "execution_count": 119,
   "id": "45a3806d-4d33-4910-b224-234b280f54be",
   "metadata": {},
   "outputs": [],
   "source": [
    "class MiniGato(nn.Module):\n",
    "    def __init__(\n",
    "        self,\n",
    "        sequence_length,\n",
    "        embedding_dims,\n",
    "        vocab_size,\n",
    "        text_tokenizer=None,\n",
    "        patch_size=12,\n",
    "    ):\n",
    "        assert text_tokenizer, \"text_tokenizer is a required arg\"\n",
    "\n",
    "        self.sequence_length = sequence_length\n",
    "        self.embedding_dim = embedding_dims\n",
    "        self.patch_size = patch_size\n",
    "        self.text_tokenizer = text_tokenizer\n",
    "        \n",
    "        self.text_embedding = nn.Embedding(\n",
    "            self.vocab_size,\n",
    "            self.embedding_dim,\n",
    "        )\n",
    "        self.resnet = ResNetV2Block(3, self.embedding_dims)\n",
    "        self.row_embedding = nn.Embedding(128, self.embedding_dim)\n",
    "        self.col_embedding = nn.Embedding(128, self.embedding_dim)\n",
    "        self.timestep_position_embedding = nn.Embedding(512, self.embedding_dim)\n",
    "        self.discrete_embedding = nn.Embedding(\n",
    "            1024,  # Number of discrete bins.\n",
    "            self.embedding_dim,\n",
    "        )\n",
    "        \n",
    "        self.configuration = GPT2Config(\n",
    "            n_layer=2,\n",
    "            n_head=2,\n",
    "            n_embd=self.embedding_dim\n",
    "        )\n",
    "        self.transformer = GPT2Model(configuration)        \n",
    "\n",
    "        self.lm_head = nn.Linear(model.config.hidden_size, _text_tokenizer.vocab_size).to(device)\n",
    "\n",
    "    @property\n",
    "    def vocab_size(self):\n",
    "        return self.text_tokenizer.vocab_size\n",
    "\n",
    "    def embed_text(self, tokens):\n",
    "        return self.text_embedding(tokens)[\"input_ids\"]\n",
    "\n",
    "    def embed_image(self, tokens):\n",
    "        if not tokens:\n",
    "            return torch.tensor()\n",
    "        # [        heights,         widths]\n",
    "        # [[640, 640, 640], [480, 480, 480]]\n",
    "        heights, widths = torch.tensor([[tokens.size(1)], [tokens.size(2)]]).repeat(1, tokens.size(0))\n",
    "        \n",
    "        n_patch_rows, n_patch_cols = n_patch_rows_cols(self.patch_size, self.patch_size, heights, widths)\n",
    "        images_embeddings = []\n",
    "        embeddings = self.resnet(tokens)\n",
    "        for i, token in enumerate(tokens):\n",
    "            row_interval, col_interval = intervals(n_patch_rows[i].item(), n_patch_cols[i].item())\n",
    "            image_embeddings = []\n",
    "            for j in range(image.size(0)):\n",
    "                row_idx, col_idx = patch_position_sample(row_interval, col_interval, j, mode=\"training\")\n",
    "                embeddings[i][j] += _patch_position_row_embedding(row_idx) + _patch_position_col_embedding(col_idx)        \n",
    "        return embed_image(n_patch_rows, n_patch_cols, tokens)\n",
    "\n",
    "    def forward(self, xs):\n",
    "        pass"
   ]
  },
  {
   "cell_type": "code",
   "execution_count": null,
   "id": "69f6351f-388f-4d97-9596-7ee6999547e5",
   "metadata": {},
   "outputs": [],
   "source": [
    "def embed_image(n_patch_rows, n_patch_cols, images):\n",
    "    images_embeddings = []\n",
    "    embeddings = self.resnet(images)\n",
    "    for i, image in enumerate(images):\n",
    "        row_interval, col_interval = intervals(n_patch_rows[i].item(), n_patch_cols[i].item())\n",
    "        image_embeddings = []\n",
    "        for j in range(image.size(0)):\n",
    "            row_idx, col_idx = patch_position_sample(row_interval, col_interval, j, mode=\"training\")\n",
    "            embeddings[i][j] += _patch_position_row_embedding(row_idx) + _patch_position_col_embedding(col_idx)\n",
    "    return embeddings"
   ]
  },
  {
   "cell_type": "code",
   "execution_count": 115,
   "id": "ab476e07-dc4f-44d9-a9c1-1e70154a7634",
   "metadata": {},
   "outputs": [
    {
     "data": {
      "text/plain": [
       "tensor([[640, 640, 640, 640, 640],\n",
       "        [480, 480, 480, 480, 480]])"
      ]
     },
     "execution_count": 115,
     "metadata": {},
     "output_type": "execute_result"
    }
   ],
   "source": [
    "image = torch.ones((4, 640, 480))\n",
    "torch.tensor([[i] for i in image.shape[1:3]]).repeat(1, 5)"
   ]
  },
  {
   "cell_type": "code",
   "execution_count": null,
   "id": "829b3006-c8c2-4e61-a9ca-a7f75138d456",
   "metadata": {},
   "outputs": [],
   "source": []
  },
  {
   "cell_type": "code",
   "execution_count": null,
   "id": "eb865bd6-97c1-409a-b00c-8c404d0fb199",
   "metadata": {},
   "outputs": [],
   "source": []
  },
  {
   "cell_type": "code",
   "execution_count": null,
   "id": "52334dbb-364d-4be8-a465-de89040dcadc",
   "metadata": {},
   "outputs": [],
   "source": []
  },
  {
   "cell_type": "code",
   "execution_count": null,
   "id": "667dce1c-0538-4489-a501-41e71307b5e4",
   "metadata": {},
   "outputs": [],
   "source": []
  },
  {
   "cell_type": "code",
   "execution_count": null,
   "id": "cbf32c1f-b56c-4731-a7a2-d13a5e78c443",
   "metadata": {},
   "outputs": [],
   "source": []
  },
  {
   "cell_type": "code",
   "execution_count": null,
   "id": "5a57bd2b-1079-4837-9ebe-2007d2cc2dc8",
   "metadata": {},
   "outputs": [],
   "source": []
  },
  {
   "cell_type": "code",
   "execution_count": null,
   "id": "ad495396-0e5d-4d06-9909-978a6341471b",
   "metadata": {},
   "outputs": [],
   "source": []
  },
  {
   "cell_type": "code",
   "execution_count": null,
   "id": "df419a35-346f-4ea6-b225-30c36b9bb845",
   "metadata": {},
   "outputs": [],
   "source": []
  },
  {
   "cell_type": "code",
   "execution_count": null,
   "id": "4d3c98be-76b1-449b-b549-3d4663da0d7c",
   "metadata": {},
   "outputs": [],
   "source": []
  }
 ],
 "metadata": {
  "kernelspec": {
   "display_name": "Python 3 (ipykernel)",
   "language": "python",
   "name": "python3"
  },
  "language_info": {
   "codemirror_mode": {
    "name": "ipython",
    "version": 3
   },
   "file_extension": ".py",
   "mimetype": "text/x-python",
   "name": "python",
   "nbconvert_exporter": "python",
   "pygments_lexer": "ipython3",
   "version": "3.12.4"
  }
 },
 "nbformat": 4,
 "nbformat_minor": 5
}
