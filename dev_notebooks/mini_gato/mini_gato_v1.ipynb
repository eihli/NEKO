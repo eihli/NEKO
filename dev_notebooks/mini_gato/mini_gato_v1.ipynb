{
 "cells": [
  {
   "cell_type": "markdown",
   "id": "fd656399-9092-49f2-9367-604bdeccb25c",
   "metadata": {},
   "source": [
    "# MiniGato\n",
    "\n",
    "From the paper [A Generalist Agent](https://arxiv.org/abs/2205.06175).\n",
    "\n",
    "The paper doesn't introduce a new architecture. Instead, the paper is all about tokenizing, embedding, and sequencing data from multiple modalities (text, image, proprioception) in such a way that it can be learned by a transformer.\n",
    "\n",
    "Reproducing the paper is more of a software design exercise than an ML research exercise. How would you structure the data manipulation code – the tokenization, embedding, and sequencing of different modalities – in a way that's correct, easy to understand and extend, and performant?"
   ]
  },
  {
   "cell_type": "markdown",
   "id": "97948900-a02f-44cb-b793-dd8fc1ad85e3",
   "metadata": {},
   "source": [
    "## Imports\n",
    "\n",
    "Just grouping and hiding these to avoid noise."
   ]
  },
  {
   "cell_type": "code",
   "execution_count": 1,
   "id": "4141fa3f-3a9a-4cc7-9b61-743cfc9c1b43",
   "metadata": {},
   "outputs": [
    {
     "data": {
      "text/plain": [
       "<module 'mini_gato.util' from '/home/eihli/src/mini_gato/mini_gato/util.py'>"
      ]
     },
     "execution_count": 1,
     "metadata": {},
     "output_type": "execute_result"
    }
   ],
   "source": [
    "import mini_gato\n",
    "import mini_gato.util\n",
    "import importlib\n",
    "importlib.reload(mini_gato.util)"
   ]
  },
  {
   "cell_type": "code",
   "execution_count": 2,
   "id": "5fa349ff-310a-4f88-83c3-ab28a8e553ef",
   "metadata": {},
   "outputs": [],
   "source": [
    "from collections import OrderedDict\n",
    "from itertools import cycle\n",
    "import math\n",
    "import pdb\n",
    "import random\n",
    "from typing import List\n",
    "from dataclasses import dataclass, fields\n",
    "import datasets\n",
    "from einops import rearrange\n",
    "from functools import partial\n",
    "from mini_gato.nano_gpt import GPT, GPTConfig\n",
    "import numpy as np\n",
    "import matplotlib.pyplot as plt\n",
    "import minari\n",
    "from mini_gato.util import (\n",
    "    tensor_as_gif, TransformDataset,\n",
    "    images_to_patches, patches_to_images, normalize_to_between_minus_one_plus_one,\n",
    "    apply_along_dimension, mu_law_decode, mu_law_encode,\n",
    "    interleave, deinterleave,\n",
    ")\n",
    "import minigrid.core\n",
    "from timm.models.resnetv2 import ResNetV2\n",
    "import tiktoken\n",
    "import torch\n",
    "import torch.nn.functional as F\n",
    "import torchvision.transforms.v2 as transforms\n",
    "from torchvision.transforms.functional import pil_to_tensor\n",
    "from torch.utils.data import Dataset, DataLoader"
   ]
  },
  {
   "cell_type": "code",
   "execution_count": 3,
   "id": "aaea521b-74a2-41ee-8596-39905efc1dec",
   "metadata": {},
   "outputs": [],
   "source": [
    "# Interleave tensors a, b, and c, such that\n",
    "# the result is `[[1, 2, 3, 9, 8, 7, 5, 5, 5, 5], [4, 5, 6, 9, 8, 7, 6, 5, 4, 6, 6, 6, 6], ...]\n",
    "a = torch.tensor([[1, 2, 3], [4, 5, 6]])\n",
    "b = torch.tensor([[9, 8, 7], [6, 5, 4]])\n",
    "c = torch.tensor([[5, 5, 5, 5], [6, 6, 6, 6]])"
   ]
  },
  {
   "cell_type": "markdown",
   "id": "c18a090e-2a37-449a-8309-4046b386a5f2",
   "metadata": {},
   "source": [
    "## Tokenization [§ 2.1](https://arxiv.org/pdf/2205.06175)\n",
    "\n",
    "> There are infinite possible ways to transform data into tokens, including directly using the raw underlying byte stream.\n",
    "\n",
    "We're going to start off with a certain set of tokenization strategies for a certain set of modalities. We might want to expand that in the future. When that happens, I don't want to have to edit code in the PyTorch Module that implements our model code. I'd rather be able to add a new class of modality that implements a \"tokenization\" signature."
   ]
  },
  {
   "cell_type": "markdown",
   "id": "b7ee1280-36d7-4aa3-9155-81b827f25690",
   "metadata": {
    "jp-MarkdownHeadingCollapsed": true
   },
   "source": [
    "#### Example"
   ]
  },
  {
   "cell_type": "code",
   "execution_count": 4,
   "id": "5fba779b-9555-4f69-964a-0f96a9706a0c",
   "metadata": {},
   "outputs": [],
   "source": [
    "four_rooms_dataset = minari.load_dataset('D4RL/minigrid/fourrooms-v0', download=True)"
   ]
  },
  {
   "cell_type": "code",
   "execution_count": 5,
   "id": "e30dcee9-7c75-4e19-afe9-4539444444f2",
   "metadata": {},
   "outputs": [
    {
     "data": {
      "text/plain": [
       "EpisodeData(id=0, total_steps=19, observations={direction: ndarray of shape (20,) and dtype int64, image: ndarray of shape (20, 7, 7, 3) and dtype uint8, mission: ['reach the goal', 'reach the goal', 'reach the goal', 'reach the goal', 'reach the goal', 'reach the goal', 'reach the goal', 'reach the goal', 'reach the goal', 'reach the goal', 'reach the goal', 'reach the goal', 'reach the goal', 'reach the goal', 'reach the goal', 'reach the goal', 'reach the goal', 'reach the goal', 'reach the goal', 'reach the goal']}, actions=ndarray of shape (19,) and dtype int64, rewards=ndarray of 19 floats, terminations=ndarray of 19 bools, truncations=ndarray of 19 bools, infos=dict with the following keys: [])"
      ]
     },
     "execution_count": 5,
     "metadata": {},
     "output_type": "execute_result"
    }
   ],
   "source": [
    "four_rooms_dataset[0]"
   ]
  },
  {
   "cell_type": "markdown",
   "id": "1df34524-18e2-44fe-92fe-02089ce1fe95",
   "metadata": {},
   "source": [
    "## Modality"
   ]
  },
  {
   "cell_type": "code",
   "execution_count": 6,
   "id": "0de9fd68-6189-47c7-badd-1789ef1af85a",
   "metadata": {},
   "outputs": [],
   "source": [
    "@dataclass\n",
    "class Modality:\n",
    "    origin: any\n",
    "    tokens: torch.Tensor\n",
    "    targets: torch.Tensor\n",
    "    attention_mask: torch.Tensor\n",
    "    embeddings: torch.Tensor = torch.tensor([])\n",
    "\n",
    "    def __repr__(self):\n",
    "        return f\"{type(self).__name__}(\\n\\t{self.origin!r}\\n\\t{self.tokens!r}\\n\\t{self.targets!r}\\n\\t{self.attention_mask!r}\\n\\t{self.embeddings!r}\\n)\"\n",
    "        \n",
    "    def size(self, *args, **kwargs):\n",
    "        return self.tokens.size(*args, **kwargs)\n",
    "\n",
    "    def to(self, device):\n",
    "        \"\"\"Return new instance of class with all fields moved to device.\"\"\"\n",
    "        return type(self)(\n",
    "            tokens=type(self.tokens)(self.tokens.to(device)),\n",
    "            targets=type(self.targets)(self.targets.to(device)),\n",
    "            attention_mask=type(self.attention_mask)(self.attention_mask.to(device)),\n",
    "            embeddings=type(self.embeddings)(self.embeddings.to(device)),\n",
    "        )\n",
    "\n",
    "    def clone(self):\n",
    "        return type(self)(\n",
    "            tokens=type(self.tokens)(self.tokens.clone()),\n",
    "            targets=type(self.targets)(self.targets.clone()),\n",
    "            attention_mask=type(self.attention_mask)(self.attention_mask.clone()),\n",
    "            embeddings=type(self.embeddings)(self.embeddings.clone()),\n",
    "        )"
   ]
  },
  {
   "cell_type": "code",
   "execution_count": 7,
   "id": "14e0d978-ee42-474a-9d5e-c99b98066dd9",
   "metadata": {},
   "outputs": [
    {
     "data": {
      "text/plain": [
       "Modality(\n",
       "\t'foo'\n",
       "\ttensor(1)\n",
       "\ttensor(2)\n",
       "\ttensor(3)\n",
       "\ttensor([])\n",
       ")"
      ]
     },
     "execution_count": 7,
     "metadata": {},
     "output_type": "execute_result"
    }
   ],
   "source": [
    "Modality('foo', torch.tensor(1), torch.tensor(2), torch.tensor(3))"
   ]
  },
  {
   "cell_type": "markdown",
   "id": "49984121-a615-4851-abb9-bb8f8e2ed906",
   "metadata": {},
   "source": [
    "## Series"
   ]
  },
  {
   "cell_type": "code",
   "execution_count": 8,
   "id": "d25e4b36-f436-462a-ade7-ea6a9195bca1",
   "metadata": {},
   "outputs": [],
   "source": [
    "@dataclass\n",
    "class Series:\n",
    "    def __len__(self):\n",
    "        #       number of episodes * number of tokens per episode\n",
    "        return sum(getattr(self, field.name).tokens.size(0) * getattr(self, field.name).tokens.size(1) for field in fields(self))\n",
    "\n",
    "    def n_modalities(self):\n",
    "        return len(fields(self))\n",
    "\n",
    "@dataclass\n",
    "class FourRoomsSeries(Series):\n",
    "    mission: Modality\n",
    "    direction: Modality\n",
    "    image: Modality\n",
    "    action: Modality\n",
    "\n",
    "@dataclass\n",
    "class GenericVQASeries(Series):\n",
    "    question: Modality\n",
    "    image: Modality\n",
    "    answer: Modality\n",
    "\n",
    "@dataclass\n",
    "class GenericTextSeries(Series):\n",
    "    text: Modality"
   ]
  },
  {
   "cell_type": "markdown",
   "id": "4451e2df-6d24-48ca-b235-b9b47f4354e9",
   "metadata": {},
   "source": [
    "Sweet. Now we can index into a series as if it were sequenced."
   ]
  },
  {
   "cell_type": "markdown",
   "id": "54865902-afdd-4350-ad97-b153f800ac8e",
   "metadata": {},
   "source": [
    "## Tokenization"
   ]
  },
  {
   "cell_type": "code",
   "execution_count": 9,
   "id": "a737e1f2-e731-4ac0-a333-50712ef1b8dd",
   "metadata": {},
   "outputs": [],
   "source": [
    "from collections import defaultdict"
   ]
  },
  {
   "cell_type": "code",
   "execution_count": null,
   "id": "212772e6-aa62-4f51-b04b-42d4c5c59638",
   "metadata": {},
   "outputs": [],
   "source": []
  },
  {
   "cell_type": "code",
   "execution_count": 10,
   "id": "35c86484-c423-4e61-b446-86155403984b",
   "metadata": {},
   "outputs": [],
   "source": [
    "def pad_tokens(batch, padding_value=0):\n",
    "    padded = defaultdict(list)    \n",
    "    for k, v in batch[0].items():\n",
    "        max_tokens = max([sample[k].size(1) for sample in batch])\n",
    "        for sample in batch:\n",
    "            if len(sample[k].shape) == 2:\n",
    "                pad = (0, max_tokens - sample[k].size(1), 0, 0)\n",
    "            else:\n",
    "                pad = (0, 0, 0, max_tokens - sample[k].size(1), 0, 0)\n",
    "            padded[k].append(F.pad(sample[k], pad, value=0))\n",
    "    results = []\n",
    "    for _ in range(len(batch)):\n",
    "        results.append({})\n",
    "    for k, vs in padded.items():\n",
    "        for i in range(len(batch)):               \n",
    "            results[i][k] = padded[k][i]\n",
    "    return results\n",
    "\n",
    "def pad_sequence(batch, sequence_length=1024, padding_value=0):\n",
    "    padded = defaultdict(list)\n",
    "    for k, v in batch[0].items():\n",
    "        for sample in batch:\n",
    "            if len(sample[k].shape) == 2:\n",
    "                pad = (0, 0, 0, sequence_length - sample[k].size(0))\n",
    "            else:\n",
    "                pad = (0, 0, 0, 0, 0, sequence_length - sample[k].size(0))\n",
    "            padded[k].append(F.pad(sample[k], pad, value=0))\n",
    "    results = []\n",
    "    for _ in range(len(batch)):\n",
    "        results.append({})\n",
    "    for k, vs in padded.items():\n",
    "        for i in range(len(batch)):\n",
    "            results[i][k] = padded[k][i]\n",
    "    return results\n",
    "\n",
    "def mask(batch):\n",
    "    if len(batch) == 0:\n",
    "        return []\n",
    "    result = {}\n",
    "    for k, v in batch[0].items():\n",
    "        n_episodes = [sample[k].size(0) for sample in batch]\n",
    "        n_tokens = [sample[k].size(1) for sample in batch]\n",
    "        result[k] = torch.zeros(len(batch), max(n_episodes), max(n_tokens))\n",
    "        for i in range(result[k].size(0)):\n",
    "            result[k][i][:n_episodes[i], :n_tokens[i]] = 1\n",
    "    return result\n",
    "\n",
    "batch = [\n",
    "    {\n",
    "        'mission': torch.arange(2*3).view(2, 3),\n",
    "        'image': torch.randn(2*7*7*3).view(2, 7, 7, 3),\n",
    "    },\n",
    "    {\n",
    "        'mission': torch.arange(3*4).view(3, 4),\n",
    "        'image': torch.randn(2*7*7*3).view(2, 7, 7, 3),\n",
    "    },\n",
    "]\n",
    "\n",
    "padded = pad_tokens(batch)\n",
    "padded = pad_sequence(padded, sequence_length=3)\n",
    "masked = mask(batch)"
   ]
  },
  {
   "cell_type": "code",
   "execution_count": 11,
   "id": "e9c096f3-77c0-469a-ac06-d00a1924a210",
   "metadata": {},
   "outputs": [
    {
     "data": {
      "text/plain": [
       "([tensor([[0, 1, 2, 0],\n",
       "          [3, 4, 5, 0],\n",
       "          [0, 0, 0, 0]]),\n",
       "  tensor([[ 0,  1,  2,  3],\n",
       "          [ 4,  5,  6,  7],\n",
       "          [ 8,  9, 10, 11]])],\n",
       " {'mission': tensor([[[1., 1., 1., 0.],\n",
       "           [1., 1., 1., 0.],\n",
       "           [0., 0., 0., 0.]],\n",
       "  \n",
       "          [[1., 1., 1., 1.],\n",
       "           [1., 1., 1., 1.],\n",
       "           [1., 1., 1., 1.]]]),\n",
       "  'image': tensor([[[1., 1., 1., 1., 1., 1., 1.],\n",
       "           [1., 1., 1., 1., 1., 1., 1.]],\n",
       "  \n",
       "          [[1., 1., 1., 1., 1., 1., 1.],\n",
       "           [1., 1., 1., 1., 1., 1., 1.]]])})"
      ]
     },
     "execution_count": 11,
     "metadata": {},
     "output_type": "execute_result"
    }
   ],
   "source": [
    "[p['mission'] for p in padded], masked"
   ]
  },
  {
   "cell_type": "code",
   "execution_count": 12,
   "id": "ac918986-75da-4d73-b1a9-14d22fd38f6a",
   "metadata": {},
   "outputs": [
    {
     "data": {
      "text/plain": [
       "dict_keys(['mission', 'image'])"
      ]
     },
     "execution_count": 12,
     "metadata": {},
     "output_type": "execute_result"
    }
   ],
   "source": [
    "padded[0].keys()"
   ]
  },
  {
   "cell_type": "code",
   "execution_count": 13,
   "id": "1ff89060-18a8-44f1-94cb-ab87d72d90e3",
   "metadata": {},
   "outputs": [],
   "source": [
    "class Tokenizer:\n",
    "    TEXT = 0\n",
    "    IMAGE = 1\n",
    "    DISCRETE = 2\n",
    "    CONTINUOUS = 3\n",
    "\n",
    "    def __init__(self, text_tokenizer):\n",
    "        self.text_tokenizer = text_tokenizer\n",
    "        self.n_text = text_tokenizer.n_vocab\n",
    "        self.n_discrete = 1024\n",
    "        self.eod_token = 1023\n",
    "        self.n_modalities = 1024\n",
    "        self.modalities = torch.arange(self.n_modalities) + self.n_text + self.n_discrete\n",
    "\n",
    "    def encode_text(self, text):\n",
    "        return self.modalities[self.TEXT].unsqueeze(0), torch.tensor(self.text_tokenizer.encode(text))\n",
    "\n",
    "    def decode_text(self, tokens):\n",
    "        if isinstance(tokens, torch.Tensor):\n",
    "            tokens = tokens.tolist()\n",
    "        return self.text_tokenizer.decode(tokens)\n",
    "\n",
    "    def encode_discrete(self, discrete):\n",
    "        return self.modalities[self.DISCRETE].unsqueeze(0), torch.tensor([discrete + self.n_text])\n",
    "\n",
    "    def decode_discrete(self, tokens):\n",
    "        if isinstance(tokens, torch.Tensor):\n",
    "            tokens = tokens.tolist()\n",
    "        return tokens - self.n_text\n",
    "\n",
    "    def encode_image(self, image, patch_size=16):\n",
    "        patches = images_to_patches(image, patch_size=patch_size)\n",
    "        xs = (\n",
    "            apply_along_dimension(\n",
    "                normalize_to_between_minus_one_plus_one, 1, patches\n",
    "            )\n",
    "            / math.sqrt(patch_size)\n",
    "        )\n",
    "        return self.modalities[self.IMAGE].unsqueeze(0), xs\n",
    "\n",
    "    def decode_image(self, tokens, image_shape=(3, 192, 192), patch_size=16):\n",
    "        # Lossy because I'm not saving the values used for scaling from encoding.\n",
    "        patches = (tokens * math.sqrt(patch_size) + 1) / 2\n",
    "        images = patches_to_images(patches, image_shape, patch_size=patch_size)\n",
    "        return images\n",
    "\n",
    "    def is_text(self, cls):\n",
    "        return (cls[cls.nonzero(as_tuple=True)] == self.modalities[self.TEXT]).all().item()\n",
    "\n",
    "    def is_image(self, cls):\n",
    "        return (cls[cls.nonzero(as_tuple=True)] == self.modalities[self.IMAGE]).all().item()\n",
    "\n",
    "    def is_discrete(self, cls):\n",
    "        return (cls[cls.nonzero(as_tuple=True)] == self.modalities[self.DISCRETE]).all().item()\n",
    "\n",
    "    def is_continuous(self, cls):\n",
    "        return (cls[cls.nonzero(as_tuple=True)] == self.modalities[self.CONTINUOUS]).all().item()\n",
    "    "
   ]
  },
  {
   "cell_type": "code",
   "execution_count": 14,
   "id": "6ac5c589-0c40-4bc5-b02a-27738cf7b013",
   "metadata": {},
   "outputs": [],
   "source": [
    "text_encoding = tiktoken.get_encoding(\"r50k_base\")\n",
    "tokenizer = Tokenizer(text_encoding)"
   ]
  },
  {
   "cell_type": "code",
   "execution_count": 15,
   "id": "cd204d29-7e05-40be-9ad2-cad8a9779bb8",
   "metadata": {},
   "outputs": [
    {
     "data": {
      "text/plain": [
       "(tensor([51281]), tensor([31373,    11,   995]))"
      ]
     },
     "execution_count": 15,
     "metadata": {},
     "output_type": "execute_result"
    }
   ],
   "source": [
    "tokenizer.encode_text('hello, world')"
   ]
  },
  {
   "cell_type": "markdown",
   "id": "9272cdba-f197-4712-ab28-05c983e086da",
   "metadata": {},
   "source": [
    "## Image prep"
   ]
  },
  {
   "cell_type": "code",
   "execution_count": 16,
   "id": "fc34a82f-ba64-410a-800a-de6a65db3871",
   "metadata": {},
   "outputs": [],
   "source": [
    "normalize = transforms.Normalize([0.485, 0.456, 0.406], [0.229, 0.224, 0.225])\n",
    "denormalize = transforms.Normalize([-0.485/0.229, -0.456/0.224, -0.406/0.255], [1/0.229, 1/0.224, 1/0.225])"
   ]
  },
  {
   "cell_type": "code",
   "execution_count": 17,
   "id": "d1924e6c-607b-4d5a-b693-35ce0e2f10d1",
   "metadata": {},
   "outputs": [],
   "source": [
    "image_transform = transforms.Compose([\n",
    "    transforms.ToDtype(torch.float32, scale=True),\n",
    "    transforms.RandomResizedCrop((192, 192), (1.0, 1.0)),\n",
    "    normalize,\n",
    "])"
   ]
  },
  {
   "cell_type": "markdown",
   "id": "02973743-11b0-4593-9f33-7d0077277313",
   "metadata": {},
   "source": [
    "## Datasets"
   ]
  },
  {
   "cell_type": "code",
   "execution_count": 18,
   "id": "24715654-820c-4db1-8b73-fd102b594895",
   "metadata": {},
   "outputs": [],
   "source": [
    "SEQUENCE_LENGTH = 1024"
   ]
  },
  {
   "cell_type": "code",
   "execution_count": 19,
   "id": "aba306aa-2745-4b8e-9aac-586da899fd52",
   "metadata": {
    "scrolled": true
   },
   "outputs": [],
   "source": [
    "def episode_num_tokens(sample):\n",
    "    return sum([len(v[0]) for v in sample.values()])\n",
    "\n",
    "def sample_num_tokens(sample):\n",
    "    return episode_num_tokens(sample) * next(iter(sample.values())).size(0)\n",
    "\n",
    "def sequence_episode_capacity(sequence_length, sample):\n",
    "    return sequence_length // episode_num_tokens(sample)\n",
    "\n",
    "def random_episode_start_index(sequence_length, sample):\n",
    "    cap = sequence_episode_capacity(sequence_length, sample)\n",
    "    return random.randint(0, cap)\n",
    "\n",
    "def slice_to_context_window(sequence_length, sample):\n",
    "    result = OrderedDict()\n",
    "    n = random_episode_start_index(1024, sample)\n",
    "    m = sequence_episode_capacity(1024, sample)\n",
    "    for k in sample.keys():\n",
    "        result[k] = sample[k][n:n+m]\n",
    "    return result"
   ]
  },
  {
   "cell_type": "code",
   "execution_count": 20,
   "id": "70261b39-379e-4485-8da0-b89a641f59b4",
   "metadata": {},
   "outputs": [],
   "source": [
    "four_rooms_dataset = minari.load_dataset('D4RL/minigrid/fourrooms-v0', download=True)"
   ]
  },
  {
   "cell_type": "code",
   "execution_count": 21,
   "id": "21b926cf-2990-430e-a1cd-27a4c86d65e6",
   "metadata": {},
   "outputs": [],
   "source": [
    "# Some FourRooms/Minigrid-specific stuff to turn\n",
    "# a 7x7x3 non-pixel observation into an pixel/image observation.\n",
    "lut = np.zeros((256, 3), dtype=np.uint8)\n",
    "for idx, color_name in minigrid.core.constants.IDX_TO_COLOR.items():\n",
    "    lut[idx] = minigrid.core.constants.COLORS[color_name]\n",
    "\n",
    "def four_rooms_to_rgb(images):\n",
    "    \"\"\"Convert discrete \"image\" observations into actual images.\n",
    "    I'm expecting this will improve our image modality while not losing\n",
    "    much. The downside is we can fit less in our context window. Note:\n",
    "    We might need to overlay the color/type image (index 1) with the\n",
    "    state image (index 2), if we really don't want to lose any info.\"\"\"\n",
    "    # Apply lookup to second channel\n",
    "    return torch.from_numpy(lut[images[:, :, :, 1]]).permute(0, 3, 1, 2)    \n",
    "\n",
    "def tokenize_four_rooms(tokenizer, episode):\n",
    "    mission_cls, mission_tokens = zip(*[tokenizer.encode_text(mission) for mission in episode.observations[\"mission\"]])\n",
    "    direction_cls, direction_tokens = zip(*[tokenizer.encode_discrete(direction) for direction in episode.observations[\"direction\"]])\n",
    "    image = episode.observations[\"image\"]\n",
    "    image = four_rooms_to_rgb(image)\n",
    "    image_cls, image_tokens = zip(*[tokenizer.encode_image(image) for image in image_transform(image)])\n",
    "    action_cls, action_tokens = zip(*[tokenizer.encode_discrete(action) for action in episode.actions])\n",
    "    return OrderedDict({\n",
    "        'mission_cls': torch.stack(mission_cls[:-1]),\n",
    "        'mission': torch.stack(mission_tokens[:-1]),\n",
    "        'direction_cls': torch.stack(direction_cls[:-1]),\n",
    "        'direction': torch.stack(direction_tokens[:-1]), \n",
    "        'image_cls': torch.stack(image_cls[:-1]),\n",
    "        'image': torch.stack(image_tokens[:-1]),\n",
    "        'action_cls': torch.stack(action_cls),\n",
    "        'action': torch.stack(action_tokens),\n",
    "    })\n",
    "\n",
    "def four_rooms_collate_fn(batch, sequence_length=1024):\n",
    "    batch = [slice_to_context_window(sequence_length, sample) for sample in batch]\n",
    "    padded = pad_tokens(batch)\n",
    "    padded = pad_sequence(batch, sequence_length=sequence_length)\n",
    "    masked = mask(batch)\n",
    "    return padded, masked"
   ]
  },
  {
   "cell_type": "code",
   "execution_count": 22,
   "id": "aad30864-a91b-4726-8186-37d99bb92954",
   "metadata": {},
   "outputs": [],
   "source": [
    "four_rooms_dataset_xf = TransformDataset(four_rooms_dataset, partial(tokenize_four_rooms, tokenizer))"
   ]
  },
  {
   "cell_type": "code",
   "execution_count": 23,
   "id": "121402db-0355-4657-9fc8-9be73c948bf7",
   "metadata": {},
   "outputs": [],
   "source": [
    "vqa_dataset = datasets.load_dataset(\"eihli/micro-ok-vqa\")"
   ]
  },
  {
   "cell_type": "code",
   "execution_count": 24,
   "id": "410faccd-2bd2-4f29-ad8c-eb88b0d36687",
   "metadata": {},
   "outputs": [],
   "source": [
    "img = image_transform(pil_to_tensor(vqa_dataset['train'][0]['image']))"
   ]
  },
  {
   "cell_type": "code",
   "execution_count": 25,
   "id": "b7601da4-8c53-44b1-90fc-2e7fca88d272",
   "metadata": {},
   "outputs": [],
   "source": [
    "image_cls, image_tokens = zip(*[tokenizer.encode_image(image) for image in [img, img]])"
   ]
  },
  {
   "cell_type": "code",
   "execution_count": 26,
   "id": "e74a50d1-5d63-4458-aa7b-52f65612f5f7",
   "metadata": {},
   "outputs": [
    {
     "data": {
      "text/plain": [
       "(tensor([[51282],\n",
       "         [51282]]),\n",
       " torch.Size([2, 144, 768]))"
      ]
     },
     "execution_count": 26,
     "metadata": {},
     "output_type": "execute_result"
    }
   ],
   "source": [
    "torch.stack(image_cls), torch.stack(image_tokens).shape"
   ]
  },
  {
   "cell_type": "code",
   "execution_count": 27,
   "id": "5281d651-6869-41b3-8525-d5bcd6529484",
   "metadata": {},
   "outputs": [
    {
     "data": {
      "text/plain": [
       "torch.Size([19, 1])"
      ]
     },
     "execution_count": 27,
     "metadata": {},
     "output_type": "execute_result"
    }
   ],
   "source": [
    "four_rooms_dataset_xf[0]['image_cls'].shape"
   ]
  },
  {
   "cell_type": "code",
   "execution_count": 28,
   "id": "8d24dbe7-5600-4081-aa8e-72f2a8c2f3af",
   "metadata": {},
   "outputs": [
    {
     "data": {
      "text/plain": [
       "torch.Size([19, 3])"
      ]
     },
     "execution_count": 28,
     "metadata": {},
     "output_type": "execute_result"
    }
   ],
   "source": [
    "four_rooms_dataset_xf[0]['mission'].shape"
   ]
  },
  {
   "cell_type": "code",
   "execution_count": 29,
   "id": "3e446e4c-bacf-432f-af49-cd95c2a9b26a",
   "metadata": {},
   "outputs": [],
   "source": [
    "batch = [four_rooms_dataset_xf[i] for i in range(4)]"
   ]
  },
  {
   "cell_type": "code",
   "execution_count": 30,
   "id": "baea1915-4634-4786-8d0d-f67d97d11b4d",
   "metadata": {},
   "outputs": [
    {
     "data": {
      "text/plain": [
       "(torch.Size([4, 6, 144]), torch.Size([4, 6, 1]))"
      ]
     },
     "execution_count": 30,
     "metadata": {},
     "output_type": "execute_result"
    }
   ],
   "source": [
    "four_rooms_collate_fn(batch)[1]['image'].shape, four_rooms_collate_fn(batch)[1]['direction_cls'].shape"
   ]
  },
  {
   "cell_type": "code",
   "execution_count": 31,
   "id": "cd95cf01-15e9-4073-8e86-cc47bc521076",
   "metadata": {},
   "outputs": [],
   "source": [
    "batch = four_rooms_collate_fn(batch)"
   ]
  },
  {
   "cell_type": "code",
   "execution_count": 80,
   "id": "1032c9ea-7df5-45a5-ba04-40da28d5d1bf",
   "metadata": {},
   "outputs": [
    {
     "data": {
      "text/plain": [
       "torch.Size([1024, 3])"
      ]
     },
     "execution_count": 80,
     "metadata": {},
     "output_type": "execute_result"
    }
   ],
   "source": [
    "batch[0][0]['mission'].shape"
   ]
  },
  {
   "cell_type": "code",
   "execution_count": 33,
   "id": "6a60f06c-0a12-47fc-9e13-5cd1974519ff",
   "metadata": {},
   "outputs": [
    {
     "data": {
      "image/png": "[encoded data removed]",
      "text/plain": [
       "<Figure size 1200x400 with 8 Axes>"
      ]
     },
     "metadata": {},
     "output_type": "display_data"
    }
   ],
   "source": [
    "fig, axs = plt.subplots(2, 4, figsize=(12, 4))\n",
    "for i in range(2):\n",
    "    for j in range(4):\n",
    "        axs[i][j].imshow(four_rooms_to_rgb(four_rooms_dataset[0].observations['image'][[i*4+j]])[0].permute(1, 2, 0))"
   ]
  },
  {
   "cell_type": "code",
   "execution_count": 34,
   "id": "cf45156b-f8c1-4f40-9366-4587c2fe5999",
   "metadata": {},
   "outputs": [
    {
     "data": {
      "text/plain": [
       "(1, 7, 7, 3)"
      ]
     },
     "execution_count": 34,
     "metadata": {},
     "output_type": "execute_result"
    }
   ],
   "source": [
    "four_rooms_dataset[0].observations['image'][[i]].shape"
   ]
  },
  {
   "cell_type": "code",
   "execution_count": 35,
   "id": "e1e58a39-7146-4705-94a0-441497cdd045",
   "metadata": {},
   "outputs": [
    {
     "data": {
      "text/plain": [
       "<matplotlib.image.AxesImage at 0x774ff2e92840>"
      ]
     },
     "execution_count": 35,
     "metadata": {},
     "output_type": "execute_result"
    },
    {
     "data": {
      "image/png": "[encoded data removed]",
      "text/plain": [
       "<Figure size 640x480 with 1 Axes>"
      ]
     },
     "metadata": {},
     "output_type": "display_data"
    }
   ],
   "source": [
    "patches = four_rooms_dataset_xf[0]['image']\n",
    "plt.imshow(tokenizer.decode_image(patches).permute(0, 2, 3, 1)[4])"
   ]
  },
  {
   "cell_type": "code",
   "execution_count": 36,
   "id": "6a2c166d-d723-42e4-a9e0-8bbdcec3cb75",
   "metadata": {},
   "outputs": [],
   "source": [
    "patches = four_rooms_dataset_xf[0]['image']\n",
    "tokenizer.decode_image(patches);"
   ]
  },
  {
   "cell_type": "code",
   "execution_count": 37,
   "id": "78e50117-984f-437f-83a7-3060e4937e39",
   "metadata": {},
   "outputs": [],
   "source": [
    "B, T, C = four_rooms_dataset_xf[0]['image'].shape"
   ]
  },
  {
   "cell_type": "code",
   "execution_count": 38,
   "id": "4b1cc8e2-4bae-457d-8557-a3166d07857e",
   "metadata": {},
   "outputs": [
    {
     "data": {
      "text/plain": [
       "torch.Size([19, 144, 3, 16, 16])"
      ]
     },
     "execution_count": 38,
     "metadata": {},
     "output_type": "execute_result"
    }
   ],
   "source": [
    "four_rooms_dataset_xf[0]['image'].reshape(B, T, 3, 16, 16).shape"
   ]
  },
  {
   "cell_type": "code",
   "execution_count": 39,
   "id": "51406ceb-f3cc-4231-9895-f3fd2cbb24e7",
   "metadata": {},
   "outputs": [
    {
     "data": {
      "text/plain": [
       "torch.Size([19, 3, 192, 192])"
      ]
     },
     "execution_count": 39,
     "metadata": {},
     "output_type": "execute_result"
    }
   ],
   "source": [
    "tokenizer.decode_image(four_rooms_dataset_xf[0]['image']).shape"
   ]
  },
  {
   "cell_type": "markdown",
   "id": "2972cc9d-02a1-4f26-8388-937bae3a3d9b",
   "metadata": {},
   "source": [
    "# Demo"
   ]
  },
  {
   "cell_type": "code",
   "execution_count": 40,
   "id": "82f55f8a-839d-4475-90e2-509770b2fa44",
   "metadata": {},
   "outputs": [
    {
     "data": {
      "text/plain": [
       "(20, 7, 7, 3)"
      ]
     },
     "execution_count": 40,
     "metadata": {},
     "output_type": "execute_result"
    }
   ],
   "source": [
    "four_rooms_dataset[0].observations['image'].shape\n",
    "# 20 \"episodes\" (or \"steps\" that the robot took to complete the task)\n",
    "# 7x7 grid of vision at each step\n",
    "# 3 \"channels\". NOT RGB. (object_type, object_color, object_state)"
   ]
  },
  {
   "cell_type": "code",
   "execution_count": 41,
   "id": "9071db0e-3f26-49d3-9c92-9339585d2d48",
   "metadata": {},
   "outputs": [
    {
     "data": {
      "text/plain": [
       "(torch.Size([20, 3, 7, 7]),\n",
       " tensor([[[255, 255, 255, 100, 255, 255, 255],\n",
       "          [255, 255, 255, 100, 255, 255, 255],\n",
       "          [255, 255, 255, 100, 255, 255, 255],\n",
       "          [255, 255, 255, 100, 255, 255, 255],\n",
       "          [255, 255, 255, 100, 255, 255, 255],\n",
       "          [255, 255, 255, 255, 255, 255, 255],\n",
       "          [100, 100, 100, 100, 100, 100, 100]],\n",
       " \n",
       "         [[  0,   0,   0, 100,   0,   0,   0],\n",
       "          [  0,   0,   0, 100,   0,   0,   0],\n",
       "          [  0,   0,   0, 100,   0,   0,   0],\n",
       "          [  0,   0,   0, 100,   0,   0,   0],\n",
       "          [  0,   0,   0, 100,   0,   0,   0],\n",
       "          [  0,   0,   0,   0,   0,   0,   0],\n",
       "          [100, 100, 100, 100, 100, 100, 100]],\n",
       " \n",
       "         [[  0,   0,   0, 100,   0,   0,   0],\n",
       "          [  0,   0,   0, 100,   0,   0,   0],\n",
       "          [  0,   0,   0, 100,   0,   0,   0],\n",
       "          [  0,   0,   0, 100,   0,   0,   0],\n",
       "          [  0,   0,   0, 100,   0,   0,   0],\n",
       "          [  0,   0,   0,   0,   0,   0,   0],\n",
       "          [100, 100, 100, 100, 100, 100, 100]]], dtype=torch.uint8))"
      ]
     },
     "execution_count": 41,
     "metadata": {},
     "output_type": "execute_result"
    }
   ],
   "source": [
    "images = four_rooms_to_rgb(four_rooms_dataset[0].observations['image'])\n",
    "images.shape, images[0]"
   ]
  },
  {
   "cell_type": "code",
   "execution_count": 42,
   "id": "e7b2ced7-fca8-4efb-be0d-25a319202446",
   "metadata": {},
   "outputs": [
    {
     "data": {
      "text/plain": [
       "<matplotlib.image.AxesImage at 0x774ff2e90c20>"
      ]
     },
     "execution_count": 42,
     "metadata": {},
     "output_type": "execute_result"
    },
    {
     "data": {
      "image/png": "[encoded data removed]",
      "text/plain": [
       "<Figure size 640x480 with 1 Axes>"
      ]
     },
     "metadata": {},
     "output_type": "display_data"
    }
   ],
   "source": [
    "plt.imshow(images[0].permute(1, 2, 0))"
   ]
  },
  {
   "cell_type": "code",
   "execution_count": 43,
   "id": "1a011664-4cab-47b3-a28e-1f02cfb2232c",
   "metadata": {},
   "outputs": [],
   "source": [
    "from PIL import Image\n",
    "from IPython.display import display, Image as IPythonImage"
   ]
  },
  {
   "cell_type": "code",
   "execution_count": 44,
   "id": "3e318168-7b12-4537-b411-50f122190398",
   "metadata": {},
   "outputs": [
    {
     "data": {
      "text/plain": [
       "[<PIL.Image.Image image mode=RGB size=7x7>,\n",
       " <PIL.Image.Image image mode=RGB size=7x7>,\n",
       " <PIL.Image.Image image mode=RGB size=7x7>]"
      ]
     },
     "execution_count": 44,
     "metadata": {},
     "output_type": "execute_result"
    }
   ],
   "source": [
    "# Converting them to PIL Images gives us a convenient way to save the images as a GIF.\n",
    "images = four_rooms_to_rgb(four_rooms_dataset[0].observations['image'])\n",
    "images = images.permute(0, 2, 3, 1).numpy()\n",
    "images = [Image.fromarray(image) for image in images]\n",
    "images[:3]"
   ]
  },
  {
   "cell_type": "code",
   "execution_count": 45,
   "id": "50117a3f-f7ba-40a0-9d55-f82c5e933496",
   "metadata": {},
   "outputs": [],
   "source": [
    "# And when you think \"save as\" you usually think \"files\".\n",
    "with open(\"/tmp/foo.gif\", \"wb\") as f:\n",
    "    images[0].save(\n",
    "        f,\n",
    "        format='GIF',\n",
    "        save_all=True,\n",
    "        append_images=images[1:],\n",
    "        duration=200,\n",
    "        loop=0,\n",
    "    )"
   ]
  },
  {
   "cell_type": "code",
   "execution_count": 46,
   "id": "8cf566be-22c3-4107-842a-ee8f56a86e96",
   "metadata": {},
   "outputs": [],
   "source": [
    "# And that usually means making things OS-agnostic.\n",
    "import os\n",
    "import tempfile\n",
    "temp_dir = tempfile.gettempdir()\n",
    "temp_file_path = os.path.join(temp_dir, 'foo.gif')\n",
    "with open(temp_file_path, \"wb\") as f:\n",
    "    images[0].save(\n",
    "        f,\n",
    "        format='GIF',\n",
    "        save_all=True,\n",
    "        append_images=images[1:],\n",
    "        duration=200,\n",
    "        loop=0,\n",
    "    )"
   ]
  },
  {
   "cell_type": "code",
   "execution_count": 47,
   "id": "f52253c3-2cfb-404e-bde0-c7e99c505513",
   "metadata": {},
   "outputs": [
    {
     "data": {
      "image/png": "[encoded data removed]",
      "text/plain": [
       "<IPython.core.display.Image object>"
      ]
     },
     "metadata": {},
     "output_type": "display_data"
    }
   ],
   "source": [
    "with open(\"/tmp/foo.gif\", \"rb\") as f:\n",
    "    display(IPythonImage(f.read()))"
   ]
  },
  {
   "cell_type": "code",
   "execution_count": 48,
   "id": "5d3a9679-de4a-4775-89c5-15da5452b175",
   "metadata": {},
   "outputs": [
    {
     "data": {
      "image/png": "[encoded data removed]",
      "text/plain": [
       "<IPython.core.display.Image object>"
      ]
     },
     "metadata": {
      "image/png": {
       "height": 192,
       "width": 192
      }
     },
     "output_type": "display_data"
    }
   ],
   "source": [
    "with open(\"/tmp/foo.gif\", \"rb\") as f:\n",
    "    display(IPythonImage(f.read(), width=192, height=192))"
   ]
  },
  {
   "cell_type": "code",
   "execution_count": 49,
   "id": "4919980d-071d-4e95-a76e-8fe1370de01c",
   "metadata": {},
   "outputs": [
    {
     "data": {
      "image/png": "[encoded data removed]",
      "text/plain": [
       "<IPython.core.display.Image object>"
      ]
     },
     "metadata": {
      "image/png": {
       "height": 192,
       "width": 192
      }
     },
     "output_type": "display_data"
    }
   ],
   "source": [
    "import io\n",
    "# But there's a better way!\n",
    "buffer = io.BytesIO()\n",
    "images[0].save(\n",
    "    buffer,\n",
    "    format='GIF',\n",
    "    save_all=True,\n",
    "    append_images=images[1:],\n",
    "    duration=200,\n",
    "    loop=0,\n",
    ")\n",
    "buffer.seek(0)\n",
    "display(IPythonImage(data=buffer.getvalue(), width=192, height=192))"
   ]
  },
  {
   "cell_type": "code",
   "execution_count": 50,
   "id": "ac274e1f-d735-4270-951c-5484f984899b",
   "metadata": {},
   "outputs": [],
   "source": [
    "four_rooms_dataloader = DataLoader(four_rooms_dataset_xf, batch_size=4, collate_fn=four_rooms_collate_fn)"
   ]
  },
  {
   "cell_type": "code",
   "execution_count": 51,
   "id": "31de7f52-3c5e-491e-8fd2-7f1cb6b4db69",
   "metadata": {},
   "outputs": [],
   "source": [
    "batch = next(iter(four_rooms_dataloader))"
   ]
  },
  {
   "cell_type": "code",
   "execution_count": 52,
   "id": "a81f7d80-9019-453e-a1d9-a9c7a824b349",
   "metadata": {},
   "outputs": [
    {
     "data": {
      "text/plain": [
       "torch.Size([1024, 3])"
      ]
     },
     "execution_count": 52,
     "metadata": {},
     "output_type": "execute_result"
    }
   ],
   "source": [
    "batch[0][0]['mission'].shape"
   ]
  },
  {
   "cell_type": "code",
   "execution_count": 53,
   "id": "684cebd0-585b-4c16-88da-d3e3ebc94e9b",
   "metadata": {},
   "outputs": [],
   "source": [
    "vqa_dataset = datasets.load_dataset(\"eihli/micro-ok-vqa\")"
   ]
  },
  {
   "cell_type": "code",
   "execution_count": 54,
   "id": "0d3b37d3-2d4a-4288-b969-62c348df8ed5",
   "metadata": {},
   "outputs": [],
   "source": [
    "def tokenize_vqa(tokenizer, sample):\n",
    "    question_cls, question = zip(*[tokenizer.encode_text(sample[\"question\"])])\n",
    "    image_cls, image = zip(*[tokenizer.encode_image(image_transform(pil_to_tensor(sample[\"image\"])))])\n",
    "    answer_cls, answer = zip(*[tokenizer.encode_text(random.choice(sample[\"answers\"])[\"answer\"])])\n",
    "    return OrderedDict({\n",
    "        'question_cls': torch.stack(question_cls),\n",
    "        'question': torch.stack(question),\n",
    "        'image_cls': torch.stack(image_cls),\n",
    "        'image': torch.stack(image),\n",
    "        'answer_cls': torch.stack(answer_cls),\n",
    "        'answer': torch.stack(answer),\n",
    "    })\n",
    "\n",
    "def vqa_collate_fn(batch):\n",
    "    padded = pad_tokens(batch)\n",
    "    masked = mask(batch)\n",
    "    return padded, masked"
   ]
  },
  {
   "cell_type": "code",
   "execution_count": 55,
   "id": "42ffeeb1-41d2-4c6c-8ba8-c4dde0e24560",
   "metadata": {},
   "outputs": [],
   "source": [
    "sample = vqa_dataset['train'][0]"
   ]
  },
  {
   "cell_type": "code",
   "execution_count": 56,
   "id": "142d50e7-f3fe-4fa2-8e0a-3fe133d9412c",
   "metadata": {},
   "outputs": [],
   "source": [
    "cls, tokens = tokenizer.encode_image(image_transform(pil_to_tensor(sample[\"image\"])))"
   ]
  },
  {
   "cell_type": "code",
   "execution_count": 57,
   "id": "d0f5eb50-cbb3-43f3-87e6-f0476ef51e92",
   "metadata": {},
   "outputs": [
    {
     "data": {
      "text/plain": [
       "(tensor([51282]),\n",
       " tensor([[-0.2378, -0.2437, -0.2390,  ...,  0.1854,  0.1832,  0.1849],\n",
       "         [-0.2446, -0.2466, -0.2453,  ...,  0.2264,  0.2325,  0.2391],\n",
       "         [-0.1818, -0.1153, -0.0956,  ...,  0.2149,  0.2101,  0.2130],\n",
       "         ...,\n",
       "         [ 0.0385,  0.0600,  0.0706,  ...,  0.2237,  0.2288,  0.2367],\n",
       "         [ 0.0707,  0.0894,  0.1001,  ...,  0.2478,  0.2362,  0.0630],\n",
       "         [-0.0377, -0.0938, -0.1630,  ...,  0.1883,  0.1839,  0.1875]]))"
      ]
     },
     "execution_count": 57,
     "metadata": {},
     "output_type": "execute_result"
    }
   ],
   "source": [
    "cls, tokens"
   ]
  },
  {
   "cell_type": "code",
   "execution_count": 58,
   "id": "9dadcaab-3798-479d-87db-521880957589",
   "metadata": {},
   "outputs": [],
   "source": [
    "vqa_dataset_xf = TransformDataset(vqa_dataset[\"train\"], partial(tokenize_vqa, tokenizer))"
   ]
  },
  {
   "cell_type": "code",
   "execution_count": 59,
   "id": "3b404cd0-55f2-4b37-86b5-d1df38db535a",
   "metadata": {},
   "outputs": [],
   "source": [
    "sample = four_rooms_dataset_xf[0]"
   ]
  },
  {
   "cell_type": "code",
   "execution_count": 60,
   "id": "622d9989-82c1-4f9c-8dac-afeae548cb4d",
   "metadata": {},
   "outputs": [
    {
     "data": {
      "text/plain": [
       "(torch.Size([1, 10]),\n",
       " torch.Size([1, 144, 768]),\n",
       " 'pony tail',\n",
       " 'What is the hairstyle of the blond called?')"
      ]
     },
     "execution_count": 60,
     "metadata": {},
     "output_type": "execute_result"
    }
   ],
   "source": [
    "series = vqa_dataset_xf[0]\n",
    "series['question'].shape, series['image'].shape, tokenizer.decode_text(series['answer'][0].tolist()), tokenizer.decode_text(series['question'][0].tolist())"
   ]
  },
  {
   "cell_type": "markdown",
   "id": "fcc0809c-5e21-46e1-8491-4f6d2f7a3fad",
   "metadata": {},
   "source": [
    "## Embedding"
   ]
  },
  {
   "cell_type": "code",
   "execution_count": 61,
   "id": "ba032a81-bf95-4415-aa40-17e85d449058",
   "metadata": {},
   "outputs": [],
   "source": [
    "EMBEDDING_DIMS = 512"
   ]
  },
  {
   "cell_type": "code",
   "execution_count": 62,
   "id": "18615b49-ac47-4d41-8cca-ae3d10e75291",
   "metadata": {},
   "outputs": [],
   "source": [
    "image_embedding = ResNetV2(layers=[3, 4, 6, 3], num_classes=EMBEDDING_DIMS)\n",
    "lookup_embedding = torch.nn.Embedding(tokenizer.n_text + tokenizer.n_discrete + tokenizer.n_modalities, EMBEDDING_DIMS)"
   ]
  },
  {
   "cell_type": "code",
   "execution_count": null,
   "id": "55e71485-74f3-4378-b40f-d75c9cc2d6c5",
   "metadata": {},
   "outputs": [],
   "source": []
  },
  {
   "cell_type": "code",
   "execution_count": 63,
   "id": "032419d6-c97f-495f-8f33-420ae5cb3c9d",
   "metadata": {},
   "outputs": [],
   "source": [
    "sample = four_rooms_dataset_xf[0]"
   ]
  },
  {
   "cell_type": "code",
   "execution_count": 64,
   "id": "ef393586-e17f-4b0c-9fd6-dcbd3b91cec6",
   "metadata": {},
   "outputs": [
    {
     "data": {
      "text/plain": [
       "torch.Size([19, 144, 768])"
      ]
     },
     "execution_count": 64,
     "metadata": {},
     "output_type": "execute_result"
    }
   ],
   "source": [
    "image_tokens = sample['image']\n",
    "image_tokens.shape"
   ]
  },
  {
   "cell_type": "code",
   "execution_count": 65,
   "id": "07ee15cd-3b49-4bb7-9c37-4137fe836252",
   "metadata": {},
   "outputs": [],
   "source": [
    "B, T, C = image_tokens.shape\n",
    "patch_size=16"
   ]
  },
  {
   "cell_type": "code",
   "execution_count": 66,
   "id": "567b911c-2019-4dee-af40-4fe6e4317849",
   "metadata": {},
   "outputs": [],
   "source": [
    "patch_tokens = image_tokens.view(B*T, 3, patch_size, patch_size)\n",
    "patch_embeddings = image_embedding(patch_tokens).view(B, T, -1)"
   ]
  },
  {
   "cell_type": "code",
   "execution_count": 67,
   "id": "5934c3a4-c942-4b06-a3d9-787f601c7d61",
   "metadata": {},
   "outputs": [
    {
     "data": {
      "text/plain": [
       "torch.Size([19, 3])"
      ]
     },
     "execution_count": 67,
     "metadata": {},
     "output_type": "execute_result"
    }
   ],
   "source": [
    "mission_tokens = sample['mission']\n",
    "mission_tokens.shape"
   ]
  },
  {
   "cell_type": "code",
   "execution_count": 68,
   "id": "266d2870-0a6c-427a-bc85-9a04e0c47834",
   "metadata": {},
   "outputs": [
    {
     "data": {
      "text/plain": [
       "torch.Size([19, 3, 512])"
      ]
     },
     "execution_count": 68,
     "metadata": {},
     "output_type": "execute_result"
    }
   ],
   "source": [
    "mission_embeddings = lookup_embedding(mission_tokens)\n",
    "mission_embeddings.shape"
   ]
  },
  {
   "cell_type": "code",
   "execution_count": 69,
   "id": "f2c446f5-9b7a-4512-8638-7e6e30cdcaee",
   "metadata": {},
   "outputs": [],
   "source": [
    "from typing import Callable\n",
    "@dataclass\n",
    "class Embedder:\n",
    "    tokenizer: Tokenizer\n",
    "    lookup_embedding: Callable\n",
    "    image_embedding: Callable\n",
    "\n",
    "    def embed(self, cls, data):\n",
    "        if self.tokenizer.is_image(cls):\n",
    "            B, T, P, C = data.shape\n",
    "            return torch.concat([self.lookup_embedding(cls.view(B*T, 1)).view(B, T, 1, -1), self.image_embedding(data.view(B*T*P, 3, 16, 16)).view(B, T, P, -1)], dim=2)\n",
    "        else:\n",
    "            B, T, C = data.shape\n",
    "            return torch.concat([self.lookup_embedding(cls.view(B*T, 1)).view(B, T, 1, -1), self.lookup_embedding(data.view(B*T, C)).view(B, T, C, -1)], dim=2)"
   ]
  },
  {
   "cell_type": "code",
   "execution_count": 77,
   "id": "2b88993f-484e-4d3d-9dc9-a9757b2ffd09",
   "metadata": {},
   "outputs": [
    {
     "data": {
      "text/plain": [
       "(2, list, 8, torch.Size([1024, 1]))"
      ]
     },
     "execution_count": 77,
     "metadata": {},
     "output_type": "execute_result"
    }
   ],
   "source": [
    "len(batch), type(batch[0]), len(batch[0][0]), batch[0][0]['direction'].shape"
   ]
  },
  {
   "cell_type": "code",
   "execution_count": 70,
   "id": "395495e7-197a-4ee4-962b-9ef5da192985",
   "metadata": {},
   "outputs": [
    {
     "ename": "TypeError",
     "evalue": "list indices must be integers or slices, not str",
     "output_type": "error",
     "traceback": [
      "\u001b[0;31m---------------------------------------------------------------------------\u001b[0m",
      "\u001b[0;31mTypeError\u001b[0m                                 Traceback (most recent call last)",
      "Cell \u001b[0;32mIn[70], line 1\u001b[0m\n\u001b[0;32m----> 1\u001b[0m B, T, C \u001b[38;5;241m=\u001b[39m \u001b[43mbatch\u001b[49m\u001b[43m[\u001b[49m\u001b[38;5;241;43m0\u001b[39;49m\u001b[43m]\u001b[49m\u001b[43m[\u001b[49m\u001b[38;5;124;43m'\u001b[39;49m\u001b[38;5;124;43mdirection\u001b[39;49m\u001b[38;5;124;43m'\u001b[39;49m\u001b[43m]\u001b[49m\u001b[38;5;241m.\u001b[39mshape\n\u001b[1;32m      2\u001b[0m lookup_embedding(batch[\u001b[38;5;241m0\u001b[39m][\u001b[38;5;124m'\u001b[39m\u001b[38;5;124mdirection\u001b[39m\u001b[38;5;124m'\u001b[39m]\u001b[38;5;241m.\u001b[39mview(B\u001b[38;5;241m*\u001b[39mT, C))\u001b[38;5;241m.\u001b[39mview(B, T, \u001b[38;5;241m-\u001b[39m\u001b[38;5;241m1\u001b[39m)\u001b[38;5;241m.\u001b[39mshape\n",
      "\u001b[0;31mTypeError\u001b[0m: list indices must be integers or slices, not str"
     ]
    }
   ],
   "source": [
    "B, T, C = batch[0]['direction'].shape\n",
    "lookup_embedding(batch[0]['direction'].view(B*T, C)).view(B, T, -1).shape"
   ]
  },
  {
   "cell_type": "code",
   "execution_count": 71,
   "id": "abeb2517-4675-4e2a-8d87-674d499f5208",
   "metadata": {},
   "outputs": [],
   "source": [
    "embedder = Embedder(tokenizer, lookup_embedding, image_embedding)"
   ]
  },
  {
   "cell_type": "code",
   "execution_count": null,
   "id": "79c055fe-8092-43da-94f7-c5ca4ef05196",
   "metadata": {},
   "outputs": [],
   "source": [
    "series = batch[0]"
   ]
  },
  {
   "cell_type": "code",
   "execution_count": null,
   "id": "8275a252-b6c0-405f-8457-d6b884e66df6",
   "metadata": {},
   "outputs": [],
   "source": [
    "vals = list(series.values())\n",
    "for cls, data in zip(vals[::2], vals[1::2]):\n",
    "    print(cls.shape, data.shape)"
   ]
  },
  {
   "cell_type": "code",
   "execution_count": null,
   "id": "25007e0c-5071-4f89-8b3f-95370e721262",
   "metadata": {},
   "outputs": [],
   "source": [
    "lookup_embedding(cls).shape, lookup_embedding(data).shape"
   ]
  },
  {
   "cell_type": "code",
   "execution_count": null,
   "id": "7b07a3a4-0a6d-4a8b-ac96-dac1d323792c",
   "metadata": {},
   "outputs": [],
   "source": [
    "cls.shape, data.shape"
   ]
  },
  {
   "cell_type": "code",
   "execution_count": null,
   "id": "568c1d57-4bee-4891-a94f-d0966be7df94",
   "metadata": {},
   "outputs": [],
   "source": [
    "embeddings = [embedder.embed(cls, data) for cls, data in zip(vals[::2], vals[1::2])]"
   ]
  },
  {
   "cell_type": "code",
   "execution_count": 269,
   "id": "19243da9-e6a0-4914-b557-b25ed932f11e",
   "metadata": {},
   "outputs": [],
   "source": [
    "B, T, C = 4, 2, 8\n",
    "a = torch.arange(B*T*C*3)\n",
    "b = torch.arange(B*T*C*4)"
   ]
  },
  {
   "cell_type": "code",
   "execution_count": 270,
   "id": "ff83d23e-54d6-4469-a19d-782240c327ac",
   "metadata": {},
   "outputs": [
    {
     "ename": "NameError",
     "evalue": "name 'embeddings' is not defined",
     "output_type": "error",
     "traceback": [
      "\u001b[0;31m---------------------------------------------------------------------------\u001b[0m",
      "\u001b[0;31mNameError\u001b[0m                                 Traceback (most recent call last)",
      "Cell \u001b[0;32mIn[270], line 1\u001b[0m\n\u001b[0;32m----> 1\u001b[0m [e\u001b[38;5;241m.\u001b[39mshape \u001b[38;5;28;01mfor\u001b[39;00m e \u001b[38;5;129;01min\u001b[39;00m \u001b[43membeddings\u001b[49m]\n",
      "\u001b[0;31mNameError\u001b[0m: name 'embeddings' is not defined"
     ]
    }
   ],
   "source": [
    "[e.shape for e in embeddings]"
   ]
  },
  {
   "cell_type": "code",
   "execution_count": 271,
   "id": "e1533d2d-9d8e-4b12-ab6a-10c70c23e70e",
   "metadata": {},
   "outputs": [
    {
     "ename": "NameError",
     "evalue": "name 'embeddings' is not defined",
     "output_type": "error",
     "traceback": [
      "\u001b[0;31m---------------------------------------------------------------------------\u001b[0m",
      "\u001b[0;31mNameError\u001b[0m                                 Traceback (most recent call last)",
      "Cell \u001b[0;32mIn[271], line 1\u001b[0m\n\u001b[0;32m----> 1\u001b[0m batch \u001b[38;5;241m=\u001b[39m torch\u001b[38;5;241m.\u001b[39mconcat([e \u001b[38;5;28;01mfor\u001b[39;00m e \u001b[38;5;129;01min\u001b[39;00m \u001b[43membeddings\u001b[49m], dim\u001b[38;5;241m=\u001b[39m\u001b[38;5;241m2\u001b[39m)\n\u001b[1;32m      2\u001b[0m batch\u001b[38;5;241m.\u001b[39mshape\n",
      "\u001b[0;31mNameError\u001b[0m: name 'embeddings' is not defined"
     ]
    }
   ],
   "source": [
    "batch = torch.concat([e for e in embeddings], dim=2)\n",
    "batch.shape"
   ]
  },
  {
   "cell_type": "code",
   "execution_count": 272,
   "id": "0fb5edba-2ac2-4bd7-9b2d-ed22300c2651",
   "metadata": {},
   "outputs": [
    {
     "ename": "AttributeError",
     "evalue": "'tuple' object has no attribute 'shape'",
     "output_type": "error",
     "traceback": [
      "\u001b[0;31m---------------------------------------------------------------------------\u001b[0m",
      "\u001b[0;31mAttributeError\u001b[0m                            Traceback (most recent call last)",
      "Cell \u001b[0;32mIn[272], line 1\u001b[0m\n\u001b[0;32m----> 1\u001b[0m B, T, S, C \u001b[38;5;241m=\u001b[39m \u001b[43mbatch\u001b[49m\u001b[38;5;241;43m.\u001b[39;49m\u001b[43mshape\u001b[49m\n\u001b[1;32m      2\u001b[0m B\u001b[38;5;241m*\u001b[39mT\u001b[38;5;241m*\u001b[39mS\n",
      "\u001b[0;31mAttributeError\u001b[0m: 'tuple' object has no attribute 'shape'"
     ]
    }
   ],
   "source": [
    "B, T, S, C = batch.shape\n",
    "B*T*S\n"
   ]
  },
  {
   "cell_type": "code",
   "execution_count": 273,
   "id": "c9c42e87-d363-48e9-be9c-118f173885f2",
   "metadata": {},
   "outputs": [
    {
     "name": "stdout",
     "output_type": "stream",
     "text": [
      "number of parameters: 63.59M\n"
     ]
    }
   ],
   "source": [
    "transformer_config = GPTConfig(n_head=8, n_embd=512)\n",
    "gpt = GPT(transformer_config)"
   ]
  },
  {
   "cell_type": "code",
   "execution_count": 274,
   "id": "7f833833-1c1d-4073-b757-d69e7fd02411",
   "metadata": {},
   "outputs": [
    {
     "data": {
      "text/plain": [
       "512"
      ]
     },
     "execution_count": 274,
     "metadata": {},
     "output_type": "execute_result"
    }
   ],
   "source": [
    "gpt.config.n_embd"
   ]
  },
  {
   "cell_type": "code",
   "execution_count": 275,
   "id": "338cc2a9-9d52-435d-ab6f-ca6dfc873be6",
   "metadata": {},
   "outputs": [
    {
     "name": "stdout",
     "output_type": "stream",
     "text": [
      "number of parameters: 63.59M\n"
     ]
    }
   ],
   "source": [
    "@dataclass\n",
    "class MiniGatoConfig:\n",
    "    embedding_dim: int\n",
    "    sequence_length: int\n",
    "    tokenizer: Tokenizer\n",
    "    transformer_config: GPTConfig\n",
    "    transformer: GPT\n",
    "\n",
    "def init_default_config() -> MiniGatoConfig:\n",
    "    transformer_config = GPTConfig(n_head=8, n_embd=512)\n",
    "    text_encoding = tiktoken.get_encoding(\"r50k_base\")\n",
    "    tokenizer = Tokenizer(text_encoding)\n",
    "    return MiniGatoConfig(\n",
    "        embedding_dim=512,\n",
    "        sequence_length=1024,\n",
    "        tokenizer=tokenizer,\n",
    "        transformer_config=transformer_config,\n",
    "        transformer=GPT(transformer_config),\n",
    "    )\n",
    "\n",
    "default_config = init_default_config()\n",
    "\n",
    "class MiniGato(torch.nn.Module):\n",
    "    def __init__(self, config: MiniGatoConfig=default_config):\n",
    "        super().__init__()\n",
    "        self.config = config\n",
    "        self.tokenizer = config.tokenizer\n",
    "        self.sequence_length = self.config.sequence_length\n",
    "        self.image_embedding = ResNetV2(layers=[3, 4, 6, 3], num_classes=EMBEDDING_DIMS)\n",
    "        self.lookup_embedding = torch.torch.nn.Embedding(self.tokenizer.n_text + self.tokenizer.n_discrete + self.tokenizer.n_modalities, EMBEDDING_DIMS)\n",
    "        self.embedder = Embedder(\n",
    "            config.tokenizer,\n",
    "            lookup_embedding,\n",
    "            image_embedding,\n",
    "        )\n",
    "        self.transformer = self.config.transformer\n",
    "        self.lm_head = torch.nn.Linear(self.transformer.config.n_embd, self.tokenizer.n_text + self.tokenizer.n_discrete + self.tokenizer.n_modalities)    \n",
    "\n",
    "    def forward(self, batch, targets=None):\n",
    "        vals = list(series.values())\n",
    "        embeddings = [embedder.embed(cls, data) for cls, data in zip(vals[::2], vals[1::2])]\n",
    "        batch = torch.concat(embeddings, dim=2)\n",
    "        B, T, S, C = batch.shape\n",
    "        out, _ = self.transformer(emb=batch.view(B*T*S, C))\n",
    "        if targets is not None:\n",
    "            logits = self.lm_head(out.last_hidden_state)\n",
    "            loss = F.cross_entropy(logits.view(-1, logits.size(-1)), targets.view(-1), ignore_index=-1)\n",
    "        else:\n",
    "            predicted = self.lm_head(out.last_hidden_state)\n",
    "        return predicted, ys, ms"
   ]
  },
  {
   "cell_type": "code",
   "execution_count": 276,
   "id": "0941b2fb-ec98-4bfa-97d5-74ac2dec025b",
   "metadata": {},
   "outputs": [],
   "source": [
    "def infinite_dataloader(fn):\n",
    "    it = iter(fn())\n",
    "    while True:\n",
    "        try:\n",
    "            yield next(it)\n",
    "        except StopIteration:\n",
    "            it = iter(fn())"
   ]
  },
  {
   "cell_type": "code",
   "execution_count": 277,
   "id": "96259b23-4246-4f20-b388-c6253553bb88",
   "metadata": {},
   "outputs": [],
   "source": [
    "BATCH_SIZE=4"
   ]
  },
  {
   "cell_type": "code",
   "execution_count": 278,
   "id": "ab8c220a-f217-4d63-ad52-21e476b7da15",
   "metadata": {},
   "outputs": [],
   "source": [
    "dataloaders = [\n",
    "    infinite_dataloader(partial(DataLoader, four_rooms_dataset_xf, batch_size=BATCH_SIZE, collate_fn=four_rooms_collate_fn)),\n",
    "    infinite_dataloader(partial(DataLoader, vqa_dataset_xf, batch_size=BATCH_SIZE, collate_fn=vqa_collate_fn)),\n",
    "]\n",
    "dl_it = cycle(dataloaders)"
   ]
  },
  {
   "cell_type": "code",
   "execution_count": 279,
   "id": "606cff47-3993-4f10-8a7a-eb9f3255e8d0",
   "metadata": {},
   "outputs": [
    {
     "data": {
      "text/plain": [
       "80"
      ]
     },
     "execution_count": 279,
     "metadata": {},
     "output_type": "execute_result"
    }
   ],
   "source": [
    "len(vqa_dataset[\"train\"])"
   ]
  },
  {
   "cell_type": "code",
   "execution_count": 80,
   "id": "78eee8cd-9ceb-4a67-b116-951b9659a5a7",
   "metadata": {},
   "outputs": [
    {
     "name": "stdout",
     "output_type": "stream",
     "text": [
      "number of parameters: 63.59M\n"
     ]
    }
   ],
   "source": [
    "config = init_default_config()\n",
    "model = MiniGato(config)"
   ]
  },
  {
   "cell_type": "code",
   "execution_count": 81,
   "id": "caf1c7df-662e-4e8f-92ee-b1ffb59d5483",
   "metadata": {},
   "outputs": [],
   "source": [
    "dl = next(dl_it)\n",
    "batch = next(dl)"
   ]
  },
  {
   "cell_type": "code",
   "execution_count": null,
   "id": "9dd5f3cf-2f6a-421e-acab-6bff9aa8b2b8",
   "metadata": {},
   "outputs": [],
   "source": []
  },
  {
   "cell_type": "code",
   "execution_count": 82,
   "id": "90658c3c-b666-48fe-a32b-4ca509884bdc",
   "metadata": {},
   "outputs": [],
   "source": [
    "embed_image = ResNetV2(layers=[3, 4, 6, 3], num_classes=EMBEDDING_DIMS)\n",
    "embed_text = torch.torch.nn.Embedding(tokenizer.n_text, EMBEDDING_DIMS)\n",
    "embed_discrete = torch.torch.nn.Embedding(tokenizer.n_discrete, EMBEDDING_DIMS)\n",
    "embedder = Embedder(tokenizer, lookup_embedding, image_embedding)"
   ]
  },
  {
   "cell_type": "code",
   "execution_count": 83,
   "id": "3ba99c89-16d8-4e9f-b9a3-f1bca0ca2f49",
   "metadata": {},
   "outputs": [],
   "source": [
    "optimizer = torch.optim.AdamW(model.parameters())"
   ]
  },
  {
   "cell_type": "code",
   "execution_count": 84,
   "id": "228e0be2-5a1a-4490-9bd6-331ff42835a7",
   "metadata": {},
   "outputs": [
    {
     "data": {
      "text/plain": [
       "8"
      ]
     },
     "execution_count": 84,
     "metadata": {},
     "output_type": "execute_result"
    }
   ],
   "source": [
    "len(batch[0].values())"
   ]
  },
  {
   "cell_type": "code",
   "execution_count": 85,
   "id": "f1138be0-3e24-454b-8f8c-5628c119fe2f",
   "metadata": {},
   "outputs": [],
   "source": [
    "sample = batch[0]\n",
    "vals = list(sample.values())\n",
    "[v.shape for v in vals]\n",
    "embeddings = [embedder.embed(cls, data) for cls, data in zip(vals[::2], vals[1::2])]"
   ]
  },
  {
   "cell_type": "code",
   "execution_count": 86,
   "id": "dacfa5c0-3c38-40ff-ba9c-ff97f2b9619c",
   "metadata": {},
   "outputs": [
    {
     "ename": "ValueError",
     "evalue": "not enough values to unpack (expected 3, got 2)",
     "output_type": "error",
     "traceback": [
      "\u001b[0;31m---------------------------------------------------------------------------\u001b[0m",
      "\u001b[0;31mValueError\u001b[0m                                Traceback (most recent call last)",
      "Cell \u001b[0;32mIn[86], line 2\u001b[0m\n\u001b[1;32m      1\u001b[0m optimizer\u001b[38;5;241m.\u001b[39mzero_grad()\n\u001b[0;32m----> 2\u001b[0m predicted, targets, attention_mask \u001b[38;5;241m=\u001b[39m \u001b[43mmodel\u001b[49m\u001b[43m(\u001b[49m\u001b[43mbatch\u001b[49m\u001b[43m)\u001b[49m\n",
      "File \u001b[0;32m~/.virtualenvs/neko/lib/python3.12/site-packages/torch/nn/modules/module.py:1553\u001b[0m, in \u001b[0;36mModule._wrapped_call_impl\u001b[0;34m(self, *args, **kwargs)\u001b[0m\n\u001b[1;32m   1551\u001b[0m     \u001b[38;5;28;01mreturn\u001b[39;00m \u001b[38;5;28mself\u001b[39m\u001b[38;5;241m.\u001b[39m_compiled_call_impl(\u001b[38;5;241m*\u001b[39margs, \u001b[38;5;241m*\u001b[39m\u001b[38;5;241m*\u001b[39mkwargs)  \u001b[38;5;66;03m# type: ignore[misc]\u001b[39;00m\n\u001b[1;32m   1552\u001b[0m \u001b[38;5;28;01melse\u001b[39;00m:\n\u001b[0;32m-> 1553\u001b[0m     \u001b[38;5;28;01mreturn\u001b[39;00m \u001b[38;5;28;43mself\u001b[39;49m\u001b[38;5;241;43m.\u001b[39;49m\u001b[43m_call_impl\u001b[49m\u001b[43m(\u001b[49m\u001b[38;5;241;43m*\u001b[39;49m\u001b[43margs\u001b[49m\u001b[43m,\u001b[49m\u001b[43m \u001b[49m\u001b[38;5;241;43m*\u001b[39;49m\u001b[38;5;241;43m*\u001b[39;49m\u001b[43mkwargs\u001b[49m\u001b[43m)\u001b[49m\n",
      "File \u001b[0;32m~/.virtualenvs/neko/lib/python3.12/site-packages/torch/nn/modules/module.py:1562\u001b[0m, in \u001b[0;36mModule._call_impl\u001b[0;34m(self, *args, **kwargs)\u001b[0m\n\u001b[1;32m   1557\u001b[0m \u001b[38;5;66;03m# If we don't have any hooks, we want to skip the rest of the logic in\u001b[39;00m\n\u001b[1;32m   1558\u001b[0m \u001b[38;5;66;03m# this function, and just call forward.\u001b[39;00m\n\u001b[1;32m   1559\u001b[0m \u001b[38;5;28;01mif\u001b[39;00m \u001b[38;5;129;01mnot\u001b[39;00m (\u001b[38;5;28mself\u001b[39m\u001b[38;5;241m.\u001b[39m_backward_hooks \u001b[38;5;129;01mor\u001b[39;00m \u001b[38;5;28mself\u001b[39m\u001b[38;5;241m.\u001b[39m_backward_pre_hooks \u001b[38;5;129;01mor\u001b[39;00m \u001b[38;5;28mself\u001b[39m\u001b[38;5;241m.\u001b[39m_forward_hooks \u001b[38;5;129;01mor\u001b[39;00m \u001b[38;5;28mself\u001b[39m\u001b[38;5;241m.\u001b[39m_forward_pre_hooks\n\u001b[1;32m   1560\u001b[0m         \u001b[38;5;129;01mor\u001b[39;00m _global_backward_pre_hooks \u001b[38;5;129;01mor\u001b[39;00m _global_backward_hooks\n\u001b[1;32m   1561\u001b[0m         \u001b[38;5;129;01mor\u001b[39;00m _global_forward_hooks \u001b[38;5;129;01mor\u001b[39;00m _global_forward_pre_hooks):\n\u001b[0;32m-> 1562\u001b[0m     \u001b[38;5;28;01mreturn\u001b[39;00m \u001b[43mforward_call\u001b[49m\u001b[43m(\u001b[49m\u001b[38;5;241;43m*\u001b[39;49m\u001b[43margs\u001b[49m\u001b[43m,\u001b[49m\u001b[43m \u001b[49m\u001b[38;5;241;43m*\u001b[39;49m\u001b[38;5;241;43m*\u001b[39;49m\u001b[43mkwargs\u001b[49m\u001b[43m)\u001b[49m\n\u001b[1;32m   1564\u001b[0m \u001b[38;5;28;01mtry\u001b[39;00m:\n\u001b[1;32m   1565\u001b[0m     result \u001b[38;5;241m=\u001b[39m \u001b[38;5;28;01mNone\u001b[39;00m\n",
      "Cell \u001b[0;32mIn[75], line 44\u001b[0m, in \u001b[0;36mMiniGato.forward\u001b[0;34m(self, batch, targets)\u001b[0m\n\u001b[1;32m     42\u001b[0m batch \u001b[38;5;241m=\u001b[39m torch\u001b[38;5;241m.\u001b[39mconcat(embeddings, dim\u001b[38;5;241m=\u001b[39m\u001b[38;5;241m2\u001b[39m)\n\u001b[1;32m     43\u001b[0m B, T, S, C \u001b[38;5;241m=\u001b[39m batch\u001b[38;5;241m.\u001b[39mshape\n\u001b[0;32m---> 44\u001b[0m out, _ \u001b[38;5;241m=\u001b[39m \u001b[38;5;28;43mself\u001b[39;49m\u001b[38;5;241;43m.\u001b[39;49m\u001b[43mtransformer\u001b[49m\u001b[43m(\u001b[49m\u001b[43memb\u001b[49m\u001b[38;5;241;43m=\u001b[39;49m\u001b[43mbatch\u001b[49m\u001b[38;5;241;43m.\u001b[39;49m\u001b[43mview\u001b[49m\u001b[43m(\u001b[49m\u001b[43mB\u001b[49m\u001b[38;5;241;43m*\u001b[39;49m\u001b[43mT\u001b[49m\u001b[38;5;241;43m*\u001b[39;49m\u001b[43mS\u001b[49m\u001b[43m,\u001b[49m\u001b[43m \u001b[49m\u001b[43mC\u001b[49m\u001b[43m)\u001b[49m\u001b[43m)\u001b[49m\n\u001b[1;32m     45\u001b[0m \u001b[38;5;28;01mif\u001b[39;00m targets \u001b[38;5;129;01mis\u001b[39;00m \u001b[38;5;129;01mnot\u001b[39;00m \u001b[38;5;28;01mNone\u001b[39;00m:\n\u001b[1;32m     46\u001b[0m     logits \u001b[38;5;241m=\u001b[39m \u001b[38;5;28mself\u001b[39m\u001b[38;5;241m.\u001b[39mlm_head(out\u001b[38;5;241m.\u001b[39mlast_hidden_state)\n",
      "File \u001b[0;32m~/.virtualenvs/neko/lib/python3.12/site-packages/torch/nn/modules/module.py:1553\u001b[0m, in \u001b[0;36mModule._wrapped_call_impl\u001b[0;34m(self, *args, **kwargs)\u001b[0m\n\u001b[1;32m   1551\u001b[0m     \u001b[38;5;28;01mreturn\u001b[39;00m \u001b[38;5;28mself\u001b[39m\u001b[38;5;241m.\u001b[39m_compiled_call_impl(\u001b[38;5;241m*\u001b[39margs, \u001b[38;5;241m*\u001b[39m\u001b[38;5;241m*\u001b[39mkwargs)  \u001b[38;5;66;03m# type: ignore[misc]\u001b[39;00m\n\u001b[1;32m   1552\u001b[0m \u001b[38;5;28;01melse\u001b[39;00m:\n\u001b[0;32m-> 1553\u001b[0m     \u001b[38;5;28;01mreturn\u001b[39;00m \u001b[38;5;28;43mself\u001b[39;49m\u001b[38;5;241;43m.\u001b[39;49m\u001b[43m_call_impl\u001b[49m\u001b[43m(\u001b[49m\u001b[38;5;241;43m*\u001b[39;49m\u001b[43margs\u001b[49m\u001b[43m,\u001b[49m\u001b[43m \u001b[49m\u001b[38;5;241;43m*\u001b[39;49m\u001b[38;5;241;43m*\u001b[39;49m\u001b[43mkwargs\u001b[49m\u001b[43m)\u001b[49m\n",
      "File \u001b[0;32m~/.virtualenvs/neko/lib/python3.12/site-packages/torch/nn/modules/module.py:1562\u001b[0m, in \u001b[0;36mModule._call_impl\u001b[0;34m(self, *args, **kwargs)\u001b[0m\n\u001b[1;32m   1557\u001b[0m \u001b[38;5;66;03m# If we don't have any hooks, we want to skip the rest of the logic in\u001b[39;00m\n\u001b[1;32m   1558\u001b[0m \u001b[38;5;66;03m# this function, and just call forward.\u001b[39;00m\n\u001b[1;32m   1559\u001b[0m \u001b[38;5;28;01mif\u001b[39;00m \u001b[38;5;129;01mnot\u001b[39;00m (\u001b[38;5;28mself\u001b[39m\u001b[38;5;241m.\u001b[39m_backward_hooks \u001b[38;5;129;01mor\u001b[39;00m \u001b[38;5;28mself\u001b[39m\u001b[38;5;241m.\u001b[39m_backward_pre_hooks \u001b[38;5;129;01mor\u001b[39;00m \u001b[38;5;28mself\u001b[39m\u001b[38;5;241m.\u001b[39m_forward_hooks \u001b[38;5;129;01mor\u001b[39;00m \u001b[38;5;28mself\u001b[39m\u001b[38;5;241m.\u001b[39m_forward_pre_hooks\n\u001b[1;32m   1560\u001b[0m         \u001b[38;5;129;01mor\u001b[39;00m _global_backward_pre_hooks \u001b[38;5;129;01mor\u001b[39;00m _global_backward_hooks\n\u001b[1;32m   1561\u001b[0m         \u001b[38;5;129;01mor\u001b[39;00m _global_forward_hooks \u001b[38;5;129;01mor\u001b[39;00m _global_forward_pre_hooks):\n\u001b[0;32m-> 1562\u001b[0m     \u001b[38;5;28;01mreturn\u001b[39;00m \u001b[43mforward_call\u001b[49m\u001b[43m(\u001b[49m\u001b[38;5;241;43m*\u001b[39;49m\u001b[43margs\u001b[49m\u001b[43m,\u001b[49m\u001b[43m \u001b[49m\u001b[38;5;241;43m*\u001b[39;49m\u001b[38;5;241;43m*\u001b[39;49m\u001b[43mkwargs\u001b[49m\u001b[43m)\u001b[49m\n\u001b[1;32m   1564\u001b[0m \u001b[38;5;28;01mtry\u001b[39;00m:\n\u001b[1;32m   1565\u001b[0m     result \u001b[38;5;241m=\u001b[39m \u001b[38;5;28;01mNone\u001b[39;00m\n",
      "File \u001b[0;32m~/src/mini_gato/mini_gato/nano_gpt.py:191\u001b[0m, in \u001b[0;36mGPT.forward\u001b[0;34m(self, idx, targets, emb)\u001b[0m\n\u001b[1;32m    188\u001b[0m     x \u001b[38;5;241m=\u001b[39m emb\n\u001b[1;32m    190\u001b[0m \u001b[38;5;28;01mfor\u001b[39;00m block \u001b[38;5;129;01min\u001b[39;00m \u001b[38;5;28mself\u001b[39m\u001b[38;5;241m.\u001b[39mtransformer\u001b[38;5;241m.\u001b[39mh:\n\u001b[0;32m--> 191\u001b[0m     x \u001b[38;5;241m=\u001b[39m \u001b[43mblock\u001b[49m\u001b[43m(\u001b[49m\u001b[43mx\u001b[49m\u001b[43m)\u001b[49m\n\u001b[1;32m    192\u001b[0m x \u001b[38;5;241m=\u001b[39m \u001b[38;5;28mself\u001b[39m\u001b[38;5;241m.\u001b[39mtransformer\u001b[38;5;241m.\u001b[39mln_f(x)\n\u001b[1;32m    194\u001b[0m \u001b[38;5;28;01mif\u001b[39;00m targets \u001b[38;5;129;01mis\u001b[39;00m \u001b[38;5;129;01mnot\u001b[39;00m \u001b[38;5;28;01mNone\u001b[39;00m:\n\u001b[1;32m    195\u001b[0m     \u001b[38;5;66;03m# if we are given some desired targets also calculate the loss\u001b[39;00m\n",
      "File \u001b[0;32m~/.virtualenvs/neko/lib/python3.12/site-packages/torch/nn/modules/module.py:1553\u001b[0m, in \u001b[0;36mModule._wrapped_call_impl\u001b[0;34m(self, *args, **kwargs)\u001b[0m\n\u001b[1;32m   1551\u001b[0m     \u001b[38;5;28;01mreturn\u001b[39;00m \u001b[38;5;28mself\u001b[39m\u001b[38;5;241m.\u001b[39m_compiled_call_impl(\u001b[38;5;241m*\u001b[39margs, \u001b[38;5;241m*\u001b[39m\u001b[38;5;241m*\u001b[39mkwargs)  \u001b[38;5;66;03m# type: ignore[misc]\u001b[39;00m\n\u001b[1;32m   1552\u001b[0m \u001b[38;5;28;01melse\u001b[39;00m:\n\u001b[0;32m-> 1553\u001b[0m     \u001b[38;5;28;01mreturn\u001b[39;00m \u001b[38;5;28;43mself\u001b[39;49m\u001b[38;5;241;43m.\u001b[39;49m\u001b[43m_call_impl\u001b[49m\u001b[43m(\u001b[49m\u001b[38;5;241;43m*\u001b[39;49m\u001b[43margs\u001b[49m\u001b[43m,\u001b[49m\u001b[43m \u001b[49m\u001b[38;5;241;43m*\u001b[39;49m\u001b[38;5;241;43m*\u001b[39;49m\u001b[43mkwargs\u001b[49m\u001b[43m)\u001b[49m\n",
      "File \u001b[0;32m~/.virtualenvs/neko/lib/python3.12/site-packages/torch/nn/modules/module.py:1562\u001b[0m, in \u001b[0;36mModule._call_impl\u001b[0;34m(self, *args, **kwargs)\u001b[0m\n\u001b[1;32m   1557\u001b[0m \u001b[38;5;66;03m# If we don't have any hooks, we want to skip the rest of the logic in\u001b[39;00m\n\u001b[1;32m   1558\u001b[0m \u001b[38;5;66;03m# this function, and just call forward.\u001b[39;00m\n\u001b[1;32m   1559\u001b[0m \u001b[38;5;28;01mif\u001b[39;00m \u001b[38;5;129;01mnot\u001b[39;00m (\u001b[38;5;28mself\u001b[39m\u001b[38;5;241m.\u001b[39m_backward_hooks \u001b[38;5;129;01mor\u001b[39;00m \u001b[38;5;28mself\u001b[39m\u001b[38;5;241m.\u001b[39m_backward_pre_hooks \u001b[38;5;129;01mor\u001b[39;00m \u001b[38;5;28mself\u001b[39m\u001b[38;5;241m.\u001b[39m_forward_hooks \u001b[38;5;129;01mor\u001b[39;00m \u001b[38;5;28mself\u001b[39m\u001b[38;5;241m.\u001b[39m_forward_pre_hooks\n\u001b[1;32m   1560\u001b[0m         \u001b[38;5;129;01mor\u001b[39;00m _global_backward_pre_hooks \u001b[38;5;129;01mor\u001b[39;00m _global_backward_hooks\n\u001b[1;32m   1561\u001b[0m         \u001b[38;5;129;01mor\u001b[39;00m _global_forward_hooks \u001b[38;5;129;01mor\u001b[39;00m _global_forward_pre_hooks):\n\u001b[0;32m-> 1562\u001b[0m     \u001b[38;5;28;01mreturn\u001b[39;00m \u001b[43mforward_call\u001b[49m\u001b[43m(\u001b[49m\u001b[38;5;241;43m*\u001b[39;49m\u001b[43margs\u001b[49m\u001b[43m,\u001b[49m\u001b[43m \u001b[49m\u001b[38;5;241;43m*\u001b[39;49m\u001b[38;5;241;43m*\u001b[39;49m\u001b[43mkwargs\u001b[49m\u001b[43m)\u001b[49m\n\u001b[1;32m   1564\u001b[0m \u001b[38;5;28;01mtry\u001b[39;00m:\n\u001b[1;32m   1565\u001b[0m     result \u001b[38;5;241m=\u001b[39m \u001b[38;5;28;01mNone\u001b[39;00m\n",
      "File \u001b[0;32m~/src/mini_gato/mini_gato/nano_gpt.py:104\u001b[0m, in \u001b[0;36mBlock.forward\u001b[0;34m(self, x)\u001b[0m\n\u001b[1;32m    103\u001b[0m \u001b[38;5;28;01mdef\u001b[39;00m \u001b[38;5;21mforward\u001b[39m(\u001b[38;5;28mself\u001b[39m, x):\n\u001b[0;32m--> 104\u001b[0m     x \u001b[38;5;241m=\u001b[39m x \u001b[38;5;241m+\u001b[39m \u001b[38;5;28;43mself\u001b[39;49m\u001b[38;5;241;43m.\u001b[39;49m\u001b[43mattn\u001b[49m\u001b[43m(\u001b[49m\u001b[38;5;28;43mself\u001b[39;49m\u001b[38;5;241;43m.\u001b[39;49m\u001b[43mln_1\u001b[49m\u001b[43m(\u001b[49m\u001b[43mx\u001b[49m\u001b[43m)\u001b[49m\u001b[43m)\u001b[49m\n\u001b[1;32m    105\u001b[0m     x \u001b[38;5;241m=\u001b[39m x \u001b[38;5;241m+\u001b[39m \u001b[38;5;28mself\u001b[39m\u001b[38;5;241m.\u001b[39mmlp(\u001b[38;5;28mself\u001b[39m\u001b[38;5;241m.\u001b[39mln_2(x))\n\u001b[1;32m    106\u001b[0m     \u001b[38;5;28;01mreturn\u001b[39;00m x\n",
      "File \u001b[0;32m~/.virtualenvs/neko/lib/python3.12/site-packages/torch/nn/modules/module.py:1553\u001b[0m, in \u001b[0;36mModule._wrapped_call_impl\u001b[0;34m(self, *args, **kwargs)\u001b[0m\n\u001b[1;32m   1551\u001b[0m     \u001b[38;5;28;01mreturn\u001b[39;00m \u001b[38;5;28mself\u001b[39m\u001b[38;5;241m.\u001b[39m_compiled_call_impl(\u001b[38;5;241m*\u001b[39margs, \u001b[38;5;241m*\u001b[39m\u001b[38;5;241m*\u001b[39mkwargs)  \u001b[38;5;66;03m# type: ignore[misc]\u001b[39;00m\n\u001b[1;32m   1552\u001b[0m \u001b[38;5;28;01melse\u001b[39;00m:\n\u001b[0;32m-> 1553\u001b[0m     \u001b[38;5;28;01mreturn\u001b[39;00m \u001b[38;5;28;43mself\u001b[39;49m\u001b[38;5;241;43m.\u001b[39;49m\u001b[43m_call_impl\u001b[49m\u001b[43m(\u001b[49m\u001b[38;5;241;43m*\u001b[39;49m\u001b[43margs\u001b[49m\u001b[43m,\u001b[49m\u001b[43m \u001b[49m\u001b[38;5;241;43m*\u001b[39;49m\u001b[38;5;241;43m*\u001b[39;49m\u001b[43mkwargs\u001b[49m\u001b[43m)\u001b[49m\n",
      "File \u001b[0;32m~/.virtualenvs/neko/lib/python3.12/site-packages/torch/nn/modules/module.py:1562\u001b[0m, in \u001b[0;36mModule._call_impl\u001b[0;34m(self, *args, **kwargs)\u001b[0m\n\u001b[1;32m   1557\u001b[0m \u001b[38;5;66;03m# If we don't have any hooks, we want to skip the rest of the logic in\u001b[39;00m\n\u001b[1;32m   1558\u001b[0m \u001b[38;5;66;03m# this function, and just call forward.\u001b[39;00m\n\u001b[1;32m   1559\u001b[0m \u001b[38;5;28;01mif\u001b[39;00m \u001b[38;5;129;01mnot\u001b[39;00m (\u001b[38;5;28mself\u001b[39m\u001b[38;5;241m.\u001b[39m_backward_hooks \u001b[38;5;129;01mor\u001b[39;00m \u001b[38;5;28mself\u001b[39m\u001b[38;5;241m.\u001b[39m_backward_pre_hooks \u001b[38;5;129;01mor\u001b[39;00m \u001b[38;5;28mself\u001b[39m\u001b[38;5;241m.\u001b[39m_forward_hooks \u001b[38;5;129;01mor\u001b[39;00m \u001b[38;5;28mself\u001b[39m\u001b[38;5;241m.\u001b[39m_forward_pre_hooks\n\u001b[1;32m   1560\u001b[0m         \u001b[38;5;129;01mor\u001b[39;00m _global_backward_pre_hooks \u001b[38;5;129;01mor\u001b[39;00m _global_backward_hooks\n\u001b[1;32m   1561\u001b[0m         \u001b[38;5;129;01mor\u001b[39;00m _global_forward_hooks \u001b[38;5;129;01mor\u001b[39;00m _global_forward_pre_hooks):\n\u001b[0;32m-> 1562\u001b[0m     \u001b[38;5;28;01mreturn\u001b[39;00m \u001b[43mforward_call\u001b[49m\u001b[43m(\u001b[49m\u001b[38;5;241;43m*\u001b[39;49m\u001b[43margs\u001b[49m\u001b[43m,\u001b[49m\u001b[43m \u001b[49m\u001b[38;5;241;43m*\u001b[39;49m\u001b[38;5;241;43m*\u001b[39;49m\u001b[43mkwargs\u001b[49m\u001b[43m)\u001b[49m\n\u001b[1;32m   1564\u001b[0m \u001b[38;5;28;01mtry\u001b[39;00m:\n\u001b[1;32m   1565\u001b[0m     result \u001b[38;5;241m=\u001b[39m \u001b[38;5;28;01mNone\u001b[39;00m\n",
      "File \u001b[0;32m~/src/mini_gato/mini_gato/nano_gpt.py:53\u001b[0m, in \u001b[0;36mCausalSelfAttention.forward\u001b[0;34m(self, x)\u001b[0m\n\u001b[1;32m     52\u001b[0m \u001b[38;5;28;01mdef\u001b[39;00m \u001b[38;5;21mforward\u001b[39m(\u001b[38;5;28mself\u001b[39m, x):\n\u001b[0;32m---> 53\u001b[0m     B, T, C \u001b[38;5;241m=\u001b[39m x\u001b[38;5;241m.\u001b[39msize() \u001b[38;5;66;03m# batch size, sequence length, embedding dimensionality (n_embd)\u001b[39;00m\n\u001b[1;32m     55\u001b[0m     \u001b[38;5;66;03m# calculate query, key, values for all heads in batch and move head forward to be the batch dim\u001b[39;00m\n\u001b[1;32m     56\u001b[0m     q, k, v  \u001b[38;5;241m=\u001b[39m \u001b[38;5;28mself\u001b[39m\u001b[38;5;241m.\u001b[39mc_attn(x)\u001b[38;5;241m.\u001b[39msplit(\u001b[38;5;28mself\u001b[39m\u001b[38;5;241m.\u001b[39mn_embd, dim\u001b[38;5;241m=\u001b[39m\u001b[38;5;241m2\u001b[39m)\n",
      "\u001b[0;31mValueError\u001b[0m: not enough values to unpack (expected 3, got 2)"
     ]
    }
   ],
   "source": [
    "optimizer.zero_grad()\n",
    "predicted, targets, attention_mask = model(batch)"
   ]
  },
  {
   "cell_type": "code",
   "execution_count": null,
   "id": "bceb5784-2f9d-4cf1-9e10-e2d2427778f9",
   "metadata": {},
   "outputs": [],
   "source": [
    "model.train()\n",
    "for i in tqdm(range(self.num_iterations)):\n",
    "    dl = next(dl_it)\n",
    "    batch = next(dl)\n",
    "    optimizer.zero_grad()\n",
    "    predicted, targets, attention_mask = model(batch)\n",
    "    self.losses.append(loss.item())\n",
    "    loss.backward()\n",
    "    if self.scheduler:\n",
    "        self.scheduler.step()\n",
    "    self.optimizer.step()"
   ]
  },
  {
   "cell_type": "code",
   "execution_count": null,
   "id": "ee1ed3eb-b82c-4a67-9700-fa969a7abfce",
   "metadata": {},
   "outputs": [],
   "source": []
  },
  {
   "cell_type": "code",
   "execution_count": null,
   "id": "2908d1f5-89f9-49cb-b282-1b1639e50e89",
   "metadata": {},
   "outputs": [],
   "source": []
  },
  {
   "cell_type": "code",
   "execution_count": null,
   "id": "56e68cc6-f58f-4dac-acb3-cdc73cec5c3c",
   "metadata": {},
   "outputs": [],
   "source": []
  },
  {
   "cell_type": "code",
   "execution_count": null,
   "id": "51477405-e836-4e80-8c1b-08785a3e0900",
   "metadata": {},
   "outputs": [],
   "source": []
  },
  {
   "cell_type": "code",
   "execution_count": null,
   "id": "1e0cb578-3435-4749-ba38-e0aab2e64951",
   "metadata": {},
   "outputs": [],
   "source": []
  }
 ],
 "metadata": {
  "kernelspec": {
   "display_name": "Python 3 (ipykernel)",
   "language": "python",
   "name": "python3"
  },
  "language_info": {
   "codemirror_mode": {
    "name": "ipython",
    "version": 3
   },
   "file_extension": ".py",
   "mimetype": "text/x-python",
   "name": "python",
   "nbconvert_exporter": "python",
   "pygments_lexer": "ipython3",
   "version": "3.12.4"
  }
 },
 "nbformat": 4,
 "nbformat_minor": 5
}
