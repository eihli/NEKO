{
 "cells": [
  {
   "cell_type": "code",
   "execution_count": 150,
   "id": "4cd771e9-8a0c-4b7a-90ee-752b56e0ece9",
   "metadata": {},
   "outputs": [],
   "source": [
    "x = torch.arange(8).reshape(2, 4)"
   ]
  },
  {
   "cell_type": "code",
   "execution_count": 151,
   "id": "f10af94c-6080-4d3c-98f0-fa965914970f",
   "metadata": {},
   "outputs": [
    {
     "data": {
      "text/plain": [
       "True"
      ]
     },
     "execution_count": 151,
     "metadata": {},
     "output_type": "execute_result"
    }
   ],
   "source": [
    "x.is_contiguous()"
   ]
  },
  {
   "cell_type": "code",
   "execution_count": 152,
   "id": "23f7ad70-1d6e-4a92-a0d5-962e51d099c2",
   "metadata": {},
   "outputs": [
    {
     "data": {
      "text/plain": [
       "True"
      ]
     },
     "execution_count": 152,
     "metadata": {},
     "output_type": "execute_result"
    }
   ],
   "source": [
    "x.view(2, 2, 2).is_contiguous()"
   ]
  },
  {
   "cell_type": "code",
   "execution_count": 153,
   "id": "0a6e6854-9a4a-4954-a98a-b0b335f2489e",
   "metadata": {},
   "outputs": [
    {
     "data": {
      "text/plain": [
       "True"
      ]
     },
     "execution_count": 153,
     "metadata": {},
     "output_type": "execute_result"
    }
   ],
   "source": [
    "x = x.reshape(4, 2)\n",
    "x.view(2, 2, 2).is_contiguous()"
   ]
  },
  {
   "cell_type": "code",
   "execution_count": 156,
   "id": "4724d446-907b-44a8-9a5c-c6936f5cb386",
   "metadata": {},
   "outputs": [
    {
     "ename": "RuntimeError",
     "evalue": "view size is not compatible with input tensor's size and stride (at least one dimension spans across two contiguous subspaces). Use .reshape(...) instead.",
     "output_type": "error",
     "traceback": [
      "\u001b[0;31m---------------------------------------------------------------------------\u001b[0m",
      "\u001b[0;31mRuntimeError\u001b[0m                              Traceback (most recent call last)",
      "Cell \u001b[0;32mIn[156], line 1\u001b[0m\n\u001b[0;32m----> 1\u001b[0m \u001b[43mx\u001b[49m\u001b[38;5;241;43m.\u001b[39;49m\u001b[43mt\u001b[49m\u001b[43m(\u001b[49m\u001b[43m)\u001b[49m\u001b[38;5;241;43m.\u001b[39;49m\u001b[43mview\u001b[49m\u001b[43m(\u001b[49m\u001b[38;5;241;43m4\u001b[39;49m\u001b[43m,\u001b[49m\u001b[43m \u001b[49m\u001b[38;5;241;43m2\u001b[39;49m\u001b[43m)\u001b[49m\n",
      "\u001b[0;31mRuntimeError\u001b[0m: view size is not compatible with input tensor's size and stride (at least one dimension spans across two contiguous subspaces). Use .reshape(...) instead."
     ]
    }
   ],
   "source": [
    "x.t().view(4, 2)"
   ]
  },
  {
   "cell_type": "code",
   "execution_count": null,
   "id": "82454cc4-eb64-44b7-abb7-6cf0dcf134cd",
   "metadata": {},
   "outputs": [],
   "source": []
  },
  {
   "cell_type": "markdown",
   "id": "83f6b528-38d4-42f7-9dbb-48d7e9d27f56",
   "metadata": {},
   "source": [
    "# MiniGato\n",
    "\n",
    "From the paper [A Generalist Agent](https://arxiv.org/abs/2205.06175).\n",
    "\n",
    "The paper doesn't introduce a new architecture. Instead, the paper is all about tokenizing, embedding, and sequencing data from multiple modalities (text, image, proprioception) in such a way that it can be learned by a transformer.\n",
    "\n",
    "Reproducing the paper is more of a software design exercise than an ML research exercise. How would you structure the data manipulation code – the tokenization, embedding, and sequencing of different modalities – in a way that's correct, easy to understand and extend, and performant?"
   ]
  },
  {
   "cell_type": "code",
   "execution_count": 19,
   "id": "bf53c804-965d-4fb2-bf74-b438c00169d0",
   "metadata": {
    "jupyter": {
     "source_hidden": true
    }
   },
   "outputs": [
    {
     "data": {
      "text/plain": [
       "<module 'mini_gato.util' from '/home/eihli/src/mini_gato/mini_gato/util.py'>"
      ]
     },
     "execution_count": 19,
     "metadata": {},
     "output_type": "execute_result"
    }
   ],
   "source": [
    "import mini_gato\n",
    "import mini_gato.util\n",
    "import importlib\n",
    "importlib.reload(mini_gato.util)"
   ]
  },
  {
   "cell_type": "code",
   "execution_count": 20,
   "id": "65ef7230-f75d-4c5a-9efb-919b14d0ba89",
   "metadata": {},
   "outputs": [],
   "source": [
    "from abc import ABC, abstractmethod\n",
    "from collections import defaultdict, OrderedDict\n",
    "from itertools import cycle\n",
    "import math\n",
    "import os\n",
    "from pathlib import Path\n",
    "import pdb\n",
    "import random\n",
    "import re\n",
    "import tempfile\n",
    "from typing import List, Protocol\n",
    "from dataclasses import dataclass, fields\n",
    "import datasets\n",
    "from einops import rearrange\n",
    "from functools import partial\n",
    "from mini_gato.nano_gpt import GPT, GPTConfig\n",
    "import numpy as np\n",
    "import matplotlib.pyplot as plt\n",
    "import minari\n",
    "from mini_gato.util import (\n",
    "    tensor_as_gif, TransformDataset,\n",
    "    images_to_patches, patches_to_images, normalize_to_between_minus_one_plus_one,\n",
    "    apply_along_dimension, discretize, undiscretize,\n",
    "    interleave, deinterleave,\n",
    ")\n",
    "import minigrid.core\n",
    "import requests\n",
    "from timm.models.resnetv2 import ResNetV2\n",
    "import tiktoken\n",
    "import torch\n",
    "import torch.nn.functional as F\n",
    "import torchvision.transforms.v2 as transforms\n",
    "from torchvision.transforms.functional import pil_to_tensor\n",
    "from torch.utils.data import Dataset, DataLoader"
   ]
  },
  {
   "cell_type": "code",
   "execution_count": 21,
   "id": "61391e79-d4e3-40c7-b16c-f9c229a99f5d",
   "metadata": {},
   "outputs": [],
   "source": [
    "text_tokenizer = tiktoken.get_encoding(\"r50k_base\")"
   ]
  },
  {
   "cell_type": "code",
   "execution_count": 22,
   "id": "4288e6c6-a5ee-4196-af33-633a971d68e6",
   "metadata": {},
   "outputs": [
    {
     "data": {
      "text/plain": [
       "[6513, 30973]"
      ]
     },
     "execution_count": 22,
     "metadata": {},
     "output_type": "execute_result"
    }
   ],
   "source": [
    "text_tokenizer.encode(\"foobar\")"
   ]
  },
  {
   "cell_type": "code",
   "execution_count": 23,
   "id": "dd5a813a-f41b-435b-b76f-4c143ebd3b58",
   "metadata": {},
   "outputs": [
    {
     "data": {
      "text/plain": [
       "50256"
      ]
     },
     "execution_count": 23,
     "metadata": {},
     "output_type": "execute_result"
    }
   ],
   "source": [
    "text_tokenizer.eot_token"
   ]
  },
  {
   "cell_type": "markdown",
   "id": "ce9e1dec-bed5-4709-bc8f-4a70e1e02667",
   "metadata": {},
   "source": [
    "## Tokenization [§ 2.1](https://arxiv.org/pdf/2205.06175)\n",
    "\n",
    "> There are infinite possible ways to transform data into tokens, including directly using the raw underlying byte stream.\n",
    "\n",
    "We're going to start off with a certain set of tokenization strategies for a certain set of modalities. We might want to expand that in the future. When that happens, I don't want to have to edit code in the PyTorch Module that implements our model code. I'd rather be able to add a new class of modality that implements a \"tokenization\" signature."
   ]
  },
  {
   "cell_type": "code",
   "execution_count": 24,
   "id": "aed204ac-cb60-4ff0-b4e9-5e11694307c9",
   "metadata": {},
   "outputs": [],
   "source": [
    "class TextTokenizer(Protocol):\n",
    "    n_vocab: int\n",
    "    eot_token: int\n",
    "    def encode(self, text: str) -> List[int]:\n",
    "        ...\n",
    "    def decode(self, tokens: List[int]) -> str:\n",
    "        ...\n",
    "\n",
    "class Tokenizer:\n",
    "    def __init__(self, text_tokenizer: TextTokenizer):\n",
    "        self.text_tokenizer = text_tokenizer\n",
    "        self.eot_token = text_tokenizer.eot_token\n",
    "        self.n_text = text_tokenizer.n_vocab\n",
    "        self.n_discrete = 1024\n",
    "        self.n_modalities = 1024\n",
    "        self.boa_token = 1023  # Separator between observation and action.\n",
    "\n",
    "    # It's useful to know if tokens are of a particular modality – text, image, discrete, etc...\n",
    "    #\n",
    "    # Why?\n",
    "    #\n",
    "    # Embedding, for example. Images get embedded with a ResNetV2 block. Text and\n",
    "    # discrete get embedded with an nn.Embedding lookup table.\n",
    "    #\n",
    "    # We can tell what modality something is by simply checking the range of its tokens.\n",
    "    # Text is in the range [0, 50256) for the tiktoken tokenizer.\n",
    "    # Discrete and continuous are in the range [50257, 51281) – the 1024 tokens after vocab.\n",
    "    # Images are floats and have a different shape because they get patched.\n",
    "    def is_text(self, tokens: torch.Tensor) -> bool:\n",
    "        return 0 <= tokens[0, 0, 0] < self.n_text\n",
    "\n",
    "    def is_discrete(self, tokens: torch.Tensor) -> bool:\n",
    "        return self.n_text <= tokens[0, 0, 0] < self.n_text + self.n_discrete\n",
    "\n",
    "    def is_image(self, tokens: torch.Tensor) -> bool:\n",
    "        return tokens.size(-1) > 1  # Images are the only modality that have a channel dim > 1.\n",
    "\n",
    "    def encode_text(self, text: str) -> torch.Tensor:\n",
    "        return torch.tensor([self.eot_token, *self.text_tokenizer.encode(text), self.eot_token]).reshape(1, -1, 1)\n",
    "\n",
    "    def decode_text(self, tokens: torch.Tensor) -> str:\n",
    "        return self.text_tokenizer.decode(tokens.squeeze()[1:-1].tolist())\n",
    "        \n",
    "    def encode_discrete(self, tokens: List[int], is_action=False) -> torch.Tensor:\n",
    "        if is_action:\n",
    "            return (torch.tensor([self.boa_token] + tokens) + self.n_text).reshape(1, -1, 1)\n",
    "        else:\n",
    "            return (torch.tensor(tokens) + self.n_text).reshape(1, -1, 1)\n",
    "        \n",
    "    def decode_discrete(self, tokens: torch.Tensor) -> List[int]:\n",
    "        return (tokens - self.n_text).squeeze().tolist()\n",
    "\n",
    "    # TODO:\n",
    "    # The paper says to mu-law encode continuous values.\n",
    "    # We're not doing that yet.\n",
    "    def encode_continuous(self, tokens: List[float], is_action=False) -> torch.Tensor:\n",
    "        if is_action:\n",
    "            return (discretize(torch.tensor([self.boa_token] + tokens)) + self.n_text).reshape(1, -1, 1)\n",
    "        else:\n",
    "            return (discretize(torch.tensor(tokens)) + self.n_text).reshape(1, -1, 1)\n",
    "\n",
    "    # This is going to be a lossy decode. The paper says to clip companded values so that\n",
    "    # they fall within the range [-1, 1]. The paper says actions are only defined in the range [-1, 1]\n",
    "    # for all of their environments, so it doesn't hurt in practice. But if you expect to be able\n",
    "    # to compand/uncompand, you'll be disappointed.\n",
    "    def decode_continuous(self, tokens: torch.Tensor) -> List[float]:\n",
    "        return undiscretize(self, tokens).tolist()\n",
    "\n",
    "    def encode_image(self, image, patch_size=16):\n",
    "        patches = images_to_patches(image, patch_size=patch_size)\n",
    "        xs = (\n",
    "            apply_along_dimension(\n",
    "                normalize_to_between_minus_one_plus_one, 1, patches\n",
    "            )\n",
    "            / math.sqrt(patch_size)\n",
    "        )        \n",
    "        return xs.unsqueeze(0)\n",
    "    \n",
    "    def decode_image(self, tokens, image_shape=(3, 192, 192), patch_size=16):\n",
    "        # Lossy because I'm not saving the values used for scaling from encoding.\n",
    "        patches = (tokens * math.sqrt(patch_size) + 1) / 2\n",
    "        images = patches_to_images(patches, image_shape, patch_size=patch_size)\n",
    "        return images        "
   ]
  },
  {
   "cell_type": "markdown",
   "id": "d9e86485-176f-4e47-b32b-ff94f8f4a663",
   "metadata": {},
   "source": [
    "#### Examples"
   ]
  },
  {
   "cell_type": "code",
   "execution_count": 25,
   "id": "0059cf4a-6e8f-4174-91e9-baff3e2ed856",
   "metadata": {},
   "outputs": [
    {
     "data": {
      "text/plain": [
       "(tensor([-3.0000, -1.5000,  0.0000,  1.5000,  3.0000,  4.5000,  6.0000]),\n",
       " tensor([   0,  171,  342,  512,  682,  853, 1023]),\n",
       " tensor([-2.9956, -1.4927,  0.0103,  1.5044,  2.9985,  4.5015,  5.9956]))"
      ]
     },
     "execution_count": 25,
     "metadata": {},
     "output_type": "execute_result"
    }
   ],
   "source": [
    "x = torch.arange(-2, 5) * 1.5\n",
    "x, discretize(x), undiscretize(discretize(x), x.min(), x.max())"
   ]
  },
  {
   "cell_type": "markdown",
   "id": "666e4895-b57d-480a-8620-c25887a285ff",
   "metadata": {},
   "source": [
    "Think about how you would tokenize and batch the examples below?\n",
    "\n",
    "Keep in mind: samples might have different numbers of episodes and different numbers of tokens for a given key ('mission', 'image', 'action', etc...)\n",
    "\n",
    "- One sample might have 19 episodes with a mission of \"reach the goal\".\n",
    "- Another sample might have 12 episodes with a mission of \"find the green key\".\n",
    "- Another might have 17 episodes where the first 10 have a mission of \"find the green key\" and the last 7 have a mission of \"exit through the green door\".\n",
    "\n",
    "All of that means you're going to have to pad along several different dimensions.\n",
    "\n",
    "Note that we can't stack these until both pad _and_ embed."
   ]
  },
  {
   "cell_type": "code",
   "execution_count": 26,
   "id": "c59746ce-f512-4d0f-a173-57f575fc9bab",
   "metadata": {},
   "outputs": [],
   "source": [
    "examples = [\n",
    "    {\n",
    "        # Continuous/Discrete/Text looks like this:\n",
    "        #\n",
    "        #                                 Episodes\n",
    "        #                                 |  Tokens\n",
    "        #                                 |  |  Channels\n",
    "        #                                 |  |  |\n",
    "        'mission': torch.arange(2*3).view(2, 3, 1),\n",
    "        # Images look like this:\n",
    "        #\n",
    "        #                                  Episodes\n",
    "        #                                  |  Height\n",
    "        #                                  |  |  Width\n",
    "        #                                  |  |  |  Channels\n",
    "        #                                  |  |  |  |\n",
    "        'image': torch.randn(2*7*7*3).view(2, 7, 7, 3),\n",
    "        'action': torch.arange(2*1).view(2, 1, 1),\n",
    "    },\n",
    "    {\n",
    "        'mission': torch.arange(3*4).view(3, 4, 1),\n",
    "        'image': torch.randn(2*7*7*3).view(2, 7, 7, 3),\n",
    "        'action': torch.arange(3*1).view(3, 1, 1),\n",
    "    },\n",
    "]"
   ]
  },
  {
   "cell_type": "code",
   "execution_count": 27,
   "id": "91ef37e2-58be-466a-adf0-44d39bc919db",
   "metadata": {},
   "outputs": [],
   "source": [
    "tokenizer = Tokenizer(text_tokenizer)"
   ]
  },
  {
   "cell_type": "code",
   "execution_count": 28,
   "id": "20954d48-8ed2-481c-8073-2fadfbc50bb6",
   "metadata": {},
   "outputs": [
    {
     "data": {
      "text/plain": [
       "(torch.Size([1, 6, 1]),\n",
       " tensor([[[50256],\n",
       "          [15496],\n",
       "          [   11],\n",
       "          [  995],\n",
       "          [    0],\n",
       "          [50256]]]))"
      ]
     },
     "execution_count": 28,
     "metadata": {},
     "output_type": "execute_result"
    }
   ],
   "source": [
    "tokens = tokenizer.encode_text(\"Hello, world!\")\n",
    "tokens.shape, tokens"
   ]
  },
  {
   "cell_type": "code",
   "execution_count": 29,
   "id": "0cc05924-72a4-4bd2-adb7-c3eab33cee94",
   "metadata": {},
   "outputs": [
    {
     "data": {
      "text/plain": [
       "'Hello, world!'"
      ]
     },
     "execution_count": 29,
     "metadata": {},
     "output_type": "execute_result"
    }
   ],
   "source": [
    "tokenizer.decode_text(tokens)"
   ]
  },
  {
   "cell_type": "code",
   "execution_count": 30,
   "id": "ed210e50-f2ef-48d0-832b-c8b10e981d7d",
   "metadata": {},
   "outputs": [
    {
     "data": {
      "text/plain": [
       "(torch.Size([1, 4, 1]),\n",
       " tensor([[[50257],\n",
       "          [50258],\n",
       "          [50259],\n",
       "          [50260]]]))"
      ]
     },
     "execution_count": 30,
     "metadata": {},
     "output_type": "execute_result"
    }
   ],
   "source": [
    "tokens = tokenizer.encode_discrete([0, 1, 2, 3])\n",
    "tokens.shape, tokens"
   ]
  },
  {
   "cell_type": "code",
   "execution_count": 31,
   "id": "104a43c2-d43b-416c-bac9-2b8d3679502b",
   "metadata": {},
   "outputs": [
    {
     "data": {
      "text/plain": [
       "[0, 1, 2, 3]"
      ]
     },
     "execution_count": 31,
     "metadata": {},
     "output_type": "execute_result"
    }
   ],
   "source": [
    "tokenizer.decode_discrete(tokens)"
   ]
  },
  {
   "cell_type": "markdown",
   "id": "bf677340-8c44-4a5a-bcaf-55f4347d609f",
   "metadata": {},
   "source": [
    "## Image prep"
   ]
  },
  {
   "cell_type": "code",
   "execution_count": 32,
   "id": "fc34a82f-ba64-410a-800a-de6a65db3871",
   "metadata": {},
   "outputs": [],
   "source": [
    "normalize = transforms.Normalize([0.485, 0.456, 0.406], [0.229, 0.224, 0.225])\n",
    "denormalize = transforms.Normalize([-0.485/0.229, -0.456/0.224, -0.406/0.255], [1/0.229, 1/0.224, 1/0.225])"
   ]
  },
  {
   "cell_type": "code",
   "execution_count": 33,
   "id": "d1924e6c-607b-4d5a-b693-35ce0e2f10d1",
   "metadata": {},
   "outputs": [],
   "source": [
    "image_transform = transforms.Compose([\n",
    "    transforms.ToDtype(torch.float32, scale=True),\n",
    "    transforms.RandomResizedCrop((192, 192), (1.0, 1.0)),\n",
    "    normalize,\n",
    "])"
   ]
  },
  {
   "cell_type": "markdown",
   "id": "7c4444f2-a1eb-47d3-8c1d-3ba6313a00b9",
   "metadata": {},
   "source": [
    "## Padding and slicing to fit context window"
   ]
  },
  {
   "cell_type": "code",
   "execution_count": 34,
   "id": "d017525f-2de1-45c7-b204-2989203399d0",
   "metadata": {},
   "outputs": [],
   "source": [
    "SEQUENCE_LENGTH = 1024"
   ]
  },
  {
   "cell_type": "code",
   "execution_count": 35,
   "id": "9f664c20-8db2-4651-a0bf-534ca61933d2",
   "metadata": {
    "scrolled": true
   },
   "outputs": [],
   "source": [
    "# These next 5 functions are helpers for when we need have a sample with\n",
    "# a large number of episodes and creating a sequence from all of them would\n",
    "# be larger than our context window.\n",
    "#\n",
    "# These helpers pick a random index for an episode from the sample\n",
    "# and then slice up to the greatest index that's within our max sequence length.\n",
    "\n",
    "def episode_num_tokens(sample):\n",
    "    return sum([len(v[0]) for v in sample.values()])\n",
    "\n",
    "def sample_num_tokens(sample):\n",
    "    return episode_num_tokens(sample) * next(iter(sample.values())).size(0)\n",
    "\n",
    "def sequence_episode_capacity(sequence_length, sample):\n",
    "    return sequence_length // episode_num_tokens(sample)\n",
    "\n",
    "def random_episode_start_index(sequence_length, sample):\n",
    "    cap = min(next(iter(sample.values())).size(0), sequence_episode_capacity(sequence_length, sample))\n",
    "    return random.randint(0, cap)\n",
    "\n",
    "def slice_to_context_window(sequence_length, sample):\n",
    "    result = OrderedDict()\n",
    "    n = random_episode_start_index(1024, sample)\n",
    "    m = sequence_episode_capacity(1024, sample)\n",
    "    for k in sample.keys():\n",
    "        result[k] = sample[k][n:n+m]\n",
    "    return result"
   ]
  },
  {
   "cell_type": "code",
   "execution_count": 36,
   "id": "c9b9e258-03e5-472e-b6d3-16a81d1c5171",
   "metadata": {
    "scrolled": true
   },
   "outputs": [],
   "source": [
    "# There's a hidden depency in all of this code that `batch` is an OrderedDict.\n",
    "# The order of the keys is the order we'll use to create a sequence of observations for training.\n",
    "def pad(batch, padding_value=0):\n",
    "    padded = OrderedDict()\n",
    "    for k, v in batch[0].items():\n",
    "        episode_length = max(sample[k].size(0) for sample in batch)\n",
    "        token_length = max(sample[k].size(1) for sample in batch)\n",
    "        for sample in batch:\n",
    "            pad = (0, 0, 0, token_length - sample[k].size(1), 0, episode_length - sample[k].size(0))\n",
    "            padded[k] = padded.get(k, [])\n",
    "            padded[k].append(F.pad(sample[k], pad, value=0))\n",
    "    return OrderedDict([\n",
    "        (k, torch.stack(v))\n",
    "        for k, v in padded.items()\n",
    "    ])\n",
    "\n",
    "def mask(batch):\n",
    "    result = OrderedDict()\n",
    "    for k, v in batch[0].items():\n",
    "        episode_lengths = [sample[k].size(0) for sample in batch]\n",
    "        token_lengths = [sample[k].size(1) for sample in batch]\n",
    "        result[k] = torch.zeros(len(batch), max(episode_lengths), max(token_lengths))\n",
    "        for i in range(len(batch)):\n",
    "            result[k][i][:episode_lengths[i], :token_lengths[i]] = 1\n",
    "    return result"
   ]
  },
  {
   "cell_type": "markdown",
   "id": "fe876c1e-577b-438a-aad8-9e6db06164cc",
   "metadata": {},
   "source": [
    "## Datasets"
   ]
  },
  {
   "cell_type": "markdown",
   "id": "0daaf3de-8cc2-4941-b5e1-abe2e1c6367d",
   "metadata": {},
   "source": [
    "### The Four Rooms Dataset\n",
    "\n",
    "Each dataset will need a few customized functions to manipulate the data into something a transformer can use.\n",
    "\n",
    "In the case of the Four Rooms Dataset, that means converting a discrete description of a grid into an image. We probably could have gotten by with encoding the grid as discrete observations. But images give us spatial information thanks to the patch position encoding. Plus, it doesn't seem like it would hurt anything to have more visual data to train on.\n",
    "\n",
    "The functions you'll need for most datasets will be:\n",
    "\n",
    "- miscellanous manipulations, like the Four Rooms grid-observation to an image\n",
    "- tokenizer\n",
    "- collate function"
   ]
  },
  {
   "cell_type": "code",
   "execution_count": 37,
   "id": "4e25bb39-2375-4d38-812e-6d9d4ad74259",
   "metadata": {},
   "outputs": [],
   "source": [
    "# Some FourRooms/Minigrid-specific stuff to turn\n",
    "# a 7x7x3 non-pixel observation into an pixel/image observation.\n",
    "lut = np.zeros((256, 3), dtype=np.uint8)\n",
    "for idx, color_name in minigrid.core.constants.IDX_TO_COLOR.items():\n",
    "    lut[idx] = minigrid.core.constants.COLORS[color_name]\n",
    "\n",
    "def four_rooms_to_rgb(images):\n",
    "    \"\"\"Convert discrete \"image\" observations into actual images.\n",
    "    I'm expecting this will improve our image modality while not losing\n",
    "    much. The downside is we can fit less in our context window. Note:\n",
    "    We might need to overlay the color/type image (index 1) with the\n",
    "    state image (index 2), if we really don't want to lose any info.\"\"\"\n",
    "    # Apply lookup to second channel\n",
    "    return torch.from_numpy(lut[images[:, :, :, 1]]).permute(0, 3, 1, 2)    \n",
    "\n",
    "def tokenize_four_rooms(tokenizer, episode):\n",
    "    mission_tokens = [tokenizer.encode_text(mission) for mission in episode.observations[\"mission\"][:-1]]\n",
    "    direction_tokens = [tokenizer.encode_discrete(direction) for direction in episode.observations[\"direction\"][:-1]]\n",
    "    image = episode.observations[\"image\"][:-1]\n",
    "    image = four_rooms_to_rgb(image)\n",
    "    image_tokens = [tokenizer.encode_image(image) for image in image_transform(image)]\n",
    "    action_tokens = [tokenizer.encode_discrete(action, is_action=True) for action in episode.actions]\n",
    "    return OrderedDict({\n",
    "        'mission': torch.concat(mission_tokens),\n",
    "        'direction': torch.concat(direction_tokens), \n",
    "        'image': torch.concat(image_tokens),\n",
    "        'action': torch.concat(action_tokens),\n",
    "    })\n",
    "\n",
    "def four_rooms_collate_fn(batch, sequence_length=1024):\n",
    "    sliced = [slice_to_context_window(sequence_length, sample) for sample in batch]\n",
    "    padded = pad(sliced)\n",
    "    return padded, mask(sliced)"
   ]
  },
  {
   "cell_type": "code",
   "execution_count": 38,
   "id": "53b3c564-1433-4a6e-acf5-e65b7d5ea6e9",
   "metadata": {},
   "outputs": [],
   "source": [
    "four_rooms_dataset = minari.load_dataset('D4RL/minigrid/fourrooms-v0', download=True)"
   ]
  },
  {
   "cell_type": "code",
   "execution_count": 39,
   "id": "c7a79795-1834-4aaf-8953-e46ffeb6d4cc",
   "metadata": {},
   "outputs": [],
   "source": [
    "four_rooms_dataset_xf = TransformDataset(four_rooms_dataset, partial(tokenize_four_rooms, tokenizer))"
   ]
  },
  {
   "cell_type": "code",
   "execution_count": 40,
   "id": "27550b86-8858-43a2-b1f4-08d63e676a42",
   "metadata": {},
   "outputs": [
    {
     "data": {
      "text/plain": [
       "(torch.Size([19, 5, 1]), torch.Size([19, 1, 1]))"
      ]
     },
     "execution_count": 40,
     "metadata": {},
     "output_type": "execute_result"
    }
   ],
   "source": [
    "four_rooms_dataset_xf[0]['mission'].shape, four_rooms_dataset_xf[0]['action'].shape"
   ]
  },
  {
   "cell_type": "code",
   "execution_count": 42,
   "id": "4ae7a1d6-68c0-4226-83c7-965966bd0640",
   "metadata": {},
   "outputs": [],
   "source": [
    "batch = [four_rooms_dataset_xf[i] for i in range(4)]"
   ]
  },
  {
   "cell_type": "code",
   "execution_count": 43,
   "id": "547e6708-0b64-4439-8f8a-8ff79c27b5d7",
   "metadata": {},
   "outputs": [],
   "source": [
    "padded, masked = four_rooms_collate_fn(batch)"
   ]
  },
  {
   "cell_type": "code",
   "execution_count": 44,
   "id": "0cfed524-ccd7-4bd1-bbd5-3065c5e411ca",
   "metadata": {},
   "outputs": [
    {
     "data": {
      "text/plain": [
       "[torch.Size([4, 6, 5, 1]),\n",
       " torch.Size([4, 6, 1, 1]),\n",
       " torch.Size([4, 6, 144, 768]),\n",
       " torch.Size([4, 6, 1, 1])]"
      ]
     },
     "execution_count": 44,
     "metadata": {},
     "output_type": "execute_result"
    }
   ],
   "source": [
    "[padded[p].shape for p in padded.keys()]"
   ]
  },
  {
   "cell_type": "code",
   "execution_count": 45,
   "id": "3eda8f1d-3695-4ccd-9fbb-bc8d5770bf60",
   "metadata": {},
   "outputs": [
    {
     "data": {
      "text/plain": [
       "[torch.Size([4, 6, 5]),\n",
       " torch.Size([4, 6, 1]),\n",
       " torch.Size([4, 6, 144]),\n",
       " torch.Size([4, 6, 1])]"
      ]
     },
     "execution_count": 45,
     "metadata": {},
     "output_type": "execute_result"
    }
   ],
   "source": [
    "[masked[p].shape for p in masked.keys()]"
   ]
  },
  {
   "cell_type": "code",
   "execution_count": 46,
   "id": "974984d3-6241-4396-8ea0-d30a7238e9f4",
   "metadata": {},
   "outputs": [
    {
     "data": {
      "text/plain": [
       "odict_keys(['mission', 'direction', 'image', 'action'])"
      ]
     },
     "execution_count": 46,
     "metadata": {},
     "output_type": "execute_result"
    }
   ],
   "source": [
    "batch[1].keys()"
   ]
  },
  {
   "cell_type": "markdown",
   "id": "75f5afd4-ce5e-4d8c-9ff0-b457afb66d73",
   "metadata": {},
   "source": [
    "#### Exploring the Four Rooms dataset - Images"
   ]
  },
  {
   "cell_type": "code",
   "execution_count": 47,
   "id": "aa51811f-0154-4d58-b5db-2319ce923c0a",
   "metadata": {},
   "outputs": [
    {
     "data": {
      "image/png": "[encoded data removed]",
      "text/plain": [
       "<Figure size 1200x400 with 8 Axes>"
      ]
     },
     "metadata": {},
     "output_type": "display_data"
    }
   ],
   "source": [
    "fig, axs = plt.subplots(2, 4, figsize=(12, 4))\n",
    "for i in range(2):\n",
    "    for j in range(4):\n",
    "        axs[i][j].imshow(four_rooms_to_rgb(four_rooms_dataset[0].observations['image'][[i*4+j]])[0].permute(1, 2, 0))"
   ]
  },
  {
   "cell_type": "code",
   "execution_count": 48,
   "id": "ebbfc683-8cca-4d8f-bb67-a4e46b9a35a6",
   "metadata": {},
   "outputs": [
    {
     "data": {
      "text/plain": [
       "(1, 7, 7, 3)"
      ]
     },
     "execution_count": 48,
     "metadata": {},
     "output_type": "execute_result"
    }
   ],
   "source": [
    "four_rooms_dataset[0].observations['image'][[i]].shape"
   ]
  },
  {
   "cell_type": "code",
   "execution_count": 49,
   "id": "9512212d-88aa-42c6-9af1-7aef69feda92",
   "metadata": {},
   "outputs": [
    {
     "data": {
      "text/plain": [
       "<matplotlib.image.AxesImage at 0x770eba060740>"
      ]
     },
     "execution_count": 49,
     "metadata": {},
     "output_type": "execute_result"
    },
    {
     "data": {
      "image/png": "[encoded data removed]",
      "text/plain": [
       "<Figure size 640x480 with 1 Axes>"
      ]
     },
     "metadata": {},
     "output_type": "display_data"
    }
   ],
   "source": [
    "patches = four_rooms_dataset_xf[0]['image']\n",
    "plt.imshow(tokenizer.decode_image(patches).permute(0, 2, 3, 1)[4])"
   ]
  },
  {
   "cell_type": "code",
   "execution_count": 50,
   "id": "36807492-4b82-40cf-a6fe-95ac1a85ddb3",
   "metadata": {},
   "outputs": [],
   "source": [
    "patches = four_rooms_dataset_xf[0]['image']\n",
    "tokenizer.decode_image(patches);"
   ]
  },
  {
   "cell_type": "code",
   "execution_count": 51,
   "id": "81740b75-c7ff-4f7c-82e9-555708bb31dd",
   "metadata": {},
   "outputs": [],
   "source": [
    "B, T, C = four_rooms_dataset_xf[0]['image'].shape"
   ]
  },
  {
   "cell_type": "code",
   "execution_count": 52,
   "id": "27cd50ea-eb45-4a2b-997c-f2f7b5e1cedd",
   "metadata": {},
   "outputs": [
    {
     "data": {
      "text/plain": [
       "torch.Size([19, 144, 3, 16, 16])"
      ]
     },
     "execution_count": 52,
     "metadata": {},
     "output_type": "execute_result"
    }
   ],
   "source": [
    "four_rooms_dataset_xf[0]['image'].reshape(B, T, 3, 16, 16).shape"
   ]
  },
  {
   "cell_type": "code",
   "execution_count": 53,
   "id": "0a4475b2-9e7b-46d9-a63c-a8d50e56dc8c",
   "metadata": {},
   "outputs": [
    {
     "data": {
      "text/plain": [
       "torch.Size([19, 3, 192, 192])"
      ]
     },
     "execution_count": 53,
     "metadata": {},
     "output_type": "execute_result"
    }
   ],
   "source": [
    "tokenizer.decode_image(four_rooms_dataset_xf[0]['image']).shape"
   ]
  },
  {
   "cell_type": "code",
   "execution_count": 54,
   "id": "393498f7-a472-47c3-85ba-8160db0357c4",
   "metadata": {},
   "outputs": [
    {
     "data": {
      "text/plain": [
       "(20, 7, 7, 3)"
      ]
     },
     "execution_count": 54,
     "metadata": {},
     "output_type": "execute_result"
    }
   ],
   "source": [
    "four_rooms_dataset[0].observations['image'].shape\n",
    "# 20 \"episodes\" (or \"steps\" that the robot took to complete the task)\n",
    "# 7x7 grid of vision at each step\n",
    "# 3 \"channels\". NOT RGB. (object_type, object_color, object_state)"
   ]
  },
  {
   "cell_type": "code",
   "execution_count": 55,
   "id": "81834b01-30e3-48aa-affc-1c1ed2c35388",
   "metadata": {},
   "outputs": [
    {
     "data": {
      "text/plain": [
       "(torch.Size([20, 3, 7, 7]),\n",
       " tensor([[[255, 255, 255, 100, 255, 255, 255],\n",
       "          [255, 255, 255, 100, 255, 255, 255],\n",
       "          [255, 255, 255, 100, 255, 255, 255],\n",
       "          [255, 255, 255, 100, 255, 255, 255],\n",
       "          [255, 255, 255, 100, 255, 255, 255],\n",
       "          [255, 255, 255, 255, 255, 255, 255],\n",
       "          [100, 100, 100, 100, 100, 100, 100]],\n",
       " \n",
       "         [[  0,   0,   0, 100,   0,   0,   0],\n",
       "          [  0,   0,   0, 100,   0,   0,   0],\n",
       "          [  0,   0,   0, 100,   0,   0,   0],\n",
       "          [  0,   0,   0, 100,   0,   0,   0],\n",
       "          [  0,   0,   0, 100,   0,   0,   0],\n",
       "          [  0,   0,   0,   0,   0,   0,   0],\n",
       "          [100, 100, 100, 100, 100, 100, 100]],\n",
       " \n",
       "         [[  0,   0,   0, 100,   0,   0,   0],\n",
       "          [  0,   0,   0, 100,   0,   0,   0],\n",
       "          [  0,   0,   0, 100,   0,   0,   0],\n",
       "          [  0,   0,   0, 100,   0,   0,   0],\n",
       "          [  0,   0,   0, 100,   0,   0,   0],\n",
       "          [  0,   0,   0,   0,   0,   0,   0],\n",
       "          [100, 100, 100, 100, 100, 100, 100]]], dtype=torch.uint8))"
      ]
     },
     "execution_count": 55,
     "metadata": {},
     "output_type": "execute_result"
    }
   ],
   "source": [
    "images = four_rooms_to_rgb(four_rooms_dataset[0].observations['image'])\n",
    "images.shape, images[0]"
   ]
  },
  {
   "cell_type": "code",
   "execution_count": 56,
   "id": "e4c61629-dae3-4d61-a723-6bebd48eeb8b",
   "metadata": {},
   "outputs": [
    {
     "data": {
      "text/plain": [
       "<matplotlib.image.AxesImage at 0x770eb9fd22d0>"
      ]
     },
     "execution_count": 56,
     "metadata": {},
     "output_type": "execute_result"
    },
    {
     "data": {
      "image/png": "[encoded data removed]",
      "text/plain": [
       "<Figure size 640x480 with 1 Axes>"
      ]
     },
     "metadata": {},
     "output_type": "display_data"
    }
   ],
   "source": [
    "plt.imshow(images[0].permute(1, 2, 0))"
   ]
  },
  {
   "cell_type": "code",
   "execution_count": 57,
   "id": "b12eac3e-ce3c-4e44-a196-1e4be66d3338",
   "metadata": {},
   "outputs": [],
   "source": [
    "from PIL import Image\n",
    "from IPython.display import display, Image as IPythonImage"
   ]
  },
  {
   "cell_type": "code",
   "execution_count": 58,
   "id": "15f1cc1c-4775-418b-a797-60aa4e21d426",
   "metadata": {},
   "outputs": [
    {
     "data": {
      "text/plain": [
       "[<PIL.Image.Image image mode=RGB size=7x7>,\n",
       " <PIL.Image.Image image mode=RGB size=7x7>,\n",
       " <PIL.Image.Image image mode=RGB size=7x7>]"
      ]
     },
     "execution_count": 58,
     "metadata": {},
     "output_type": "execute_result"
    }
   ],
   "source": [
    "# Converting them to PIL Images gives us a convenient way to save the images as a GIF.\n",
    "images = four_rooms_to_rgb(four_rooms_dataset[0].observations['image'])\n",
    "images = images.permute(0, 2, 3, 1).numpy()\n",
    "images = [Image.fromarray(image) for image in images]\n",
    "images[:3]"
   ]
  },
  {
   "cell_type": "code",
   "execution_count": 59,
   "id": "07fd8e9d-08dc-4a90-8041-6c73fc1f734a",
   "metadata": {},
   "outputs": [
    {
     "data": {
      "image/png": "[encoded data removed]",
      "text/plain": [
       "<IPython.core.display.Image object>"
      ]
     },
     "metadata": {
      "image/png": {
       "height": 192,
       "width": 192
      }
     },
     "output_type": "display_data"
    }
   ],
   "source": [
    "import io\n",
    "# But there's a better way!\n",
    "buffer = io.BytesIO()\n",
    "images[0].save(\n",
    "    buffer,\n",
    "    format='GIF',\n",
    "    save_all=True,\n",
    "    append_images=images[1:],\n",
    "    duration=200,\n",
    "    loop=0,\n",
    ")\n",
    "buffer.seek(0)\n",
    "display(IPythonImage(data=buffer.getvalue(), width=192, height=192))"
   ]
  },
  {
   "cell_type": "code",
   "execution_count": 60,
   "id": "8aadf8b5-cc36-4ff7-a40e-54c11a775343",
   "metadata": {},
   "outputs": [],
   "source": [
    "four_rooms_dataloader = DataLoader(four_rooms_dataset_xf, batch_size=4, collate_fn=four_rooms_collate_fn)"
   ]
  },
  {
   "cell_type": "code",
   "execution_count": 61,
   "id": "ee444ddc-34c6-4c48-ae4f-9965fbec6b69",
   "metadata": {},
   "outputs": [],
   "source": [
    "batch = next(iter(four_rooms_dataloader))"
   ]
  },
  {
   "cell_type": "code",
   "execution_count": 62,
   "id": "c1418162-447f-4551-9502-9e22524bf8f2",
   "metadata": {},
   "outputs": [
    {
     "data": {
      "text/plain": [
       "torch.Size([4, 6, 5, 1])"
      ]
     },
     "execution_count": 62,
     "metadata": {},
     "output_type": "execute_result"
    }
   ],
   "source": [
    "batch[0]['mission'].shape"
   ]
  },
  {
   "cell_type": "markdown",
   "id": "eb587868-2ac7-4476-b7d8-eafaa2da4c24",
   "metadata": {},
   "source": [
    "### Visual Question Answering Dataset"
   ]
  },
  {
   "cell_type": "code",
   "execution_count": 63,
   "id": "29a813e2-bf71-4f7c-869a-313007512c5d",
   "metadata": {},
   "outputs": [],
   "source": [
    "vqa_dataset = datasets.load_dataset(\"eihli/micro-ok-vqa\")"
   ]
  },
  {
   "cell_type": "code",
   "execution_count": 64,
   "id": "a6a70f2c-dfb5-4dc2-84f5-c5e24e047b2a",
   "metadata": {},
   "outputs": [],
   "source": [
    "def tokenize_vqa(tokenizer, sample):\n",
    "    question = [tokenizer.encode_text(sample[\"question\"])]\n",
    "    image = [tokenizer.encode_image(image_transform(pil_to_tensor(sample[\"image\"])))]\n",
    "    answer = [tokenizer.encode_text(random.choice(sample[\"answers\"])[\"answer\"])]\n",
    "    return OrderedDict({\n",
    "        'question': torch.stack(question),\n",
    "        'image': torch.stack(image),\n",
    "        'answer': torch.stack(answer),\n",
    "    })\n",
    "\n",
    "def vqa_collate_fn(batch, sequence_length=1024):\n",
    "    sliced = [slice_to_context_window(sequence_length, sample) for sample in batch]\n",
    "    padded = pad_tokens(sliced)\n",
    "    masked = mask(batch)\n",
    "    return padded, masked"
   ]
  },
  {
   "cell_type": "code",
   "execution_count": 65,
   "id": "e183723b-bb11-4f82-a545-3e821da023ca",
   "metadata": {},
   "outputs": [],
   "source": [
    "sample = vqa_dataset['train'][0]"
   ]
  },
  {
   "cell_type": "code",
   "execution_count": 66,
   "id": "81fb8e8a-425f-45eb-bb0b-2d4cf132f6de",
   "metadata": {},
   "outputs": [],
   "source": [
    "tokens = tokenizer.encode_image(image_transform(pil_to_tensor(sample[\"image\"])))"
   ]
  },
  {
   "cell_type": "code",
   "execution_count": 67,
   "id": "df27a94c-26cb-4304-8890-a7b1daf988a5",
   "metadata": {},
   "outputs": [
    {
     "data": {
      "text/plain": [
       "(torch.Size([1, 144, 768]),\n",
       " tensor([[[-0.2378, -0.2437, -0.2390,  ...,  0.1854,  0.1832,  0.1849],\n",
       "          [-0.2446, -0.2466, -0.2453,  ...,  0.2264,  0.2325,  0.2391],\n",
       "          [-0.1818, -0.1153, -0.0956,  ...,  0.2149,  0.2101,  0.2130],\n",
       "          ...,\n",
       "          [ 0.0385,  0.0600,  0.0706,  ...,  0.2237,  0.2288,  0.2367],\n",
       "          [ 0.0707,  0.0894,  0.1001,  ...,  0.2478,  0.2362,  0.0630],\n",
       "          [-0.0377, -0.0938, -0.1630,  ...,  0.1883,  0.1839,  0.1875]]]))"
      ]
     },
     "execution_count": 67,
     "metadata": {},
     "output_type": "execute_result"
    }
   ],
   "source": [
    "tokens.shape, tokens"
   ]
  },
  {
   "cell_type": "code",
   "execution_count": 68,
   "id": "ac887f91-9e9c-4c9b-885d-1a9c2044385c",
   "metadata": {},
   "outputs": [],
   "source": [
    "vqa_dataset_xf = TransformDataset(vqa_dataset[\"train\"], partial(tokenize_vqa, tokenizer))"
   ]
  },
  {
   "cell_type": "code",
   "execution_count": 69,
   "id": "2ab6f147-d35b-4fbe-808f-529dfc037136",
   "metadata": {},
   "outputs": [],
   "source": [
    "sample = four_rooms_dataset_xf[0]"
   ]
  },
  {
   "cell_type": "code",
   "execution_count": 70,
   "id": "991e3e5c-47f4-4c2f-9b08-82f8a6d3020c",
   "metadata": {},
   "outputs": [
    {
     "data": {
      "text/plain": [
       "(torch.Size([1, 1, 12, 1]),\n",
       " torch.Size([1, 1, 144, 768]),\n",
       " 'pony tail',\n",
       " 'What is the hairstyle of the blond called?')"
      ]
     },
     "execution_count": 70,
     "metadata": {},
     "output_type": "execute_result"
    }
   ],
   "source": [
    "sample = vqa_dataset_xf[0]\n",
    "(\n",
    "    sample['question'].shape, \n",
    "    sample['image'].shape, \n",
    "    tokenizer.decode_text(sample['answer'][0]), \n",
    "    tokenizer.decode_text(sample['question'][0])\n",
    ")"
   ]
  },
  {
   "cell_type": "code",
   "execution_count": 71,
   "id": "8ff95e88-ac51-47bf-9fc9-f40e89853012",
   "metadata": {},
   "outputs": [
    {
     "data": {
      "text/plain": [
       "[[[50256], [79], [1647], [7894], [50256]]]"
      ]
     },
     "execution_count": 71,
     "metadata": {},
     "output_type": "execute_result"
    }
   ],
   "source": [
    "sample['answer'][0].tolist()"
   ]
  },
  {
   "cell_type": "markdown",
   "id": "3d240a6c-979a-432f-9f53-6d48ac4a1237",
   "metadata": {},
   "source": [
    "### Shakespeare Dataset"
   ]
  },
  {
   "cell_type": "code",
   "execution_count": 72,
   "id": "175455e5-340b-4d4c-8132-bfd538eae275",
   "metadata": {},
   "outputs": [],
   "source": [
    "def acquire_shakespeare_dataset():\n",
    "    temp_dir = tempfile.gettempdir()\n",
    "    shakespeare_filepath = Path(temp_dir)/\"shakespeare.txt\"\n",
    "    if not os.path.exists(shakespeare_filepath):\n",
    "        data_url = 'https://raw.githubusercontent.com/karpathy/char-rnn/master/data/tinyshakespeare/input.txt'\n",
    "        with open(shakespeare_filepath, 'w', encoding='utf-8') as f:\n",
    "            f.write(requests.get(data_url).text)\n",
    "    \n",
    "    with open(shakespeare_filepath, 'r', encoding='utf-8') as f:\n",
    "        data = f.read()\n",
    "\n",
    "    # Split the dataset into each character's lines.\n",
    "    # Continue taking lines until you have at least 250 words in the sample.\n",
    "    # Add that sample to the dataset.\n",
    "    characters_lines = re.split(r\"\\n\\s*\\n\", data.strip())\n",
    "    MIN_WORDS_PER_BATCH = 250\n",
    "    sample = [characters_lines[0]]\n",
    "    num_words_in_sample = len(characters_lines[0].split())\n",
    "    text_dataset = []\n",
    "    i = 1\n",
    "    while i < len(characters_lines):\n",
    "        if num_words_in_sample > MIN_WORDS_PER_BATCH:\n",
    "            text_dataset.append(\"\\n\\n\".join(sample))\n",
    "            num_words_in_sample -= len(sample[0].split())\n",
    "            sample = sample[1:]\n",
    "        sample += [characters_lines[i]]\n",
    "        num_words_in_sample += len(characters_lines[i].split())\n",
    "        i += 1\n",
    "\n",
    "    return text_dataset"
   ]
  },
  {
   "cell_type": "code",
   "execution_count": 73,
   "id": "fb50e5b2-287f-4ddc-bd73-a0cdd80a3e97",
   "metadata": {},
   "outputs": [],
   "source": [
    "shakespeare_dataset = acquire_shakespeare_dataset()"
   ]
  },
  {
   "cell_type": "code",
   "execution_count": 74,
   "id": "9b66f667-de6b-4f48-a9a4-1cad8d3a3dc6",
   "metadata": {},
   "outputs": [
    {
     "name": "stdout",
     "output_type": "stream",
     "text": [
      "Number of samples in the dataset: 7184\n",
      "Character length of first 3 samples: [1632, 1688, 1891]\n",
      "\n",
      "First 80 characters of first sample:\n",
      "\n",
      "First Citizen:\n",
      "Before we proceed any further, hear me speak.\n",
      "\n",
      "All:\n",
      "Speak, speak.\n"
     ]
    }
   ],
   "source": [
    "print(f\"Number of samples in the dataset: {len(shakespeare_dataset)}\")\n",
    "print(f\"Character length of first 3 samples: {[len(x) for x in shakespeare_dataset[:3]]}\\n\")\n",
    "print(f\"First 80 characters of first sample:\\n\\n{shakespeare_dataset[0][:80]}\")"
   ]
  },
  {
   "cell_type": "code",
   "execution_count": 75,
   "id": "c3a900a0-8e9d-4e4f-979b-537fb4a2f0a0",
   "metadata": {},
   "outputs": [],
   "source": [
    "def tokenize_shakespeare(tokenizer, sample):\n",
    "    text = [tokenizer.encode_text(sample)]\n",
    "    return OrderedDict({\n",
    "        'text': torch.concat(text),\n",
    "    }) \n",
    "\n",
    "def shakespeare_collate_fn(batch, sequence_length=1024):\n",
    "    padded = pad(batch)\n",
    "    masked = mask(batch)\n",
    "    return padded, masked"
   ]
  },
  {
   "cell_type": "code",
   "execution_count": 76,
   "id": "144d4d60-d742-494d-afc2-b6a9edf7b31d",
   "metadata": {},
   "outputs": [],
   "source": [
    "shakespeare_dataset_xf = TransformDataset(shakespeare_dataset, partial(tokenize_shakespeare, tokenizer))\n",
    "shakespeare_dataloader = DataLoader(shakespeare_dataset_xf, batch_size=4, collate_fn=shakespeare_collate_fn)"
   ]
  },
  {
   "cell_type": "code",
   "execution_count": 77,
   "id": "9824741b-1c2f-4f64-a72d-421a61ead312",
   "metadata": {},
   "outputs": [],
   "source": [
    "batch = [shakespeare_dataset_xf[i] for i in range(4)]"
   ]
  },
  {
   "cell_type": "code",
   "execution_count": 78,
   "id": "3211f890-46ad-4962-93fc-946ab25c7b47",
   "metadata": {},
   "outputs": [
    {
     "data": {
      "text/plain": [
       "torch.Size([1, 454, 1])"
      ]
     },
     "execution_count": 78,
     "metadata": {},
     "output_type": "execute_result"
    }
   ],
   "source": [
    "batch[0]['text'].shape"
   ]
  },
  {
   "cell_type": "code",
   "execution_count": 79,
   "id": "41784696-07e2-419f-a53b-e5529262ea02",
   "metadata": {},
   "outputs": [],
   "source": [
    "batched, masked = next(iter(shakespeare_dataloader))"
   ]
  },
  {
   "cell_type": "code",
   "execution_count": 80,
   "id": "97b516fe-abbd-41a8-a7c4-6016ad08a9ba",
   "metadata": {},
   "outputs": [
    {
     "data": {
      "text/plain": [
       "(odict_keys(['text']),\n",
       " torch.Size([4, 1, 522, 1]),\n",
       " torch.Size([4, 1, 522]),\n",
       " OrderedDict([('text',\n",
       "               tensor([[[1., 1., 1.,  ..., 0., 0., 0.]],\n",
       "               \n",
       "                       [[1., 1., 1.,  ..., 0., 0., 0.]],\n",
       "               \n",
       "                       [[1., 1., 1.,  ..., 1., 1., 1.]],\n",
       "               \n",
       "                       [[1., 1., 1.,  ..., 0., 0., 0.]]]))]))"
      ]
     },
     "execution_count": 80,
     "metadata": {},
     "output_type": "execute_result"
    }
   ],
   "source": [
    "batched.keys(), batched['text'].shape, masked['text'].shape, masked"
   ]
  },
  {
   "cell_type": "markdown",
   "id": "d61255f6-e8cc-46fe-b4a6-52045dce7c77",
   "metadata": {},
   "source": [
    "## Embedding"
   ]
  },
  {
   "cell_type": "code",
   "execution_count": 81,
   "id": "ea972ae4-4323-4131-9af2-a4509dc4bdb8",
   "metadata": {},
   "outputs": [],
   "source": [
    "EMBEDDING_DIMS = 512"
   ]
  },
  {
   "cell_type": "code",
   "execution_count": 82,
   "id": "06b6d575-4b9d-492c-bfc1-62eb9047d006",
   "metadata": {},
   "outputs": [],
   "source": [
    "image_embedding = ResNetV2(layers=[3, 4, 6, 3], num_classes=EMBEDDING_DIMS)\n",
    "lookup_embedding = torch.nn.Embedding(tokenizer.n_text + tokenizer.n_discrete + tokenizer.n_modalities, EMBEDDING_DIMS)"
   ]
  },
  {
   "cell_type": "code",
   "execution_count": null,
   "id": "b6728532-c3cc-45a1-86e1-4f7d238d7a5f",
   "metadata": {},
   "outputs": [],
   "source": []
  },
  {
   "cell_type": "code",
   "execution_count": 83,
   "id": "e24fe134-9d36-4648-87a2-fc6bce3ab648",
   "metadata": {},
   "outputs": [],
   "source": [
    "batch, masked = next(iter(four_rooms_dataloader))"
   ]
  },
  {
   "cell_type": "code",
   "execution_count": 84,
   "id": "d1635918-e327-4301-b480-048a347d0476",
   "metadata": {},
   "outputs": [
    {
     "data": {
      "text/plain": [
       "torch.Size([4, 6, 144, 768])"
      ]
     },
     "execution_count": 84,
     "metadata": {},
     "output_type": "execute_result"
    }
   ],
   "source": [
    "image_tokens = batch['image']\n",
    "image_tokens.shape"
   ]
  },
  {
   "cell_type": "code",
   "execution_count": 85,
   "id": "6e9d7cce-b6c8-4375-8a82-a112a48f285b",
   "metadata": {},
   "outputs": [],
   "source": [
    "B, E, T, C = image_tokens.shape\n",
    "patch_size=16"
   ]
  },
  {
   "cell_type": "code",
   "execution_count": 86,
   "id": "83af0d4f-e30f-4583-8d67-ff46fd664776",
   "metadata": {},
   "outputs": [],
   "source": [
    "patch_tokens = image_tokens.view(B*E*T, 3, patch_size, patch_size)\n",
    "patch_embeddings = image_embedding(patch_tokens).view(B, E, T, -1)"
   ]
  },
  {
   "cell_type": "code",
   "execution_count": 87,
   "id": "bfed7ccc-aff9-4d4e-bce9-e47687c74866",
   "metadata": {},
   "outputs": [
    {
     "data": {
      "text/plain": [
       "torch.Size([3456, 3, 16, 16])"
      ]
     },
     "execution_count": 87,
     "metadata": {},
     "output_type": "execute_result"
    }
   ],
   "source": [
    "patch_tokens.shape"
   ]
  },
  {
   "cell_type": "code",
   "execution_count": 88,
   "id": "96afd113-5b85-4e39-a5f6-9e97aca6db0c",
   "metadata": {},
   "outputs": [
    {
     "data": {
      "text/plain": [
       "torch.Size([4, 6, 144, 512])"
      ]
     },
     "execution_count": 88,
     "metadata": {},
     "output_type": "execute_result"
    }
   ],
   "source": [
    "patch_embeddings.shape"
   ]
  },
  {
   "cell_type": "code",
   "execution_count": 89,
   "id": "99712d93-6500-41ba-92c0-fe6bbf5ebfd3",
   "metadata": {},
   "outputs": [
    {
     "data": {
      "text/plain": [
       "torch.Size([4, 6, 5, 1])"
      ]
     },
     "execution_count": 89,
     "metadata": {},
     "output_type": "execute_result"
    }
   ],
   "source": [
    "mission_tokens = batch['mission']\n",
    "mission_tokens.shape"
   ]
  },
  {
   "cell_type": "code",
   "execution_count": 90,
   "id": "c4212d2b-43e2-4ec3-9641-98bbdb6908cc",
   "metadata": {},
   "outputs": [],
   "source": [
    "B, E, T, C = mission_tokens.shape"
   ]
  },
  {
   "cell_type": "code",
   "execution_count": 91,
   "id": "cfdf2c63-77d0-4ddd-bf4c-1887254ac3ac",
   "metadata": {},
   "outputs": [
    {
     "data": {
      "text/plain": [
       "torch.Size([120, 1])"
      ]
     },
     "execution_count": 91,
     "metadata": {},
     "output_type": "execute_result"
    }
   ],
   "source": [
    "mission_tokens.view(B*E*T, -1).shape"
   ]
  },
  {
   "cell_type": "code",
   "execution_count": 92,
   "id": "6058d0f2-edfd-45ae-84a2-4960f73f6106",
   "metadata": {},
   "outputs": [
    {
     "data": {
      "text/plain": [
       "torch.Size([4, 6, 5, 512])"
      ]
     },
     "execution_count": 92,
     "metadata": {},
     "output_type": "execute_result"
    }
   ],
   "source": [
    "mission_embeddings = lookup_embedding(mission_tokens).view(B, E, T, -1)\n",
    "mission_embeddings.shape"
   ]
  },
  {
   "cell_type": "code",
   "execution_count": 93,
   "id": "9ca05665-94b3-466e-b208-283e7ab35f08",
   "metadata": {},
   "outputs": [],
   "source": [
    "from typing import Callable\n",
    "@dataclass\n",
    "class Embedder:\n",
    "    tokenizer: Tokenizer\n",
    "    lookup_embedding: Callable\n",
    "    image_embedding: Callable\n",
    "\n",
    "    def embed(self, data):\n",
    "        B, E, T, C = data.shape\n",
    "        if self.tokenizer.is_image(data):\n",
    "            #                                         (C,  P,  P)\n",
    "            return self.image_embedding(data.view(B*E*T, 3, 16, 16)).view(B, E, T, -1)\n",
    "        else:\n",
    "            return self.lookup_embedding(data.view(B*E*T)).view(B, E, T, -1)\n",
    "\n",
    "def sequence(embedder, batch, mask, sequence_length=1024):\n",
    "    embeddings = torch.concat([embedder.embed(v) for k, v in batch.items()], dim=2)\n",
    "    masks = torch.concat([v for _, v in mask.items()], dim=2)\n",
    "    B, E, T, C = embeddings.shape\n",
    "    embeddings = embeddings.view(B, E*T, C)\n",
    "    masks = masks.view(B, E*T)\n",
    "    return (\n",
    "        F.pad(embeddings, (0, 0, 0, sequence_length - embeddings.size(1), 0, 0), value=0),\n",
    "        F.pad(masks, (0, sequence_length - embeddings.size(1), 0, 0), value=0),\n",
    "    )"
   ]
  },
  {
   "cell_type": "code",
   "execution_count": 94,
   "id": "58fb0974-ea02-43f4-b510-35d38f4a1071",
   "metadata": {},
   "outputs": [],
   "source": [
    "embedder = Embedder(tokenizer, lookup_embedding, image_embedding)"
   ]
  },
  {
   "cell_type": "code",
   "execution_count": 95,
   "id": "39e32244-5265-49ac-ac3d-2c09f9c68b64",
   "metadata": {},
   "outputs": [
    {
     "data": {
      "text/plain": [
       "torch.Size([4, 6, 5, 1])"
      ]
     },
     "execution_count": 95,
     "metadata": {},
     "output_type": "execute_result"
    }
   ],
   "source": [
    "mission_tokens.shape"
   ]
  },
  {
   "cell_type": "code",
   "execution_count": 96,
   "id": "4eac035d-addd-476f-9876-f5b85d361d69",
   "metadata": {},
   "outputs": [
    {
     "data": {
      "text/plain": [
       "torch.Size([4, 6, 5, 512])"
      ]
     },
     "execution_count": 96,
     "metadata": {},
     "output_type": "execute_result"
    }
   ],
   "source": [
    "embedder.embed(mission_tokens).shape"
   ]
  },
  {
   "cell_type": "code",
   "execution_count": 97,
   "id": "c8a50773-b7d1-444e-9d31-a36d40b97932",
   "metadata": {},
   "outputs": [
    {
     "data": {
      "text/plain": [
       "torch.Size([4, 6, 144, 512])"
      ]
     },
     "execution_count": 97,
     "metadata": {},
     "output_type": "execute_result"
    }
   ],
   "source": [
    "embedder.embed(image_tokens).shape"
   ]
  },
  {
   "cell_type": "code",
   "execution_count": 98,
   "id": "c7f8d099-e4fb-4cdd-917b-a5385382bb34",
   "metadata": {},
   "outputs": [],
   "source": [
    "batch, masks = next(iter(four_rooms_dataloader))"
   ]
  },
  {
   "cell_type": "code",
   "execution_count": 99,
   "id": "9aade3ed-fa01-4e7a-81b2-afb495b46ecc",
   "metadata": {},
   "outputs": [
    {
     "data": {
      "text/plain": [
       "(torch.Size([4, 6, 5, 1]), torch.Size([4, 6, 5]))"
      ]
     },
     "execution_count": 99,
     "metadata": {},
     "output_type": "execute_result"
    }
   ],
   "source": [
    "batch['mission'].shape, masks['mission'].shape"
   ]
  },
  {
   "cell_type": "code",
   "execution_count": 100,
   "id": "8398e70b-ff03-42cb-8324-70d4a8a9c589",
   "metadata": {},
   "outputs": [],
   "source": [
    "embeddings = torch.concat([embedder.embed(v) for k, v in batch.items()], dim=2)"
   ]
  },
  {
   "cell_type": "code",
   "execution_count": 101,
   "id": "9a399d5e-5534-4b34-8999-c7970e96af43",
   "metadata": {},
   "outputs": [
    {
     "data": {
      "text/plain": [
       "torch.Size([4, 6, 151, 512])"
      ]
     },
     "execution_count": 101,
     "metadata": {},
     "output_type": "execute_result"
    }
   ],
   "source": [
    "embeddings.shape"
   ]
  },
  {
   "cell_type": "code",
   "execution_count": 102,
   "id": "7bc7ef49-43f2-442f-a8c6-da96efc341a7",
   "metadata": {},
   "outputs": [
    {
     "data": {
      "text/plain": [
       "torch.Size([4, 6, 151])"
      ]
     },
     "execution_count": 102,
     "metadata": {},
     "output_type": "execute_result"
    }
   ],
   "source": [
    "torch.concat([v for v in masks.values()], dim=2).shape"
   ]
  },
  {
   "cell_type": "code",
   "execution_count": 103,
   "id": "166a919a-4ef4-45d7-a9c2-a7ae22aeffbe",
   "metadata": {},
   "outputs": [
    {
     "data": {
      "text/plain": [
       "torch.Size([4, 906, 512])"
      ]
     },
     "execution_count": 103,
     "metadata": {},
     "output_type": "execute_result"
    }
   ],
   "source": [
    "B, E, T, C = embeddings.shape\n",
    "embeddings.view(B, E*T, C).shape"
   ]
  },
  {
   "cell_type": "code",
   "execution_count": 104,
   "id": "e0056aad-a46f-46b2-9348-ebc3d7dc8b94",
   "metadata": {},
   "outputs": [
    {
     "data": {
      "text/plain": [
       "torch.Size([4, 6, 144])"
      ]
     },
     "execution_count": 104,
     "metadata": {},
     "output_type": "execute_result"
    }
   ],
   "source": [
    "masks['image'].shape"
   ]
  },
  {
   "cell_type": "code",
   "execution_count": 105,
   "id": "305e024b-326d-436e-818b-65f699a65a94",
   "metadata": {},
   "outputs": [
    {
     "data": {
      "text/plain": [
       "(collections.OrderedDict, collections.OrderedDict)"
      ]
     },
     "execution_count": 105,
     "metadata": {},
     "output_type": "execute_result"
    }
   ],
   "source": [
    "type(batch), type(masks)"
   ]
  },
  {
   "cell_type": "code",
   "execution_count": 106,
   "id": "72e9fbd2-a329-42ea-a257-f7a81e981364",
   "metadata": {},
   "outputs": [],
   "source": [
    "seq, msk = sequence(embedder, batch, masks)"
   ]
  },
  {
   "cell_type": "code",
   "execution_count": 107,
   "id": "4cfdb8af-ff02-475d-9087-be820be7d4ba",
   "metadata": {},
   "outputs": [
    {
     "data": {
      "text/plain": [
       "(torch.Size([4, 1024, 512]), torch.Size([4, 1024]))"
      ]
     },
     "execution_count": 107,
     "metadata": {},
     "output_type": "execute_result"
    }
   ],
   "source": [
    "seq.shape, msk.shape"
   ]
  },
  {
   "cell_type": "code",
   "execution_count": 108,
   "id": "3c5bfc16-0f30-4eac-882c-cf50b36d2d63",
   "metadata": {},
   "outputs": [],
   "source": [
    "bch, msk = sequence(embedder, batch, masks)"
   ]
  },
  {
   "cell_type": "code",
   "execution_count": 109,
   "id": "bffa6f09-3c7f-4e74-a98e-5f5201d17b9d",
   "metadata": {},
   "outputs": [
    {
     "data": {
      "text/plain": [
       "(torch.Size([4, 1024, 512]), torch.Size([4, 1024]))"
      ]
     },
     "execution_count": 109,
     "metadata": {},
     "output_type": "execute_result"
    }
   ],
   "source": [
    "bch.shape, msk.shape"
   ]
  },
  {
   "cell_type": "code",
   "execution_count": 110,
   "id": "164bd4e0-bb84-412c-a75e-e653ba01962d",
   "metadata": {},
   "outputs": [],
   "source": [
    "batched, masked = next(iter(shakespeare_dataloader))"
   ]
  },
  {
   "cell_type": "code",
   "execution_count": 111,
   "id": "7caabbce-4b06-4d42-896d-19ea2a9a6664",
   "metadata": {},
   "outputs": [],
   "source": [
    "seq, msk = sequence(embedder, batched, masked)"
   ]
  },
  {
   "cell_type": "code",
   "execution_count": 112,
   "id": "75c50f8d-f05f-49f0-802b-64d586fb6442",
   "metadata": {},
   "outputs": [
    {
     "data": {
      "text/plain": [
       "(torch.Size([4, 1024, 512]), torch.Size([4, 1024]))"
      ]
     },
     "execution_count": 112,
     "metadata": {},
     "output_type": "execute_result"
    }
   ],
   "source": [
    "seq.shape, msk.shape"
   ]
  },
  {
   "cell_type": "code",
   "execution_count": 113,
   "id": "e54557f1-9b75-4ae2-8666-0af79567f68f",
   "metadata": {},
   "outputs": [
    {
     "data": {
      "text/plain": [
       "tensor([[1., 1., 1.,  ..., 0., 0., 0.],\n",
       "        [1., 1., 1.,  ..., 0., 0., 0.],\n",
       "        [1., 1., 1.,  ..., 0., 0., 0.],\n",
       "        [1., 1., 1.,  ..., 0., 0., 0.]])"
      ]
     },
     "execution_count": 113,
     "metadata": {},
     "output_type": "execute_result"
    }
   ],
   "source": [
    "msk"
   ]
  },
  {
   "cell_type": "markdown",
   "id": "5046c952-05c4-4b58-a1bc-36298c25c7c7",
   "metadata": {},
   "source": [
    "## Continuous Dataset"
   ]
  },
  {
   "cell_type": "code",
   "execution_count": 114,
   "id": "6fb210a3-c7b6-4565-ab21-d70f4e75ec02",
   "metadata": {},
   "outputs": [],
   "source": [
    "pointmaze_dataset = minari.load_dataset('D4RL/pointmaze/open-v2', download=True)"
   ]
  },
  {
   "cell_type": "code",
   "execution_count": 115,
   "id": "b6aaa335-bbd9-4e70-991e-35008e35a88d",
   "metadata": {},
   "outputs": [
    {
     "data": {
      "text/plain": [
       "dict_keys(['achieved_goal', 'desired_goal', 'observation'])"
      ]
     },
     "execution_count": 115,
     "metadata": {},
     "output_type": "execute_result"
    }
   ],
   "source": [
    "pointmaze_dataset[0].observations.keys()"
   ]
  },
  {
   "cell_type": "code",
   "execution_count": 116,
   "id": "2c6529cf-ea02-4ceb-9df2-7e93f2af7abd",
   "metadata": {},
   "outputs": [],
   "source": [
    "def tokenize_pointmaze(tokenizer, sample):\n",
    "    goal_tokens = [tokenizer.encode_continuous(goal) for goal in sample.observations[\"desired_goal\"][:-1]]\n",
    "    action_tokens = [tokenizer.encode_continuous(action, is_action=True) for action in sample.actions]\n",
    "    return OrderedDict({\n",
    "        'goal': torch.concat(goal_tokens),\n",
    "        'action': torch.concat(action_tokens), \n",
    "    })\n",
    "\n",
    "def pointmaze_collate_fn(batch, sequence_length=1024):\n",
    "    sliced = [slice_to_context_window(sequence_length, sample) for sample in batch]\n",
    "    padded = pad(sliced)\n",
    "    if padded['goal'].size(1) == 0:\n",
    "        pdb.set_trace()\n",
    "    return padded, mask(sliced)"
   ]
  },
  {
   "cell_type": "code",
   "execution_count": 117,
   "id": "8df41dff-1460-4455-86c1-aad72a899639",
   "metadata": {},
   "outputs": [],
   "source": [
    "pointmaze_dataset_xf = TransformDataset(pointmaze_dataset, partial(tokenize_pointmaze, tokenizer))\n",
    "pointmaze_dataloader = DataLoader(pointmaze_dataset_xf, batch_size=4, collate_fn=pointmaze_collate_fn)"
   ]
  },
  {
   "cell_type": "code",
   "execution_count": 118,
   "id": "4b67ceba-94ac-4b2f-81eb-65d4b7327314",
   "metadata": {},
   "outputs": [],
   "source": [
    "it = iter(pointmaze_dataloader)"
   ]
  },
  {
   "cell_type": "code",
   "execution_count": 147,
   "id": "4fc3017a-8fc2-4d14-bd93-3749ccf7728a",
   "metadata": {},
   "outputs": [],
   "source": [
    "batched, masked = next(it)"
   ]
  },
  {
   "cell_type": "code",
   "execution_count": 148,
   "id": "faa56263-221c-4cb7-ab17-0cd65e14a09d",
   "metadata": {},
   "outputs": [
    {
     "data": {
      "text/plain": [
       "[torch.Size([4, 157, 2, 1]), torch.Size([4, 157, 2, 1])]"
      ]
     },
     "execution_count": 148,
     "metadata": {},
     "output_type": "execute_result"
    }
   ],
   "source": [
    "[v.shape for v in batched.values()]"
   ]
  },
  {
   "cell_type": "code",
   "execution_count": 121,
   "id": "188ddf19-c384-426f-b298-598d38b22f8e",
   "metadata": {},
   "outputs": [],
   "source": [
    "batch = [pointmaze_dataset_xf[i] for i in range(4)]"
   ]
  },
  {
   "cell_type": "code",
   "execution_count": 127,
   "id": "d605ed92-80d3-4a13-b3a6-2cc23f3d6993",
   "metadata": {},
   "outputs": [],
   "source": [
    "batch[0].values();"
   ]
  },
  {
   "cell_type": "code",
   "execution_count": 130,
   "id": "3d6652cf-4919-42a3-a287-8094913eca3d",
   "metadata": {},
   "outputs": [
    {
     "data": {
      "text/plain": [
       "torch.Size([4, 72, 2, 1])"
      ]
     },
     "execution_count": 130,
     "metadata": {},
     "output_type": "execute_result"
    }
   ],
   "source": [
    "pointmaze_collate_fn(batch)[0]['action'].shape"
   ]
  },
  {
   "cell_type": "code",
   "execution_count": null,
   "id": "5050993e-dabe-4a68-af7a-f8087bee0d13",
   "metadata": {},
   "outputs": [],
   "source": [
    "shakespeare_dataset_xf = TransformDataset(shakespeare_dataset, partial(tokenize_shakespeare, tokenizer))\n",
    "shakespeare_dataloader = DataLoader(shakespeare_dataset_xf, batch_size=4, collate_fn=shakespeare_collate_fn)"
   ]
  },
  {
   "cell_type": "code",
   "execution_count": null,
   "id": "963b9bbc-f76a-40d0-82e7-d77f2f971632",
   "metadata": {},
   "outputs": [],
   "source": []
  },
  {
   "cell_type": "code",
   "execution_count": null,
   "id": "9156f450-b55f-4a54-9a15-15fe741e81c1",
   "metadata": {},
   "outputs": [],
   "source": []
  },
  {
   "cell_type": "code",
   "execution_count": null,
   "id": "d91fd3b4-e5ca-46cb-9044-5d14b06c81b1",
   "metadata": {},
   "outputs": [],
   "source": []
  },
  {
   "cell_type": "code",
   "execution_count": null,
   "id": "9dc787bc-596d-444d-ae93-82c2d3e3f068",
   "metadata": {},
   "outputs": [],
   "source": []
  },
  {
   "cell_type": "code",
   "execution_count": null,
   "id": "446ef119-918b-4cf9-b6aa-f335a76de813",
   "metadata": {},
   "outputs": [],
   "source": []
  },
  {
   "cell_type": "code",
   "execution_count": null,
   "id": "33872971-88d2-4489-bf40-8f5fd56b3342",
   "metadata": {},
   "outputs": [],
   "source": []
  },
  {
   "cell_type": "code",
   "execution_count": null,
   "id": "5e1022d2-bc04-4deb-9ca1-c319ff619470",
   "metadata": {},
   "outputs": [],
   "source": []
  }
 ],
 "metadata": {
  "kernelspec": {
   "display_name": "Python 3 (ipykernel)",
   "language": "python",
   "name": "python3"
  },
  "language_info": {
   "codemirror_mode": {
    "name": "ipython",
    "version": 3
   },
   "file_extension": ".py",
   "mimetype": "text/x-python",
   "name": "python",
   "nbconvert_exporter": "python",
   "pygments_lexer": "ipython3",
   "version": "3.12.4"
  }
 },
 "nbformat": 4,
 "nbformat_minor": 5
}
