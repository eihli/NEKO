{
 "cells": [
  {
   "cell_type": "code",
   "execution_count": 1,
   "id": "949b7cdb-1309-4a42-af31-70ddbbaa978f",
   "metadata": {},
   "outputs": [],
   "source": [
    "from typing import Callable\n",
    "from dataclasses import dataclass, fields\n",
    "from functools import partial\n",
    "from itertools import cycle\n",
    "import os\n",
    "from pathlib import Path\n",
    "import pdb\n",
    "import random\n",
    "import re\n",
    "import tempfile\n",
    "from einops import rearrange\n",
    "import datasets\n",
    "import numpy as np\n",
    "import matplotlib.pyplot as plt\n",
    "import minari\n",
    "from minigrid.core import constants as mgc\n",
    "import requests\n",
    "import torch\n",
    "import torch.nn as nn\n",
    "import torch.nn.functional as F\n",
    "from torch.utils.data import Dataset, DataLoader\n",
    "from torch.utils.data.distributed import DistributedSampler\n",
    "from torchvision.models import resnet18, ResNet18_Weights\n",
    "import torchvision.transforms.v2 as transforms\n",
    "from tqdm.notebook import tqdm\n",
    "from transformers import GPT2Tokenizer, GPT2Config, GPT2Model\n",
    "random.seed(42)"
   ]
  },
  {
   "cell_type": "code",
   "execution_count": 2,
   "id": "b901d325-a96d-463d-88f6-31702432d715",
   "metadata": {},
   "outputs": [],
   "source": [
    "device = torch.device('cuda') if torch.cuda.is_available() else torch.device('cpu')"
   ]
  },
  {
   "cell_type": "code",
   "execution_count": 3,
   "id": "ed7f7ec7-1ea5-4fd0-8210-cbb96e80330f",
   "metadata": {},
   "outputs": [],
   "source": [
    "minigrid_dataset = minari.load_dataset('D4RL/minigrid/fourrooms-v0', download=True)\n",
    "env  = minigrid_dataset.recover_environment()"
   ]
  },
  {
   "cell_type": "code",
   "execution_count": 4,
   "id": "d7a51868-93a6-4a29-b669-b7dca65d3985",
   "metadata": {},
   "outputs": [],
   "source": [
    "# Note on shapes:\n",
    "# You're probably familiar with the old (B, T, C, ...) shape – batch, timestep, channel.\n",
    "@dataclass\n",
    "class TokenData:\n",
    "    tokens: torch.Tensor\n",
    "    targets: torch.Tensor\n",
    "    attention_mask: torch.Tensor\n",
    "    embedding: torch.Tensor = torch.tensor([])  # Optional at first.\n",
    "\n",
    "    def combine(self, other):\n",
    "        \"\"\"Concats attributes of self to attributes of other.\"\"\"\n",
    "        # Requires padding to already be handled.\n",
    "        # Requires shapes to be (T', T, [C, ...])\n",
    "        # Where T' is episode timestep and T is the usual timestep.\n",
    "        return type(self)(\n",
    "            tokens=torch.concat([self.tokens, other.tokens]),\n",
    "            targets=torch.concat([self.targets, other.targets]),\n",
    "            attention_mask=torch.concat([self.attention_mask, other.attention_mask]),\n",
    "            embedding=torch.concat([self.embedding, other.embedding]),\n",
    "            \n",
    "        )\n",
    "\n",
    "    def embed(self, embedder):\n",
    "        return type(self)(\n",
    "            tokens=self.tokens,\n",
    "            targets=self.targets,\n",
    "            attention_mask=self.attention_mask,\n",
    "            embedding=self.embed_fn(embedder)(self.tokens),\n",
    "        ) \n",
    "\n",
    "    def to(self, device):\n",
    "        return type(self)(\n",
    "            tokens=self.tokens.to(device),\n",
    "            targets=self.targets.to(device),\n",
    "            attention_mask=self.attention_mask.to(device),\n",
    "            embedding=self.embedding.to(device),\n",
    "        )\n",
    "        \n",
    "    @property\n",
    "    def size(self):\n",
    "        \"\"\"The number of tokens this will consume of the context window\"\"\"\n",
    "        return self.tokens.size(0) * self.tokens.size(1)\n",
    "\n",
    "class TextTokenData(TokenData):\n",
    "    def embed_fn(self, embedder):\n",
    "        return self.embedder.text\n",
    "\n",
    "class ImageTokenData(TokenData):\n",
    "    def embed_fn(self, embedder):\n",
    "        return self.embedder.image\n",
    "        \n",
    "class DiscreteTokenData(TokenData):\n",
    "    def embed_fn(self, embedder):\n",
    "        return self.embedder.discrete"
   ]
  },
  {
   "cell_type": "code",
   "execution_count": 5,
   "id": "7503a9c7-97ae-47fe-8d43-c92b19671e36",
   "metadata": {},
   "outputs": [],
   "source": [
    "@dataclass\n",
    "class EpisodeData:  # a.k.a \"Observation\"\n",
    "    def __getitem__(self, i):\n",
    "        return type(self)(**{\n",
    "            field.name: type(getattr(self, field.name))(\n",
    "                tokens=getattr(self, field.name).tokens[[i]],\n",
    "                targets=getattr(self, field.name).targets[[i]],\n",
    "                attention_mask=getattr(self, field.name).attention_mask[[i]],\n",
    "            )\n",
    "            for field in fields(self)\n",
    "        })\n",
    "\n",
    "    def combine(self, other):\n",
    "        return type(self)(**{\n",
    "            field.name: getattr(self, field.name).combine(getattr(other, field.name))\n",
    "            for field in fields(self)\n",
    "        })\n",
    "\n",
    "    @property\n",
    "    def size(self):\n",
    "        return sum(getattr(self, field.name).size for field in fields(self))\n",
    "\n",
    "    @property\n",
    "    def num_timesteps(self):\n",
    "        return next(getattr(self, field.name) for field in fields(self)).tokens.size(0)\n",
    "\n",
    "    def embed(self, embedder):\n",
    "        return type(self)(**{\n",
    "            field.name: getattr(self, field.name).embed(embedder)\n",
    "            for field in fields(self)\n",
    "        })\n",
    "\n",
    "    def to(self, device):\n",
    "        return type(self)(**{\n",
    "            field.name: getattr(self, field.name).to(device)\n",
    "            for field in fields(self)\n",
    "        })\n",
    "\n",
    "    def sequence(self, embeddings):\n",
    "        raise Exception('Override me')\n",
    "\n",
    "@dataclass\n",
    "class FourRoomsTimestep(EpisodeData):\n",
    "    mission: TextTokenData  # torch.Size((length of episode subsequence, length of _max_ (pad) mission text tokens))\n",
    "    image: ImageTokenData\n",
    "    direction: DiscreteTokenData\n",
    "    actions: DiscreteTokenData\n",
    "\n",
    "    def sequence(self, sequence_length):\n",
    "        xs = torch.concat([self.mission.embedding, self.image.embedding, self.direction.embedding, self.actions.embedding], dim=1)\n",
    "        ys = torch.concat([self.mission.targets, self.image.targets, self.direction.targets, self.actions.targets], dim=1)\n",
    "        ms = torch.concat([self.mission.attention_mask, self.image.attention_mask, self.direction.attention_mask, self.actions.attention_mask], dim=1)\n",
    "        T, S, C = xs.shape\n",
    "        xs, ys, ms = xs.reshape(T*S, C), ys.reshape(T*S), ms.reshape(T*S)\n",
    "        padding_len = sequence_length - T*S\n",
    "        xs = F.pad(xs, (0, 0, 0, padding_len), value=0)\n",
    "        ys, ms = [F.pad(x, (0, padding_len), value=0) for x in [ys, ms]]\n",
    "        return xs, ys, ms\n",
    "\n",
    "@dataclass\n",
    "class TextTimestep(EpisodeData):\n",
    "    text: TextTokenData\n",
    "    \n",
    "    def sequence(self, _):\n",
    "        return self.text.embedding.squeeze(0), self.text.targets.squeeze(0), self.text.attention_mask.squeeze(0)\n",
    "\n",
    "@dataclass\n",
    "class VQATimestep(EpisodeData):\n",
    "    question: TextTokenData\n",
    "    image: ImageTokenData\n",
    "    answer: TextTokenData\n",
    "    \n",
    "    def sequence(self, sequence_length):\n",
    "        xs = torch.concat([self.question.embedding, self.image.embedding, self.answer.embedding], dim=1)\n",
    "        ys = torch.concat([self.question.targets, self.image.targets, self.answer.targets], dim=1)\n",
    "        ms = torch.concat([self.question.attention_mask, self.image.attention_mask, self.answer.attention_mask], dim=1)\n",
    "        T, S, C = xs.shape\n",
    "        xs, ys, ms = xs.reshape(T*S, C), ys.reshape(T*S), ms.reshape(T*S)\n",
    "        padding_len = sequence_length - T*S\n",
    "        xs = F.pad(xs, (0, 0, 0, padding_len), value=0)\n",
    "        ys, ms = [F.pad(x, (0, padding_len), value=0) for x in [ys, ms]]        \n",
    "        return xs, ys, ms"
   ]
  },
  {
   "cell_type": "code",
   "execution_count": 8,
   "id": "312f9ba5-3195-4562-9f04-3ba50d4ba393",
   "metadata": {},
   "outputs": [],
   "source": [
    "def acquire_shakespeare_dataset():\n",
    "    temp_dir = tempfile.gettempdir()\n",
    "    shakespeare_filepath = Path(temp_dir)/\"shakespeare.txt\"\n",
    "    if not os.path.exists(shakespeare_filepath):\n",
    "        data_url = 'https://raw.githubusercontent.com/karpathy/char-rnn/master/data/tinyshakespeare/input.txt'\n",
    "        with open(shakespeare_filepath, 'w', encoding='utf-8') as f:\n",
    "            f.write(requests.get(data_url).text)\n",
    "    \n",
    "    with open(shakespeare_filepath, 'r', encoding='utf-8') as f:\n",
    "        data = f.read()\n",
    "\n",
    "    # Split the dataset into each character's lines.\n",
    "    # Continue taking lines until you have at least 250 words in the sample.\n",
    "    # Add that sample to the dataset.\n",
    "    characters_lines = re.split(r\"\\n\\s*\\n\", data.strip())\n",
    "    MIN_WORDS_PER_BATCH = 250\n",
    "    sample = [characters_lines[0]]\n",
    "    num_words_in_sample = len(characters_lines[0].split())\n",
    "    text_dataset = []\n",
    "    i = 1\n",
    "    while i < len(characters_lines):\n",
    "        if num_words_in_sample > MIN_WORDS_PER_BATCH:\n",
    "            text_dataset.append(\"\\n\\n\".join(sample))\n",
    "            num_words_in_sample -= len(sample[0].split())\n",
    "            sample = sample[1:]\n",
    "        sample += [characters_lines[i]]\n",
    "        num_words_in_sample += len(characters_lines[i].split())\n",
    "        i += 1\n",
    "\n",
    "    return text_dataset"
   ]
  },
  {
   "cell_type": "code",
   "execution_count": 9,
   "id": "11d13aef-f1de-49a9-80af-c229b24cd55a",
   "metadata": {},
   "outputs": [],
   "source": [
    "shakespeare_dataset = acquire_shakespeare_dataset()"
   ]
  },
  {
   "cell_type": "code",
   "execution_count": 10,
   "id": "e178c9f5-58d1-40f1-926a-83e8e54da57e",
   "metadata": {},
   "outputs": [],
   "source": [
    "vqa_dataset = datasets.load_dataset(\"eihli/micro-ok-vqa\").with_format(\"pt\")"
   ]
  },
  {
   "cell_type": "code",
   "execution_count": 11,
   "id": "19bee90e-e4f9-44a3-ac01-29f7cb30a64b",
   "metadata": {},
   "outputs": [],
   "source": [
    "class Tokenizer:\n",
    "    def __init__(self, text_gen_tokenizer, text_obs_tokenizer):\n",
    "        self.text_gen_tokenizer = text_gen_tokenizer\n",
    "        self.text_obs_tokenizer = text_obs_tokenizer\n",
    "\n",
    "    @property\n",
    "    def bos_token(self):\n",
    "        return self.text_gen_tokenizer.func.bos_token\n",
    "\n",
    "    @property\n",
    "    def eos_token(self):\n",
    "        return self.text_gen_tokenizer.func.eos_token\n",
    "\n",
    "    def text_gen(self, data, **kwargs):\n",
    "        tokenized =  self.text_gen_tokenizer(data, **kwargs)\n",
    "        return TextTokenData(**{\n",
    "            \"tokens\": tokenized[\"input_ids\"][:, :-1].to(torch.long),\n",
    "            \"targets\": tokenized[\"input_ids\"][:, 1:].to(torch.long),\n",
    "            \"attention_mask\": tokenized[\"attention_mask\"][:, :-1],\n",
    "        })\n",
    "\n",
    "    def text_obs(self, data, **kwargs):\n",
    "        tokenized =  self.text_obs_tokenizer(data, **kwargs)\n",
    "        return TextTokenData(**{\n",
    "            \"tokens\": tokenized[\"input_ids\"].to(torch.long),\n",
    "            \"targets\": tokenized[\"input_ids\"].to(torch.long),\n",
    "            \"attention_mask\": torch.zeros_like(tokenized[\"attention_mask\"]),\n",
    "        })\n",
    "\n",
    "    def image(self, data):\n",
    "        if len(data.shape) == 3:\n",
    "          data = data.unsqueeze(0)\n",
    "        patches = images_to_patches(data, patch_size=16)\n",
    "        # Hardcoding as a reminder to do something smarter\n",
    "        SQUARE_ROOT_OF_PATCH_SIZE = 3.464\n",
    "        xs = (\n",
    "            apply_along_dimension(\n",
    "                normalize_to_between_minus_one_plus_one, 2, patches\n",
    "            )\n",
    "            / SQUARE_ROOT_OF_PATCH_SIZE\n",
    "        )\n",
    "        # We don't predict images, but we need ys\n",
    "        # becaues these image ys will be in our\n",
    "        # concatenated ys of text/image/action/etc...\n",
    "        ys = torch.zeros(xs.shape[:2]).to(torch.long)\n",
    "        ms = torch.zeros(xs.shape[:2])  # Same story as above.\n",
    "        return ImageTokenData(tokens=xs, targets=ys, attention_mask=ms)\n",
    "\n",
    "    def discrete_obs(self, data):\n",
    "        if len(data.shape) == 0:\n",
    "            data = data.unsqueeze(0)\n",
    "        if len(data.shape) == 1:\n",
    "            data = data.unsqueeze(1)\n",
    "        xs = data\n",
    "        ys = torch.zeros(xs.shape[:2])\n",
    "        ms = torch.zeros(xs.shape[:2])\n",
    "        return DiscreteTokenData(tokens=xs, targets=ys, attention_mask=ms)\n",
    "\n",
    "    def discrete_act(self, data):\n",
    "        if len(data.shape) == 0:\n",
    "            data = data.unsqueeze(0)\n",
    "        if len(data.shape) == 1:\n",
    "            data = data.unsqueeze(1)\n",
    "        xs = torch.concat([\n",
    "            torch.full((data.size(0), 1), 1023),\n",
    "            data,\n",
    "        ], dim=1)  # Instead of '|' being the separator, like Gato...\n",
    "        ys = torch.concat([\n",
    "            data,\n",
    "            torch.full((data.size(0), 1), 1023),            \n",
    "        ], dim=1)\n",
    "        ms = torch.ones(*ys.shape)\n",
    "        return DiscreteTokenData(tokens=xs, targets=ys, attention_mask=ms)\n",
    "\n",
    "    def continuous(self, data):\n",
    "        raise Exception('TODO: Tokenizer.continuous')"
   ]
  },
  {
   "cell_type": "code",
   "execution_count": 12,
   "id": "3649c8cc-5946-4046-92c5-32c1f210ad65",
   "metadata": {},
   "outputs": [],
   "source": [
    "class TransformDataset(Dataset):\n",
    "    def __init__(self, dataset, transform):\n",
    "        self.dataset = dataset\n",
    "        self.transform = transform\n",
    "\n",
    "    def __len__(self):\n",
    "        return len(self.dataset)\n",
    "\n",
    "    def __getitem__(self, idx):\n",
    "        return self.transform(self.dataset[idx])"
   ]
  },
  {
   "cell_type": "code",
   "execution_count": 13,
   "id": "bae1599c-4eec-453b-af2d-6cffe906c216",
   "metadata": {},
   "outputs": [],
   "source": [
    "SEQUENCE_LENGTH = 1024"
   ]
  },
  {
   "cell_type": "code",
   "execution_count": 14,
   "id": "98e0883f-5c10-40c1-b766-9a0ad9a9839f",
   "metadata": {},
   "outputs": [],
   "source": [
    "__text_tokenizer = GPT2Tokenizer.from_pretrained(\"openai-community/gpt2\", clean_up_tokenization_spaces=True)\n",
    "__text_tokenizer.pad_token = __text_tokenizer.eos_token\n",
    "_text_gen_tokenizer = partial(\n",
    "    __text_tokenizer,\n",
    "    max_length=SEQUENCE_LENGTH+1,\n",
    "    truncation=True,\n",
    "    padding=\"max_length\",\n",
    "    return_tensors=\"pt\",\n",
    ")\n",
    "_text_obs_tokenizer = partial(\n",
    "    __text_tokenizer,\n",
    "    max_length=SEQUENCE_LENGTH,\n",
    "    truncation=True,\n",
    "    padding=\"longest\",\n",
    "    return_tensors=\"pt\",\n",
    ")"
   ]
  },
  {
   "cell_type": "code",
   "execution_count": 15,
   "id": "fff59177-d1b5-4fa5-8354-f59756841803",
   "metadata": {},
   "outputs": [],
   "source": [
    "def images_to_patches(images, patch_size=16):\n",
    "    return rearrange(images, 'b c (h s1) (w s2) -> b (h w) (c s1 s2)', s1=patch_size, s2=patch_size)\n",
    "def normalize_to_between_minus_one_plus_one(t: torch.Tensor):\n",
    "    min_val, max_val = t.min(), t.max()\n",
    "    if min_val == max_val:\n",
    "        return torch.zeros_like(t)\n",
    "    normalized = 2 * (t - min_val) / (max_val - min_val) - 1\n",
    "    return normalized\n",
    "# There's a small deviation in the NEKO codebase from the paper.\n",
    "# The paper normalizes _per patch_. The NEKO codebase currently normalizes _per image_.\n",
    "# https://github.com/eihli/NEKO/blob/master/gato/policy/embeddings.py#L38\n",
    "# This notebook normalizeds per patch. That's what this utility helps.\n",
    "def apply_along_dimension(func, dim, tensor):\n",
    "    tensor = tensor.transpose(0, dim)\n",
    "    shape = tensor.shape\n",
    "    tensor = tensor.reshape(shape[0], -1)\n",
    "    result = torch.stack([func(tensor[:, i]) for i in range(tensor.size(1))], dim=1)\n",
    "    result = result.reshape(shape).transpose(0, dim)\n",
    "    return result"
   ]
  },
  {
   "cell_type": "code",
   "execution_count": 16,
   "id": "831e1f5d-4bf5-4336-bf54-029a7506c11b",
   "metadata": {},
   "outputs": [],
   "source": [
    "# Create lookup table\n",
    "lut = np.zeros((256, 3), dtype=np.uint8)\n",
    "for idx, color_name in mgc.IDX_TO_COLOR.items():\n",
    "    lut[idx] = mgc.COLORS[color_name]\n",
    "\n",
    "def minigrid_to_rgb(episode):\n",
    "    \"\"\"Convert discrete \"image\" observations into actual images.\n",
    "    I'm expecting this will improve our image modality while not losing\n",
    "    much. The downside is we can fit less in our context window. Note:\n",
    "    We might need to overlay the color/type image (index 1) with the\n",
    "    state image (index 2), if we really don't want to lose any info.\"\"\"\n",
    "    # Apply lookup to second channel\n",
    "    image = lut[episode.observations['image'][:, :, :, 1]]\n",
    "    # Convert to PyTorch tensor and permute\n",
    "    image = torch.from_numpy(image).permute(0, 3, 1, 2)\n",
    "    return image\n",
    "\n",
    "image_transform = transforms.Compose([\n",
    "    # No particular reason to use `transforms.Compose` here since we're only doing one transform. But it's nice to know about.\n",
    "    transforms.RandomResizedCrop((192, 192), (0.5, 1.0)),\n",
    "    transforms.ToDtype(torch.float32, scale=True),\n",
    "    transforms.Normalize([0.485, 0.456, 0.406], [0.229, 0.224, 0.225])\n",
    "])\n",
    "\n",
    "def minigrid_tokenizer(tokenizer, episode):\n",
    "    num_timesteps = len(episode.actions)\n",
    "    image = image_transform(minigrid_to_rgb(episode)[:num_timesteps])\n",
    "    image = tokenizer.image(image[:num_timesteps])\n",
    "    mission = tokenizer.text_obs(episode.observations['mission'][:num_timesteps], padding=False)\n",
    "    direction = tokenizer.discrete_obs(torch.from_numpy(episode.observations['direction'])[:num_timesteps])\n",
    "    actions = tokenizer.discrete_act(torch.from_numpy(episode.actions))\n",
    "    return FourRoomsTimestep(mission=mission, image=image, direction=direction, actions=actions)"
   ]
  },
  {
   "cell_type": "code",
   "execution_count": 17,
   "id": "1f72599f-0d98-43da-8a4e-97d57366d875",
   "metadata": {},
   "outputs": [],
   "source": [
    "def vqa_tokenizer(tokenizer, sample):\n",
    "    image = tokenizer.image(image_transform(sample[\"image\"]))\n",
    "    # Pad to longest. Not max length. Max length defaults to sequence length. We need space for the question and answer.\n",
    "    answer = tokenizer.text_gen(random.choice(sample[\"answers\"])[\"answer\"], padding=\"longest\")\n",
    "    question = tokenizer.text_obs(sample[\"question\"])\n",
    "    return VQATimestep(question=question, image=image, answer=answer)"
   ]
  },
  {
   "cell_type": "markdown",
   "id": "aa77431b-0e4a-4c04-80c4-5d7f6dda53f4",
   "metadata": {},
   "source": [
    "### Collation on the GPU:\n",
    "\n",
    "https://pytorch.org/docs/stable/data.html#torch.utils.data.distributed.DistributedSampler\n",
    "\n",
    "```\n",
    ">>> sampler = DistributedSampler(dataset) if is_distributed else None\n",
    ">>> loader = DataLoader(dataset, shuffle=(sampler is None),\n",
    "...                     sampler=sampler)\n",
    ">>> for epoch in range(start_epoch, n_epochs):\n",
    "...     if is_distributed:\n",
    "...         sampler.set_epoch(epoch)\n",
    "...     train(loader)\n",
    "```\n",
    "\n",
    "We can only collate after we embed. Different modalities won't have the same dimensions until after embedding. Do we want to embed in the collate_fn?"
   ]
  },
  {
   "cell_type": "code",
   "execution_count": 18,
   "id": "38d670a2-e681-44f0-a108-ca3190c2e8b7",
   "metadata": {},
   "outputs": [],
   "source": [
    "def minigrid_collate_fn(batch):\n",
    "    result = []\n",
    "    for sample in batch:\n",
    "        i = random.randint(0, sample.num_timesteps - 1)\n",
    "        # Starting at that index, we'll continue adding observations to our context window until\n",
    "        # we run out of space.\n",
    "        step = sample[i]\n",
    "        i += 1\n",
    "        while i < len(sample.actions.tokens) and step.size + step[0].size < SEQUENCE_LENGTH:\n",
    "            step = step.combine(sample[i])\n",
    "            i += 1\n",
    "        result.append(step)\n",
    "    return result"
   ]
  },
  {
   "cell_type": "code",
   "execution_count": 19,
   "id": "27917b2f-aacf-4655-985a-5384d0f4bb7c",
   "metadata": {},
   "outputs": [],
   "source": [
    "def text_tokenizer(tokenizer, text):\n",
    "    return TextTimestep(text=tokenizer.text_gen(tokenizer.bos_token + text + tokenizer.eos_token))"
   ]
  },
  {
   "cell_type": "code",
   "execution_count": 20,
   "id": "4c9b01e0-e4db-469a-9f64-cc969e27b99d",
   "metadata": {},
   "outputs": [],
   "source": [
    "tokenizer = Tokenizer(_text_gen_tokenizer, _text_obs_tokenizer)\n",
    "minigrid_tokenize = partial(minigrid_tokenizer, tokenizer)\n",
    "vqa_tokenize = partial(vqa_tokenizer, tokenizer)"
   ]
  },
  {
   "cell_type": "code",
   "execution_count": 21,
   "id": "bd9f8582-3d47-4dcd-9ea5-6fac980b61b7",
   "metadata": {},
   "outputs": [],
   "source": [
    "text_tokenize = partial(text_tokenizer, tokenizer)"
   ]
  },
  {
   "cell_type": "code",
   "execution_count": 22,
   "id": "f9e6367a-96f1-4799-ab03-ab87f728de2c",
   "metadata": {},
   "outputs": [],
   "source": [
    "BATCH_SIZE=4"
   ]
  },
  {
   "cell_type": "code",
   "execution_count": 23,
   "id": "7f88bdb1-9ef9-47f4-b80a-09ca2241bcca",
   "metadata": {},
   "outputs": [],
   "source": [
    "shakespeare_dataset_xf = TransformDataset(shakespeare_dataset, text_tokenize)\n",
    "minigrid_dataset_xf = TransformDataset(minigrid_dataset, minigrid_tokenize)\n",
    "vqa_dataset_xf = TransformDataset(vqa_dataset['train'], vqa_tokenize)"
   ]
  },
  {
   "cell_type": "markdown",
   "id": "ab782085-0c55-4eee-a85b-1016f0ba8da2",
   "metadata": {},
   "source": [
    "**TODO**: Text is returning TextTokenData and minigrid is returning FourroomsTimestep. I don't like that."
   ]
  },
  {
   "cell_type": "code",
   "execution_count": 24,
   "id": "619eed52-4e50-4f40-afaf-8f7e86ea0efe",
   "metadata": {},
   "outputs": [],
   "source": [
    "shakespeare_dataloader = DataLoader(shakespeare_dataset_xf, batch_size=BATCH_SIZE, collate_fn=lambda x: x)\n",
    "shakespeare_batch = next(iter(shakespeare_dataloader))\n",
    "shakespeare_batch;"
   ]
  },
  {
   "cell_type": "code",
   "execution_count": 25,
   "id": "3ead6b39-d219-44ad-a336-6b9fe2315ad9",
   "metadata": {},
   "outputs": [],
   "source": [
    "minigrid_dataloader = DataLoader(minigrid_dataset_xf, batch_size=BATCH_SIZE, collate_fn=minigrid_collate_fn)\n",
    "minigrid_batch = next(iter(minigrid_dataloader))\n",
    "minigrid_batch;"
   ]
  },
  {
   "cell_type": "code",
   "execution_count": 26,
   "id": "46748389-170e-4fd0-800d-0ab4d7e2fafe",
   "metadata": {},
   "outputs": [],
   "source": [
    "vqa_dataloader = DataLoader(vqa_dataset_xf, batch_size=BATCH_SIZE, collate_fn=lambda x: x)\n",
    "vqa_batch = next(iter(vqa_dataloader))\n",
    "vqa_batch;"
   ]
  },
  {
   "cell_type": "code",
   "execution_count": 27,
   "id": "95e806b1-9d64-4bbf-8604-ce70793e2198",
   "metadata": {
    "scrolled": true
   },
   "outputs": [],
   "source": [
    "# From section 2.2 of the Gato paper:\n",
    "#\n",
    "#    Tokens belonging to image patches for any time-step are embedded using a\n",
    "#    single ResNet (He et al., 2016a) block to obtain a vector per patch. For\n",
    "#    image patch token embeddings, we also add a learnable within-image position\n",
    "#    encoding vector.\n",
    "class ResNetV2Block(nn.Module):\n",
    "    def __init__(self, in_channels, out_channels, stride=1, num_groups=24):\n",
    "        super(ResNetV2Block, self).__init__()\n",
    "        self.gn1 = nn.GroupNorm(1, in_channels)\n",
    "        self.gelu = nn.GELU()\n",
    "        self.conv1 = nn.Conv2d(\n",
    "            in_channels,\n",
    "            out_channels,\n",
    "            kernel_size=3,\n",
    "            stride=stride,\n",
    "            padding=1,\n",
    "            bias=False,\n",
    "        )\n",
    "        self.gn2 = nn.GroupNorm(num_groups, out_channels)\n",
    "        self.conv2 = nn.Conv2d(\n",
    "            out_channels, in_channels, kernel_size=3, stride=1, padding=1, bias=False\n",
    "        )\n",
    "\n",
    "    def forward(self, x):\n",
    "        B, T, CHW = x.shape\n",
    "        # TODO: Remove these hardcoded values.\n",
    "        out = rearrange(x, 'b t (c h w) -> (b t) c h w', c=3, h=16)\n",
    "        out = self.gn1(out)\n",
    "        out = self.gelu(out)\n",
    "        out = self.conv1(out)\n",
    "        out = self.gn2(out)\n",
    "        out = self.gelu(out)\n",
    "        out = self.conv2(out)\n",
    "        return x + rearrange(out, '(b t) c h w -> b t (c h w)', b=B, t=T)"
   ]
  },
  {
   "cell_type": "code",
   "execution_count": null,
   "id": "efc91d0f-dd03-450a-8207-9d5cb47e04c8",
   "metadata": {},
   "outputs": [],
   "source": [
    "@dataclass\n",
    "class Embedder:\n",
    "    text: Callable\n",
    "    image: Callable\n",
    "    discrete: Callable\n",
    "\n",
    "@dataclass\n",
    "class MiniGatoConfig:\n",
    "    embedding_dim: int\n",
    "    sequence_length: int\n",
    "    vocab_size: int \n",
    "    transformer_config: GPT2Config\n",
    "    transformer: GPT2Model\n",
    "\n",
    "def init_default_config() -> MiniGatoConfig:\n",
    "    transformer_config = GPT2Config()\n",
    "    return MiniGatoConfig(\n",
    "        embedding_dim=768,\n",
    "        sequence_length=1024,\n",
    "        vocab_size=__text_tokenizer.vocab_size,\n",
    "        transformer_config=transformer_config,\n",
    "        transformer=GPT2Model(transformer_config),\n",
    "    )\n",
    "default_config = init_default_config()\n",
    "\n",
    "class MiniGato(nn.Module):\n",
    "    def __init__(self, config: MiniGatoConfig=default_config):\n",
    "        super().__init__()\n",
    "        self.config = config\n",
    "        self.sequence_length = self.config.sequence_length\n",
    "        text_embedding = nn.Embedding(self.config.vocab_size, self.config.embedding_dim)\n",
    "        image_embedding = ResNetV2Block(3, self.config.embedding_dim)\n",
    "        discrete_embedding = nn.Embedding(1024, self.config.embedding_dim)\n",
    "        self.embedder = Embedder(text=text_embedding, image=image_embedding, discrete=discrete_embedding)\n",
    "        self.transformer = self.config.transformer\n",
    "        self.lm_head = nn.Linear(self.transformer.config.hidden_size, self.config.vocab_size)     \n",
    "\n",
    "    def forward(self, batch):\n",
    "        batch = [\n",
    "            sample.embed(self.embedder).sequence(self.sequence_length) for sample in batch\n",
    "        ]\n",
    "        xs, ys, ms = map(torch.stack, zip(*batch))\n",
    "        xs, ys, ms = [x.to(device) for x in [xs, ys, ms]]\n",
    "        out = self.transformer(inputs_embeds=xs)\n",
    "        predicted = self.lm_head(out.last_hidden_state)\n",
    "        return predicted, ys, ms"
   ]
  },
  {
   "cell_type": "code",
   "execution_count": 32,
   "id": "2e40fcf0-be16-4f91-89cf-17e8e1d4fa47",
   "metadata": {},
   "outputs": [],
   "source": [
    "minigrid_dataloader = DataLoader(minigrid_dataset_xf, batch_size=BATCH_SIZE, collate_fn=minigrid_collate_fn, num_workers=4)\n",
    "minigrid_iterator = iter(minigrid_dataloader)"
   ]
  },
  {
   "cell_type": "code",
   "execution_count": 33,
   "id": "bdf45b06-7b45-4379-90c7-ccd72f8e67e3",
   "metadata": {},
   "outputs": [],
   "source": [
    "minigrid_batch = next(minigrid_iterator)"
   ]
  },
  {
   "cell_type": "code",
   "execution_count": 34,
   "id": "9e420165-26b3-4144-b11b-432223186e1e",
   "metadata": {},
   "outputs": [],
   "source": [
    "def infinite_dataloader(fn):\n",
    "    it = iter(fn())\n",
    "    while True:\n",
    "        try:\n",
    "            yield next(it)\n",
    "        except StopIteration:\n",
    "            it = iter(fn())"
   ]
  },
  {
   "cell_type": "code",
   "execution_count": 35,
   "id": "101caa7d-1002-4dc0-851c-b771020928b0",
   "metadata": {},
   "outputs": [],
   "source": [
    "## Loss\n",
    "##\n",
    "## See section 2.3 of the Gato paper.\n",
    "##\n",
    "##   Let b index a training batch of sequences B. We define a masking function m\n",
    "##   such that m(b, l) = 1 if the token at index l is either from text or from\n",
    "##   the logged action of an agent, and 0 otherwise. The training loss for a\n",
    "##   batch B can then be written as...\n",
    "def cross_entropy(predicted, target, mask):\n",
    "    # See: https://youtu.be/kCc8FmEb1nY?list=PLAqhIrjkxbuWI23v9cThsA9GvCAUhRvKZ&t=1553\n",
    "    B, T, C = predicted.shape\n",
    "    predicted = predicted.view(B * T, C)\n",
    "    target = target.view(-1).to(torch.long)\n",
    "    losses = F.cross_entropy(predicted, target, reduction=\"none\")\n",
    "    losses = losses * mask.squeeze(-1).view(-1)\n",
    "    loss = losses.sum() / (mask.sum() + 1e-8)\n",
    "    return loss"
   ]
  },
  {
   "cell_type": "code",
   "execution_count": 36,
   "id": "35d28ab7-f0d6-4a22-8065-ee253676c11d",
   "metadata": {},
   "outputs": [],
   "source": [
    "class MiniGatoTrainer:\n",
    "    def __init__(self, model, optimizer, dataloaders, scheduler=None, lr=3e-4, num_iterations=10):\n",
    "        self.model = model\n",
    "        self.optimizer = optimizer\n",
    "        self.dataloaders = dataloaders\n",
    "        self.scheduler = scheduler\n",
    "        self.dl_it = cycle(dataloaders)\n",
    "        self.losses = []\n",
    "        self.num_iterations = num_iterations\n",
    "        self.lr = lr\n",
    "\n",
    "    def train(self):\n",
    "        self.model.train()\n",
    "        for i in tqdm(range(self.num_iterations)):\n",
    "            dl = next(self.dl_it)\n",
    "            batch = next(dl)\n",
    "            optimizer.zero_grad()\n",
    "            predicted, targets, attention_mask = self.model(batch)\n",
    "            loss = cross_entropy(predicted, targets, attention_mask)\n",
    "            self.losses.append(loss.item())\n",
    "            loss.backward()\n",
    "            if self.scheduler:\n",
    "                self.scheduler.step()\n",
    "            self.optimizer.step()"
   ]
  },
  {
   "cell_type": "code",
   "execution_count": 37,
   "id": "68a0a785-567a-42ca-a161-30deef63b579",
   "metadata": {},
   "outputs": [],
   "source": [
    "BATCH_SIZE=6"
   ]
  },
  {
   "cell_type": "code",
   "execution_count": 38,
   "id": "6c746035-3724-4d09-a2fd-3f49d1b4d295",
   "metadata": {},
   "outputs": [],
   "source": [
    "dataloaders = [\n",
    "    infinite_dataloader(partial(DataLoader, minigrid_dataset_xf, batch_size=BATCH_SIZE, collate_fn=minigrid_collate_fn, num_workers=4)),\n",
    "    infinite_dataloader(partial(DataLoader, shakespeare_dataset_xf, batch_size=BATCH_SIZE, collate_fn=lambda x: x, num_workers=4)),\n",
    "    infinite_dataloader(partial(DataLoader, vqa_dataset_xf, batch_size=BATCH_SIZE, collate_fn=lambda x: x, num_workers=4)),\n",
    "]\n",
    "dl_it = cycle(dataloaders)"
   ]
  },
  {
   "cell_type": "code",
   "execution_count": 39,
   "id": "3be9730a-e374-48a7-a674-875e966fba24",
   "metadata": {},
   "outputs": [],
   "source": [
    "config = init_default_config()\n",
    "model = MiniGato(config).to(device)"
   ]
  },
  {
   "cell_type": "code",
   "execution_count": 40,
   "id": "dca0e9cf-e6fd-4e1f-bb71-14f0bc244eff",
   "metadata": {},
   "outputs": [],
   "source": [
    "NUM_ITERATIONS = 500\n",
    "LR = 1e-3\n",
    "optimizer = torch.optim.AdamW(model.parameters())\n",
    "scheduler = torch.optim.lr_scheduler.CosineAnnealingLR(optimizer, T_max=NUM_ITERATIONS, eta_min=1e-6)\n",
    "trainer = MiniGatoTrainer(\n",
    "    model,\n",
    "    optimizer,\n",
    "    dataloaders,\n",
    "    num_iterations=NUM_ITERATIONS,\n",
    "    lr=1e-3,\n",
    ")"
   ]
  },
  {
   "cell_type": "code",
   "execution_count": 41,
   "id": "1ac9f52f-6d9f-4fbe-85ac-be1338ff5839",
   "metadata": {},
   "outputs": [
    {
     "data": {
      "application/vnd.jupyter.widget-view+json": {
       "model_id": "848d01ae28cc4fa3a8e2ab23ee6012ba",
       "version_major": 2,
       "version_minor": 0
      },
      "text/plain": [
       "  0%|          | 0/500 [00:00<?, ?it/s]"
      ]
     },
     "metadata": {},
     "output_type": "display_data"
    }
   ],
   "source": [
    "trainer.train()"
   ]
  },
  {
   "cell_type": "code",
   "execution_count": null,
   "id": "7a3ee547-0441-4697-8ef6-5c604f5bd496",
   "metadata": {},
   "outputs": [],
   "source": [
    "# config = init_default_config()\n",
    "# model = MiniGato(config).to(device)"
   ]
  },
  {
   "cell_type": "code",
   "execution_count": 128,
   "id": "0acd56fc-67f0-4fb7-86ba-c3a71e501de9",
   "metadata": {},
   "outputs": [
    {
     "data": {
      "text/plain": [
       "[<matplotlib.lines.Line2D at 0x762f0eb4d0a0>]"
      ]
     },
     "execution_count": 128,
     "metadata": {},
     "output_type": "execute_result"
    },
    {
     "data": {
      "image/png": "[encoded data removed]",
      "text/plain": [
       "<Figure size 640x480 with 1 Axes>"
      ]
     },
     "metadata": {},
     "output_type": "display_data"
    }
   ],
   "source": [
    "plt.plot(trainer.losses)"
   ]
  },
  {
   "cell_type": "code",
   "execution_count": 131,
   "id": "3962376d-19da-4072-bea3-f69556e0ccbc",
   "metadata": {},
   "outputs": [],
   "source": [
    "window_size = 10\n",
    "data = torch.tensor(trainer.losses)\n",
    "moving_avg = torch.conv1d(\n",
    "    data.view(1, 1, data.size(0)), \n",
    "    torch.ones(1, 1, window_size) / window_size, padding=window_size//2\n",
    ").squeeze()"
   ]
  },
  {
   "cell_type": "code",
   "execution_count": 132,
   "id": "753ee6c9-94dc-422e-84c0-e8a5beeb49a1",
   "metadata": {},
   "outputs": [
    {
     "data": {
      "text/plain": [
       "[<matplotlib.lines.Line2D at 0x762f0eb4dd00>]"
      ]
     },
     "execution_count": 132,
     "metadata": {},
     "output_type": "execute_result"
    },
    {
     "data": {
      "image/png": "[encoded data removed]",
      "text/plain": [
       "<Figure size 640x480 with 1 Axes>"
      ]
     },
     "metadata": {},
     "output_type": "display_data"
    }
   ],
   "source": [
    "plt.plot(moving_avg)"
   ]
  },
  {
   "cell_type": "code",
   "execution_count": 43,
   "id": "714453a9-5116-4633-be17-7fe0536163c1",
   "metadata": {},
   "outputs": [],
   "source": [
    "vqa_batch = next(iter(DataLoader(vqa_dataset_xf, batch_size=BATCH_SIZE, collate_fn=lambda x: x, num_workers=4)))"
   ]
  },
  {
   "cell_type": "code",
   "execution_count": 44,
   "id": "67122707-b677-4e8a-b0e9-c87d0563ef84",
   "metadata": {},
   "outputs": [
    {
     "data": {
      "text/plain": [
       "torch.Size([1, 1024, 768])"
      ]
     },
     "execution_count": 44,
     "metadata": {},
     "output_type": "execute_result"
    }
   ],
   "source": [
    "emb = vqa_batch[0].embed(model.embedder)\n",
    "emb.question.embedding.shape, emb.image.embedding.shape, emb.answer.embedding.shape\n",
    "cc = torch.concat([emb.question.embedding, emb.image.embedding, emb.answer.embedding], dim=1)\n",
    "F.pad(cc, (0, 0, 0, 1024 - cc.size(1)), value=0).shape"
   ]
  },
  {
   "cell_type": "code",
   "execution_count": 45,
   "id": "addb2b50-3530-4931-87ea-688515668def",
   "metadata": {},
   "outputs": [
    {
     "data": {
      "text/plain": [
       "(torch.Size([1024, 768]), torch.Size([1024]))"
      ]
     },
     "execution_count": 45,
     "metadata": {},
     "output_type": "execute_result"
    }
   ],
   "source": [
    "vqa_batch[0].embed(model.embedder).sequence(1024)[0].shape, vqa_batch[0].embed(model.embedder).sequence(1024)[1].shape"
   ]
  },
  {
   "cell_type": "code",
   "execution_count": 46,
   "id": "790bbdef-0ece-4e1a-a0dd-26d28a21d5b7",
   "metadata": {},
   "outputs": [],
   "source": [
    "dl = iter(minigrid_dataloader)"
   ]
  },
  {
   "cell_type": "code",
   "execution_count": 56,
   "id": "7b5c9d72-fc5f-4360-a39f-a47d6de39283",
   "metadata": {},
   "outputs": [],
   "source": [
    "batch = next(dl)"
   ]
  },
  {
   "cell_type": "code",
   "execution_count": 57,
   "id": "2a3742cf-5d46-404e-9b2a-17b7edc09110",
   "metadata": {},
   "outputs": [],
   "source": [
    "ep = batch\n",
    "em = [e.embed(model.embedder) for e in ep]\n",
    "sq = [e.sequence(model.sequence_length) for e in em]\n",
    "xs, ys, ms = map(torch.stack, zip(*sq))\n",
    "pr, ys, ms = model(ep)"
   ]
  },
  {
   "cell_type": "code",
   "execution_count": 58,
   "id": "047b052c-1419-497f-92ed-865e02db0f1a",
   "metadata": {},
   "outputs": [
    {
     "data": {
      "text/plain": [
       "(900,\n",
       " 6,\n",
       " tensor([[   1, 1023],\n",
       "         [   2, 1023],\n",
       "         [   2, 1023],\n",
       "         [   2, 1023],\n",
       "         [   2, 1023],\n",
       "         [   2, 1023]]),\n",
       " torch.Size([4, 1024, 50257]),\n",
       " torch.Size([4, 1024]))"
      ]
     },
     "execution_count": 58,
     "metadata": {},
     "output_type": "execute_result"
    }
   ],
   "source": [
    "ep[0].size, ep[0].size // ep[0][0].size, ep[-1].actions.targets, pr.shape, ys.shape"
   ]
  },
  {
   "cell_type": "code",
   "execution_count": 59,
   "id": "e26cddd2-66d4-4f39-b1f8-9ddfb1823449",
   "metadata": {},
   "outputs": [],
   "source": [
    "heat = 0.01\n",
    "prh = pr / heat\n",
    "sm = prh.softmax(dim=2)"
   ]
  },
  {
   "cell_type": "code",
   "execution_count": 60,
   "id": "946e2e9b-3f56-4704-a1e8-f653a22f765f",
   "metadata": {},
   "outputs": [
    {
     "data": {
      "text/plain": [
       "torch.Size([4, 1024, 50257])"
      ]
     },
     "execution_count": 60,
     "metadata": {},
     "output_type": "execute_result"
    }
   ],
   "source": [
    "sm.shape"
   ]
  },
  {
   "cell_type": "markdown",
   "id": "a86b0239-383d-45a5-8466-28310303f819",
   "metadata": {},
   "source": [
    "Which indexes do you want? Not the 1023, because of padding."
   ]
  },
  {
   "cell_type": "code",
   "execution_count": 61,
   "id": "cef167e1-0158-4db4-9db8-adc1a8e0b6e5",
   "metadata": {},
   "outputs": [
    {
     "data": {
      "text/plain": [
       "(torch.Size([4, 1024, 50257]),\n",
       " torch.Size([4, 1024]),\n",
       " torch.Size([12, 1]),\n",
       " tensor([[148],\n",
       "         [149],\n",
       "         [298],\n",
       "         [299],\n",
       "         [448],\n",
       "         [449],\n",
       "         [598],\n",
       "         [599],\n",
       "         [748],\n",
       "         [749],\n",
       "         [898],\n",
       "         [899]], device='cuda:0'))"
      ]
     },
     "execution_count": 61,
     "metadata": {},
     "output_type": "execute_result"
    }
   ],
   "source": [
    "pr.shape, ms.shape, ms[0].nonzero().shape, ms[0].nonzero()"
   ]
  },
  {
   "cell_type": "code",
   "execution_count": 62,
   "id": "c6381f89-2bb7-42e3-8f89-77bdfb2df5dc",
   "metadata": {},
   "outputs": [
    {
     "data": {
      "text/plain": [
       "[tensor([   1, 1023,    1, 1023,    2, 1023,    2, 1023,    0, 1023,    2, 1023],\n",
       "        device='cuda:0', dtype=torch.int32),\n",
       " tensor([   2, 1023,    2, 1023,    2, 1023], device='cuda:0',\n",
       "        dtype=torch.int32),\n",
       " tensor([   2, 1023,    0, 1023,    2, 1023,    2, 1023,    2, 1023],\n",
       "        device='cuda:0', dtype=torch.int32),\n",
       " tensor([   1, 1023,    2, 1023,    2, 1023,    2, 1023,    2, 1023,    2, 1023],\n",
       "        device='cuda:0', dtype=torch.int32)]"
      ]
     },
     "execution_count": 62,
     "metadata": {},
     "output_type": "execute_result"
    }
   ],
   "source": [
    "[ys[batch_index][ms[batch_index].nonzero().flatten()].to(torch.int) for batch_index in range(len(batch))]"
   ]
  },
  {
   "cell_type": "code",
   "execution_count": 83,
   "id": "78896ef4-811c-4031-b828-bd6ea346f049",
   "metadata": {},
   "outputs": [
    {
     "data": {
      "text/plain": [
       "[tensor([   2, 1023,    2, 1023,    2, 1023,    2, 1023,    2, 1023,    2, 1023],\n",
       "        device='cuda:0', dtype=torch.int32),\n",
       " tensor([   2, 1023,    2, 1023,    2, 1023], device='cuda:0',\n",
       "        dtype=torch.int32),\n",
       " tensor([   2, 1023,    2, 1023,    2, 1023,    2, 1023,    2, 1023],\n",
       "        device='cuda:0', dtype=torch.int32),\n",
       " tensor([   2, 1023,    2, 1023,    2, 1023,    2, 1023,    2, 1023,    2, 1023],\n",
       "        device='cuda:0', dtype=torch.int32)]"
      ]
     },
     "execution_count": 83,
     "metadata": {},
     "output_type": "execute_result"
    }
   ],
   "source": [
    "[pr[batch_index][ms[batch_index].nonzero().flatten()].argmax(dim=1).to(torch.int) for batch_index in range(len(batch))]"
   ]
  },
  {
   "cell_type": "code",
   "execution_count": 94,
   "id": "624c8593-d98d-4e74-87fc-c9581f1f4db3",
   "metadata": {},
   "outputs": [
    {
     "data": {
      "text/plain": [
       "([148, 149, 298, 299, 448, 449, 598, 599, 748, 749, 898, 899],\n",
       " tensor([10.2025, 10.8047,  6.0140], device='cuda:0', grad_fn=<IndexBackward0>))"
      ]
     },
     "execution_count": 94,
     "metadata": {},
     "output_type": "execute_result"
    }
   ],
   "source": [
    "ms[0].nonzero().flatten().tolist(), pr[0][0, [1, 2, 1023]]"
   ]
  },
  {
   "cell_type": "code",
   "execution_count": 55,
   "id": "c18f1d46-f2f2-418f-8095-26d6e83dda2a",
   "metadata": {},
   "outputs": [
    {
     "data": {
      "text/plain": [
       "tensor([[1023],\n",
       "        [1023],\n",
       "        [1023],\n",
       "        [1023]], device='cuda:0')"
      ]
     },
     "execution_count": 55,
     "metadata": {},
     "output_type": "execute_result"
    }
   ],
   "source": [
    "sl = torch.multinomial(sm[:, 893, :], num_samples=1)\n",
    "sl"
   ]
  },
  {
   "cell_type": "code",
   "execution_count": 101,
   "id": "d26dda6b-369f-4804-9484-0650618e3e52",
   "metadata": {},
   "outputs": [],
   "source": [
    "def eval_text():\n",
    "    model.eval()\n",
    "    text = \"First Citizen:\"\n",
    "    next_word_token = None\n",
    "    i = 0\n",
    "    while i < 20 and next_word_token != __text_tokenizer.eos_token:\n",
    "        with torch.no_grad():\n",
    "            tokens = text_tokenize(text)\n",
    "            x = tokens.embed(model.embedder).to(device)\n",
    "            pr, ys, ms = model([tokens])\n",
    "            heat = 0.8\n",
    "            prh = pr / heat\n",
    "            sm = prh.softmax(dim=2)\n",
    "            last_index = ms.nonzero()[-1].cpu()[1]\n",
    "            next_word_probs = sm[0, last_index-1]\n",
    "            next_word_token = torch.multinomial(next_word_probs, num_samples=1)\n",
    "            next_word = __text_tokenizer.decode(next_word_token)\n",
    "            text += next_word\n",
    "        i += 1\n",
    "    return text"
   ]
  },
  {
   "cell_type": "code",
   "execution_count": 106,
   "id": "e9ebf0e2-653e-46e6-ab13-3da255fd02ca",
   "metadata": {},
   "outputs": [
    {
     "name": "stdout",
     "output_type": "stream",
     "text": [
      "First Citizen:\n",
      "it are your,\n",
      "AN,\n",
      "I be,S, your when people,\n",
      " him\n"
     ]
    }
   ],
   "source": [
    "print(eval_text())"
   ]
  },
  {
   "cell_type": "code",
   "execution_count": 107,
   "id": "6a7cd0c1-ddcd-4147-a8ec-391f12069386",
   "metadata": {},
   "outputs": [
    {
     "name": "stdout",
     "output_type": "stream",
     "text": [
      "Control targets:   [1, 1023, 1, 1023, 2, 1023, 2, 1023, 0, 1023, 2, 1023]\n",
      "Control predicted: [2, 1023, 2, 1023, 2, 1023, 2, 1023, 2, 1023, 2, 1023]\n"
     ]
    }
   ],
   "source": [
    "targets = [ys[batch_index][ms[batch_index].nonzero().flatten()].to(torch.int) for batch_index in range(len(batch))][0]\n",
    "predicted = [pr[batch_index][ms[batch_index].nonzero().flatten()].argmax(dim=1).to(torch.int) for batch_index in range(len(batch))][0]\n",
    "print(f\"Control targets:   {targets.tolist()}\\nControl predicted: {predicted.tolist()}\")"
   ]
  },
  {
   "cell_type": "code",
   "execution_count": 89,
   "id": "47af1818-be4d-4a83-a86d-bb6f324c484f",
   "metadata": {},
   "outputs": [
    {
     "data": {
      "text/plain": [
       "torch.Size([1024, 50257])"
      ]
     },
     "execution_count": 89,
     "metadata": {},
     "output_type": "execute_result"
    }
   ],
   "source": [
    "sm[0].shape["
   ]
  },
  {
   "cell_type": "code",
   "execution_count": null,
   "id": "8670300c-b303-4d7c-83ff-9f7028f9a3c2",
   "metadata": {},
   "outputs": [],
   "source": []
  },
  {
   "cell_type": "code",
   "execution_count": 117,
   "id": "20da0246-8084-48ab-8f17-69b7c448a84a",
   "metadata": {},
   "outputs": [],
   "source": [
    "vqa_sample = next(iter(vqa_dataset[\"train\"]))"
   ]
  },
  {
   "cell_type": "code",
   "execution_count": 118,
   "id": "1b6d28f9-2803-468d-a63e-c5c84747aecc",
   "metadata": {},
   "outputs": [],
   "source": [
    "vqa_batch = vqa_tokenize(vqa_sample)"
   ]
  },
  {
   "cell_type": "code",
   "execution_count": 119,
   "id": "dd54483f-1db6-4d93-86d0-6f1fe0b12f14",
   "metadata": {},
   "outputs": [
    {
     "data": {
      "text/plain": [
       "VQATimestep(question=TextTokenData(tokens=tensor([[ 2061,   318,   262, 42658,  2349,   286,   262, 32749,  1444,    30]]), targets=tensor([[ 2061,   318,   262, 42658,  2349,   286,   262, 32749,  1444,    30]]), attention_mask=tensor([[0, 0, 0, 0, 0, 0, 0, 0, 0, 0]]), embedding=tensor([])), image=ImageTokenData(tokens=tensor([[[-0.2027, -0.2171, -0.2428,  ...,  0.2012,  0.2362,  0.2887],\n",
       "         [-0.1774, -0.1694, -0.1800,  ..., -0.0863, -0.0728, -0.0485],\n",
       "         [-0.1409, -0.1409, -0.1700,  ...,  0.0578,  0.0631,  0.0739],\n",
       "         ...,\n",
       "         [ 0.0972,  0.0924,  0.0732,  ...,  0.2398,  0.2446,  0.2495],\n",
       "         [ 0.1705,  0.1728,  0.1752,  ...,  0.2814,  0.2162, -0.0036],\n",
       "         [-0.0532, -0.0909, -0.1568,  ...,  0.2024,  0.1832,  0.1880]]]), targets=tensor([[0., 0., 0., 0., 0., 0., 0., 0., 0., 0., 0., 0., 0., 0., 0., 0., 0., 0., 0., 0., 0., 0., 0., 0.,\n",
       "         0., 0., 0., 0., 0., 0., 0., 0., 0., 0., 0., 0., 0., 0., 0., 0., 0., 0., 0., 0., 0., 0., 0., 0.,\n",
       "         0., 0., 0., 0., 0., 0., 0., 0., 0., 0., 0., 0., 0., 0., 0., 0., 0., 0., 0., 0., 0., 0., 0., 0.,\n",
       "         0., 0., 0., 0., 0., 0., 0., 0., 0., 0., 0., 0., 0., 0., 0., 0., 0., 0., 0., 0., 0., 0., 0., 0.,\n",
       "         0., 0., 0., 0., 0., 0., 0., 0., 0., 0., 0., 0., 0., 0., 0., 0., 0., 0., 0., 0., 0., 0., 0., 0.,\n",
       "         0., 0., 0., 0., 0., 0., 0., 0., 0., 0., 0., 0., 0., 0., 0., 0., 0., 0., 0., 0., 0., 0., 0., 0.]]), attention_mask=tensor([[0., 0., 0., 0., 0., 0., 0., 0., 0., 0., 0., 0., 0., 0., 0., 0., 0., 0., 0., 0., 0., 0., 0., 0.,\n",
       "         0., 0., 0., 0., 0., 0., 0., 0., 0., 0., 0., 0., 0., 0., 0., 0., 0., 0., 0., 0., 0., 0., 0., 0.,\n",
       "         0., 0., 0., 0., 0., 0., 0., 0., 0., 0., 0., 0., 0., 0., 0., 0., 0., 0., 0., 0., 0., 0., 0., 0.,\n",
       "         0., 0., 0., 0., 0., 0., 0., 0., 0., 0., 0., 0., 0., 0., 0., 0., 0., 0., 0., 0., 0., 0., 0., 0.,\n",
       "         0., 0., 0., 0., 0., 0., 0., 0., 0., 0., 0., 0., 0., 0., 0., 0., 0., 0., 0., 0., 0., 0., 0., 0.,\n",
       "         0., 0., 0., 0., 0., 0., 0., 0., 0., 0., 0., 0., 0., 0., 0., 0., 0., 0., 0., 0., 0., 0., 0., 0.]]), embedding=tensor([])), answer=TextTokenData(tokens=tensor([[  79, 1647]]), targets=tensor([[1647, 7894]]), attention_mask=tensor([[1, 1]]), embedding=tensor([])))"
      ]
     },
     "execution_count": 119,
     "metadata": {},
     "output_type": "execute_result"
    }
   ],
   "source": [
    "vqa_batch"
   ]
  },
  {
   "cell_type": "code",
   "execution_count": 108,
   "id": "6ef0608e-1851-43dd-99f9-1f2d782da6e6",
   "metadata": {},
   "outputs": [
    {
     "data": {
      "text/plain": [
       "VQATimestep(question=TextTokenData(tokens=tensor([[ 2061,   318,   262,  4190,  3918,   286,   262, 21541,  1444,    30]]), targets=tensor([[ 2061,   318,   262,  4190,  3918,   286,   262, 21541,  1444,    30]]), attention_mask=tensor([[0, 0, 0, 0, 0, 0, 0, 0, 0, 0]]), embedding=tensor([[[-0.5805, -0.0026, -2.2463,  ...,  0.1824,  0.5532, -0.5343],\n",
       "         [ 1.5129, -0.6796,  0.2971,  ..., -0.0411,  0.3358,  0.3959],\n",
       "         [ 0.9331,  1.9109, -0.0039,  ...,  0.5315, -0.7628, -0.4911],\n",
       "         ...,\n",
       "         [ 0.2087, -0.2230, -0.0372,  ...,  0.1041,  0.7136,  1.8701],\n",
       "         [ 0.0037,  0.4166, -1.3697,  ...,  0.3799,  1.1672,  0.9124],\n",
       "         [-0.0659, -0.4796,  0.5309,  ..., -0.6050, -0.4605, -0.5341]]],\n",
       "       grad_fn=<EmbeddingBackward0>)), image=ImageTokenData(tokens=tensor([[[-0.1049, -0.1489, -0.1169,  ...,  0.2318,  0.2277,  0.2562],\n",
       "         [-0.2601, -0.2411, -0.2474,  ...,  0.2021,  0.1989,  0.1925],\n",
       "         [-0.1489, -0.1873, -0.2092,  ...,  0.2413,  0.2357,  0.2329],\n",
       "         ...,\n",
       "         [ 0.0734,  0.0734,  0.0682,  ..., -0.2781, -0.2623, -0.2728],\n",
       "         [ 0.2887,  0.2654,  0.2136,  ..., -0.1990, -0.2096, -0.2201],\n",
       "         [-0.0534,  0.0305,  0.0305,  ..., -0.2716, -0.2683, -0.2486]]]), targets=tensor([[0, 0, 0, 0, 0, 0, 0, 0, 0, 0, 0, 0, 0, 0, 0, 0, 0, 0, 0, 0, 0, 0, 0, 0,\n",
       "         0, 0, 0, 0, 0, 0, 0, 0, 0, 0, 0, 0, 0, 0, 0, 0, 0, 0, 0, 0, 0, 0, 0, 0,\n",
       "         0, 0, 0, 0, 0, 0, 0, 0, 0, 0, 0, 0, 0, 0, 0, 0, 0, 0, 0, 0, 0, 0, 0, 0,\n",
       "         0, 0, 0, 0, 0, 0, 0, 0, 0, 0, 0, 0, 0, 0, 0, 0, 0, 0, 0, 0, 0, 0, 0, 0,\n",
       "         0, 0, 0, 0, 0, 0, 0, 0, 0, 0, 0, 0, 0, 0, 0, 0, 0, 0, 0, 0, 0, 0, 0, 0,\n",
       "         0, 0, 0, 0, 0, 0, 0, 0, 0, 0, 0, 0, 0, 0, 0, 0, 0, 0, 0, 0, 0, 0, 0, 0]]), attention_mask=tensor([[0., 0., 0., 0., 0., 0., 0., 0., 0., 0., 0., 0., 0., 0., 0., 0., 0., 0., 0., 0., 0., 0., 0., 0.,\n",
       "         0., 0., 0., 0., 0., 0., 0., 0., 0., 0., 0., 0., 0., 0., 0., 0., 0., 0., 0., 0., 0., 0., 0., 0.,\n",
       "         0., 0., 0., 0., 0., 0., 0., 0., 0., 0., 0., 0., 0., 0., 0., 0., 0., 0., 0., 0., 0., 0., 0., 0.,\n",
       "         0., 0., 0., 0., 0., 0., 0., 0., 0., 0., 0., 0., 0., 0., 0., 0., 0., 0., 0., 0., 0., 0., 0., 0.,\n",
       "         0., 0., 0., 0., 0., 0., 0., 0., 0., 0., 0., 0., 0., 0., 0., 0., 0., 0., 0., 0., 0., 0., 0., 0.,\n",
       "         0., 0., 0., 0., 0., 0., 0., 0., 0., 0., 0., 0., 0., 0., 0., 0., 0., 0., 0., 0., 0., 0., 0., 0.]]), embedding=tensor([[[ 0.2243,  0.1535,  0.0857,  ..., -0.1870, -0.0162, -0.0964],\n",
       "         [-0.0652, -0.0719, -0.0292,  ..., -0.2037, -0.0725, -0.1617],\n",
       "         [ 0.1381,  0.0451, -0.0297,  ..., -0.1500, -0.0641, -0.1657],\n",
       "         ...,\n",
       "         [ 0.0687,  0.0758,  0.0967,  ..., -0.6015, -0.6149, -0.5098],\n",
       "         [ 0.1730,  0.3239,  0.4082,  ..., -0.4999, -0.5908, -0.5058],\n",
       "         [-0.1170, -0.1532, -0.1406,  ..., -0.7078, -0.7351, -0.5654]]],\n",
       "       grad_fn=<AddBackward0>)), answer=TextTokenData(tokens=tensor([[21943, 50256, 50256,  ..., 50256, 50256, 50256]]), targets=tensor([[50256, 50256, 50256,  ..., 50256, 50256, 50256]]), attention_mask=tensor([[1, 0, 0,  ..., 0, 0, 0]]), embedding=tensor([[[-0.0024, -1.4722, -1.0243,  ..., -1.9218,  0.6434, -0.9012],\n",
       "         [ 1.2994, -0.2619,  0.0363,  ...,  0.3679,  0.8233, -2.0763],\n",
       "         [ 1.2994, -0.2619,  0.0363,  ...,  0.3679,  0.8233, -2.0763],\n",
       "         ...,\n",
       "         [ 1.2994, -0.2619,  0.0363,  ...,  0.3679,  0.8233, -2.0763],\n",
       "         [ 1.2994, -0.2619,  0.0363,  ...,  0.3679,  0.8233, -2.0763],\n",
       "         [ 1.2994, -0.2619,  0.0363,  ...,  0.3679,  0.8233, -2.0763]]],\n",
       "       grad_fn=<EmbeddingBackward0>)))"
      ]
     },
     "execution_count": 108,
     "metadata": {},
     "output_type": "execute_result"
    }
   ],
   "source": [
    "question = tokenizer.text_obs(\"What is the hair style of the blonde called?\")\n",
    "image = tokenizer.image(image_transform(vqa_dataset['train'][0]['image']))\n",
    "answer_text = \"foo\"\n",
    "answer = tokenizer.text_gen(answer_text)\n",
    "timestep = VQATimestep(question=question, image=image, answer=answer)\n",
    "timestep.embed(model.embedder)"
   ]
  },
  {
   "cell_type": "code",
   "execution_count": 126,
   "id": "301539cc-549c-4f07-b8dc-a054755caf44",
   "metadata": {},
   "outputs": [],
   "source": [
    "model.eval()\n",
    "question = tokenizer.text_obs(\"What is the hair style of the blonde called?\")\n",
    "image = tokenizer.image(image_transform(vqa_dataset['train'][0]['image']))\n",
    "answer_text = __text_tokenizer.bos_token\n",
    "answer = tokenizer.text_gen(answer_text)\n",
    "timestep = VQATimestep(question=question, image=image, answer=answer)\n",
    "next_word_token = None\n",
    "i = 0\n",
    "with torch.no_grad():\n",
    "    pr, ys, ms = model([timestep])\n",
    "    heat = 0.1\n",
    "    prh = pr / heat\n",
    "    sm = prh.softmax(dim=2)\n",
    "    last_index = ms.nonzero()[-1].cpu()[1]\n",
    "    next_word_probs = sm[0, last_index-1]\n",
    "    next_word_token = torch.multinomial(next_word_probs, num_samples=1)\n",
    "    next_word = __text_tokenizer.decode(next_word_token)\n",
    "    answer_text += next_word\n",
    "    answer = tokenizer.text_gen(answer_text, padding=False)\n",
    "    timestep = VQATimestep(question=question, image=image, answer=answer)"
   ]
  },
  {
   "cell_type": "code",
   "execution_count": 127,
   "id": "9e20cfee-0ae1-4990-82d0-e8882ed0a6a3",
   "metadata": {},
   "outputs": [
    {
     "data": {
      "text/plain": [
       "'<|endoftext|> park'"
      ]
     },
     "execution_count": 127,
     "metadata": {},
     "output_type": "execute_result"
    }
   ],
   "source": [
    "answer_text"
   ]
  },
  {
   "cell_type": "code",
   "execution_count": null,
   "id": "bf779b50-1c11-47e9-af0b-3a8598940652",
   "metadata": {},
   "outputs": [],
   "source": []
  },
  {
   "cell_type": "code",
   "execution_count": 177,
   "id": "75fcb31f-fea7-4a8c-ab7a-4f844dddac14",
   "metadata": {},
   "outputs": [],
   "source": [
    "xs, ys, ms = timestep.embed(model.embedder).sequence(1024)"
   ]
  },
  {
   "cell_type": "code",
   "execution_count": 178,
   "id": "c4498c5f-b18b-477b-9905-99c2ff6fc56b",
   "metadata": {},
   "outputs": [
    {
     "data": {
      "text/plain": [
       "(torch.Size([1024, 768]), torch.Size([1024]), torch.Size([1024]))"
      ]
     },
     "execution_count": 178,
     "metadata": {},
     "output_type": "execute_result"
    }
   ],
   "source": [
    "xs.shape, ys.shape, ms.shape"
   ]
  },
  {
   "cell_type": "code",
   "execution_count": 180,
   "id": "271ba462-626b-4970-8466-6b67aab0745f",
   "metadata": {},
   "outputs": [
    {
     "data": {
      "text/plain": [
       "tensor([[154]])"
      ]
     },
     "execution_count": 180,
     "metadata": {},
     "output_type": "execute_result"
    }
   ],
   "source": [
    "emb = timestep.embed(model.embedder)\n",
    "ms.nonzero()"
   ]
  },
  {
   "cell_type": "code",
   "execution_count": 182,
   "id": "92d409a0-2edb-4620-b842-06c329b9f9b3",
   "metadata": {},
   "outputs": [
    {
     "data": {
      "text/plain": [
       "(torch.Size([1, 10, 768]), torch.Size([1, 144, 768]))"
      ]
     },
     "execution_count": 182,
     "metadata": {},
     "output_type": "execute_result"
    }
   ],
   "source": [
    "emb.question.embedding.shape, emb.image.embedding.shape"
   ]
  },
  {
   "cell_type": "code",
   "execution_count": 153,
   "id": "bcea1401-9c58-491c-9469-b357f0caa9a2",
   "metadata": {},
   "outputs": [],
   "source": [
    "def eval_vqa():\n",
    "    model.eval()\n",
    "    question = tokenizer.text_obs(\"What is the hair style of the blonde called?\")\n",
    "    image = tokenizer.image(image_transform(vqa_dataset['train'][0]['image']))\n",
    "    answer_text = __text_tokenizer.bos_token\n",
    "    answer = tokenizer.text_gen(answer_text)\n",
    "    timestep = VQATimestep(question=question, image=image, answer=answer)\n",
    "    next_word_token = None\n",
    "    i = 0\n",
    "    while i < 20 and next_word_token != __text_tokenizer.eos_token:\n",
    "        with torch.no_grad():\n",
    "            pr, ys, ms = model([timestep])\n",
    "            heat = 0.7\n",
    "            prh = pr / heat\n",
    "            sm = prh.softmax(dim=2)\n",
    "            last_index = ms.nonzero()[-1].cpu()[1]\n",
    "            next_word_probs = sm[0, last_index-1]\n",
    "            next_word_token = torch.multinomial(next_word_probs, num_samples=1)\n",
    "            next_word = __text_tokenizer.decode(next_word_token)\n",
    "            answer_text += next_word\n",
    "            answer = tokenizer.text_gen(answer_text, padding=False)\n",
    "            timestep = VQATimestep(question=question, image=image, answer=answer)\n",
    "        i += 1\n",
    "    return timestep"
   ]
  },
  {
   "cell_type": "code",
   "execution_count": 154,
   "id": "2bbb29a9-8aaa-4fa5-bdc8-a56133cec03f",
   "metadata": {},
   "outputs": [],
   "source": [
    "result = eval_vqa()"
   ]
  },
  {
   "cell_type": "code",
   "execution_count": 155,
   "id": "c821e96c-8979-415b-af27-83796d37d191",
   "metadata": {},
   "outputs": [
    {
     "data": {
      "text/plain": [
       "torch.Size([20])"
      ]
     },
     "execution_count": 155,
     "metadata": {},
     "output_type": "execute_result"
    }
   ],
   "source": [
    "result.answer.tokens[0].shape"
   ]
  },
  {
   "cell_type": "code",
   "execution_count": 156,
   "id": "5603b93b-d38c-4993-91fc-13cb0c932d31",
   "metadata": {},
   "outputs": [
    {
     "data": {
      "text/plain": [
       "'<|endoftext|>agle sign southil signilgeapportotionaglegeWas andgeilalamelBoth'"
      ]
     },
     "execution_count": 156,
     "metadata": {},
     "output_type": "execute_result"
    }
   ],
   "source": [
    "__text_tokenizer.decode(result.answer.tokens[0])"
   ]
  },
  {
   "cell_type": "code",
   "execution_count": 81,
   "id": "b11738a2-9909-4355-a24f-b5728a4b908a",
   "metadata": {},
   "outputs": [
    {
     "data": {
      "text/plain": [
       "torch.Size([5, 2, 50257])"
      ]
     },
     "execution_count": 81,
     "metadata": {},
     "output_type": "execute_result"
    }
   ],
   "source": [
    "word.shape"
   ]
  },
  {
   "cell_type": "code",
   "execution_count": 57,
   "id": "af91e8a1-e5ba-490a-aec1-0e13d278a3dc",
   "metadata": {},
   "outputs": [
    {
     "data": {
      "text/plain": [
       "tensor([[0, 0],\n",
       "        [0, 1],\n",
       "        [0, 2],\n",
       "        [0, 3],\n",
       "        [0, 4]], device='cuda:0')"
      ]
     },
     "execution_count": 57,
     "metadata": {},
     "output_type": "execute_result"
    }
   ],
   "source": [
    "ms.nonzero()"
   ]
  },
  {
   "cell_type": "code",
   "execution_count": 71,
   "id": "d041aebe-16d8-41bc-9170-aca57dba4e51",
   "metadata": {},
   "outputs": [
    {
     "data": {
      "text/plain": [
       "tensor([0, 4])"
      ]
     },
     "execution_count": 71,
     "metadata": {},
     "output_type": "execute_result"
    }
   ],
   "source": [
    "ms.nonzero()[-1].cpu()"
   ]
  },
  {
   "cell_type": "code",
   "execution_count": 74,
   "id": "8d1ec768-5107-4489-ac74-95a9bb76d429",
   "metadata": {},
   "outputs": [
    {
     "data": {
      "text/plain": [
       "tensor(25)"
      ]
     },
     "execution_count": 74,
     "metadata": {},
     "output_type": "execute_result"
    }
   ],
   "source": [
    "tokens.text.tokens[]"
   ]
  },
  {
   "cell_type": "code",
   "execution_count": 56,
   "id": "61b0de11-c3c0-4168-ab9f-2b83b6d07ee5",
   "metadata": {},
   "outputs": [
    {
     "data": {
      "text/plain": [
       "(torch.Size([1, 1024, 50257]), tensor([0, 4], device='cuda:0'))"
      ]
     },
     "execution_count": 56,
     "metadata": {},
     "output_type": "execute_result"
    }
   ],
   "source": [
    "sm.shape, last_index[-1]"
   ]
  },
  {
   "cell_type": "code",
   "execution_count": null,
   "id": "f3e86351-6897-4885-a88f-513c595c4b12",
   "metadata": {},
   "outputs": [],
   "source": [
    "    tokens = tokenize_text([text], max_length=SEQUENCE_LENGTH, padding=\"max_length\", truncation=True, return_tensors=\"pt\")\n",
    "    x = embed_text(tokens[\"input_ids\"]).to(device)\n",
    "    m = tokens[\"attention_mask\"].to(device)\n",
    "    length = m.sum().item()\n",
    "    o = model(inputs_embeds=x)\n",
    "    predicted = lm_head(o.last_hidden_state)\n",
    "    chosen = torch.multinomial(predicted.softmax(dim=2)[:, length-1], num_samples=1)\n",
    "    token = chosen[0]\n",
    "    text += _text_tokenizer.decode(chosen[0])\n",
    "    i += 1\n",
    "print(text)"
   ]
  },
  {
   "cell_type": "code",
   "execution_count": null,
   "id": "194e4ad7-95e4-4a27-a683-d221ad1ce0cf",
   "metadata": {},
   "outputs": [],
   "source": [
    "model.eval()\n",
    "text = \"First Citizen:\"\n",
    "token = None\n",
    "i = 0\n",
    "with torch.no_grad():\n",
    "    while i < 20 and token != _text_tokenizer.eos_token_id:\n",
    "        tokens = tokenize_text([text], max_length=SEQUENCE_LENGTH, padding=\"max_length\", truncation=True, return_tensors=\"pt\")\n",
    "        x = embed_text(tokens[\"input_ids\"]).to(device)\n",
    "        m = tokens[\"attention_mask\"].to(device)\n",
    "        length = m.sum().item()\n",
    "        o = model(inputs_embeds=x)\n",
    "        predicted = lm_head(o.last_hidden_state)\n",
    "        chosen = torch.multinomial(predicted.softmax(dim=2)[:, length-1], num_samples=1)\n",
    "        token = chosen[0]\n",
    "        text += _text_tokenizer.decode(chosen[0])\n",
    "        i += 1\n",
    "print(text)"
   ]
  },
  {
   "cell_type": "code",
   "execution_count": 183,
   "id": "15942866-1fac-44c0-a0e3-8b0a1eafade1",
   "metadata": {},
   "outputs": [
    {
     "ename": "NameError",
     "evalue": "name '_text_tokenizer' is not defined",
     "output_type": "error",
     "traceback": [
      "\u001b[0;31m---------------------------------------------------------------------------\u001b[0m",
      "\u001b[0;31mNameError\u001b[0m                                 Traceback (most recent call last)",
      "Cell \u001b[0;32mIn[183], line 11\u001b[0m\n\u001b[1;32m      9\u001b[0m token \u001b[38;5;241m=\u001b[39m \u001b[38;5;124m\"\u001b[39m\u001b[38;5;124m\"\u001b[39m\n\u001b[1;32m     10\u001b[0m \u001b[38;5;28;01mwith\u001b[39;00m torch\u001b[38;5;241m.\u001b[39mno_grad():\n\u001b[0;32m---> 11\u001b[0m     \u001b[38;5;28;01mwhile\u001b[39;00m i \u001b[38;5;241m<\u001b[39m \u001b[38;5;241m10\u001b[39m \u001b[38;5;129;01mand\u001b[39;00m token \u001b[38;5;241m!=\u001b[39m \u001b[43m_text_tokenizer\u001b[49m\u001b[38;5;241m.\u001b[39meos_token:\n\u001b[1;32m     12\u001b[0m         x, y, m \u001b[38;5;241m=\u001b[39m sequence_vqa(tokenize_text, embed_text, tokenize_image, embed_image, batch)\n\u001b[1;32m     13\u001b[0m         x, y, m \u001b[38;5;241m=\u001b[39m x\u001b[38;5;241m.\u001b[39mto(device), y\u001b[38;5;241m.\u001b[39mto(device), m\u001b[38;5;241m.\u001b[39mto(device)\n",
      "\u001b[0;31mNameError\u001b[0m: name '_text_tokenizer' is not defined"
     ]
    }
   ],
   "source": [
    "model.eval()\n",
    "\n",
    "batch = {\n",
    "    \"question\": question,\n",
    "    \"image\": image,\n",
    "    \"answer\": [\"\"],\n",
    "}\n",
    "i = 0\n",
    "token = \"\"\n",
    "with torch.no_grad():\n",
    "    while i < 10 and token != _text_tokenizer.eos_token:\n",
    "        x, y, m = sequence_vqa(tokenize_text, embed_text, tokenize_image, embed_image, batch)\n",
    "        x, y, m = x.to(device), y.to(device), m.to(device)\n",
    "        o = model(inputs_embeds=x)\n",
    "        predicted = lm_head(o.last_hidden_state)\n",
    "        token = _text_tokenizer.decode(predicted.softmax(dim=2)[0].multinomial(num_samples=1).squeeze(1)[768+i])\n",
    "        token = _text_tokenizer.decode(predicted.argmax(dim=2).squeeze(0)[768+i])\n",
    "        # with temperature\n",
    "        heat = 0.1\n",
    "        heated = predicted / heat\n",
    "        token = _text_tokenizer.decode(heated.softmax(dim=2)[0].multinomial(num_samples=1).squeeze()[768+i])\n",
    "        batch[\"answer\"][0] += token\n",
    "        i += 1\n",
    "batch[\"answer\"]"
   ]
  },
  {
   "cell_type": "code",
   "execution_count": null,
   "id": "ba529169-b327-4b7e-a262-5325f4d7a08f",
   "metadata": {},
   "outputs": [],
   "source": []
  }
 ],
 "metadata": {
  "kernelspec": {
   "display_name": "Python 3 (ipykernel)",
   "language": "python",
   "name": "python3"
  },
  "language_info": {
   "codemirror_mode": {
    "name": "ipython",
    "version": 3
   },
   "file_extension": ".py",
   "mimetype": "text/x-python",
   "name": "python",
   "nbconvert_exporter": "python",
   "pygments_lexer": "ipython3",
   "version": "3.12.4"
  }
 },
 "nbformat": 4,
 "nbformat_minor": 5
}
