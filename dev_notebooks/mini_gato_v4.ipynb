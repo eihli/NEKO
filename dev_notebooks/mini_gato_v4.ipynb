{
 "cells": [
  {
   "cell_type": "markdown",
   "id": "27ae4845-dda8-4cef-812c-644f196679e9",
   "metadata": {},
   "source": [
    "# Mini Gato\n",
    "\n",
    "Goals:\n",
    "\n",
    "- Simplicity\n",
    "- Minimal dependencies\n",
    "- Clear explanations\n",
    "- Quickly iterable executable examples\n",
    "- Extensible architecture\n",
    "\n",
    "Non-goals:\n",
    "\n",
    "- Performance\n",
    "- Eval metrics\n",
    "\n",
    "If I succeed at the goals then I expect the path towards the non-goals will be clear."
   ]
  },
  {
   "cell_type": "markdown",
   "id": "cba89ea8-dcf7-4200-8746-367a05a0e104",
   "metadata": {},
   "source": [
    "# Text\n",
    "\n",
    "To accomplish our goals, we need a small dataset with samples that are easy to understand. I want it to be obvious how well things are working when we run quick sanity checks.\n",
    "\n",
    "Shakespeare fits. There's enough data to usefully train, it's small enough to download and prepare quickly, and it will be easy to do a sanity-check human-eval on the output to know how good we're doing.\n",
    "\n",
    "To accomplish the goal of minimal dependencies and clear explanations, we'll grab the dataset in its raw format. We _could_ get the same dataset from a model hub, like HuggingFace. But this is a perfect time to demonstrate how you would turn raw data into a useful dataset."
   ]
  },
  {
   "cell_type": "markdown",
   "id": "b4f12004-b750-45a1-963d-1fa86b8b1693",
   "metadata": {},
   "source": [
    "In the [words of Karpathy](https://karpathy.github.io/2019/04/25/recipe/#1-become-one-with-the-data):\n",
    "\n",
    "> Become one with the data.\n",
    "\n",
    "Take a look at the [raw data](https://raw.githubusercontent.com/karpathy/char-rnn/master/data/tinyshakespeare/input.txt) so you know what we're working with.\n",
    "\n",
    "The raw data is just 40,000 lines in a single text file.\n",
    "\n",
    "> ANTONIO:\n",
    "> We two, my lord,\n",
    "> Will guard your person while you take your rest,\n",
    "> And watch your safety.\n",
    "> \n",
    "> ALONSO:\n",
    "> Thank you. Wondrous heavy.\n",
    "> \n",
    "> SEBASTIAN:\n",
    "> What a strange drowsiness possesses them!\n",
    "> \n",
    "> ANTONIO:\n",
    "> It is the quality o' the climate.\n",
    "> \n",
    "> SEBASTIAN:\n",
    "> Why\n",
    "> Doth it not then our eyelids sink? I find not\n",
    "> Myself disposed to sleep.\n",
    "\n",
    "Each character's lines are separated by an empty line.\n",
    "\n",
    "Here, we face a common question.\n",
    "\n",
    "**How do we transform this data into samples that can be input to a model?**\n",
    "\n",
    "You'll face this question with almost every raw dataset that you prepare. There's no _right_ answer. You could treat every line as a sample. You could treat every sample [as a sequence of 3 characters](https://youtu.be/TCH_1BHY58I?t=587). You could split on paragraph (or in the case of a Shakespear play, a scene). Or anything else. The only constraint is your samples are small enough to fit the input dimensions of your model.\n",
    "\n",
    "We want our training data to have a long enough context to learn from entire conversations of multiple characters. So, we don't want our DataLoader to return samples of 1 character speaking. That would be too short.\n",
    "\n",
    "I suggest we split on each character's lines and then take a number of character's lines in sequence until we have more than ~250 words. That ought to play nicely with a sequence length of 512. And if we want to play with smaller sequence lengths, we can always truncate. (And larger sequence lengths we'll just pad.)"
   ]
  },
  {
   "cell_type": "code",
   "execution_count": 75,
   "id": "8880adcc-d829-4466-a227-77eb9b78210f",
   "metadata": {},
   "outputs": [],
   "source": [
    "import os\n",
    "from pathlib import Path\n",
    "import re\n",
    "import tempfile\n",
    "import requests\n",
    "\n",
    "def acquire_shakespeare_dataset():\n",
    "    temp_dir = tempfile.gettempdir()\n",
    "    shakespeare_filepath = Path(temp_dir)/\"shakespeare.txt\"\n",
    "    if not os.path.exists(shakespeare_filepath):\n",
    "        data_url = 'https://raw.githubusercontent.com/karpathy/char-rnn/master/data/tinyshakespeare/input.txt'\n",
    "        with open(shakespeare_filepath, 'w', encoding='utf-8') as f:\n",
    "            f.write(requests.get(data_url).text)\n",
    "    \n",
    "    with open(shakespeare_filepath, 'r', encoding='utf-8') as f:\n",
    "        data = f.read()\n",
    "\n",
    "    # Split the dataset into each character's lines.\n",
    "    # Continue taking lines until you have at least 250 words in the sample.\n",
    "    # Add that sample to the dataset.\n",
    "    characters_lines = re.split(r\"\\n\\s*\\n\", data.strip())\n",
    "    MIN_WORDS_PER_BATCH = 250\n",
    "    sample = [characters_lines[0]]\n",
    "    num_words_in_sample = len(characters_lines[0].split())\n",
    "    text_dataset = []\n",
    "    i = 1\n",
    "    while i < len(characters_lines):\n",
    "        if num_words_in_sample > MIN_WORDS_PER_BATCH:\n",
    "            text_dataset.append(\"\\n\\n\".join(sample))\n",
    "            num_words_in_sample -= len(sample[0].split())\n",
    "            sample = sample[1:]\n",
    "        sample += [characters_lines[i]]\n",
    "        num_words_in_sample += len(characters_lines[i].split())\n",
    "        i += 1\n",
    "\n",
    "    return text_dataset"
   ]
  },
  {
   "cell_type": "code",
   "execution_count": 76,
   "id": "386b5933-7dae-4209-844c-aa14288cbb27",
   "metadata": {},
   "outputs": [],
   "source": [
    "text_dataset = acquire_shakespeare_dataset()"
   ]
  },
  {
   "cell_type": "code",
   "execution_count": 77,
   "id": "8ac8a46c-4f84-43da-8e73-037d014a8a82",
   "metadata": {},
   "outputs": [
    {
     "name": "stdout",
     "output_type": "stream",
     "text": [
      "Number of samples in the dataset: 7184\n",
      "Character length of first 3 samples: [1632, 1688, 1891]\n",
      "\n",
      "First 80 characters of first sample:\n",
      "\n",
      "First Citizen:\n",
      "Before we proceed any further, hear me speak.\n",
      "\n",
      "All:\n",
      "Speak, speak.\n"
     ]
    }
   ],
   "source": [
    "print(f\"Number of samples in the dataset: {len(text_dataset)}\")\n",
    "print(f\"Character length of first 3 samples: {[len(x) for x in text_dataset[:3]]}\\n\")\n",
    "print(f\"First 80 characters of first sample:\\n\\n{text_dataset[0][:80]}\")"
   ]
  },
  {
   "cell_type": "markdown",
   "id": "fa960f82-a982-48be-8666-40dacbc79fcf",
   "metadata": {},
   "source": [
    "## Tokenize text\n",
    "\n",
    "> There are infinite possible ways to transform data into tokens, including directly using the raw underlying byte stream. Below we report the tokenization scheme we found to produce the best results for Gato at the current scale using contemporary hardware and model architectures.\n",
    "> Text is encoded via SentencePiece (Kudo & Richardson, 2018) with 32000 subwords into the integer range [0, 32000).\n",
    "> ...\n",
    "\n",
    "For this example, we'll use GPT2. The only thing to note as you change tokenizers is that discrete/continuous values get tokenized to the 1024 numbers after the vocab size (32000 to 33024 in the case of SentencePiece). So, you'll need to make that update as you change tokenizers.\n",
    "\n",
    "GPT2 has a vocab size of 50256, so our discrete/continuous values will tokenize to the range 50256 to 51280."
   ]
  },
  {
   "cell_type": "code",
   "execution_count": 4,
   "id": "ffdf7602-d634-488e-93f2-29d844ad1e6e",
   "metadata": {},
   "outputs": [],
   "source": [
    "import torch\n",
    "from transformers import GPT2Tokenizer"
   ]
  },
  {
   "cell_type": "code",
   "execution_count": 5,
   "id": "b7fce2b8-a902-4cf9-8a03-44abc8bb338f",
   "metadata": {},
   "outputs": [],
   "source": [
    "# Prefixing with _ to signify global.\n",
    "_text_tokenizer = GPT2Tokenizer.from_pretrained(\"openai-community/gpt2\", clean_up_tokenization_spaces=True)\n",
    "_text_tokenizer.pad_token = _text_tokenizer.eos_token\n",
    "tokenize_text = _text_tokenizer"
   ]
  },
  {
   "cell_type": "markdown",
   "id": "72b63f64-2aa3-43bb-9f5a-23590af9aed9",
   "metadata": {},
   "source": [
    "### Context length\n",
    "\n",
    "All modalities must share the same context length. We'll have to decide what that is now, since we're starting on our first modality, text.\n",
    "\n",
    "Text is easy, because the text we train on will usually have a lot more than 1024 tokens of context, and truncating won't affect the quality of the context.\n",
    "\n",
    "But when we get to things like videos/images/robotics, it might be hard to fit a single \"episode\" into a small context. Each image of a video might take up hundreds of tokens, leaving us room for only 2 or 3 images in a single training example (with the remaining tokens taken up by other forms of observation, like proprioception input).\n",
    "\n",
    "I'll arbitrarily pick 1024 as a context window for now."
   ]
  },
  {
   "cell_type": "code",
   "execution_count": 6,
   "id": "b9c0b371-fd1b-43fb-9d7e-6940677b2530",
   "metadata": {},
   "outputs": [],
   "source": [
    "SEQUENCE_LENGTH = 1024\n",
    "BATCH_SIZE=3"
   ]
  },
  {
   "cell_type": "code",
   "execution_count": 7,
   "id": "f683757d-d5c0-4c19-98ba-557d40526b16",
   "metadata": {},
   "outputs": [
    {
     "data": {
      "text/plain": [
       "(torch.Size([3, 1024]), torch.Size([3, 1024]))"
      ]
     },
     "execution_count": 7,
     "metadata": {},
     "output_type": "execute_result"
    }
   ],
   "source": [
    "text_batch = tokenize_text(text_dataset[:BATCH_SIZE], max_length=SEQUENCE_LENGTH, truncation=True, padding=\"max_length\", return_tensors=\"pt\")\n",
    "text_batch[\"input_ids\"].shape, text_batch[\"attention_mask\"].shape"
   ]
  },
  {
   "cell_type": "markdown",
   "id": "8c86902e-d4e7-421f-82c6-e9336e85bb72",
   "metadata": {},
   "source": [
    "## Embed text\n",
    "\n",
    "What size should our embedding dimension be?\n",
    "\n",
    "We could almost pick any arbitrary number here. Karpathy has [a reference in his minGPT repo that says GPT2 used 768 dimensions](https://github.com/karpathy/minGPT/blob/37baab71b9abea1b76ab957409a1cc2fbfba8a26/mingpt/model.py#L131).\n",
    "\n",
    "Pick too large of a number and you'll run into resource bottlenecks. I tried with 768 dimensions and it seemed to be a bit too much for my machine.\n",
    "\n",
    "W're actually a bit constricted in our choices. We can't choose any arbitrary number. We're restricted by requirements of the image modality. How are we going to embed _images_? We're going to split the image into a grid of $n$ by $m$ patches (each with 3 color channels). Therefore, our embedding needs to be $3 * n * m$. 12 by 12 seemed to be a sweet spot in my experiments. So, 432 dimensions."
   ]
  },
  {
   "cell_type": "code",
   "execution_count": 125,
   "id": "10d2aade-50dd-4634-9f60-e24513ac21d5",
   "metadata": {},
   "outputs": [],
   "source": [
    "import torch.nn as nn"
   ]
  },
  {
   "cell_type": "code",
   "execution_count": 126,
   "id": "5a0c0355-fb07-4108-a4c3-45b7fce9f564",
   "metadata": {},
   "outputs": [],
   "source": [
    "EMBEDDING_DIM = 432"
   ]
  },
  {
   "cell_type": "code",
   "execution_count": 127,
   "id": "9b2a7104-848a-4742-a28a-789ae0931588",
   "metadata": {},
   "outputs": [],
   "source": [
    "_text_embedding = nn.Embedding(_text_tokenizer.vocab_size, EMBEDDING_DIM)\n",
    "embed_text = _text_embedding"
   ]
  },
  {
   "cell_type": "markdown",
   "id": "5813d17a-01d1-48c4-ba32-02a1e6902761",
   "metadata": {},
   "source": [
    "## Sequence text\n",
    "\n",
    "\"Sequencing\" our data samples is going to be the hardest part of Gato.\n",
    "\n",
    "It's really simple for text. You just input the words into the model in the order that they appear in the text.\n",
    "\n",
    "But what sequence would you use for a robot task, where there's a single text description of the objective, a sequence of images, and a sequence of proprioceptions?\n",
    "\n",
    "Because it's going to get so complex for later modalities, expect to see more interesting \"Sequence text\" headings in the future."
   ]
  },
  {
   "cell_type": "code",
   "execution_count": 129,
   "id": "6ea7cdc4-9363-4d3b-a16e-b9c2ff9ceecc",
   "metadata": {},
   "outputs": [],
   "source": [
    "def sequence_text(tokenizer, embedder, max_length, batch):\n",
    "    tokens = tokenizer(batch, max_length=max_length, padding=\"max_length\", truncation=True, return_tensors=\"pt\")\n",
    "    ys = tokens[\"input_ids\"].clone()[:, 1:]\n",
    "    embedding = embedder(tokens[\"input_ids\"][:, :-1])\n",
    "    return embedding, ys, tokens[\"attention_mask\"][:, :-1]"
   ]
  },
  {
   "cell_type": "code",
   "execution_count": 130,
   "id": "97b8e6dc-a1cf-4649-9d7e-a466954da667",
   "metadata": {},
   "outputs": [],
   "source": [
    "from torch.utils.data import DataLoader, Dataset\n",
    "from functools import partial"
   ]
  },
  {
   "cell_type": "code",
   "execution_count": 131,
   "id": "28bc3c2d-bdd0-43ab-a600-78f16ae70068",
   "metadata": {},
   "outputs": [],
   "source": [
    "_text_tokenizer(next(iter(DataLoader(text_dataset, batch_size=BATCH_SIZE))));"
   ]
  },
  {
   "cell_type": "markdown",
   "id": "e6bb6940-29f6-4995-98ff-457af337fd85",
   "metadata": {},
   "source": [
    "## Text DataLoader\n",
    "\n",
    "Above, we wrote all of our utilities for tokenizing, embedding, and sequencing text.\n",
    "\n",
    "How do we combine all of those utilities?\n",
    "\n",
    "Honestly, it doesn't much matter _how_ you combine them. The important thing is that the model gets:\n",
    "\n",
    "1. input embeddings\n",
    "2. output target\n",
    "3. mask\n",
    "\n",
    "The reason it's so important that the model get the embeddings (rather than input at some stage pre-embedding) is that:\n",
    "\n",
    "- the Gato architecture has many complexities in how it sequences different modalities\n",
    "- datasets have wild variations in their structure and data types\n",
    "\n",
    "If you try to deal with data _inside_ the Gato model, then you're left with a tangled mess of conditionals.\n",
    "\n",
    "If you enforce a standard at the input boundary, then the code to wrangle each dataset is isolated in it's own tinly little tangled mess which doesn't affect the rest of the datasets or the model.\n",
    "\n",
    "The only \"gotcha\" to remember about this: your embedding dimensions won't be part of an `nn.Module`. You'll have to remember to tell your optimizer about them."
   ]
  },
  {
   "cell_type": "code",
   "execution_count": 133,
   "id": "a75186f6-f8ae-4c4b-9b82-4789fe3cc157",
   "metadata": {},
   "outputs": [],
   "source": [
    "text_dataloader = map(\n",
    "    partial(sequence_text, tokenize_text, _text_embedding, SEQUENCE_LENGTH),\n",
    "    DataLoader(text_dataset, batch_size=BATCH_SIZE)\n",
    ")\n",
    "text_xs, text_ys, text_mask = next(iter(text_dataloader))"
   ]
  },
  {
   "cell_type": "code",
   "execution_count": 134,
   "id": "9ab3828a-a838-469a-999c-0afbf2f1a6e0",
   "metadata": {},
   "outputs": [
    {
     "data": {
      "text/plain": [
       "(torch.Size([3, 1023, 432]), torch.Size([3, 1023]), torch.Size([3, 1023]))"
      ]
     },
     "execution_count": 134,
     "metadata": {},
     "output_type": "execute_result"
    }
   ],
   "source": [
    "text_xs.shape, text_ys.shape, text_mask.shape"
   ]
  },
  {
   "cell_type": "markdown",
   "id": "5b9c344a-c811-4999-946d-f3d735c3b59f",
   "metadata": {},
   "source": [
    "# VQA\n",
    "\n",
    "Unlike text, it's hard to get a small and simple dataset for visual question answering.\n",
    "\n",
    "The [OK-VQA dataset](https://okvqa.allenai.org/index.html) has 14,055 `(image, question, answer)` tuples (along with some other data, like a confidence rating in the answer, and multiple answers where the question is ambiguous).\n",
    "\n",
    "That's not _huge_. But it's kind of nice to be able to really quickly _overfit_ when you're first experimenting with these models. Pursposefully overfitting is a good sanity check. If you can't overfit, then you _definitely_ can't _fit_...\n",
    "\n",
    "So, let's use something smaller than [OK-VQA](https://okvqa.allenai.org/index.html).\n",
    "\n",
    "Let's use [eihli/micro-ok-vqa](https://huggingface.co/datasets/eihli/micro-ok-vqa), and see if we can overfit. It's just the first 100 images from OK-VQA. 80 train, 20 validation."
   ]
  },
  {
   "cell_type": "code",
   "execution_count": 137,
   "id": "b572a022-83e0-4d23-a33c-23c848da70ca",
   "metadata": {},
   "outputs": [],
   "source": [
    "import random\n",
    "import datasets\n",
    "import torchvision.transforms.v2 as transforms"
   ]
  },
  {
   "cell_type": "code",
   "execution_count": 138,
   "id": "bd8b0df2-a511-4dc8-9334-ded019046016",
   "metadata": {},
   "outputs": [],
   "source": [
    "vqa_dataset = datasets.load_dataset(\"eihli/micro-ok-vqa\").with_format(\"pt\")"
   ]
  },
  {
   "cell_type": "markdown",
   "id": "4c267bad-1961-4b1f-8bea-a89011881ee5",
   "metadata": {},
   "source": [
    "Once again, in the [words of Karpathy](https://karpathy.github.io/2019/04/25/recipe/#1-become-one-with-the-data):\n",
    "\n",
    "> Become one with the data."
   ]
  },
  {
   "cell_type": "code",
   "execution_count": 141,
   "id": "74ac417c-6556-4ac6-afc1-ee10e3d127a8",
   "metadata": {},
   "outputs": [
    {
     "data": {
      "text/plain": [
       "DatasetDict({\n",
       "    train: Dataset({\n",
       "        features: ['image', 'question_type', 'confidence', 'answers', 'image_id', 'answer_type', 'question_id', 'question'],\n",
       "        num_rows: 80\n",
       "    })\n",
       "    validation: Dataset({\n",
       "        features: ['image', 'question_type', 'confidence', 'answers', 'image_id', 'answer_type', 'question_id', 'question'],\n",
       "        num_rows: 20\n",
       "    })\n",
       "})"
      ]
     },
     "execution_count": 141,
     "metadata": {},
     "output_type": "execute_result"
    }
   ],
   "source": [
    "vqa_dataset"
   ]
  },
  {
   "cell_type": "code",
   "execution_count": 142,
   "id": "71c48846-da6e-41ab-8982-0fe1b5e50f77",
   "metadata": {},
   "outputs": [
    {
     "data": {
      "text/plain": [
       "Dataset({\n",
       "    features: ['image', 'question_type', 'confidence', 'answers', 'image_id', 'answer_type', 'question_id', 'question'],\n",
       "    num_rows: 80\n",
       "})"
      ]
     },
     "execution_count": 142,
     "metadata": {},
     "output_type": "execute_result"
    }
   ],
   "source": [
    "vqa_dataset[\"train\"]"
   ]
  },
  {
   "cell_type": "code",
   "execution_count": 22,
   "id": "53f38c1b-74e5-45a5-a735-dee7ba00d4ec",
   "metadata": {},
   "outputs": [
    {
     "data": {
      "text/plain": [
       "torch.Size([3, 479, 640])"
      ]
     },
     "execution_count": 22,
     "metadata": {},
     "output_type": "execute_result"
    }
   ],
   "source": [
    "vqa_dataset['train']['image'][0].shape"
   ]
  },
  {
   "cell_type": "code",
   "execution_count": 143,
   "id": "14335dd3-9c7d-48fd-bf6f-76f985663422",
   "metadata": {},
   "outputs": [
    {
     "data": {
      "text/plain": [
       "['What is the hairstyle of the blond called?',\n",
       " 'How old do you have to be in canada to do this?',\n",
       " 'Can you guess the place where the man is playing?',\n",
       " 'Which rail company is named after a town in new mexico?',\n",
       " 'Is the boy swimming or doing another water activity?']"
      ]
     },
     "execution_count": 143,
     "metadata": {},
     "output_type": "execute_result"
    }
   ],
   "source": [
    "vqa_dataset[\"train\"][\"question\"][:5]"
   ]
  },
  {
   "cell_type": "code",
   "execution_count": 144,
   "id": "78ec3779-1f63-42a8-8146-df957e01fdef",
   "metadata": {},
   "outputs": [
    {
     "data": {
      "text/plain": [
       "(10,\n",
       " [{'answer': 'pony tail',\n",
       "   'raw_answer': 'pony tail',\n",
       "   'answer_confidence': 'yes',\n",
       "   'answer_id': tensor(1)},\n",
       "  {'answer': 'pony tail',\n",
       "   'raw_answer': 'pony tail',\n",
       "   'answer_confidence': 'yes',\n",
       "   'answer_id': tensor(2)},\n",
       "  {'answer': 'pony tail',\n",
       "   'raw_answer': 'pony tail',\n",
       "   'answer_confidence': 'yes',\n",
       "   'answer_id': tensor(3)}])"
      ]
     },
     "execution_count": 144,
     "metadata": {},
     "output_type": "execute_result"
    }
   ],
   "source": [
    "len(vqa_dataset[\"train\"][\"answers\"][0]), vqa_dataset[\"train\"][\"answers\"][0][:3]"
   ]
  },
  {
   "cell_type": "markdown",
   "id": "63951f3d-cc77-4600-843c-e709922eaa65",
   "metadata": {},
   "source": [
    "This is the kind of one-off work you'll encounter for each dataset.\n",
    "\n",
    "This particular VQA dataset offers 10 possible answers for each question. I assume the idea is that some image questions are ambiguous.\n",
    "\n",
    "Part of our work is deciding how we want to handle that.\n",
    "\n",
    "In the grand scheme of this model, I don't think there's a reasonable decision we could make here that would result in a significant change to the model quality.\n",
    "\n",
    "My plan is to just randomly select an answer and ignore the \"answer_confidence\" value."
   ]
  },
  {
   "cell_type": "code",
   "execution_count": 140,
   "id": "d5d68e95-dcee-4b23-a4f2-570e44cd05cf",
   "metadata": {},
   "outputs": [],
   "source": [
    "micro_ok_vqa_transform = transforms.Compose([\n",
    "    # No particular reason to use `transforms.Compose` here since we're only doing one transform. But it's nice to know about.\n",
    "    transforms.RandomResizedCrop((192, 192), (0.5, 1.0)),\n",
    "])"
   ]
  },
  {
   "cell_type": "code",
   "execution_count": 23,
   "id": "7eec87c6-b689-4f84-822c-1c7daa0a6df5",
   "metadata": {},
   "outputs": [],
   "source": [
    "def micro_ok_vqa_collate_fn(batch):\n",
    "    answers = [random.choice(el[\"answers\"])[\"answer\"] for el in batch]\n",
    "    questions = [el[\"question\"] for el in batch]\n",
    "    images = torch.stack([micro_ok_vqa_transform(el[\"image\"]) for el in batch])\n",
    "    return {\n",
    "        \"question\": questions,\n",
    "        \"image\": images,\n",
    "        \"answer\": answers,\n",
    "    }"
   ]
  },
  {
   "cell_type": "code",
   "execution_count": 145,
   "id": "7ba82316-1b16-4ce9-8a4d-8b93f8779d06",
   "metadata": {},
   "outputs": [],
   "source": [
    "vqa_dl = DataLoader(vqa_dataset[\"train\"], batch_size=8, collate_fn=micro_ok_vqa_collate_fn)\n",
    "vqa_batch = next(iter(vqa_dl))"
   ]
  },
  {
   "cell_type": "code",
   "execution_count": 146,
   "id": "03457ad3-e06f-40e7-baf7-0cd21cda0dc3",
   "metadata": {},
   "outputs": [
    {
     "data": {
      "text/plain": [
       "torch.Size([8, 3, 192, 192])"
      ]
     },
     "execution_count": 146,
     "metadata": {},
     "output_type": "execute_result"
    }
   ],
   "source": [
    "vqa_batch[\"image\"].shape"
   ]
  },
  {
   "cell_type": "code",
   "execution_count": 147,
   "id": "59297039-385d-46fd-867f-f7c528bfc94c",
   "metadata": {},
   "outputs": [],
   "source": [
    "import matplotlib.pyplot as plt"
   ]
  },
  {
   "cell_type": "code",
   "execution_count": 148,
   "id": "127a3b4f-2acf-471e-b3a1-7306ee7ecaae",
   "metadata": {},
   "outputs": [
    {
     "data": {
      "text/plain": [
       "<matplotlib.image.AxesImage at 0x7c91d8969f10>"
      ]
     },
     "execution_count": 148,
     "metadata": {},
     "output_type": "execute_result"
    },
    {
     "data": {
      "image/png": "[encoded data removed]",
      "text/plain": [
       "<Figure size 640x480 with 1 Axes>"
      ]
     },
     "metadata": {},
     "output_type": "display_data"
    }
   ],
   "source": [
    "plt.imshow(vqa_batch[\"image\"][0].permute(1, 2, 0))"
   ]
  },
  {
   "cell_type": "markdown",
   "id": "890fd6e9-f528-436b-abfa-d1374e8521a1",
   "metadata": {},
   "source": [
    "### Tokenizing images\n",
    "\n",
    "Sweet.\n",
    "\n",
    "Now.\n",
    "\n",
    "How do we tokenize images?\n",
    "\n",
    "> Images are first transformed into sequences of non-overlapping 16 × 16 patches in raster order, as done in ViT (Dosovitskiy et al., 2020). Each pixel in the image patches is then normalized between [−1, 1] and divided by the square-root of the patch size (i.e. √16 = 4).\n",
    "\n",
    "We'll use 12 by 12 to keep our model a bit smaller and faster.\n",
    "\n",
    "Note that even though we're encoding text (the question and answer), we can't simply re-use the `tokenize_text` function that we used previously, because that function assumed the text was taking up the entire context window. The question and answer will only take up a small portion of the context window in the VQA case. The image will take up a large portion."
   ]
  },
  {
   "cell_type": "code",
   "execution_count": 149,
   "id": "bae94bba-7804-45fb-a8a3-69e2e45bdc23",
   "metadata": {},
   "outputs": [
    {
     "data": {
      "text/plain": [
       "torch.Size([8, 3, 192, 192])"
      ]
     },
     "execution_count": 149,
     "metadata": {},
     "output_type": "execute_result"
    }
   ],
   "source": [
    "images = vqa_batch[\"image\"]\n",
    "images.shape"
   ]
  },
  {
   "cell_type": "code",
   "execution_count": 150,
   "id": "432eca79-a168-4da0-a7ce-662ab968b90c",
   "metadata": {},
   "outputs": [],
   "source": [
    "from einops import rearrange"
   ]
  },
  {
   "cell_type": "code",
   "execution_count": 151,
   "id": "e6818217-6f9e-46ab-881f-b22720eb65cc",
   "metadata": {},
   "outputs": [],
   "source": [
    "patch_size=12"
   ]
  },
  {
   "cell_type": "code",
   "execution_count": 152,
   "id": "6f154f67-1259-48f5-aa3b-1030492dbdff",
   "metadata": {},
   "outputs": [
    {
     "data": {
      "text/plain": [
       "torch.Size([8, 256, 432])"
      ]
     },
     "execution_count": 152,
     "metadata": {},
     "output_type": "execute_result"
    }
   ],
   "source": [
    "patches = rearrange(images, 'b c (h s1) (w s2) -> b (h w) (s1 s2 c)', s1=patch_size, s2=patch_size)\n",
    "patches.shape"
   ]
  },
  {
   "cell_type": "code",
   "execution_count": 153,
   "id": "4821112e-a8cb-4032-a6f4-04eeda48ad97",
   "metadata": {},
   "outputs": [
    {
     "data": {
      "text/plain": [
       "torch.Size([8, 3, 192, 192])"
      ]
     },
     "execution_count": 153,
     "metadata": {},
     "output_type": "execute_result"
    }
   ],
   "source": [
    "reconstructed = rearrange(patches, 'b (ph pw) (sh sw c) -> b c (ph sh) (pw sw)', ph=16, pw=16, sh=patch_size, sw=patch_size)\n",
    "reconstructed.shape"
   ]
  },
  {
   "cell_type": "code",
   "execution_count": 154,
   "id": "581b684c-12b1-44c5-93b7-2ebc0a581292",
   "metadata": {},
   "outputs": [
    {
     "data": {
      "text/plain": [
       "tensor(True)"
      ]
     },
     "execution_count": 154,
     "metadata": {},
     "output_type": "execute_result"
    }
   ],
   "source": [
    "(reconstructed == images).all()"
   ]
  },
  {
   "cell_type": "code",
   "execution_count": 155,
   "id": "c39af499-1c2a-490e-9a38-cae851fb6b6c",
   "metadata": {},
   "outputs": [],
   "source": [
    "def images_to_patches(images, patch_size=12):\n",
    "    return rearrange(images, 'b c (h s1) (w s2) -> b (h w) (c s1 s2)', s1=patch_size, s2=patch_size)\n",
    "\n",
    "# We don't need this as part of Gato. It's just here to play with and visually test the code.\n",
    "def patches_to_image(patches, image_shape, patch_size=12):\n",
    "    channels, height, width = image_shape\n",
    "    patch_height = height // patch_size\n",
    "    patch_width = width // patch_size\n",
    "    reconstructed = rearrange(\n",
    "        patches, \n",
    "        'b (ph pw) (c ps1 ps2) -> b c (ph ps1) (pw ps2)',\n",
    "        ph=patch_height,\n",
    "        pw=patch_width,\n",
    "        ps1=patch_size,\n",
    "        ps2=patch_size,\n",
    "    )\n",
    "    return reconstructed"
   ]
  },
  {
   "cell_type": "code",
   "execution_count": 156,
   "id": "181ac218-0a5e-4607-87f8-f7ce313b3761",
   "metadata": {},
   "outputs": [
    {
     "data": {
      "text/plain": [
       "tensor(True)"
      ]
     },
     "execution_count": 156,
     "metadata": {},
     "output_type": "execute_result"
    }
   ],
   "source": [
    "# And to prove that we can go from image -> patch -> image\n",
    "recovered_images = patches_to_image(images_to_patches(images), (3, 192, 192))\n",
    "(recovered_images == images).all()"
   ]
  },
  {
   "cell_type": "markdown",
   "id": "b34dcfa9-55c1-4284-a2dd-6c1e65d52334",
   "metadata": {},
   "source": [
    "Other than patching, is there anything else?\n",
    "\n",
    "> Each pixel in the image patches is then normalized between [−1, 1] and divided by the square-root of the patch size (i.e. √16 = 4).\n",
    "\n",
    "How do we normalize?\n",
    "\n",
    "How do we normalize along the _patch_ dimension?\n",
    "\n",
    "Let's first handle normalizing a rank one tensor. Then, we'll write a helper utility to apply that kind of function across any arbitrary dimension."
   ]
  },
  {
   "cell_type": "code",
   "execution_count": 161,
   "id": "ffb00151-e69b-4667-9bf3-e54cd82f4762",
   "metadata": {},
   "outputs": [],
   "source": [
    "def normalize_to_between_minus_one_plus_one(t: torch.Tensor):\n",
    "    min_val, max_val = t.min(), t.max()\n",
    "    if min_val == max_val:\n",
    "        return torch.zeros_like(t)\n",
    "    normalized = 2 * (t - min_val) / (max_val - min_val) - 1\n",
    "    return normalized"
   ]
  },
  {
   "cell_type": "code",
   "execution_count": 162,
   "id": "47185cfb-58b8-4242-8aae-93c7c4b1af3a",
   "metadata": {},
   "outputs": [
    {
     "data": {
      "text/plain": [
       "tensor([-1.0000, -0.6000, -0.2000,  0.2000,  0.6000,  1.0000])"
      ]
     },
     "execution_count": 162,
     "metadata": {},
     "output_type": "execute_result"
    }
   ],
   "source": [
    "normalize_to_between_minus_one_plus_one(torch.arange(6))"
   ]
  },
  {
   "cell_type": "code",
   "execution_count": 163,
   "id": "2a5ef54f-bbd8-493f-acdf-b923a694cacc",
   "metadata": {},
   "outputs": [],
   "source": [
    "# There's a small deviation in the NEKO codebase from the paper.\n",
    "# The paper normalizes _per patch_. The NEKO codebase currently normalizes _per image_.\n",
    "# https://github.com/eihli/NEKO/blob/master/gato/policy/embeddings.py#L38\n",
    "# This notebook normalizeds per patch. That's what this utility helps.\n",
    "def apply_along_dimension(func, dim, tensor):\n",
    "    tensor = tensor.transpose(0, dim)\n",
    "    shape = tensor.shape\n",
    "    tensor = tensor.reshape(shape[0], -1)\n",
    "    result = torch.stack([func(tensor[:, i]) for i in range(tensor.size(1))], dim=1)\n",
    "    result = result.reshape(shape).transpose(0, dim)\n",
    "    return result"
   ]
  },
  {
   "cell_type": "markdown",
   "id": "0aac7d95-0a2d-498d-b242-5968e9b55539",
   "metadata": {},
   "source": [
    "And here's a simple sanity check. I'll pick some data that's simple to reason about and I'll pick some operations that will highlight the effects of the code."
   ]
  },
  {
   "cell_type": "code",
   "execution_count": 167,
   "id": "8894a88f-b766-4f72-8a4c-4b944cce096a",
   "metadata": {},
   "outputs": [
    {
     "name": "stdout",
     "output_type": "stream",
     "text": [
      "starting tensor:\n",
      "tensor([[[ 0,  1],\n",
      "         [ 2,  3]],\n",
      "\n",
      "        [[ 4,  5],\n",
      "         [ 6,  7]],\n",
      "\n",
      "        [[ 8,  9],\n",
      "         [10, 11]]])\n",
      "\n",
      "t * t.min() along dim 0:\n",
      "tensor([[[ 0,  1],\n",
      "         [ 4,  9]],\n",
      "\n",
      "        [[ 0,  5],\n",
      "         [12, 21]],\n",
      "\n",
      "        [[ 0,  9],\n",
      "         [20, 33]]])\n",
      "\n",
      "t * t.min() along dim 1:\n",
      "tensor([[[ 0,  1],\n",
      "         [ 0,  3]],\n",
      "\n",
      "        [[16, 25],\n",
      "         [24, 35]],\n",
      "\n",
      "        [[64, 81],\n",
      "         [80, 99]]])\n",
      "\n",
      "t * t.min() along dim 2:\n",
      "tensor([[[  0,   0],\n",
      "         [  4,   6]],\n",
      "\n",
      "        [[ 16,  20],\n",
      "         [ 36,  42]],\n",
      "\n",
      "        [[ 64,  72],\n",
      "         [100, 110]]])\n",
      "\n"
     ]
    }
   ],
   "source": [
    "example = torch.arange(12).view(3, 2, 2)\n",
    "print(f\"starting tensor:\\n{example}\\n\")\n",
    "print(f\"t * t.min() along dim 0:\\n{apply_along_dimension(lambda t: t * t.min(), 0, example)}\\n\")\n",
    "print(f\"t * t.min() along dim 1:\\n{apply_along_dimension(lambda t: t * t.min(), 1, example)}\\n\")\n",
    "print(f\"t * t.min() along dim 2:\\n{apply_along_dimension(lambda t: t * t.min(), 2, example)}\\n\")"
   ]
  },
  {
   "cell_type": "code",
   "execution_count": 168,
   "id": "1b6e78ce-7fb5-42c1-bb81-1aa0075cb09f",
   "metadata": {},
   "outputs": [],
   "source": [
    "def tokenize_image(image: torch.Tensor) -> torch.Tensor:\n",
    "    \"\"\"Convert images to patches, normalize each patch, then prepare it for\n",
    "    embedding by reshaping to CxHxW so that we can send it through the conv\n",
    "    layers of a ResNet block.\n",
    "    \"\"\" \n",
    "    image = images_to_patches(image)\n",
    "    # Hardcoding as a reminder to do something smarter\n",
    "    SQUARE_ROOT_OF_PATCH_SIZE = 3.464\n",
    "    image = (\n",
    "        apply_along_dimension(\n",
    "            normalize_to_between_minus_one_plus_one, 2, image\n",
    "        )\n",
    "        / SQUARE_ROOT_OF_PATCH_SIZE\n",
    "    )\n",
    "    return image"
   ]
  },
  {
   "cell_type": "code",
   "execution_count": 169,
   "id": "f09c059a-9c71-4630-b2f7-f0f6cf993a51",
   "metadata": {},
   "outputs": [],
   "source": [
    "vqa_batch[\"image_tokens\"] = tokenize_image(vqa_batch[\"image\"])"
   ]
  },
  {
   "cell_type": "code",
   "execution_count": 170,
   "id": "ed04cc29-d2a4-4045-940b-cfc58177d31a",
   "metadata": {},
   "outputs": [
    {
     "data": {
      "text/plain": [
       "torch.Size([8, 256, 432])"
      ]
     },
     "execution_count": 170,
     "metadata": {},
     "output_type": "execute_result"
    }
   ],
   "source": [
    "vqa_batch[\"image_tokens\"].shape"
   ]
  },
  {
   "cell_type": "markdown",
   "id": "200872cf-7a81-45b2-984b-53daaab69625",
   "metadata": {},
   "source": [
    "### Image Embedding\n",
    "\n",
    "> 2.2 Embedding input tokens and setting output targets\n",
    "> \n",
    "> After tokenization and sequencing, we apply a parameterized embedding function f (·; θe) to each token (i.e. it is applied to both observations and actions) to produce the final model input. To enable efficient learning from our multi-modal input sequence s1:L the embedding function performs different operations depending on the modality the token stems from...\n",
    "> \n",
    "> Tokens belonging to image patches for any time-step are embedded using a single ResNet (He et al., 2016a) block to obtain a vector per patch. For image patch token embeddings, we also add a learnable within-image position encoding vector.\n",
    "\n",
    "A single ResNet block. Ok. Easy."
   ]
  },
  {
   "cell_type": "code",
   "execution_count": 47,
   "id": "8bdd63ae-7c5b-485c-8ef2-b36501243996",
   "metadata": {},
   "outputs": [],
   "source": [
    "import torch.nn as nn"
   ]
  },
  {
   "cell_type": "code",
   "execution_count": 48,
   "id": "95e806b1-9d64-4bbf-8604-ce70793e2198",
   "metadata": {
    "scrolled": true
   },
   "outputs": [],
   "source": [
    "# From section 2.2 of the Gato paper:\n",
    "#\n",
    "#    Tokens belonging to image patches for any time-step are embedded using a\n",
    "#    single ResNet (He et al., 2016a) block to obtain a vector per patch. For\n",
    "#    image patch token embeddings, we also add a learnable within-image position\n",
    "#    encoding vector.\n",
    "class ResNetV2Block(nn.Module):\n",
    "    def __init__(self, in_channels, out_channels, stride=1, num_groups=24):\n",
    "        super(ResNetV2Block, self).__init__()\n",
    "        self.gn1 = nn.GroupNorm(1, in_channels)\n",
    "        self.gelu = nn.GELU()\n",
    "        self.conv1 = nn.Conv2d(\n",
    "            in_channels,\n",
    "            out_channels,\n",
    "            kernel_size=3,\n",
    "            stride=stride,\n",
    "            padding=1,\n",
    "            bias=False,\n",
    "        )\n",
    "        self.gn2 = nn.GroupNorm(num_groups, out_channels)\n",
    "        self.conv2 = nn.Conv2d(\n",
    "            out_channels, in_channels, kernel_size=3, stride=1, padding=1, bias=False\n",
    "        )\n",
    "\n",
    "    def forward(self, x):\n",
    "        B, T, CHW = x.shape\n",
    "        # TODO: Remove these hardcoded values.\n",
    "        out = rearrange(x, 'b t (c h w) -> (b t) c h w', c=3, h=16)\n",
    "        out = self.gn1(out)\n",
    "        out = self.gelu(out)\n",
    "        out = self.conv1(out)\n",
    "        out = self.gn2(out)\n",
    "        out = self.gelu(out)\n",
    "        out = self.conv2(out)\n",
    "        return x + rearrange(out, '(b t) c h w -> b t (c h w)', b=B, t=T)\n",
    "\n",
    "_image_embedding = ResNetV2Block(3, EMBEDDING_DIM)\n",
    "# This _position_embedding doesn't match exactly what's in the Gato paper.\n",
    "# The gato/policy/embeddings.py file has the exact implementation from the paper.\n",
    "# https://github.com/eihli/NEKO/blob/explore-simplify-dataset-dataloader/gato/policy/embeddings.py#L91\n",
    "_position_embedding = nn.Embedding(256, EMBEDDING_DIM)"
   ]
  },
  {
   "cell_type": "code",
   "execution_count": 49,
   "id": "2a8e3dfd-3b6b-451e-8d04-b2a99070ded9",
   "metadata": {},
   "outputs": [],
   "source": [
    "# TODO: This isn't how Gato does position embeddings.\n",
    "# See Figure 17.\n",
    "# I think their idea is that they want a separate row and column position embedding.\n",
    "# Is that needed? My idea is that the embedding table would learn to distinguish that itself.\n",
    "# Maybe their's generalizes better with less data?\n",
    "def embed_image(image_tokens):\n",
    "    return _image_embedding(image_tokens) + _position_embedding(torch.arange(256))"
   ]
  },
  {
   "cell_type": "code",
   "execution_count": 50,
   "id": "299a328e-b551-43c5-b363-f49a26fed167",
   "metadata": {},
   "outputs": [
    {
     "data": {
      "text/plain": [
       "'<|endoftext|>'"
      ]
     },
     "execution_count": 50,
     "metadata": {},
     "output_type": "execute_result"
    }
   ],
   "source": [
    "_text_tokenizer.bos_token"
   ]
  },
  {
   "cell_type": "code",
   "execution_count": 51,
   "id": "fd4a8b16-06f9-4153-934c-00cec84bf7ff",
   "metadata": {},
   "outputs": [],
   "source": [
    "# For simplicity, I'm hardcoding a few important decisions in this function.\n",
    "# Given any particular context window:\n",
    "# - What should be the max token length of the question?\n",
    "# - What should be the max token length of the answer?\n",
    "# \n",
    "# I'm assuming a context window of 1024 and image sizes of (3, 192, 192) split into 16x16 patches of 12x12,\n",
    "# resulting in 256 image tokens and 756 remaining tokens to distribute to the question and answer.\n",
    "# I assume the question is usually longer, so I'm rather arbitrarily picking 512 tokens for the question\n",
    "# and 256 for the answer.\n",
    "def sequence_vqa(text_tokenizer, text_embedder, image_tokenizer, image_embedder, batch):\n",
    "    bos_token = text_tokenizer.bos_token\n",
    "    eos_token = text_tokenizer.eos_token\n",
    "    question_max_length = 512\n",
    "    answer_max_length = 256\n",
    "    \n",
    "    question = [bos_token + q + eos_token for q in batch[\"question\"]]\n",
    "    question_tokens = text_tokenizer(\n",
    "        question, \n",
    "        truncation=True, \n",
    "        padding=\"max_length\", \n",
    "        # max_length+1 because we're taking data[:-1] for xs and data[1:] for ys.\n",
    "        max_length=question_max_length+1,\n",
    "        return_tensors=\"pt\"\n",
    "    )\n",
    "\n",
    "    # If the answer isn't in the batch, then we consider ourselves in \"prediction\" mode\n",
    "    # and just start with a bos_token.\n",
    "    if \"answer\" not in batch:\n",
    "        answer = [bos_token for _ in question]\n",
    "    else:\n",
    "        # This bos + text + eos preprocessing might be cleaner in its own preprocessing step\n",
    "        # rather than clump it all inside the `sequence_...` function.\n",
    "        answer = [bos_token + a + eos_token for a in batch[\"answer\"]]\n",
    "    answer_tokens = text_tokenizer(\n",
    "        answer, \n",
    "        truncation=True, \n",
    "        padding=\"max_length\", \n",
    "        max_length=answer_max_length+1, \n",
    "        return_tensors=\"pt\"\n",
    "    )\n",
    "    \n",
    "    image_tokens = image_tokenizer(batch[\"image\"])\n",
    "    # We're not predicting image tokens, so we need to return a mask that our loss function can \n",
    "    # use to ignore them.\n",
    "    image_attention_mask = torch.zeros_like(image_tokens)\n",
    "\n",
    "    question_embedding = text_embedder(question_tokens[\"input_ids\"][:, :-1])\n",
    "    answer_embedding = text_embedder(answer_tokens[\"input_ids\"][:, :-1])\n",
    "    image_embedding = image_embedder(image_tokens)\n",
    "    xs = torch.concat([question_embedding, image_embedding, answer_embedding], dim=1)\n",
    "    ys = torch.concat([question_tokens[\"input_ids\"][:, 1:], torch.zeros(image_tokens.shape[:2]), answer_tokens[\"input_ids\"][:, 1:]], dim=1).int()\n",
    "    attention_mask = torch.concat([question_tokens[\"attention_mask\"][:, :-1], torch.zeros(image_tokens.shape[:2]), answer_tokens[\"attention_mask\"][:, :-1]], dim=1)\n",
    "    return xs, ys, attention_mask"
   ]
  },
  {
   "cell_type": "code",
   "execution_count": 57,
   "id": "5eff484e-f0f5-4b80-9f1a-a9782c3e7e45",
   "metadata": {},
   "outputs": [],
   "source": [
    "vqa_dataset = datasets.load_dataset(\"eihli/micro-ok-vqa\").with_format(\"torch\")\n",
    "vqa_dataloader = map(\n",
    "    partial(sequence_vqa, tokenize_text, embed_text, tokenize_image, embed_image), \n",
    "    DataLoader(vqa_dataset[\"train\"], batch_size=BATCH_SIZE, collate_fn=micro_ok_vqa_collate_fn)\n",
    ")\n",
    "xs, ys, mask = next(vqa_dataloader)"
   ]
  },
  {
   "cell_type": "code",
   "execution_count": 58,
   "id": "c693031a-3599-4af4-91ba-555694abef55",
   "metadata": {},
   "outputs": [
    {
     "data": {
      "text/plain": [
       "(torch.Size([3, 1024, 432]),\n",
       " torch.Size([3, 1024]),\n",
       " torch.Size([3, 1024]),\n",
       " torch.int32)"
      ]
     },
     "execution_count": 58,
     "metadata": {},
     "output_type": "execute_result"
    }
   ],
   "source": [
    "xs.shape, ys.shape, mask.shape, ys.dtype"
   ]
  },
  {
   "cell_type": "code",
   "execution_count": 59,
   "id": "f8d788a2-4e2a-4e15-a36e-d8cd9008bef1",
   "metadata": {},
   "outputs": [
    {
     "data": {
      "text/plain": [
       "(torch.Size([3, 1023, 432]),\n",
       " torch.Size([3, 1023]),\n",
       " torch.Size([3, 1023]),\n",
       " torch.int64)"
      ]
     },
     "execution_count": 59,
     "metadata": {},
     "output_type": "execute_result"
    }
   ],
   "source": [
    "text_xs.shape, text_ys.shape, text_mask.shape, text_ys.dtype"
   ]
  },
  {
   "cell_type": "markdown",
   "id": "f91fab8f-8873-4304-b9c6-a06401613314",
   "metadata": {},
   "source": [
    "# Loss"
   ]
  },
  {
   "cell_type": "code",
   "execution_count": 60,
   "id": "0562fef0-3d64-468a-a428-3d8bf73b5e0c",
   "metadata": {},
   "outputs": [],
   "source": [
    "import torch.nn.functional as F"
   ]
  },
  {
   "cell_type": "code",
   "execution_count": 61,
   "id": "a8e4a354-fd94-4574-b2bd-2ad13031e505",
   "metadata": {},
   "outputs": [],
   "source": [
    "## Loss\n",
    "##\n",
    "## See section 2.3 of the Gato paper.\n",
    "##\n",
    "##   Let b index a training batch of sequences B. We define a masking function m\n",
    "##   such that m(b, l) = 1 if the token at index l is either from text or from\n",
    "##   the logged action of an agent, and 0 otherwise. The training loss for a\n",
    "##   batch B can then be written as...\n",
    "def cross_entropy(predicted, target, mask):\n",
    "    # See: https://youtu.be/kCc8FmEb1nY?list=PLAqhIrjkxbuWI23v9cThsA9GvCAUhRvKZ&t=1553\n",
    "    B, T, C = predicted.shape\n",
    "    predicted = predicted.view(B * T, C)\n",
    "    target = target.view(-1)\n",
    "    losses = F.cross_entropy(predicted, target, reduction=\"none\")\n",
    "    losses = losses * mask.squeeze(-1).view(-1)\n",
    "    loss = losses.sum() / mask.sum()\n",
    "    return loss"
   ]
  },
  {
   "cell_type": "markdown",
   "id": "d70c7f28-6d99-4038-9679-1e452a957d79",
   "metadata": {},
   "source": [
    "# Training"
   ]
  },
  {
   "cell_type": "code",
   "execution_count": 62,
   "id": "59d999c6-e63b-4f0e-a909-9f1da346b017",
   "metadata": {},
   "outputs": [],
   "source": [
    "from transformers import GPT2TokenizerFast, GPT2Config, GPT2Model"
   ]
  },
  {
   "cell_type": "code",
   "execution_count": 63,
   "id": "b901d325-a96d-463d-88f6-31702432d715",
   "metadata": {},
   "outputs": [],
   "source": [
    "device = torch.device('cuda')"
   ]
  },
  {
   "cell_type": "code",
   "execution_count": 64,
   "id": "7b612af9-17d6-48b4-9904-b5d0934fabb7",
   "metadata": {},
   "outputs": [],
   "source": [
    "def init_model():\n",
    "    configuration = GPT2Config(\n",
    "        n_layer=2,\n",
    "        n_head=2,\n",
    "        n_embd=EMBEDDING_DIM\n",
    "    )\n",
    "    model = GPT2Model(configuration)\n",
    "    return model\n",
    "\n",
    "\n",
    "def init_optimizer(params):\n",
    "    optimizer = torch.optim.AdamW(params)\n",
    "    return optimizer"
   ]
  },
  {
   "cell_type": "code",
   "execution_count": 65,
   "id": "7e92aed5-6296-4234-86b6-08dca02cd4d1",
   "metadata": {},
   "outputs": [],
   "source": [
    "model = init_model().to(device)"
   ]
  },
  {
   "cell_type": "code",
   "execution_count": 66,
   "id": "cc8d870a-8cb7-4bc9-abaf-084a99e708ee",
   "metadata": {},
   "outputs": [],
   "source": [
    "HIDDEN_DIMS=EMBEDDING_DIM\n",
    "lm_head = nn.Linear(model.config.hidden_size, _text_tokenizer.vocab_size).to(device)\n",
    "params = (\n",
    "    list(model.parameters())\n",
    "    + list(_text_embedding.parameters())\n",
    "    + list(_image_embedding.parameters())\n",
    "    + list(_position_embedding.parameters())\n",
    "    + list(lm_head.parameters())\n",
    ")\n",
    "optimizer = init_optimizer(params)\n",
    "def fresh_text_dataloader():\n",
    "    return map(\n",
    "        partial(sequence_text, tokenize_text, embed_text, SEQUENCE_LENGTH+1), \n",
    "        DataLoader(text_dataset, batch_size=BATCH_SIZE)\n",
    "    )\n",
    "def fresh_vqa_dataloader():\n",
    "    return map(\n",
    "        partial(sequence_vqa, tokenize_text, embed_text, tokenize_image, embed_image),\n",
    "        DataLoader(vqa_dataset[\"train\"], batch_size=8, collate_fn=micro_ok_vqa_collate_fn)\n",
    "    )\n",
    "text_dataloader_iter = iter(fresh_text_dataloader())\n",
    "vqa_dataloader_iter = iter(fresh_vqa_dataloader())"
   ]
  },
  {
   "cell_type": "code",
   "execution_count": 67,
   "id": "481f4e59-4454-4420-be0f-71c7c765181f",
   "metadata": {},
   "outputs": [
    {
     "name": "stdout",
     "output_type": "stream",
     "text": [
      "Number of parameters: 7.03e+07\n"
     ]
    }
   ],
   "source": [
    "print(f\"Number of parameters: {sum(p.numel() for p in params):.2e}\")"
   ]
  },
  {
   "cell_type": "code",
   "execution_count": 68,
   "id": "95de4cfc-ecf7-4c55-8863-2598fc03fe67",
   "metadata": {},
   "outputs": [],
   "source": [
    "from tqdm.notebook import tqdm"
   ]
  },
  {
   "cell_type": "code",
   "execution_count": 69,
   "id": "fc7b7b86-8474-4649-8b78-cd10b7d917e7",
   "metadata": {},
   "outputs": [],
   "source": [
    "text_xs, text_ys, text_mask = next(text_dataloader_iter)\n",
    "vqa_xs, vqa_ys, vqa_mask = next(vqa_dataloader_iter)"
   ]
  },
  {
   "cell_type": "code",
   "execution_count": 70,
   "id": "36b6af73-82e2-4498-9a4a-1f99165e14c6",
   "metadata": {},
   "outputs": [],
   "source": [
    "x = torch.concat([text_xs, vqa_xs])"
   ]
  },
  {
   "cell_type": "code",
   "execution_count": 71,
   "id": "38a65b25-b432-46df-8db6-9b2cbd2b4cbf",
   "metadata": {},
   "outputs": [
    {
     "data": {
      "text/plain": [
       "'1.95e+07'"
      ]
     },
     "execution_count": 71,
     "metadata": {},
     "output_type": "execute_result"
    }
   ],
   "source": [
    "from functools import reduce\n",
    "import operator\n",
    "f\"{reduce(operator.mul, x.shape) * 4:.2e}\""
   ]
  },
  {
   "cell_type": "code",
   "execution_count": 72,
   "id": "7ac8b308-2582-4832-ab60-ab6982fb4795",
   "metadata": {},
   "outputs": [],
   "source": [
    "text_dataloader_iter = iter(fresh_text_dataloader())\n",
    "vqa_dataloader_iter = iter(fresh_vqa_dataloader())"
   ]
  },
  {
   "cell_type": "code",
   "execution_count": null,
   "id": "9c9f0325-4d08-451a-94ac-69cf9f151eb1",
   "metadata": {},
   "outputs": [],
   "source": []
  },
  {
   "cell_type": "code",
   "execution_count": 73,
   "id": "50b1558b-30fd-4d21-a176-06d615131b54",
   "metadata": {},
   "outputs": [],
   "source": [
    "def train():\n",
    "    i = 600\n",
    "    text_i = 0\n",
    "    vqa_i = 0\n",
    "    bos_token = eos_token = _text_tokenizer.bos_token\n",
    "    model.train()\n",
    "    text_dataloader_iter = iter(fresh_text_dataloader())\n",
    "    vqa_dataloader_iter = iter(fresh_vqa_dataloader())\n",
    "    for epoch in tqdm(range(i)):\n",
    "        try:\n",
    "            text_xs, text_ys, text_mask = next(text_dataloader_iter)\n",
    "        except StopIteration:\n",
    "            text_i += 1\n",
    "            text_dataloader_iter = iter(fresh_text_dataloader())\n",
    "            text_xs, text_ys, text_mask = next(text_dataloader_iter)\n",
    "        try:\n",
    "            vqa_xs, vqa_ys, vqa_mask = next(vqa_dataloader_iter)\n",
    "        except StopIteration:\n",
    "            vqa_i += 1\n",
    "            vqa_dataloader_iter = iter(fresh_vqa_dataloader())\n",
    "            vqa_xs, vqa_ys, vqa_mask = next(vqa_dataloader_iter)\n",
    "        x = torch.concat([text_xs, vqa_xs]).to(device)\n",
    "        y = torch.concat([text_ys, vqa_ys]).to(device)\n",
    "        m = torch.concat([text_mask, vqa_mask]).to(device)\n",
    "        optimizer.zero_grad()\n",
    "        o = model(inputs_embeds=x)\n",
    "        p = lm_head(o.last_hidden_state)\n",
    "        loss = cross_entropy(p, y, m)\n",
    "        loss.backward()\n",
    "        optimizer.step()\n",
    "\n",
    "        if epoch % 50 == 0:\n",
    "            print(f\"Epoch [{epoch}/{i}], Loss: {loss.item()}\")\n",
    "    print(f\"Epoch [{epoch}/{i}], Loss: {loss.item()}\")\n",
    "    print(f\"Total GB processed: {total_input_bytes_processed / 1e9:.2e}\")\n",
    "    print(f\"text: {text_i}, vqa: {vqa_i}\")"
   ]
  },
  {
   "cell_type": "code",
   "execution_count": 74,
   "id": "7e93e4af-3146-48e6-b59d-f45da7c9ba96",
   "metadata": {},
   "outputs": [
    {
     "data": {
      "application/vnd.jupyter.widget-view+json": {
       "model_id": "0b68eeb9547548e1996b2e4a20e1b24c",
       "version_major": 2,
       "version_minor": 0
      },
      "text/plain": [
       "  0%|          | 0/600 [00:00<?, ?it/s]"
      ]
     },
     "metadata": {},
     "output_type": "display_data"
    },
    {
     "name": "stdout",
     "output_type": "stream",
     "text": [
      "Epoch [0/600], Loss: 10.931730270385742\n",
      "Epoch [50/600], Loss: 4.334972858428955\n",
      "Epoch [100/600], Loss: 2.1674365997314453\n",
      "Epoch [150/600], Loss: 1.6795246601104736\n"
     ]
    },
    {
     "ename": "KeyboardInterrupt",
     "evalue": "",
     "output_type": "error",
     "traceback": [
      "\u001b[0;31m---------------------------------------------------------------------------\u001b[0m",
      "\u001b[0;31mKeyboardInterrupt\u001b[0m                         Traceback (most recent call last)",
      "Cell \u001b[0;32mIn[74], line 1\u001b[0m\n\u001b[0;32m----> 1\u001b[0m \u001b[43mtrain\u001b[49m\u001b[43m(\u001b[49m\u001b[43m)\u001b[49m\n",
      "Cell \u001b[0;32mIn[73], line 32\u001b[0m, in \u001b[0;36mtrain\u001b[0;34m()\u001b[0m\n\u001b[1;32m     30\u001b[0m p \u001b[38;5;241m=\u001b[39m lm_head(o\u001b[38;5;241m.\u001b[39mlast_hidden_state)\n\u001b[1;32m     31\u001b[0m loss \u001b[38;5;241m=\u001b[39m cross_entropy(p, y, m)\n\u001b[0;32m---> 32\u001b[0m \u001b[43mloss\u001b[49m\u001b[38;5;241;43m.\u001b[39;49m\u001b[43mbackward\u001b[49m\u001b[43m(\u001b[49m\u001b[43m)\u001b[49m\n\u001b[1;32m     33\u001b[0m optimizer\u001b[38;5;241m.\u001b[39mstep()\n\u001b[1;32m     35\u001b[0m \u001b[38;5;28;01mif\u001b[39;00m epoch \u001b[38;5;241m%\u001b[39m \u001b[38;5;241m50\u001b[39m \u001b[38;5;241m==\u001b[39m \u001b[38;5;241m0\u001b[39m:\n",
      "File \u001b[0;32m~/.virtualenvs/neko/lib/python3.12/site-packages/torch/_tensor.py:521\u001b[0m, in \u001b[0;36mTensor.backward\u001b[0;34m(self, gradient, retain_graph, create_graph, inputs)\u001b[0m\n\u001b[1;32m    511\u001b[0m \u001b[38;5;28;01mif\u001b[39;00m has_torch_function_unary(\u001b[38;5;28mself\u001b[39m):\n\u001b[1;32m    512\u001b[0m     \u001b[38;5;28;01mreturn\u001b[39;00m handle_torch_function(\n\u001b[1;32m    513\u001b[0m         Tensor\u001b[38;5;241m.\u001b[39mbackward,\n\u001b[1;32m    514\u001b[0m         (\u001b[38;5;28mself\u001b[39m,),\n\u001b[0;32m   (...)\u001b[0m\n\u001b[1;32m    519\u001b[0m         inputs\u001b[38;5;241m=\u001b[39minputs,\n\u001b[1;32m    520\u001b[0m     )\n\u001b[0;32m--> 521\u001b[0m \u001b[43mtorch\u001b[49m\u001b[38;5;241;43m.\u001b[39;49m\u001b[43mautograd\u001b[49m\u001b[38;5;241;43m.\u001b[39;49m\u001b[43mbackward\u001b[49m\u001b[43m(\u001b[49m\n\u001b[1;32m    522\u001b[0m \u001b[43m    \u001b[49m\u001b[38;5;28;43mself\u001b[39;49m\u001b[43m,\u001b[49m\u001b[43m \u001b[49m\u001b[43mgradient\u001b[49m\u001b[43m,\u001b[49m\u001b[43m \u001b[49m\u001b[43mretain_graph\u001b[49m\u001b[43m,\u001b[49m\u001b[43m \u001b[49m\u001b[43mcreate_graph\u001b[49m\u001b[43m,\u001b[49m\u001b[43m \u001b[49m\u001b[43minputs\u001b[49m\u001b[38;5;241;43m=\u001b[39;49m\u001b[43minputs\u001b[49m\n\u001b[1;32m    523\u001b[0m \u001b[43m\u001b[49m\u001b[43m)\u001b[49m\n",
      "File \u001b[0;32m~/.virtualenvs/neko/lib/python3.12/site-packages/torch/autograd/__init__.py:289\u001b[0m, in \u001b[0;36mbackward\u001b[0;34m(tensors, grad_tensors, retain_graph, create_graph, grad_variables, inputs)\u001b[0m\n\u001b[1;32m    284\u001b[0m     retain_graph \u001b[38;5;241m=\u001b[39m create_graph\n\u001b[1;32m    286\u001b[0m \u001b[38;5;66;03m# The reason we repeat the same comment below is that\u001b[39;00m\n\u001b[1;32m    287\u001b[0m \u001b[38;5;66;03m# some Python versions print out the first line of a multi-line function\u001b[39;00m\n\u001b[1;32m    288\u001b[0m \u001b[38;5;66;03m# calls in the traceback and some print out the last line\u001b[39;00m\n\u001b[0;32m--> 289\u001b[0m \u001b[43m_engine_run_backward\u001b[49m\u001b[43m(\u001b[49m\n\u001b[1;32m    290\u001b[0m \u001b[43m    \u001b[49m\u001b[43mtensors\u001b[49m\u001b[43m,\u001b[49m\n\u001b[1;32m    291\u001b[0m \u001b[43m    \u001b[49m\u001b[43mgrad_tensors_\u001b[49m\u001b[43m,\u001b[49m\n\u001b[1;32m    292\u001b[0m \u001b[43m    \u001b[49m\u001b[43mretain_graph\u001b[49m\u001b[43m,\u001b[49m\n\u001b[1;32m    293\u001b[0m \u001b[43m    \u001b[49m\u001b[43mcreate_graph\u001b[49m\u001b[43m,\u001b[49m\n\u001b[1;32m    294\u001b[0m \u001b[43m    \u001b[49m\u001b[43minputs\u001b[49m\u001b[43m,\u001b[49m\n\u001b[1;32m    295\u001b[0m \u001b[43m    \u001b[49m\u001b[43mallow_unreachable\u001b[49m\u001b[38;5;241;43m=\u001b[39;49m\u001b[38;5;28;43;01mTrue\u001b[39;49;00m\u001b[43m,\u001b[49m\n\u001b[1;32m    296\u001b[0m \u001b[43m    \u001b[49m\u001b[43maccumulate_grad\u001b[49m\u001b[38;5;241;43m=\u001b[39;49m\u001b[38;5;28;43;01mTrue\u001b[39;49;00m\u001b[43m,\u001b[49m\n\u001b[1;32m    297\u001b[0m \u001b[43m\u001b[49m\u001b[43m)\u001b[49m\n",
      "File \u001b[0;32m~/.virtualenvs/neko/lib/python3.12/site-packages/torch/autograd/graph.py:768\u001b[0m, in \u001b[0;36m_engine_run_backward\u001b[0;34m(t_outputs, *args, **kwargs)\u001b[0m\n\u001b[1;32m    766\u001b[0m     unregister_hooks \u001b[38;5;241m=\u001b[39m _register_logging_hooks_on_whole_graph(t_outputs)\n\u001b[1;32m    767\u001b[0m \u001b[38;5;28;01mtry\u001b[39;00m:\n\u001b[0;32m--> 768\u001b[0m     \u001b[38;5;28;01mreturn\u001b[39;00m \u001b[43mVariable\u001b[49m\u001b[38;5;241;43m.\u001b[39;49m\u001b[43m_execution_engine\u001b[49m\u001b[38;5;241;43m.\u001b[39;49m\u001b[43mrun_backward\u001b[49m\u001b[43m(\u001b[49m\u001b[43m  \u001b[49m\u001b[38;5;66;43;03m# Calls into the C++ engine to run the backward pass\u001b[39;49;00m\n\u001b[1;32m    769\u001b[0m \u001b[43m        \u001b[49m\u001b[43mt_outputs\u001b[49m\u001b[43m,\u001b[49m\u001b[43m \u001b[49m\u001b[38;5;241;43m*\u001b[39;49m\u001b[43margs\u001b[49m\u001b[43m,\u001b[49m\u001b[43m \u001b[49m\u001b[38;5;241;43m*\u001b[39;49m\u001b[38;5;241;43m*\u001b[39;49m\u001b[43mkwargs\u001b[49m\n\u001b[1;32m    770\u001b[0m \u001b[43m    \u001b[49m\u001b[43m)\u001b[49m  \u001b[38;5;66;03m# Calls into the C++ engine to run the backward pass\u001b[39;00m\n\u001b[1;32m    771\u001b[0m \u001b[38;5;28;01mfinally\u001b[39;00m:\n\u001b[1;32m    772\u001b[0m     \u001b[38;5;28;01mif\u001b[39;00m attach_logging_hooks:\n",
      "\u001b[0;31mKeyboardInterrupt\u001b[0m: "
     ]
    }
   ],
   "source": [
    "train()"
   ]
  },
  {
   "cell_type": "code",
   "execution_count": null,
   "id": "e4e1ea59-9f8e-44b9-9bbc-e33d2b668b18",
   "metadata": {},
   "outputs": [],
   "source": [
    "# import cProfile, pstats\n",
    "# profiler = cProfile.Profile()\n",
    "# profiler.enable()\n",
    "# train()\n",
    "# profiler.disable()\n",
    "# stats = pstats.Stats(profiler).sort_stats('tottime')\n",
    "# stats.print_stats()"
   ]
  },
  {
   "cell_type": "code",
   "execution_count": 78,
   "id": "3885c8a5-9d8e-4bbd-9991-b7bbd3bd8e28",
   "metadata": {},
   "outputs": [],
   "source": [
    "sample = next(iter(DataLoader(vqa_dataset[\"train\"], batch_size=BATCH_SIZE, collate_fn=micro_ok_vqa_collate_fn)))"
   ]
  },
  {
   "cell_type": "code",
   "execution_count": 79,
   "id": "4630c210-a000-4f90-8142-aafa57c4f1bc",
   "metadata": {},
   "outputs": [],
   "source": [
    "question = [sample[\"question\"][0]]\n",
    "image = [sample[\"image\"][0]]"
   ]
  },
  {
   "cell_type": "code",
   "execution_count": 91,
   "id": "0489caa6-2634-431e-bc88-0b2858c56c1d",
   "metadata": {},
   "outputs": [
    {
     "name": "stdout",
     "output_type": "stream",
     "text": [
      "First Citizen:\n",
      "But it through the Roman state,\n",
      "For though that was this sport?\n",
      "And leave me\n"
     ]
    }
   ],
   "source": [
    "model.eval()\n",
    "text = \"First Citizen:\"\n",
    "token = None\n",
    "i = 0\n",
    "with torch.no_grad():\n",
    "    while i < 20 and token != _text_tokenizer.eos_token_id:\n",
    "        tokens = tokenize_text([text], max_length=SEQUENCE_LENGTH, padding=\"max_length\", truncation=True, return_tensors=\"pt\")\n",
    "        x = embed_text(tokens[\"input_ids\"]).to(device)\n",
    "        m = tokens[\"attention_mask\"].to(device)\n",
    "        length = m.sum().item()\n",
    "        o = model(inputs_embeds=x)\n",
    "        predicted = lm_head(o.last_hidden_state)\n",
    "        chosen = torch.multinomial(predicted.softmax(dim=2)[:, length-1], num_samples=1)\n",
    "        token = chosen[0]\n",
    "        text += _text_tokenizer.decode(chosen[0])\n",
    "        i += 1\n",
    "print(text)"
   ]
  },
  {
   "cell_type": "code",
   "execution_count": 92,
   "id": "8c68f718-687f-4028-b539-ed1f03c79088",
   "metadata": {},
   "outputs": [],
   "source": [
    "sample = next(iter(DataLoader(vqa_dataset[\"train\"], batch_size=BATCH_SIZE, collate_fn=micro_ok_vqa_collate_fn)))"
   ]
  },
  {
   "cell_type": "code",
   "execution_count": 93,
   "id": "48bbc869-2475-45c9-b930-879f0fd8248b",
   "metadata": {},
   "outputs": [],
   "source": [
    "question = [sample[\"question\"][0]]\n",
    "image = [sample[\"image\"][0]]"
   ]
  },
  {
   "cell_type": "code",
   "execution_count": 94,
   "id": "debcbfe6-be02-4911-a6be-f50830bbb536",
   "metadata": {},
   "outputs": [
    {
     "data": {
      "text/plain": [
       "['What is the hairstyle of the blond called?']"
      ]
     },
     "execution_count": 94,
     "metadata": {},
     "output_type": "execute_result"
    }
   ],
   "source": [
    "question"
   ]
  },
  {
   "cell_type": "code",
   "execution_count": 122,
   "id": "9a87c4ee-f7cc-497a-9529-3a30dbee1e87",
   "metadata": {},
   "outputs": [
    {
     "data": {
      "text/plain": [
       "['full<|endoftext|>']"
      ]
     },
     "execution_count": 122,
     "metadata": {},
     "output_type": "execute_result"
    }
   ],
   "source": [
    "model.eval()\n",
    "\n",
    "batch = {\n",
    "    \"question\": question,\n",
    "    \"image\": image,\n",
    "    \"answer\": [\"\"],\n",
    "}\n",
    "i = 0\n",
    "token = \"\"\n",
    "with torch.no_grad():\n",
    "    while i < 10 and token != _text_tokenizer.eos_token:\n",
    "        x, y, m = sequence_vqa(tokenize_text, embed_text, tokenize_image, embed_image, batch)\n",
    "        x, y, m = x.to(device), y.to(device), m.to(device)\n",
    "        o = model(inputs_embeds=x)\n",
    "        predicted = lm_head(o.last_hidden_state)\n",
    "        token = _text_tokenizer.decode(predicted.softmax(dim=2)[0].multinomial(num_samples=1).squeeze(1)[768+i])\n",
    "        # token = _text_tokenizer.decode(predicted.argmax(dim=2).squeeze(0)[768+i])\n",
    "        batch[\"answer\"][0] += token\n",
    "        i += 1\n",
    "batch[\"answer\"]"
   ]
  },
  {
   "cell_type": "code",
   "execution_count": null,
   "id": "f2f030b2-e1b6-447a-a41b-b0eb636049c3",
   "metadata": {},
   "outputs": [],
   "source": [
    "i = 100\n",
    "bos_token = eos_token = _text_tokenizer.bos_token\n",
    "model.train()\n",
    "for epoch in tqdm(range(i)):\n",
    "    try:\n",
    "        text_xs, text_ys, text_mask = next(text_dataloader_iter)\n",
    "    except StopIteration:\n",
    "        text_dataloader_iter = iter(fresh_text_dataloader())\n",
    "        text_xs, text_ys, text_mask = next(text_dataloader_iter)\n",
    "    try:\n",
    "        vqa_xs, vqa_ys, vqa_mask = next(vqa_dataloader_iter)\n",
    "    except StopIteration:\n",
    "        vqa_dataloader_iter = iter(fresh_vqa_dataloader())\n",
    "        vqa_xs, vqa_ys, vqa_mask = next(vqa_dataloader_iter)\n",
    "    x = torch.concat([text_xs, vqa_xs]).to(device)\n",
    "    y = torch.concat([text_ys, vqa_ys]).to(device)\n",
    "    m = torch.concat([text_mask, vqa_mask]).to(device)\n",
    "    # x = vqa_xs.to(device)\n",
    "    # y = vqa_ys.to(device).to(torch.long)\n",
    "    # m = vqa_mask.to(device)    \n",
    "    optimizer.zero_grad()\n",
    "    o = model(inputs_embeds=x)\n",
    "    p = lm_head(o.last_hidden_state)\n",
    "    loss = cross_entropy(p, y, m)\n",
    "    loss.backward()\n",
    "    optimizer.step()\n",
    "\n",
    "    if epoch % 50 == 0:\n",
    "        print(f\"Epoch [{epoch}/{i}], Loss: {loss.item()}\")\n",
    "print(f\"Epoch [{epoch}/{i}], Loss: {loss.item()}\")        "
   ]
  },
  {
   "cell_type": "code",
   "execution_count": null,
   "id": "8ee1960a-01b6-4323-a2e1-fb144ebdab27",
   "metadata": {},
   "outputs": [],
   "source": []
  }
 ],
 "metadata": {
  "kernelspec": {
   "display_name": "Python 3 (ipykernel)",
   "language": "python",
   "name": "python3"
  },
  "language_info": {
   "codemirror_mode": {
    "name": "ipython",
    "version": 3
   },
   "file_extension": ".py",
   "mimetype": "text/x-python",
   "name": "python",
   "nbconvert_exporter": "python",
   "pygments_lexer": "ipython3",
   "version": "3.12.4"
  }
 },
 "nbformat": 4,
 "nbformat_minor": 5
}
