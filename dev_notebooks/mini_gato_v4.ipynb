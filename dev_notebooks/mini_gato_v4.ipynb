{
 "cells": [
  {
   "cell_type": "markdown",
   "id": "27ae4845-dda8-4cef-812c-644f196679e9",
   "metadata": {},
   "source": [
    "# Mini Gato\n",
    "\n",
    "Goals:\n",
    "\n",
    "- Simplicity\n",
    "- Minimal dependencies\n",
    "- Clear explanations\n",
    "- Quickly iterable executable examples\n",
    "- Extensible architecture\n",
    "\n",
    "Non-goals:\n",
    "\n",
    "- Performance\n",
    "- Eval metrics\n",
    "\n",
    "If I succeed at the goals then I expect the path towards the non-goals will be clear."
   ]
  },
  {
   "cell_type": "markdown",
   "id": "d61cb6a9-c859-49ed-a90b-10b081988e05",
   "metadata": {},
   "source": [
    "# What is Gato?\n",
    "\n",
    "A transformer trained on a wide variety of data, including diverse modalities such as images, text, proprioception, joint torques, button presses, and other discrete and continuous observations and actions. [[§2](https://arxiv.org/pdf/2205.06175#page=3)]\n",
    "\n",
    "**How does it work?**\n",
    "\n",
    "It serializes all data into a flat sequence of tokens. In this representation, Gato can be trained and sampled from akin to a standard large-scale language model. [[§ 2](https://arxiv.org/pdf/2205.06175#page=3)]\n",
    "\n",
    "Note: Gato is _not_ a new _model architecture_. It's a way of tokenizing, embedding, and sequencing data from multiple diverse modalities so that the data can be used in existing transformer architectures."
   ]
  },
  {
   "cell_type": "markdown",
   "id": "b912756a-719c-47d6-a149-dd13e13abf55",
   "metadata": {},
   "source": [
    "## Tokenization [§ 2.1](https://arxiv.org/pdf/2205.06175#page=3)\n",
    "\n",
    "There are infinite possible ways to transform data into tokens, including directly using the raw underlying byte stream. Below is what the Gato paper found to produce the best results using contemporary (2022) hardware and model architecture.\n",
    "\n",
    "- Text is encoded via SentencePiece. \\[I expect the choice of text encoder doesn't make a huge difference. I'll probably be using the GPT2 encoder in this notebook.\n",
    "- Images are first transformed into sequences of non-overlapping 16x16 patches in raster order, as done in [ViT (Dosovitskiy et al., 2020)](https://arxiv.org/pdf/2010.11929).\n",
    "- Discrete values, e.g. Atari button presses, are flattened into sequences of integers (within the range [0, 1024).\n",
    "- Continuous values, e.g. proprioceptive inputs or join torques, are first flattened into sequences of floating point values, then mu-law encoded to the range [-1, 1], then discretized into 1024 uniform bins.\n",
    "- The final discrete values are then shifted to the range after the tail end of the text encoder vocabulary (in the case of SentencePiece, [32000, 33024)."
   ]
  },
  {
   "cell_type": "markdown",
   "id": "30bf5fe7-cfe7-4fac-9f49-8a114ad445eb",
   "metadata": {},
   "source": [
    "## Sequence Ordering [§ 2.1](https://arxiv.org/pdf/2205.06175#page=3)\n",
    "\n",
    "After converting data into tokens, we use the following canonical sequence ordering.\n",
    "\n",
    "- Text tokens in the same order as the raw input text.\n",
    "- Image patch tokens in raster order.\n",
    "- Nested structures in lexicographical order by key.\n",
    "- Agent timesteps as observation tokens followed by a separator, then action tokens.\n",
    "- Agent episodes as timesteps in time order."
   ]
  },
  {
   "cell_type": "markdown",
   "id": "cba89ea8-dcf7-4200-8746-367a05a0e104",
   "metadata": {},
   "source": [
    "# Text\n",
    "\n",
    "To accomplish our goals, we need a small dataset with samples that are easy to understand. I want it to be obvious how well things are working when we run quick sanity checks.\n",
    "\n",
    "**[Shakespear](https://raw.githubusercontent.com/karpathy/char-rnn/master/data/tinyshakespeare/input.txt)**\n",
    "\n",
    "There's enough data to usefully train, it's small enough to download and prepare quickly, and it will be easy to do a sanity-check human-eval on the output to know how good we're doing.\n",
    "\n",
    "To accomplish the goal of minimal dependencies and clear explanations, we'll grab the dataset in its raw format. We _could_ get the same dataset from a model hub, like HuggingFace. But this is a perfect time to demonstrate how you would turn raw data into a useful dataset."
   ]
  },
  {
   "cell_type": "markdown",
   "id": "b4f12004-b750-45a1-963d-1fa86b8b1693",
   "metadata": {},
   "source": [
    "In the [words of Karpathy](https://karpathy.github.io/2019/04/25/recipe/#1-become-one-with-the-data):\n",
    "\n",
    "> Become one with the data.\n",
    "\n",
    "Take a look at the [raw data](https://raw.githubusercontent.com/karpathy/char-rnn/master/data/tinyshakespeare/input.txt) so you know what we're working with.\n",
    "\n",
    "The raw data is just 40,000 lines in a single text file.\n",
    "\n",
    "> ANTONIO:\n",
    "> We two, my lord,\n",
    "> Will guard your person while you take your rest,\n",
    "> And watch your safety.\n",
    "> \n",
    "> ALONSO:\n",
    "> Thank you. Wondrous heavy.\n",
    "> \n",
    "> SEBASTIAN:\n",
    "> What a strange drowsiness possesses them!\n",
    "> \n",
    "> ANTONIO:\n",
    "> It is the quality o' the climate.\n",
    "> \n",
    "> SEBASTIAN:\n",
    "> Why\n",
    "> Doth it not then our eyelids sink? I find not\n",
    "> Myself disposed to sleep.\n",
    "\n",
    "Each character's lines are separated by an empty line.\n",
    "\n",
    "Here, we face a common question.\n",
    "\n",
    "**How do we transform this data into samples that can be input to a model?**\n",
    "\n",
    "You'll face this question with almost every raw dataset that you prepare. There's no _right_ answer. You could treat [every 3 characters as a sample](https://youtu.be/TCH_1BHY58I?t=587) (a tri-gram model). You could split on paragraph (or in the case of a Shakespeare play, a scene). Or anything else. The only constraint is your samples are small enough to fit the input dimensions (a.k.a the sequence length or the context length) of your model.\n",
    "\n",
    "We want our training data to have a long enough context to learn from entire conversations of multiple characters. So, we don't want our DataLoader to return samples of 1 character speaking. That would be too short.\n",
    "\n",
    "I suggest we split on each character's lines and then take a number of character's lines in sequence until we have more than ~250 words. That ought to play nicely with a sequence length of ~512 or ~1024 or whatever we decide. If we want to play with smaller sequence lengths, we can always truncate. (And larger sequence lengths we'll just pad.)"
   ]
  },
  {
   "cell_type": "code",
   "execution_count": 1,
   "id": "8880adcc-d829-4466-a227-77eb9b78210f",
   "metadata": {},
   "outputs": [],
   "source": [
    "import os\n",
    "from pathlib import Path\n",
    "import re\n",
    "import tempfile\n",
    "import requests\n",
    "\n",
    "def acquire_shakespeare_dataset():\n",
    "    temp_dir = tempfile.gettempdir()\n",
    "    shakespeare_filepath = Path(temp_dir)/\"shakespeare.txt\"\n",
    "    if not os.path.exists(shakespeare_filepath):\n",
    "        data_url = 'https://raw.githubusercontent.com/karpathy/char-rnn/master/data/tinyshakespeare/input.txt'\n",
    "        with open(shakespeare_filepath, 'w', encoding='utf-8') as f:\n",
    "            f.write(requests.get(data_url).text)\n",
    "    \n",
    "    with open(shakespeare_filepath, 'r', encoding='utf-8') as f:\n",
    "        data = f.read()\n",
    "\n",
    "    # Split the dataset into each character's lines.\n",
    "    # Continue taking lines until you have at least 250 words in the sample.\n",
    "    # Add that sample to the dataset.\n",
    "    characters_lines = re.split(r\"\\n\\s*\\n\", data.strip())\n",
    "    MIN_WORDS_PER_BATCH = 250\n",
    "    sample = [characters_lines[0]]\n",
    "    num_words_in_sample = len(characters_lines[0].split())\n",
    "    text_dataset = []\n",
    "    i = 1\n",
    "    while i < len(characters_lines):\n",
    "        if num_words_in_sample > MIN_WORDS_PER_BATCH:\n",
    "            text_dataset.append(\"\\n\\n\".join(sample))\n",
    "            num_words_in_sample -= len(sample[0].split())\n",
    "            sample = sample[1:]\n",
    "        sample += [characters_lines[i]]\n",
    "        num_words_in_sample += len(characters_lines[i].split())\n",
    "        i += 1\n",
    "\n",
    "    return text_dataset"
   ]
  },
  {
   "cell_type": "code",
   "execution_count": 2,
   "id": "386b5933-7dae-4209-844c-aa14288cbb27",
   "metadata": {},
   "outputs": [],
   "source": [
    "text_dataset = acquire_shakespeare_dataset()"
   ]
  },
  {
   "cell_type": "code",
   "execution_count": 3,
   "id": "8ac8a46c-4f84-43da-8e73-037d014a8a82",
   "metadata": {},
   "outputs": [
    {
     "name": "stdout",
     "output_type": "stream",
     "text": [
      "Number of samples in the dataset: 7184\n",
      "Character length of first 3 samples: [1632, 1688, 1891]\n",
      "\n",
      "First 80 characters of first sample:\n",
      "\n",
      "First Citizen:\n",
      "Before we proceed any further, hear me speak.\n",
      "\n",
      "All:\n",
      "Speak, speak.\n"
     ]
    }
   ],
   "source": [
    "print(f\"Number of samples in the dataset: {len(text_dataset)}\")\n",
    "print(f\"Character length of first 3 samples: {[len(x) for x in text_dataset[:3]]}\\n\")\n",
    "print(f\"First 80 characters of first sample:\\n\\n{text_dataset[0][:80]}\")"
   ]
  },
  {
   "cell_type": "markdown",
   "id": "fa960f82-a982-48be-8666-40dacbc79fcf",
   "metadata": {},
   "source": [
    "## Tokenize text\n",
    "\n",
    "> There are infinite possible ways to transform data into tokens, including directly using the raw underlying byte stream. Below we report the tokenization scheme we found to produce the best results for Gato at the current scale using contemporary hardware and model architectures.\n",
    "> Text is encoded via SentencePiece (Kudo & Richardson, 2018) with 32000 subwords into the integer range [0, 32000).\n",
    "> ...\n",
    "\n",
    "For this example, we'll use GPT2. The only thing to note as you change tokenizers is that discrete/continuous values get tokenized to the 1024 numbers after the vocab size (32000 to 33024 in the case of SentencePiece). So, you'll need to make that update as you change tokenizers.\n",
    "\n",
    "GPT2 has a vocab size of 50256, so our discrete/continuous values will tokenize to the range 50256 to 51280."
   ]
  },
  {
   "cell_type": "code",
   "execution_count": 4,
   "id": "ffdf7602-d634-488e-93f2-29d844ad1e6e",
   "metadata": {},
   "outputs": [],
   "source": [
    "import torch\n",
    "from transformers import GPT2Tokenizer"
   ]
  },
  {
   "cell_type": "code",
   "execution_count": 5,
   "id": "b7fce2b8-a902-4cf9-8a03-44abc8bb338f",
   "metadata": {},
   "outputs": [],
   "source": [
    "# Prefixing with _ to signify global.\n",
    "_text_tokenizer = GPT2Tokenizer.from_pretrained(\"openai-community/gpt2\", clean_up_tokenization_spaces=True)\n",
    "_text_tokenizer.pad_token = _text_tokenizer.eos_token\n",
    "tokenize_text = _text_tokenizer"
   ]
  },
  {
   "cell_type": "markdown",
   "id": "72b63f64-2aa3-43bb-9f5a-23590af9aed9",
   "metadata": {},
   "source": [
    "### Context length\n",
    "\n",
    "All modalities must share the same context length. We'll have to decide what that is now, since we're starting on our first modality, text.\n",
    "\n",
    "Text is easy, because the text we train on will usually have a lot more than 1024 tokens of context, and truncating won't affect the quality of the context.\n",
    "\n",
    "But when we get to things like videos/images/robotics, it might be hard to fit a single \"episode\" into a small context. Each image of a video might take up hundreds of tokens, leaving us room for only 2 or 3 images in a single training example (with the remaining tokens taken up by other forms of observation, like proprioception input).\n",
    "\n",
    "I'll arbitrarily pick 1024 as a context window for now."
   ]
  },
  {
   "cell_type": "code",
   "execution_count": 6,
   "id": "b9c0b371-fd1b-43fb-9d7e-6940677b2530",
   "metadata": {},
   "outputs": [],
   "source": [
    "SEQUENCE_LENGTH = 1024\n",
    "BATCH_SIZE=3"
   ]
  },
  {
   "cell_type": "code",
   "execution_count": 7,
   "id": "f683757d-d5c0-4c19-98ba-557d40526b16",
   "metadata": {},
   "outputs": [
    {
     "data": {
      "text/plain": [
       "(torch.Size([3, 1024]), torch.Size([3, 1024]))"
      ]
     },
     "execution_count": 7,
     "metadata": {},
     "output_type": "execute_result"
    }
   ],
   "source": [
    "text_batch = tokenize_text(text_dataset[:BATCH_SIZE], max_length=SEQUENCE_LENGTH, truncation=True, padding=\"max_length\", return_tensors=\"pt\")\n",
    "text_batch[\"input_ids\"].shape, text_batch[\"attention_mask\"].shape"
   ]
  },
  {
   "cell_type": "markdown",
   "id": "8c86902e-d4e7-421f-82c6-e9336e85bb72",
   "metadata": {},
   "source": [
    "## Embed text\n",
    "\n",
    "What size should our embedding dimension be?\n",
    "\n",
    "We could almost pick any arbitrary number here. Karpathy has [a reference in his minGPT repo that says GPT2 used 768 dimensions](https://github.com/karpathy/minGPT/blob/37baab71b9abea1b76ab957409a1cc2fbfba8a26/mingpt/model.py#L131).\n",
    "\n",
    "Pick too large of a number and you'll run into resource bottlenecks. I tried with 768 dimensions and it seemed to be a bit too much for my machine.\n",
    "\n",
    "W're actually a bit constricted in our choices. We can't choose any arbitrary number. We're restricted by requirements of the image modality. How are we going to embed _images_? We're going to split the image into a grid of $n$ by $m$ patches (each with 3 color channels). Therefore, our embedding needs to be $3 * n * m$. 12 by 12 seemed to be a sweet spot in my experiments. So, 432 dimensions."
   ]
  },
  {
   "cell_type": "code",
   "execution_count": 8,
   "id": "10d2aade-50dd-4634-9f60-e24513ac21d5",
   "metadata": {},
   "outputs": [],
   "source": [
    "import torch.nn as nn"
   ]
  },
  {
   "cell_type": "code",
   "execution_count": 9,
   "id": "5a0c0355-fb07-4108-a4c3-45b7fce9f564",
   "metadata": {},
   "outputs": [],
   "source": [
    "EMBEDDING_DIM = 432"
   ]
  },
  {
   "cell_type": "code",
   "execution_count": 10,
   "id": "9b2a7104-848a-4742-a28a-789ae0931588",
   "metadata": {},
   "outputs": [],
   "source": [
    "_text_embedding = nn.Embedding(_text_tokenizer.vocab_size, EMBEDDING_DIM)\n",
    "embed_text = _text_embedding"
   ]
  },
  {
   "cell_type": "markdown",
   "id": "5813d17a-01d1-48c4-ba32-02a1e6902761",
   "metadata": {},
   "source": [
    "## Sequence text\n",
    "\n",
    "\"Sequencing\" our data samples is going to be the hardest part of Gato.\n",
    "\n",
    "It's really simple for text. You just input the words into the model in the order that they appear in the text.\n",
    "\n",
    "But what sequence would you use for a robot task, where there's a single text description of the objective, a sequence of images, and a sequence of proprioceptions?\n",
    "\n",
    "Because it's going to get so complex for later modalities, expect to see more interesting \"Sequence text\" headings in the future."
   ]
  },
  {
   "cell_type": "code",
   "execution_count": 11,
   "id": "6ea7cdc4-9363-4d3b-a16e-b9c2ff9ceecc",
   "metadata": {},
   "outputs": [],
   "source": [
    "def sequence_text(tokenizer, embedder, max_length, batch):\n",
    "    tokens = tokenizer(batch, max_length=max_length+1, padding=\"max_length\", truncation=True, return_tensors=\"pt\")\n",
    "    ys = tokens[\"input_ids\"].clone()[:, 1:]\n",
    "    embedding = embedder(tokens[\"input_ids\"][:, :-1])\n",
    "    return embedding, ys, tokens[\"attention_mask\"][:, :-1]"
   ]
  },
  {
   "cell_type": "code",
   "execution_count": 12,
   "id": "97b8e6dc-a1cf-4649-9d7e-a466954da667",
   "metadata": {},
   "outputs": [],
   "source": [
    "from torch.utils.data import DataLoader, Dataset\n",
    "from functools import partial"
   ]
  },
  {
   "cell_type": "code",
   "execution_count": 13,
   "id": "28bc3c2d-bdd0-43ab-a600-78f16ae70068",
   "metadata": {},
   "outputs": [],
   "source": [
    "_text_tokenizer(next(iter(DataLoader(text_dataset, batch_size=BATCH_SIZE))));"
   ]
  },
  {
   "cell_type": "markdown",
   "id": "e6bb6940-29f6-4995-98ff-457af337fd85",
   "metadata": {},
   "source": [
    "## Text DataLoader\n",
    "\n",
    "**TODO**: *Bad design? DataLoading can be parallelized on CPU. Embeddings will need to be on the GPU. What are the consequences?*\n",
    "\n",
    "Above, we wrote all of our utilities for tokenizing, embedding, and sequencing text.\n",
    "\n",
    "How do we combine all of those utilities?\n",
    "\n",
    "Honestly, it doesn't much matter _how_ you combine them. The important thing is that the model gets:\n",
    "\n",
    "1. input embeddings\n",
    "2. output target\n",
    "3. mask\n",
    "\n",
    "The reason it's so important that the model get the embeddings (rather than input at some stage pre-embedding) is that:\n",
    "\n",
    "- the Gato architecture has many complexities in how it sequences different modalities\n",
    "- datasets have wild variations in their structure and data types\n",
    "\n",
    "If you try to deal with data _inside_ the Gato model, then you're left with a tangled mess of conditionals.\n",
    "\n",
    "If you enforce a standard at the input boundary, then the code to wrangle each dataset is isolated in it's own tinly little tangled mess which doesn't affect the rest of the datasets or the model.\n",
    "\n",
    "The only \"gotcha\" to remember about this: your embedding dimensions won't be part of an `nn.Module`. You'll have to remember to tell your optimizer about them."
   ]
  },
  {
   "cell_type": "code",
   "execution_count": 14,
   "id": "a75186f6-f8ae-4c4b-9b82-4789fe3cc157",
   "metadata": {},
   "outputs": [],
   "source": [
    "text_dataloader = map(\n",
    "    partial(sequence_text, tokenize_text, _text_embedding, SEQUENCE_LENGTH),\n",
    "    DataLoader(text_dataset, batch_size=BATCH_SIZE)\n",
    ")\n",
    "text_xs, text_ys, text_mask = next(iter(text_dataloader))"
   ]
  },
  {
   "cell_type": "code",
   "execution_count": 15,
   "id": "9ab3828a-a838-469a-999c-0afbf2f1a6e0",
   "metadata": {},
   "outputs": [
    {
     "data": {
      "text/plain": [
       "(torch.Size([3, 1024, 432]), torch.Size([3, 1024]), torch.Size([3, 1024]))"
      ]
     },
     "execution_count": 15,
     "metadata": {},
     "output_type": "execute_result"
    }
   ],
   "source": [
    "text_xs.shape, text_ys.shape, text_mask.shape"
   ]
  },
  {
   "cell_type": "markdown",
   "id": "5b9c344a-c811-4999-946d-f3d735c3b59f",
   "metadata": {},
   "source": [
    "# VQA\n",
    "\n",
    "Unlike text, it's hard to get a small and simple dataset for visual question answering.\n",
    "\n",
    "The [OK-VQA dataset](https://okvqa.allenai.org/index.html) has 14,055 `(image, question, answer)` tuples (along with some other data, like a confidence rating in the answer, and multiple answers where the question is ambiguous).\n",
    "\n",
    "That's not _huge_. But it's kind of nice to be able to really quickly _overfit_ when you're first experimenting with these models. Pursposefully overfitting is a good sanity check. If you can't overfit, then you _definitely_ can't _fit_...\n",
    "\n",
    "So, let's use something smaller than [OK-VQA](https://okvqa.allenai.org/index.html).\n",
    "\n",
    "Let's use [eihli/micro-ok-vqa](https://huggingface.co/datasets/eihli/micro-ok-vqa), and see if we can overfit. It's just the first 100 images from OK-VQA. 80 train, 20 validation."
   ]
  },
  {
   "cell_type": "code",
   "execution_count": 16,
   "id": "b572a022-83e0-4d23-a33c-23c848da70ca",
   "metadata": {},
   "outputs": [],
   "source": [
    "import random\n",
    "import datasets\n",
    "import torchvision.transforms.v2 as transforms"
   ]
  },
  {
   "cell_type": "code",
   "execution_count": 17,
   "id": "bd8b0df2-a511-4dc8-9334-ded019046016",
   "metadata": {},
   "outputs": [],
   "source": [
    "vqa_dataset = datasets.load_dataset(\"eihli/micro-ok-vqa\").with_format(\"pt\")"
   ]
  },
  {
   "cell_type": "markdown",
   "id": "4c267bad-1961-4b1f-8bea-a89011881ee5",
   "metadata": {},
   "source": [
    "Once again, in the [words of Karpathy](https://karpathy.github.io/2019/04/25/recipe/#1-become-one-with-the-data):\n",
    "\n",
    "> Become one with the data."
   ]
  },
  {
   "cell_type": "code",
   "execution_count": 18,
   "id": "74ac417c-6556-4ac6-afc1-ee10e3d127a8",
   "metadata": {},
   "outputs": [
    {
     "data": {
      "text/plain": [
       "DatasetDict({\n",
       "    train: Dataset({\n",
       "        features: ['image', 'question_type', 'confidence', 'answers', 'image_id', 'answer_type', 'question_id', 'question'],\n",
       "        num_rows: 80\n",
       "    })\n",
       "    validation: Dataset({\n",
       "        features: ['image', 'question_type', 'confidence', 'answers', 'image_id', 'answer_type', 'question_id', 'question'],\n",
       "        num_rows: 20\n",
       "    })\n",
       "})"
      ]
     },
     "execution_count": 18,
     "metadata": {},
     "output_type": "execute_result"
    }
   ],
   "source": [
    "vqa_dataset"
   ]
  },
  {
   "cell_type": "code",
   "execution_count": 19,
   "id": "71c48846-da6e-41ab-8982-0fe1b5e50f77",
   "metadata": {},
   "outputs": [
    {
     "data": {
      "text/plain": [
       "Dataset({\n",
       "    features: ['image', 'question_type', 'confidence', 'answers', 'image_id', 'answer_type', 'question_id', 'question'],\n",
       "    num_rows: 80\n",
       "})"
      ]
     },
     "execution_count": 19,
     "metadata": {},
     "output_type": "execute_result"
    }
   ],
   "source": [
    "vqa_dataset[\"train\"]"
   ]
  },
  {
   "cell_type": "code",
   "execution_count": 20,
   "id": "53f38c1b-74e5-45a5-a735-dee7ba00d4ec",
   "metadata": {},
   "outputs": [
    {
     "data": {
      "text/plain": [
       "torch.Size([3, 479, 640])"
      ]
     },
     "execution_count": 20,
     "metadata": {},
     "output_type": "execute_result"
    }
   ],
   "source": [
    "vqa_dataset['train']['image'][0].shape"
   ]
  },
  {
   "cell_type": "code",
   "execution_count": 21,
   "id": "14335dd3-9c7d-48fd-bf6f-76f985663422",
   "metadata": {},
   "outputs": [
    {
     "data": {
      "text/plain": [
       "['What is the hairstyle of the blond called?',\n",
       " 'How old do you have to be in canada to do this?',\n",
       " 'Can you guess the place where the man is playing?',\n",
       " 'Which rail company is named after a town in new mexico?',\n",
       " 'Is the boy swimming or doing another water activity?']"
      ]
     },
     "execution_count": 21,
     "metadata": {},
     "output_type": "execute_result"
    }
   ],
   "source": [
    "vqa_dataset[\"train\"][\"question\"][:5]"
   ]
  },
  {
   "cell_type": "code",
   "execution_count": 22,
   "id": "78ec3779-1f63-42a8-8146-df957e01fdef",
   "metadata": {},
   "outputs": [
    {
     "data": {
      "text/plain": [
       "(10,\n",
       " [{'answer': 'pony tail',\n",
       "   'raw_answer': 'pony tail',\n",
       "   'answer_confidence': 'yes',\n",
       "   'answer_id': tensor(1)},\n",
       "  {'answer': 'pony tail',\n",
       "   'raw_answer': 'pony tail',\n",
       "   'answer_confidence': 'yes',\n",
       "   'answer_id': tensor(2)},\n",
       "  {'answer': 'pony tail',\n",
       "   'raw_answer': 'pony tail',\n",
       "   'answer_confidence': 'yes',\n",
       "   'answer_id': tensor(3)}])"
      ]
     },
     "execution_count": 22,
     "metadata": {},
     "output_type": "execute_result"
    }
   ],
   "source": [
    "len(vqa_dataset[\"train\"][\"answers\"][0]), vqa_dataset[\"train\"][\"answers\"][0][:3]"
   ]
  },
  {
   "cell_type": "markdown",
   "id": "63951f3d-cc77-4600-843c-e709922eaa65",
   "metadata": {},
   "source": [
    "This is the kind of one-off work you'll encounter for each dataset.\n",
    "\n",
    "This particular VQA dataset offers 10 possible answers for each question. I assume the idea is that some image questions are ambiguous.\n",
    "\n",
    "Part of our work is deciding how we want to handle that.\n",
    "\n",
    "In the grand scheme of this model, I don't think there's a reasonable decision we could make here that would result in a significant change to the model quality.\n",
    "\n",
    "My plan is to just randomly select an answer and ignore the \"answer_confidence\" value."
   ]
  },
  {
   "cell_type": "code",
   "execution_count": 23,
   "id": "d5d68e95-dcee-4b23-a4f2-570e44cd05cf",
   "metadata": {},
   "outputs": [],
   "source": [
    "micro_ok_vqa_transform = transforms.Compose([\n",
    "    # No particular reason to use `transforms.Compose` here since we're only doing one transform. But it's nice to know about.\n",
    "    transforms.RandomResizedCrop((192, 192), (0.5, 1.0)),\n",
    "])"
   ]
  },
  {
   "cell_type": "code",
   "execution_count": 24,
   "id": "7eec87c6-b689-4f84-822c-1c7daa0a6df5",
   "metadata": {},
   "outputs": [],
   "source": [
    "def micro_ok_vqa_collate_fn(batch):\n",
    "    answers = [random.choice(el[\"answers\"])[\"answer\"] for el in batch]\n",
    "    questions = [el[\"question\"] for el in batch]\n",
    "    images = torch.stack([micro_ok_vqa_transform(el[\"image\"]) for el in batch])\n",
    "    return {\n",
    "        \"question\": questions,\n",
    "        \"image\": images,\n",
    "        \"answer\": answers,\n",
    "    }"
   ]
  },
  {
   "cell_type": "code",
   "execution_count": 25,
   "id": "7ba82316-1b16-4ce9-8a4d-8b93f8779d06",
   "metadata": {},
   "outputs": [],
   "source": [
    "vqa_dl = DataLoader(vqa_dataset[\"train\"], batch_size=8, collate_fn=micro_ok_vqa_collate_fn)\n",
    "vqa_batch = next(iter(vqa_dl))"
   ]
  },
  {
   "cell_type": "code",
   "execution_count": 26,
   "id": "03457ad3-e06f-40e7-baf7-0cd21cda0dc3",
   "metadata": {},
   "outputs": [
    {
     "data": {
      "text/plain": [
       "torch.Size([8, 3, 192, 192])"
      ]
     },
     "execution_count": 26,
     "metadata": {},
     "output_type": "execute_result"
    }
   ],
   "source": [
    "vqa_batch[\"image\"].shape"
   ]
  },
  {
   "cell_type": "code",
   "execution_count": 27,
   "id": "59297039-385d-46fd-867f-f7c528bfc94c",
   "metadata": {},
   "outputs": [],
   "source": [
    "import matplotlib.pyplot as plt"
   ]
  },
  {
   "cell_type": "code",
   "execution_count": 28,
   "id": "127a3b4f-2acf-471e-b3a1-7306ee7ecaae",
   "metadata": {},
   "outputs": [
    {
     "data": {
      "text/plain": [
       "<matplotlib.image.AxesImage at 0x7221c9726f30>"
      ]
     },
     "execution_count": 28,
     "metadata": {},
     "output_type": "execute_result"
    },
    {
     "data": {
      "image/png": "[encoded data removed]",
      "text/plain": [
       "<Figure size 640x480 with 1 Axes>"
      ]
     },
     "metadata": {},
     "output_type": "display_data"
    }
   ],
   "source": [
    "plt.imshow(vqa_batch[\"image\"][0].permute(1, 2, 0))"
   ]
  },
  {
   "cell_type": "markdown",
   "id": "890fd6e9-f528-436b-abfa-d1374e8521a1",
   "metadata": {},
   "source": [
    "### Tokenizing images\n",
    "\n",
    "Sweet.\n",
    "\n",
    "Now.\n",
    "\n",
    "How do we tokenize images?\n",
    "\n",
    "> Images are first transformed into sequences of non-overlapping 16 × 16 patches in raster order, as done in ViT (Dosovitskiy et al., 2020). Each pixel in the image patches is then normalized between [−1, 1] and divided by the square-root of the patch size (i.e. √16 = 4).\n",
    "\n",
    "We'll use 12 by 12 to keep our model a bit smaller and faster.\n",
    "\n",
    "Note that even though we're encoding text (the question and answer), we can't simply re-use the `tokenize_text` function that we used previously, because that function assumed the text was taking up the entire context window. The question and answer will only take up a small portion of the context window in the VQA case. The image will take up a large portion."
   ]
  },
  {
   "cell_type": "code",
   "execution_count": 29,
   "id": "bae94bba-7804-45fb-a8a3-69e2e45bdc23",
   "metadata": {},
   "outputs": [
    {
     "data": {
      "text/plain": [
       "torch.Size([8, 3, 192, 192])"
      ]
     },
     "execution_count": 29,
     "metadata": {},
     "output_type": "execute_result"
    }
   ],
   "source": [
    "images = vqa_batch[\"image\"]\n",
    "images.shape"
   ]
  },
  {
   "cell_type": "code",
   "execution_count": 30,
   "id": "432eca79-a168-4da0-a7ce-662ab968b90c",
   "metadata": {},
   "outputs": [],
   "source": [
    "from einops import rearrange"
   ]
  },
  {
   "cell_type": "code",
   "execution_count": 31,
   "id": "e6818217-6f9e-46ab-881f-b22720eb65cc",
   "metadata": {},
   "outputs": [],
   "source": [
    "patch_size=12"
   ]
  },
  {
   "cell_type": "code",
   "execution_count": 32,
   "id": "6f154f67-1259-48f5-aa3b-1030492dbdff",
   "metadata": {},
   "outputs": [
    {
     "data": {
      "text/plain": [
       "torch.Size([8, 256, 432])"
      ]
     },
     "execution_count": 32,
     "metadata": {},
     "output_type": "execute_result"
    }
   ],
   "source": [
    "patches = rearrange(images, 'b c (h s1) (w s2) -> b (h w) (s1 s2 c)', s1=patch_size, s2=patch_size)\n",
    "patches.shape"
   ]
  },
  {
   "cell_type": "code",
   "execution_count": 33,
   "id": "171e8333-f5c8-4aab-897f-d77df5f829ea",
   "metadata": {},
   "outputs": [
    {
     "data": {
      "text/plain": [
       "torch.Size([8, 256, 432])"
      ]
     },
     "execution_count": 33,
     "metadata": {},
     "output_type": "execute_result"
    }
   ],
   "source": [
    "patches_matplotlib_dims = rearrange(images, 'b c (h s1) (w s2) -> b (h w) s1 s2 c', s1=patch_size, s2=patch_size)\n",
    "patches.shape"
   ]
  },
  {
   "cell_type": "markdown",
   "id": "e05f3ff3-6c17-4924-b0a8-519537aa768a",
   "metadata": {},
   "source": [
    "### Image Patches\n",
    "\n",
    "16x16 grid of 12x12 pixel patches."
   ]
  },
  {
   "cell_type": "code",
   "execution_count": 34,
   "id": "da7fb664-08e6-4888-a5b6-af7328dce7f4",
   "metadata": {},
   "outputs": [
    {
     "data": {
      "image/png": "[encoded data removed]",
      "text/plain": [
       "<Figure size 800x100 with 32 Axes>"
      ]
     },
     "metadata": {},
     "output_type": "display_data"
    }
   ],
   "source": [
    "fig, axes = plt.subplots(nrows=2, ncols=16, figsize=(8, 1))\n",
    "\n",
    "for i in range(2):\n",
    "    for j in range(16):\n",
    "        axes[i, j].imshow(patches_matplotlib_dims[0][i * 16 + j])\n",
    "        axes[i, j].axis(\"off\")\n",
    "plt.tight_layout()\n",
    "plt.show()"
   ]
  },
  {
   "cell_type": "code",
   "execution_count": 35,
   "id": "4821112e-a8cb-4032-a6f4-04eeda48ad97",
   "metadata": {},
   "outputs": [
    {
     "data": {
      "text/plain": [
       "torch.Size([8, 3, 192, 192])"
      ]
     },
     "execution_count": 35,
     "metadata": {},
     "output_type": "execute_result"
    }
   ],
   "source": [
    "reconstructed = rearrange(patches, 'b (ph pw) (sh sw c) -> b c (ph sh) (pw sw)', ph=16, pw=16, sh=patch_size, sw=patch_size)\n",
    "reconstructed.shape"
   ]
  },
  {
   "cell_type": "code",
   "execution_count": 36,
   "id": "581b684c-12b1-44c5-93b7-2ebc0a581292",
   "metadata": {},
   "outputs": [
    {
     "data": {
      "text/plain": [
       "tensor(True)"
      ]
     },
     "execution_count": 36,
     "metadata": {},
     "output_type": "execute_result"
    }
   ],
   "source": [
    "(reconstructed == images).all()"
   ]
  },
  {
   "cell_type": "code",
   "execution_count": 37,
   "id": "c39af499-1c2a-490e-9a38-cae851fb6b6c",
   "metadata": {},
   "outputs": [],
   "source": [
    "def images_to_patches(images, patch_size=12):\n",
    "    return rearrange(images, 'b c (h s1) (w s2) -> b (h w) (c s1 s2)', s1=patch_size, s2=patch_size)\n",
    "\n",
    "# We don't need this as part of Gato. It's just here to play with and visually test the code.\n",
    "def patches_to_image(patches, image_shape, patch_size=12):\n",
    "    channels, height, width = image_shape\n",
    "    patch_height = height // patch_size\n",
    "    patch_width = width // patch_size\n",
    "    reconstructed = rearrange(\n",
    "        patches, \n",
    "        'b (ph pw) (c ps1 ps2) -> b c (ph ps1) (pw ps2)',\n",
    "        ph=patch_height,\n",
    "        pw=patch_width,\n",
    "        ps1=patch_size,\n",
    "        ps2=patch_size,\n",
    "    )\n",
    "    return reconstructed"
   ]
  },
  {
   "cell_type": "code",
   "execution_count": 38,
   "id": "181ac218-0a5e-4607-87f8-f7ce313b3761",
   "metadata": {},
   "outputs": [
    {
     "data": {
      "text/plain": [
       "tensor(True)"
      ]
     },
     "execution_count": 38,
     "metadata": {},
     "output_type": "execute_result"
    }
   ],
   "source": [
    "# And to prove that we can go from image -> patch -> image\n",
    "recovered_images = patches_to_image(images_to_patches(images), (3, 192, 192))\n",
    "(recovered_images == images).all()"
   ]
  },
  {
   "cell_type": "markdown",
   "id": "b34dcfa9-55c1-4284-a2dd-6c1e65d52334",
   "metadata": {},
   "source": [
    "Other than patching, is there anything else?\n",
    "\n",
    "> Each pixel in the image patches is then normalized between [−1, 1] and divided by the square-root of the patch size (i.e. √16 = 4).\n",
    "\n",
    "How do we normalize?\n",
    "\n",
    "How do we normalize along the _patch_ dimension?\n",
    "\n",
    "Let's first handle normalizing a rank one tensor. Then, we'll write a helper utility to apply that kind of function across any arbitrary dimension."
   ]
  },
  {
   "cell_type": "code",
   "execution_count": 39,
   "id": "ffb00151-e69b-4667-9bf3-e54cd82f4762",
   "metadata": {},
   "outputs": [],
   "source": [
    "def normalize_to_between_minus_one_plus_one(t: torch.Tensor):\n",
    "    min_val, max_val = t.min(), t.max()\n",
    "    if min_val == max_val:\n",
    "        return torch.zeros_like(t)\n",
    "    normalized = 2 * (t - min_val) / (max_val - min_val) - 1\n",
    "    return normalized"
   ]
  },
  {
   "cell_type": "code",
   "execution_count": 40,
   "id": "47185cfb-58b8-4242-8aae-93c7c4b1af3a",
   "metadata": {},
   "outputs": [
    {
     "data": {
      "text/plain": [
       "tensor([-1.0000, -0.6000, -0.2000,  0.2000,  0.6000,  1.0000])"
      ]
     },
     "execution_count": 40,
     "metadata": {},
     "output_type": "execute_result"
    }
   ],
   "source": [
    "normalize_to_between_minus_one_plus_one(torch.arange(6))"
   ]
  },
  {
   "cell_type": "code",
   "execution_count": 41,
   "id": "2a5ef54f-bbd8-493f-acdf-b923a694cacc",
   "metadata": {},
   "outputs": [],
   "source": [
    "# There's a small deviation in the NEKO codebase from the paper.\n",
    "# The paper normalizes _per patch_. The NEKO codebase currently normalizes _per image_.\n",
    "# https://github.com/eihli/NEKO/blob/master/gato/policy/embeddings.py#L38\n",
    "# This notebook normalizeds per patch. That's what this utility helps.\n",
    "def apply_along_dimension(func, dim, tensor):\n",
    "    tensor = tensor.transpose(0, dim)\n",
    "    shape = tensor.shape\n",
    "    tensor = tensor.reshape(shape[0], -1)\n",
    "    result = torch.stack([func(tensor[:, i]) for i in range(tensor.size(1))], dim=1)\n",
    "    result = result.reshape(shape).transpose(0, dim)\n",
    "    return result"
   ]
  },
  {
   "cell_type": "markdown",
   "id": "0aac7d95-0a2d-498d-b242-5968e9b55539",
   "metadata": {},
   "source": [
    "And here's a simple sanity check. I'll pick some data that's simple to reason about and I'll pick some operations that will highlight the effects of the code."
   ]
  },
  {
   "cell_type": "code",
   "execution_count": 42,
   "id": "8894a88f-b766-4f72-8a4c-4b944cce096a",
   "metadata": {},
   "outputs": [
    {
     "name": "stdout",
     "output_type": "stream",
     "text": [
      "starting tensor:\n",
      "tensor([[[ 0,  1],\n",
      "         [ 2,  3]],\n",
      "\n",
      "        [[ 4,  5],\n",
      "         [ 6,  7]],\n",
      "\n",
      "        [[ 8,  9],\n",
      "         [10, 11]]])\n",
      "\n",
      "t * t.min() along dim 0:\n",
      "tensor([[[ 0,  1],\n",
      "         [ 4,  9]],\n",
      "\n",
      "        [[ 0,  5],\n",
      "         [12, 21]],\n",
      "\n",
      "        [[ 0,  9],\n",
      "         [20, 33]]])\n",
      "\n",
      "t * t.min() along dim 1:\n",
      "tensor([[[ 0,  1],\n",
      "         [ 0,  3]],\n",
      "\n",
      "        [[16, 25],\n",
      "         [24, 35]],\n",
      "\n",
      "        [[64, 81],\n",
      "         [80, 99]]])\n",
      "\n",
      "t * t.min() along dim 2:\n",
      "tensor([[[  0,   0],\n",
      "         [  4,   6]],\n",
      "\n",
      "        [[ 16,  20],\n",
      "         [ 36,  42]],\n",
      "\n",
      "        [[ 64,  72],\n",
      "         [100, 110]]])\n",
      "\n"
     ]
    }
   ],
   "source": [
    "example = torch.arange(12).view(3, 2, 2)\n",
    "print(f\"starting tensor:\\n{example}\\n\")\n",
    "print(f\"t * t.min() along dim 0:\\n{apply_along_dimension(lambda t: t * t.min(), 0, example)}\\n\")\n",
    "print(f\"t * t.min() along dim 1:\\n{apply_along_dimension(lambda t: t * t.min(), 1, example)}\\n\")\n",
    "print(f\"t * t.min() along dim 2:\\n{apply_along_dimension(lambda t: t * t.min(), 2, example)}\\n\")"
   ]
  },
  {
   "cell_type": "code",
   "execution_count": 43,
   "id": "1b6e78ce-7fb5-42c1-bb81-1aa0075cb09f",
   "metadata": {},
   "outputs": [],
   "source": [
    "def tokenize_image(image: torch.Tensor) -> torch.Tensor:\n",
    "    \"\"\"Convert images to patches, normalize each patch, then prepare it for\n",
    "    embedding by reshaping to CxHxW so that we can send it through the conv\n",
    "    layers of a ResNet block.\n",
    "    \"\"\" \n",
    "    image = images_to_patches(image)\n",
    "    # Hardcoding as a reminder to do something smarter\n",
    "    SQUARE_ROOT_OF_PATCH_SIZE = 3.464\n",
    "    image = (\n",
    "        apply_along_dimension(\n",
    "            normalize_to_between_minus_one_plus_one, 2, image\n",
    "        )\n",
    "        / SQUARE_ROOT_OF_PATCH_SIZE\n",
    "    )\n",
    "    return image"
   ]
  },
  {
   "cell_type": "code",
   "execution_count": 44,
   "id": "f09c059a-9c71-4630-b2f7-f0f6cf993a51",
   "metadata": {},
   "outputs": [],
   "source": [
    "vqa_batch[\"image_tokens\"] = tokenize_image(vqa_batch[\"image\"])"
   ]
  },
  {
   "cell_type": "code",
   "execution_count": 45,
   "id": "ed04cc29-d2a4-4045-940b-cfc58177d31a",
   "metadata": {},
   "outputs": [
    {
     "data": {
      "text/plain": [
       "torch.Size([8, 256, 432])"
      ]
     },
     "execution_count": 45,
     "metadata": {},
     "output_type": "execute_result"
    }
   ],
   "source": [
    "vqa_batch[\"image_tokens\"].shape"
   ]
  },
  {
   "cell_type": "markdown",
   "id": "200872cf-7a81-45b2-984b-53daaab69625",
   "metadata": {},
   "source": [
    "### Image Embedding\n",
    "\n",
    "> 2.2 Embedding input tokens and setting output targets\n",
    "> \n",
    "> After tokenization and sequencing, we apply a parameterized embedding function f (·; θe) to each token (i.e. it is applied to both observations and actions) to produce the final model input. To enable efficient learning from our multi-modal input sequence s1:L the embedding function performs different operations depending on the modality the token stems from...\n",
    "> \n",
    "> Tokens belonging to image patches for any time-step are embedded using a single ResNet (He et al., 2016a) block to obtain a vector per patch. For image patch token embeddings, we also add a learnable within-image position encoding vector.\n",
    "\n",
    "A single ResNet block. Ok. Easy."
   ]
  },
  {
   "cell_type": "code",
   "execution_count": 46,
   "id": "8bdd63ae-7c5b-485c-8ef2-b36501243996",
   "metadata": {},
   "outputs": [],
   "source": [
    "import torch.nn as nn"
   ]
  },
  {
   "cell_type": "code",
   "execution_count": 47,
   "id": "95e806b1-9d64-4bbf-8604-ce70793e2198",
   "metadata": {
    "scrolled": true
   },
   "outputs": [],
   "source": [
    "# From section 2.2 of the Gato paper:\n",
    "#\n",
    "#    Tokens belonging to image patches for any time-step are embedded using a\n",
    "#    single ResNet (He et al., 2016a) block to obtain a vector per patch. For\n",
    "#    image patch token embeddings, we also add a learnable within-image position\n",
    "#    encoding vector.\n",
    "class ResNetV2Block(nn.Module):\n",
    "    def __init__(self, in_channels, out_channels, stride=1, num_groups=24):\n",
    "        super(ResNetV2Block, self).__init__()\n",
    "        self.gn1 = nn.GroupNorm(1, in_channels)\n",
    "        self.gelu = nn.GELU()\n",
    "        self.conv1 = nn.Conv2d(\n",
    "            in_channels,\n",
    "            out_channels,\n",
    "            kernel_size=3,\n",
    "            stride=stride,\n",
    "            padding=1,\n",
    "            bias=False,\n",
    "        )\n",
    "        self.gn2 = nn.GroupNorm(num_groups, out_channels)\n",
    "        self.conv2 = nn.Conv2d(\n",
    "            out_channels, in_channels, kernel_size=3, stride=1, padding=1, bias=False\n",
    "        )\n",
    "\n",
    "    def forward(self, x):\n",
    "        B, T, CHW = x.shape\n",
    "        # TODO: Remove these hardcoded values.\n",
    "        out = rearrange(x, 'b t (c h w) -> (b t) c h w', c=3, h=16)\n",
    "        out = self.gn1(out)\n",
    "        out = self.gelu(out)\n",
    "        out = self.conv1(out)\n",
    "        out = self.gn2(out)\n",
    "        out = self.gelu(out)\n",
    "        out = self.conv2(out)\n",
    "        return x + rearrange(out, '(b t) c h w -> b t (c h w)', b=B, t=T)\n",
    "\n",
    "_image_embedding = ResNetV2Block(3, EMBEDDING_DIM)\n",
    "# This _position_embedding doesn't match exactly what's in the Gato paper.\n",
    "# The gato/policy/embeddings.py file has the exact implementation from the paper.\n",
    "# https://github.com/eihli/NEKO/blob/explore-simplify-dataset-dataloader/gato/policy/embeddings.py#L91"
   ]
  },
  {
   "cell_type": "markdown",
   "id": "4bbf90bd-c27f-41ad-8af4-ca3d222a25b0",
   "metadata": {},
   "source": [
    "> **Patch Position Encodings**\n",
    "> \n",
    "> These position encodings convey information about a patch’s global position within the image from which the patch was extracted. First, the relative row and column intervals of the patch are calculated by normalizing the patch’s pixel intervals by the image resolution. The row and column normalized intervals are then quantized into a vocabulary size (we use 128) and are used to index a row and column table of learnable position encodings. The method in which the quantized row and column intervals are converted into indices depends on whether we are training or evaluating the model: during training a random index is uniformly sampled from the quantized interval, while during evaluation we deterministically take the (rounded) mean of the interval. Once row and column position encoding are retrieved from the embedding table, they are added onto the token embedding produced by the resnet embedding function, as described previously."
   ]
  },
  {
   "cell_type": "markdown",
   "id": "0adbbf7a-593c-4347-b15f-2931261a82da",
   "metadata": {},
   "source": [
    "> ...First, the relative row and column intervals of the patch are calculated by normalizing the patch’s pixel intervals by the image resolution...\n",
    "> \n",
    "> ...The row and column normalized intervals are then quantized into a vocabulary size (we use 128) and are used to index a row and column table of learnable position encodings..."
   ]
  },
  {
   "cell_type": "code",
   "execution_count": 48,
   "id": "9ed738f1-c229-430c-b1e4-db1e7386b0ce",
   "metadata": {},
   "outputs": [
    {
     "data": {
      "text/plain": [
       "torch.Size([8, 256, 432])"
      ]
     },
     "execution_count": 48,
     "metadata": {},
     "output_type": "execute_result"
    }
   ],
   "source": [
    "patches = images_to_patches(images)\n",
    "patches.shape"
   ]
  },
  {
   "cell_type": "code",
   "execution_count": 49,
   "id": "4053cde1-0ff2-46c0-bdb4-134a4cddb7a1",
   "metadata": {},
   "outputs": [],
   "source": [
    "def heights_widths(images): return tuple(map(torch.tensor, zip(*[image.shape[1:3] for image in images])))"
   ]
  },
  {
   "cell_type": "code",
   "execution_count": 50,
   "id": "0011fe1f-70e7-4c92-bb5b-004b3176d688",
   "metadata": {},
   "outputs": [
    {
     "data": {
      "text/plain": [
       "(tensor([192, 192, 192, 192, 192, 192, 192, 192]),\n",
       " tensor([192, 192, 192, 192, 192, 192, 192, 192]))"
      ]
     },
     "execution_count": 50,
     "metadata": {},
     "output_type": "execute_result"
    }
   ],
   "source": [
    "heights_widths(vqa_batch[\"image\"])"
   ]
  },
  {
   "cell_type": "code",
   "execution_count": 51,
   "id": "f2f95ba1-0ac5-4746-a3ef-46cd64c266b3",
   "metadata": {},
   "outputs": [
    {
     "data": {
      "text/plain": [
       "(tensor([192, 192, 192, 192, 192, 192, 192, 192]),\n",
       " tensor([192, 192, 192, 192, 192, 192, 192, 192]))"
      ]
     },
     "execution_count": 51,
     "metadata": {},
     "output_type": "execute_result"
    }
   ],
   "source": [
    "heights, widths = map(torch.tensor, zip(*[img.shape[1:3] for img in vqa_batch[\"image\"][0:8]]))\n",
    "heights, widths"
   ]
  },
  {
   "cell_type": "code",
   "execution_count": 52,
   "id": "adbd1891-7fd7-4434-8649-7cd975f69048",
   "metadata": {},
   "outputs": [
    {
     "data": {
      "text/plain": [
       "torch.Size([8, 3, 192, 192])"
      ]
     },
     "execution_count": 52,
     "metadata": {},
     "output_type": "execute_result"
    }
   ],
   "source": [
    "vqa_batch[\"image\"].shape"
   ]
  },
  {
   "cell_type": "code",
   "execution_count": 53,
   "id": "88e98f84-6da6-478d-86ee-db1a1f3719fd",
   "metadata": {},
   "outputs": [],
   "source": [
    "def intervals(n_patch_rows, n_patch_cols):\n",
    "    \"\"\"Returns [row_interval, col_interval]\"\"\"\n",
    "    return (\n",
    "        Interval(torch.round((torch.arange(n_patch_rows) / n_patch_rows).repeat(n_patch_cols, 1).T.flatten() * 128).to(torch.uint8), round(128 / n_patch_rows)),\n",
    "        Interval(torch.round((torch.arange(n_patch_cols) / n_patch_cols).repeat(n_patch_rows, 1).flatten() * 128).to(torch.uint8), round(128 / n_patch_cols))\n",
    "    )"
   ]
  },
  {
   "cell_type": "code",
   "execution_count": 54,
   "id": "8f0c3ff4-9170-4d74-9d48-b7ed5a90bedf",
   "metadata": {},
   "outputs": [],
   "source": [
    "def n_patch_rows_cols(patch_height, patch_width, image_height, image_width):\n",
    "    return (image_height / patch_height).to(torch.uint8), (image_width / patch_width).to(torch.uint8)"
   ]
  },
  {
   "cell_type": "markdown",
   "id": "95bcd137-9190-47ba-847a-420fde857905",
   "metadata": {},
   "source": [
    "### TODO: Visualize the patch position encoding"
   ]
  },
  {
   "cell_type": "code",
   "execution_count": 55,
   "id": "b88ab57a-a989-48a3-a7c5-597af7990cfe",
   "metadata": {},
   "outputs": [
    {
     "data": {
      "text/plain": [
       "tensor([  0,  26,  51,  77, 102,   0,  26,  51,  77, 102,   0,  26,  51,  77,\n",
       "        102,   0,  26,  51,  77, 102], dtype=torch.uint8)"
      ]
     },
     "execution_count": 55,
     "metadata": {},
     "output_type": "execute_result"
    }
   ],
   "source": [
    "torch.round((torch.arange(5) / 5).repeat(4, 1).flatten() * 128).to(torch.uint8)"
   ]
  },
  {
   "cell_type": "code",
   "execution_count": 56,
   "id": "c56b5c6c-8afb-4532-8fa6-a41b39f3d0e2",
   "metadata": {},
   "outputs": [
    {
     "data": {
      "text/plain": [
       "tensor([ 0,  0,  0,  0,  0, 32, 32, 32, 32, 32, 64, 64, 64, 64, 64, 96, 96, 96,\n",
       "        96, 96], dtype=torch.uint8)"
      ]
     },
     "execution_count": 56,
     "metadata": {},
     "output_type": "execute_result"
    }
   ],
   "source": [
    "torch.round((torch.arange(4) / 4).repeat(5, 1).T.flatten() * 128).to(torch.uint8)"
   ]
  },
  {
   "cell_type": "code",
   "execution_count": 57,
   "id": "ae18e416-5ec9-4a3f-a353-602ddc3b5ac1",
   "metadata": {},
   "outputs": [],
   "source": [
    "from collections import namedtuple\n",
    "Interval = namedtuple(\"Interval\", [\"points\", \"length\"])"
   ]
  },
  {
   "cell_type": "markdown",
   "id": "0c3dd37d-90ec-4d0a-8ce3-358ffef21297",
   "metadata": {},
   "source": [
    "> To more concretely demonstrate this process, we provide an example in Figure 17. We will follow the process with the patch highlighted in red on the left of the subfigure. The image is of resolution 80 × 64 and each patch is 16 × 16, meaning there are 5 × 4 = 20 patches total. The highlighted patch starts at pixel row interval [16, 32] and pixel column interval [32, 64]. Normalized, the row interval is therefore [0.25, 0.5] and the column interval is [0.4, 0.6]. We then separately quantize the intervals into 128 uniformly spaced bins, with the resulting quantized row interval being [32, 64] and the quantized column interval being [51, 77].\n",
    "\n",
    "Our numbers seem to align. A good start."
   ]
  },
  {
   "cell_type": "markdown",
   "id": "9b0f06c1-113e-4cdc-b8cf-f33255574b04",
   "metadata": {},
   "source": [
    "How do we combine these position encodings with our images?\n",
    "\n",
    "> During training, we uniformly sample integers between the quantized row intervals, whereas during testing we would use the means, which are index 48 for row position and index 64 for column position. The row and column positions are finally used to index separate row and column position encoding tables to produce learnable embeddings which are added onto the corresponding patch token embedding."
   ]
  },
  {
   "cell_type": "code",
   "execution_count": 58,
   "id": "2c728161-db9f-453b-af0e-c52b74c8b38a",
   "metadata": {},
   "outputs": [],
   "source": [
    "def imean(n, m): return int(round((n + m) / 2))"
   ]
  },
  {
   "cell_type": "markdown",
   "id": "84986cf4-a618-464e-8baf-e033517f7f37",
   "metadata": {},
   "source": [
    "### TODO: This is going to be slow"
   ]
  },
  {
   "cell_type": "code",
   "execution_count": 59,
   "id": "3392b549-f61b-41f4-a0ca-44de861e0608",
   "metadata": {},
   "outputs": [],
   "source": [
    "def patch_position_sample(row_interval, col_interval, i, mode=\"training\"):\n",
    "    if mode == \"training\":\n",
    "        row_idx = random.randint(row_interval.points[i], row_interval.points[i]+row_interval.length-1)\n",
    "        col_idx = random.randint(col_interval.points[i], col_interval.points[i]+col_interval.length-1)\n",
    "    else:\n",
    "        row_idx = imean(row_interval.points[i].item(), row_interval.points[i].item()+row_interval.length)\n",
    "        col_idx = imean(col_interval.points[i].item(), col_interval.points[i].item()+col_interval.length)\n",
    "    return torch.tensor(row_idx, dtype=torch.int64), torch.tensor(col_idx, dtype=torch.int64)"
   ]
  },
  {
   "cell_type": "code",
   "execution_count": 60,
   "id": "4dd9d10c-994e-47bd-8c98-019b484c8c19",
   "metadata": {},
   "outputs": [],
   "source": [
    "col_interval = Interval(torch.round((torch.arange(5) / 5).repeat(4, 1).flatten() * 128).to(torch.uint8), round(128/5))\n",
    "row_interval = Interval(torch.round((torch.arange(4) / 4).repeat(5, 1).T.flatten() * 128).to(torch.uint8), round(128/4))\n",
    "row_interval, col_interval = intervals(4, 5)"
   ]
  },
  {
   "cell_type": "code",
   "execution_count": 61,
   "id": "7c07dc58-26bd-4396-a085-ca9da961e887",
   "metadata": {},
   "outputs": [
    {
     "data": {
      "text/plain": [
       "(Interval(points=tensor([ 0,  0,  0,  0,  0, 32, 32, 32, 32, 32, 64, 64, 64, 64, 64, 96, 96, 96,\n",
       "         96, 96], dtype=torch.uint8), length=32),\n",
       " Interval(points=tensor([  0,  26,  51,  77, 102,   0,  26,  51,  77, 102,   0,  26,  51,  77,\n",
       "         102,   0,  26,  51,  77, 102], dtype=torch.uint8), length=26))"
      ]
     },
     "execution_count": 61,
     "metadata": {},
     "output_type": "execute_result"
    }
   ],
   "source": [
    "row_interval, col_interval"
   ]
  },
  {
   "cell_type": "code",
   "execution_count": 62,
   "id": "3acc8499-b952-44b9-86b8-15a17f5df774",
   "metadata": {},
   "outputs": [
    {
     "data": {
      "text/plain": [
       "(tensor(48), tensor(64))"
      ]
     },
     "execution_count": 62,
     "metadata": {},
     "output_type": "execute_result"
    }
   ],
   "source": [
    "i = 7\n",
    "idxs = patch_position_sample(row_interval, col_interval, i, mode=\"evaluation\")\n",
    "idxs"
   ]
  },
  {
   "cell_type": "markdown",
   "id": "77e7f669-6454-4331-91ac-53bf0cb5ffe0",
   "metadata": {},
   "source": [
    "> ...during testing we would use the means, which are index 48 for row position and index 64 for column position...\n",
    "\n",
    "Looks good."
   ]
  },
  {
   "cell_type": "code",
   "execution_count": 63,
   "id": "fa145909-326a-4014-9e05-3a4548f334a2",
   "metadata": {},
   "outputs": [],
   "source": [
    "_patch_position_row_embedding = nn.Embedding(128, EMBEDDING_DIM)\n",
    "_patch_position_col_embedding = nn.Embedding(128, EMBEDDING_DIM)"
   ]
  },
  {
   "cell_type": "code",
   "execution_count": 64,
   "id": "f07991c2-39ca-425b-8807-7496be674576",
   "metadata": {},
   "outputs": [],
   "source": [
    "heights, widths = heights_widths(images)\n",
    "n_patch_rows, n_patch_cols = n_patch_rows_cols(12, 12, heights, widths)"
   ]
  },
  {
   "cell_type": "code",
   "execution_count": 65,
   "id": "39da7f67-d28d-4766-bab6-53bb202c6130",
   "metadata": {},
   "outputs": [
    {
     "data": {
      "text/plain": [
       "(tensor([16, 16, 16, 16, 16, 16, 16, 16], dtype=torch.uint8),\n",
       " tensor([16, 16, 16, 16, 16, 16, 16, 16], dtype=torch.uint8))"
      ]
     },
     "execution_count": 65,
     "metadata": {},
     "output_type": "execute_result"
    }
   ],
   "source": [
    "n_patch_rows, n_patch_cols"
   ]
  },
  {
   "cell_type": "code",
   "execution_count": 66,
   "id": "8155b127-bc26-4885-a8bf-a8a58f5365f6",
   "metadata": {},
   "outputs": [],
   "source": [
    "def embed_image(n_patch_rows, n_patch_cols, images):\n",
    "    images_embeddings = []\n",
    "    embeddings = _image_embedding(images)\n",
    "    for i, image in enumerate(images):\n",
    "        row_interval, col_interval = intervals(n_patch_rows[i].item(), n_patch_cols[i].item())\n",
    "        image_embeddings = []\n",
    "        for j in range(image.size(0)):\n",
    "            row_idx, col_idx = patch_position_sample(row_interval, col_interval, j, mode=\"training\")\n",
    "            embeddings[i][j] += _patch_position_row_embedding(row_idx) + _patch_position_col_embedding(col_idx)\n",
    "    return embeddings"
   ]
  },
  {
   "cell_type": "code",
   "execution_count": 67,
   "id": "40c9d6d7-7d45-47ec-b2c1-58f6f6f02a05",
   "metadata": {},
   "outputs": [
    {
     "data": {
      "text/plain": [
       "torch.Size([8, 256, 432])"
      ]
     },
     "execution_count": 67,
     "metadata": {},
     "output_type": "execute_result"
    }
   ],
   "source": [
    "embed_image(n_patch_rows, n_patch_cols, tokenize_image(images)).shape"
   ]
  },
  {
   "cell_type": "code",
   "execution_count": 68,
   "id": "299a328e-b551-43c5-b363-f49a26fed167",
   "metadata": {},
   "outputs": [
    {
     "data": {
      "text/plain": [
       "'<|endoftext|>'"
      ]
     },
     "execution_count": 68,
     "metadata": {},
     "output_type": "execute_result"
    }
   ],
   "source": [
    "_text_tokenizer.bos_token"
   ]
  },
  {
   "cell_type": "code",
   "execution_count": 69,
   "id": "fd4a8b16-06f9-4153-934c-00cec84bf7ff",
   "metadata": {},
   "outputs": [],
   "source": [
    "# For simplicity, I'm hardcoding a few important decisions in this function.\n",
    "# Given any particular context window:\n",
    "# - What should be the max token length of the question?\n",
    "# - What should be the max token length of the answer?\n",
    "# \n",
    "# I'm assuming a context window of 1024 and image sizes of (3, 192, 192) split into 16x16 patches of 12x12,\n",
    "# resulting in 256 image tokens and 756 remaining tokens to distribute to the question and answer.\n",
    "# I assume the question is usually longer, so I'm rather arbitrarily picking 512 tokens for the question\n",
    "# and 256 for the answer.\n",
    "def sequence_vqa(text_tokenizer, text_embedder, image_tokenizer, image_embedder, batch):\n",
    "    bos_token = text_tokenizer.bos_token\n",
    "    eos_token = text_tokenizer.eos_token\n",
    "    question_max_length = 512\n",
    "    answer_max_length = 256\n",
    "    \n",
    "    question = [bos_token + q + eos_token for q in batch[\"question\"]]\n",
    "    question_tokens = text_tokenizer(\n",
    "        question, \n",
    "        truncation=True, \n",
    "        padding=\"max_length\", \n",
    "        # max_length+1 because we're taking data[:-1] for xs and data[1:] for ys.\n",
    "        max_length=question_max_length+1,\n",
    "        return_tensors=\"pt\"\n",
    "    )\n",
    "\n",
    "    # If the answer isn't in the batch, then we consider ourselves in \"prediction\" mode\n",
    "    # and just start with a bos_token.\n",
    "    if \"answer\" not in batch:\n",
    "        answer = [bos_token for _ in question]\n",
    "    else:\n",
    "        # This bos + text + eos preprocessing might be cleaner in its own preprocessing step\n",
    "        # rather than clump it all inside the `sequence_...` function.\n",
    "        answer = [bos_token + a + eos_token for a in batch[\"answer\"]]\n",
    "    answer_tokens = text_tokenizer(\n",
    "        answer, \n",
    "        truncation=True, \n",
    "        padding=\"max_length\", \n",
    "        max_length=answer_max_length+1, \n",
    "        return_tensors=\"pt\"\n",
    "    )\n",
    "    image_tokens = image_tokenizer(batch[\"image\"])\n",
    "    # We're not predicting image tokens, so we need to return a mask that our loss function can \n",
    "    # use to ignore them.\n",
    "    image_attention_mask = torch.zeros_like(image_tokens)\n",
    "\n",
    "    question_embedding = text_embedder(question_tokens[\"input_ids\"][:, :-1])\n",
    "    answer_embedding = text_embedder(answer_tokens[\"input_ids\"][:, :-1])\n",
    "    # TODO: Fix this. I'm hardcoding image size here because I know every image is 192x192.\n",
    "    heights, widths = heights_widths(images)\n",
    "    n_patch_rows, n_patch_cols = n_patch_rows_cols(12, 12, heights, widths)\n",
    "    image_embedding = image_embedder(n_patch_rows, n_patch_cols, image_tokens)\n",
    "    xs = torch.concat([question_embedding, image_embedding, answer_embedding], dim=1)\n",
    "    ys = torch.concat([question_tokens[\"input_ids\"][:, 1:], torch.zeros(image_tokens.shape[:2]), answer_tokens[\"input_ids\"][:, 1:]], dim=1).int()\n",
    "    attention_mask = torch.concat([question_tokens[\"attention_mask\"][:, :-1], torch.zeros(image_tokens.shape[:2]), answer_tokens[\"attention_mask\"][:, :-1]], dim=1)\n",
    "    return xs, ys, attention_mask"
   ]
  },
  {
   "cell_type": "code",
   "execution_count": 70,
   "id": "5eff484e-f0f5-4b80-9f1a-a9782c3e7e45",
   "metadata": {},
   "outputs": [],
   "source": [
    "vqa_dataset = datasets.load_dataset(\"eihli/micro-ok-vqa\").with_format(\"torch\")\n",
    "vqa_dataloader = map(\n",
    "    partial(sequence_vqa, tokenize_text, embed_text, tokenize_image, embed_image), \n",
    "    DataLoader(vqa_dataset[\"train\"], batch_size=BATCH_SIZE, collate_fn=micro_ok_vqa_collate_fn)\n",
    ")\n",
    "xs, ys, mask = next(vqa_dataloader)"
   ]
  },
  {
   "cell_type": "code",
   "execution_count": 71,
   "id": "c693031a-3599-4af4-91ba-555694abef55",
   "metadata": {},
   "outputs": [
    {
     "data": {
      "text/plain": [
       "(torch.Size([3, 1024, 432]),\n",
       " torch.Size([3, 1024]),\n",
       " torch.Size([3, 1024]),\n",
       " torch.int32)"
      ]
     },
     "execution_count": 71,
     "metadata": {},
     "output_type": "execute_result"
    }
   ],
   "source": [
    "xs.shape, ys.shape, mask.shape, ys.dtype"
   ]
  },
  {
   "cell_type": "code",
   "execution_count": 72,
   "id": "f8d788a2-4e2a-4e15-a36e-d8cd9008bef1",
   "metadata": {},
   "outputs": [
    {
     "data": {
      "text/plain": [
       "(torch.Size([3, 1024, 432]),\n",
       " torch.Size([3, 1024]),\n",
       " torch.Size([3, 1024]),\n",
       " torch.int64)"
      ]
     },
     "execution_count": 72,
     "metadata": {},
     "output_type": "execute_result"
    }
   ],
   "source": [
    "text_xs.shape, text_ys.shape, text_mask.shape, text_ys.dtype"
   ]
  },
  {
   "cell_type": "markdown",
   "id": "f91fab8f-8873-4304-b9c6-a06401613314",
   "metadata": {},
   "source": [
    "# Loss"
   ]
  },
  {
   "cell_type": "code",
   "execution_count": 73,
   "id": "0562fef0-3d64-468a-a428-3d8bf73b5e0c",
   "metadata": {},
   "outputs": [],
   "source": [
    "import torch.nn.functional as F"
   ]
  },
  {
   "cell_type": "code",
   "execution_count": 74,
   "id": "a8e4a354-fd94-4574-b2bd-2ad13031e505",
   "metadata": {},
   "outputs": [],
   "source": [
    "## Loss\n",
    "##\n",
    "## See section 2.3 of the Gato paper.\n",
    "##\n",
    "##   Let b index a training batch of sequences B. We define a masking function m\n",
    "##   such that m(b, l) = 1 if the token at index l is either from text or from\n",
    "##   the logged action of an agent, and 0 otherwise. The training loss for a\n",
    "##   batch B can then be written as...\n",
    "def cross_entropy(predicted, target, mask):\n",
    "    # See: https://youtu.be/kCc8FmEb1nY?list=PLAqhIrjkxbuWI23v9cThsA9GvCAUhRvKZ&t=1553\n",
    "    B, T, C = predicted.shape\n",
    "    predicted = predicted.view(B * T, C)\n",
    "    target = target.view(-1)\n",
    "    losses = F.cross_entropy(predicted, target, reduction=\"none\")\n",
    "    losses = losses * mask.squeeze(-1).view(-1)\n",
    "    loss = losses.sum() / mask.sum()\n",
    "    return loss"
   ]
  },
  {
   "cell_type": "markdown",
   "id": "d70c7f28-6d99-4038-9679-1e452a957d79",
   "metadata": {},
   "source": [
    "# Training"
   ]
  },
  {
   "cell_type": "code",
   "execution_count": 75,
   "id": "59d999c6-e63b-4f0e-a909-9f1da346b017",
   "metadata": {},
   "outputs": [],
   "source": [
    "from transformers import GPT2TokenizerFast, GPT2Config, GPT2Model"
   ]
  },
  {
   "cell_type": "code",
   "execution_count": 76,
   "id": "b901d325-a96d-463d-88f6-31702432d715",
   "metadata": {},
   "outputs": [],
   "source": [
    "device = torch.device('cuda')"
   ]
  },
  {
   "cell_type": "code",
   "execution_count": 77,
   "id": "7b612af9-17d6-48b4-9904-b5d0934fabb7",
   "metadata": {},
   "outputs": [],
   "source": [
    "def init_model():\n",
    "    configuration = GPT2Config(\n",
    "        n_layer=2,\n",
    "        n_head=2,\n",
    "        n_embd=EMBEDDING_DIM\n",
    "    )\n",
    "    model = GPT2Model(configuration)\n",
    "    return model\n",
    "\n",
    "\n",
    "def init_optimizer(params):\n",
    "    optimizer = torch.optim.AdamW(params)\n",
    "    return optimizer"
   ]
  },
  {
   "cell_type": "code",
   "execution_count": 78,
   "id": "7e92aed5-6296-4234-86b6-08dca02cd4d1",
   "metadata": {},
   "outputs": [],
   "source": [
    "model = init_model().to(device)"
   ]
  },
  {
   "cell_type": "code",
   "execution_count": 79,
   "id": "c58c23ac-c0ee-4786-bdab-8508de7a21b1",
   "metadata": {},
   "outputs": [
    {
     "data": {
      "text/plain": [
       "GPT2Model(\n",
       "  (wte): Embedding(50257, 432)\n",
       "  (wpe): Embedding(1024, 432)\n",
       "  (drop): Dropout(p=0.1, inplace=False)\n",
       "  (h): ModuleList(\n",
       "    (0-1): 2 x GPT2Block(\n",
       "      (ln_1): LayerNorm((432,), eps=1e-05, elementwise_affine=True)\n",
       "      (attn): GPT2SdpaAttention(\n",
       "        (c_attn): Conv1D()\n",
       "        (c_proj): Conv1D()\n",
       "        (attn_dropout): Dropout(p=0.1, inplace=False)\n",
       "        (resid_dropout): Dropout(p=0.1, inplace=False)\n",
       "      )\n",
       "      (ln_2): LayerNorm((432,), eps=1e-05, elementwise_affine=True)\n",
       "      (mlp): GPT2MLP(\n",
       "        (c_fc): Conv1D()\n",
       "        (c_proj): Conv1D()\n",
       "        (act): NewGELUActivation()\n",
       "        (dropout): Dropout(p=0.1, inplace=False)\n",
       "      )\n",
       "    )\n",
       "  )\n",
       "  (ln_f): LayerNorm((432,), eps=1e-05, elementwise_affine=True)\n",
       ")"
      ]
     },
     "execution_count": 79,
     "metadata": {},
     "output_type": "execute_result"
    }
   ],
   "source": [
    "model"
   ]
  },
  {
   "cell_type": "markdown",
   "id": "8f424b5c-527c-4580-9a16-b475c6d3f04e",
   "metadata": {},
   "source": [
    "### Optimizer\n",
    "\n",
    "We need to handle our optimizer and parameters in an atypical way. Typically, embeddings are stored on a model – an instance of PyTorch's `nn.Module`. PyTorch would keep track of those as parameters of our model and we would just pass `model.parameters()` to our optimizer. \n",
    "\n",
    "But because our DataLoaders return embeddings, our model doesn't know about them. We need to handle including those parameters in what we pass to our optimizer."
   ]
  },
  {
   "cell_type": "code",
   "execution_count": 80,
   "id": "cc8d870a-8cb7-4bc9-abaf-084a99e708ee",
   "metadata": {},
   "outputs": [],
   "source": [
    "HIDDEN_DIMS=EMBEDDING_DIM\n",
    "lm_head = nn.Linear(model.config.hidden_size, _text_tokenizer.vocab_size).to(device)\n",
    "params = (\n",
    "    list(model.parameters())\n",
    "    + list(_text_embedding.parameters())\n",
    "    + list(_image_embedding.parameters())\n",
    "    + list(_patch_position_row_embedding.parameters())\n",
    "    + list(_patch_position_col_embedding.parameters())\n",
    "    + list(lm_head.parameters())\n",
    ")\n",
    "optimizer = init_optimizer(params)\n",
    "def fresh_text_dataloader():\n",
    "    return map(\n",
    "        partial(sequence_text, tokenize_text, embed_text, SEQUENCE_LENGTH), \n",
    "        DataLoader(text_dataset, batch_size=BATCH_SIZE)\n",
    "    )\n",
    "def fresh_vqa_dataloader():\n",
    "    return map(\n",
    "        partial(sequence_vqa, tokenize_text, embed_text, tokenize_image, embed_image),\n",
    "        DataLoader(vqa_dataset[\"train\"], batch_size=8, collate_fn=micro_ok_vqa_collate_fn)\n",
    "    )\n",
    "text_dataloader_iter = iter(fresh_text_dataloader())\n",
    "vqa_dataloader_iter = iter(fresh_vqa_dataloader())"
   ]
  },
  {
   "cell_type": "code",
   "execution_count": 81,
   "id": "481f4e59-4454-4420-be0f-71c7c765181f",
   "metadata": {},
   "outputs": [
    {
     "name": "stdout",
     "output_type": "stream",
     "text": [
      "Number of parameters: 7.03e+07\n"
     ]
    }
   ],
   "source": [
    "print(f\"Number of parameters: {sum(p.numel() for p in params):.2e}\")"
   ]
  },
  {
   "cell_type": "code",
   "execution_count": 82,
   "id": "95de4cfc-ecf7-4c55-8863-2598fc03fe67",
   "metadata": {},
   "outputs": [],
   "source": [
    "from tqdm.notebook import tqdm"
   ]
  },
  {
   "cell_type": "code",
   "execution_count": 83,
   "id": "fc7b7b86-8474-4649-8b78-cd10b7d917e7",
   "metadata": {},
   "outputs": [],
   "source": [
    "text_xs, text_ys, text_mask = next(text_dataloader_iter)\n",
    "vqa_xs, vqa_ys, vqa_mask = next(vqa_dataloader_iter)"
   ]
  },
  {
   "cell_type": "code",
   "execution_count": 84,
   "id": "36b6af73-82e2-4498-9a4a-1f99165e14c6",
   "metadata": {},
   "outputs": [],
   "source": [
    "x = torch.concat([text_xs, vqa_xs])"
   ]
  },
  {
   "cell_type": "code",
   "execution_count": 85,
   "id": "38a65b25-b432-46df-8db6-9b2cbd2b4cbf",
   "metadata": {},
   "outputs": [
    {
     "data": {
      "text/plain": [
       "'1.95e+07'"
      ]
     },
     "execution_count": 85,
     "metadata": {},
     "output_type": "execute_result"
    }
   ],
   "source": [
    "from functools import reduce\n",
    "import operator\n",
    "f\"{reduce(operator.mul, x.shape) * 4:.2e}\""
   ]
  },
  {
   "cell_type": "code",
   "execution_count": 86,
   "id": "7ac8b308-2582-4832-ab60-ab6982fb4795",
   "metadata": {},
   "outputs": [],
   "source": [
    "text_dataloader_iter = iter(fresh_text_dataloader())\n",
    "vqa_dataloader_iter = iter(fresh_vqa_dataloader())"
   ]
  },
  {
   "cell_type": "code",
   "execution_count": 87,
   "id": "50b1558b-30fd-4d21-a176-06d615131b54",
   "metadata": {},
   "outputs": [],
   "source": [
    "def train():\n",
    "    i = 10\n",
    "    text_i = 0\n",
    "    vqa_i = 0\n",
    "    bos_token = eos_token = _text_tokenizer.bos_token\n",
    "    model.train()\n",
    "    text_dataloader_iter = iter(fresh_text_dataloader())\n",
    "    vqa_dataloader_iter = iter(fresh_vqa_dataloader())\n",
    "    for epoch in tqdm(range(i)):\n",
    "        try:\n",
    "            text_xs, text_ys, text_mask = next(text_dataloader_iter)\n",
    "        except StopIteration:\n",
    "            text_i += 1\n",
    "            text_dataloader_iter = iter(fresh_text_dataloader())\n",
    "            text_xs, text_ys, text_mask = next(text_dataloader_iter)\n",
    "        try:\n",
    "            vqa_xs, vqa_ys, vqa_mask = next(vqa_dataloader_iter)\n",
    "        except StopIteration:\n",
    "            vqa_i += 1\n",
    "            vqa_dataloader_iter = iter(fresh_vqa_dataloader())\n",
    "            vqa_xs, vqa_ys, vqa_mask = next(vqa_dataloader_iter)\n",
    "        x = torch.concat([text_xs, vqa_xs]).to(device)\n",
    "        y = torch.concat([text_ys, vqa_ys]).to(device)\n",
    "        m = torch.concat([text_mask, vqa_mask]).to(device)\n",
    "        optimizer.zero_grad()\n",
    "        o = model(inputs_embeds=x)\n",
    "        p = lm_head(o.last_hidden_state)\n",
    "        loss = cross_entropy(p, y, m)\n",
    "        loss.backward()\n",
    "        optimizer.step()\n",
    "\n",
    "        if epoch % 50 == 0:\n",
    "            print(f\"Epoch [{epoch}/{i}], Loss: {loss.item()}\")\n",
    "    print(f\"Epoch [{epoch}/{i}], Loss: {loss.item()}\")\n",
    "    print(f\"text: {text_i}, vqa: {vqa_i}\")"
   ]
  },
  {
   "cell_type": "code",
   "execution_count": 88,
   "id": "7e93e4af-3146-48e6-b59d-f45da7c9ba96",
   "metadata": {},
   "outputs": [
    {
     "data": {
      "application/vnd.jupyter.widget-view+json": {
       "model_id": "9f53d49f7c984921a24ae136a2c7e831",
       "version_major": 2,
       "version_minor": 0
      },
      "text/plain": [
       "  0%|          | 0/10 [00:00<?, ?it/s]"
      ]
     },
     "metadata": {},
     "output_type": "display_data"
    },
    {
     "name": "stdout",
     "output_type": "stream",
     "text": [
      "Epoch [0/10], Loss: 10.988685607910156\n",
      "Epoch [9/10], Loss: 6.708907127380371\n",
      "text: 0, vqa: 0\n"
     ]
    }
   ],
   "source": [
    "train()"
   ]
  },
  {
   "cell_type": "code",
   "execution_count": 89,
   "id": "e4e1ea59-9f8e-44b9-9bbc-e33d2b668b18",
   "metadata": {},
   "outputs": [],
   "source": [
    "# import cProfile, pstats\n",
    "# profiler = cProfile.Profile()\n",
    "# profiler.enable()\n",
    "# train()\n",
    "# profiler.disable()\n",
    "# stats = pstats.Stats(profiler).sort_stats('tottime')\n",
    "# stats.print_stats()"
   ]
  },
  {
   "cell_type": "code",
   "execution_count": 90,
   "id": "3885c8a5-9d8e-4bbd-9991-b7bbd3bd8e28",
   "metadata": {},
   "outputs": [],
   "source": [
    "sample = next(iter(DataLoader(vqa_dataset[\"train\"], batch_size=BATCH_SIZE, collate_fn=micro_ok_vqa_collate_fn)))"
   ]
  },
  {
   "cell_type": "code",
   "execution_count": 91,
   "id": "4630c210-a000-4f90-8142-aafa57c4f1bc",
   "metadata": {},
   "outputs": [],
   "source": [
    "question = [sample[\"question\"][0]]\n",
    "image = [sample[\"image\"][0]]"
   ]
  },
  {
   "cell_type": "code",
   "execution_count": 92,
   "id": "0489caa6-2634-431e-bc88-0b2858c56c1d",
   "metadata": {},
   "outputs": [
    {
     "name": "stdout",
     "output_type": "stream",
     "text": [
      "First Citizen:,Charge,nessworks verge painting walk angled wavelengthsminded pray I\n",
      " Ecc ignoredTo, Pike it\n"
     ]
    }
   ],
   "source": [
    "model.eval()\n",
    "text = \"First Citizen:\"\n",
    "token = None\n",
    "i = 0\n",
    "with torch.no_grad():\n",
    "    while i < 20 and token != _text_tokenizer.eos_token_id:\n",
    "        tokens = tokenize_text([text], max_length=SEQUENCE_LENGTH, padding=\"max_length\", truncation=True, return_tensors=\"pt\")\n",
    "        x = embed_text(tokens[\"input_ids\"]).to(device)\n",
    "        m = tokens[\"attention_mask\"].to(device)\n",
    "        length = m.sum().item()\n",
    "        o = model(inputs_embeds=x)\n",
    "        predicted = lm_head(o.last_hidden_state)\n",
    "        chosen = torch.multinomial(predicted.softmax(dim=2)[:, length-1], num_samples=1)\n",
    "        token = chosen[0]\n",
    "        text += _text_tokenizer.decode(chosen[0])\n",
    "        i += 1\n",
    "print(text)"
   ]
  },
  {
   "cell_type": "code",
   "execution_count": 93,
   "id": "8c68f718-687f-4028-b539-ed1f03c79088",
   "metadata": {},
   "outputs": [],
   "source": [
    "sample = next(iter(DataLoader(vqa_dataset[\"train\"], batch_size=BATCH_SIZE, collate_fn=micro_ok_vqa_collate_fn)))"
   ]
  },
  {
   "cell_type": "code",
   "execution_count": 94,
   "id": "48bbc869-2475-45c9-b930-879f0fd8248b",
   "metadata": {},
   "outputs": [],
   "source": [
    "question = [sample[\"question\"][0]]\n",
    "image = [sample[\"image\"][0]]"
   ]
  },
  {
   "cell_type": "code",
   "execution_count": 95,
   "id": "8ef5fb69-9f12-41d5-9bfa-75f1e4cb30a0",
   "metadata": {},
   "outputs": [
    {
     "data": {
      "text/plain": [
       "<matplotlib.image.AxesImage at 0x7221c35ed2e0>"
      ]
     },
     "execution_count": 95,
     "metadata": {},
     "output_type": "execute_result"
    },
    {
     "data": {
      "image/png": "[encoded data removed]",
      "text/plain": [
       "<Figure size 640x480 with 1 Axes>"
      ]
     },
     "metadata": {},
     "output_type": "display_data"
    }
   ],
   "source": [
    "plt.imshow(vqa_batch[\"image\"][0].permute(1, 2, 0))"
   ]
  },
  {
   "cell_type": "code",
   "execution_count": 96,
   "id": "debcbfe6-be02-4911-a6be-f50830bbb536",
   "metadata": {},
   "outputs": [
    {
     "data": {
      "text/plain": [
       "['What is the hairstyle of the blond called?']"
      ]
     },
     "execution_count": 96,
     "metadata": {},
     "output_type": "execute_result"
    }
   ],
   "source": [
    "question"
   ]
  },
  {
   "cell_type": "code",
   "execution_count": 97,
   "id": "9a87c4ee-f7cc-497a-9529-3a30dbee1e87",
   "metadata": {},
   "outputs": [
    {
     "data": {
      "text/plain": [
       "['<|endoftext|>']"
      ]
     },
     "execution_count": 97,
     "metadata": {},
     "output_type": "execute_result"
    }
   ],
   "source": [
    "model.eval()\n",
    "\n",
    "batch = {\n",
    "    \"question\": question,\n",
    "    \"image\": image,\n",
    "    \"answer\": [\"\"],\n",
    "}\n",
    "i = 0\n",
    "token = \"\"\n",
    "with torch.no_grad():\n",
    "    while i < 10 and token != _text_tokenizer.eos_token:\n",
    "        x, y, m = sequence_vqa(tokenize_text, embed_text, tokenize_image, embed_image, batch)\n",
    "        x, y, m = x.to(device), y.to(device), m.to(device)\n",
    "        o = model(inputs_embeds=x)\n",
    "        predicted = lm_head(o.last_hidden_state)\n",
    "        token = _text_tokenizer.decode(predicted.softmax(dim=2)[0].multinomial(num_samples=1).squeeze(1)[768+i])\n",
    "        token = _text_tokenizer.decode(predicted.argmax(dim=2).squeeze(0)[768+i])\n",
    "        # with temperature\n",
    "        heat = 0.1\n",
    "        heated = predicted / heat\n",
    "        token = _text_tokenizer.decode(heated.softmax(dim=2)[0].multinomial(num_samples=1).squeeze()[768+i])\n",
    "        batch[\"answer\"][0] += token\n",
    "        i += 1\n",
    "batch[\"answer\"]"
   ]
  },
  {
   "cell_type": "markdown",
   "id": "784558fc-b115-49b8-ae1d-52443a0e8768",
   "metadata": {},
   "source": [
    "Ok. We're not getting \"ponytail\". Why not? What is the log prob of those tokens? Are we moving in the right direction? Will we get there eventually?"
   ]
  },
  {
   "cell_type": "markdown",
   "id": "0dafc410-e01f-41f0-bf8b-b3b2ddd090d2",
   "metadata": {},
   "source": [
    "### What 10 next-words does the model assign highest probability to?"
   ]
  },
  {
   "cell_type": "code",
   "execution_count": 98,
   "id": "aeec4ab7-407e-4155-8c40-08527cec7544",
   "metadata": {},
   "outputs": [],
   "source": [
    "batch = {\n",
    "    \"question\": question,\n",
    "    \"image\": image,\n",
    "    \"answer\": [\"\"],\n",
    "}\n",
    "i = 0\n",
    "token = \"\""
   ]
  },
  {
   "cell_type": "code",
   "execution_count": 99,
   "id": "534a26a2-123a-441e-a735-0f917ad9f26c",
   "metadata": {},
   "outputs": [],
   "source": [
    "x, y, m = sequence_vqa(tokenize_text, embed_text, tokenize_image, embed_image, batch)\n",
    "x, y, m = x.to(device), y.to(device), m.to(device)"
   ]
  },
  {
   "cell_type": "code",
   "execution_count": 100,
   "id": "868f2535-91c2-4278-850a-6b33d2f9598d",
   "metadata": {},
   "outputs": [],
   "source": [
    "o = model(inputs_embeds=x)"
   ]
  },
  {
   "cell_type": "code",
   "execution_count": 101,
   "id": "fc978c18-a96e-4d40-8655-29eaad58fd36",
   "metadata": {},
   "outputs": [],
   "source": [
    "predicted = lm_head(o.last_hidden_state)"
   ]
  },
  {
   "cell_type": "code",
   "execution_count": 102,
   "id": "290b6e42-b0ca-418e-b7d8-55943a5f5ed1",
   "metadata": {},
   "outputs": [
    {
     "data": {
      "text/plain": [
       "torch.Size([1, 1024, 50257])"
      ]
     },
     "execution_count": 102,
     "metadata": {},
     "output_type": "execute_result"
    }
   ],
   "source": [
    "predicted.shape"
   ]
  },
  {
   "cell_type": "code",
   "execution_count": 103,
   "id": "9e51e080-c2f5-4c6c-8395-0baf6ff0682d",
   "metadata": {},
   "outputs": [
    {
     "data": {
      "text/plain": [
       "tensor([ 2.4456, -2.5555, -2.3954, -2.5900, -2.9832], device='cuda:0',\n",
       "       grad_fn=<SliceBackward0>)"
      ]
     },
     "execution_count": 103,
     "metadata": {},
     "output_type": "execute_result"
    }
   ],
   "source": [
    "predicted[0][-1][:5]"
   ]
  },
  {
   "cell_type": "code",
   "execution_count": 104,
   "id": "cd23a3fa-baf7-4fc9-87e9-5d8e97d21c7a",
   "metadata": {},
   "outputs": [
    {
     "data": {
      "text/plain": [
       "'<|endoftext|> | \\n |  the | What | , |  it | ? |  you |  in | the | I |  is |  to | . |  a |  this | First |  o | Is |  though'"
      ]
     },
     "execution_count": 104,
     "metadata": {},
     "output_type": "execute_result"
    }
   ],
   "source": [
    "\" | \".join(_text_tokenizer.decode(p) for p in predicted[0][768].topk(20).indices.tolist())"
   ]
  },
  {
   "cell_type": "code",
   "execution_count": 105,
   "id": "f2f030b2-e1b6-447a-a41b-b0eb636049c3",
   "metadata": {},
   "outputs": [
    {
     "data": {
      "application/vnd.jupyter.widget-view+json": {
       "model_id": "7137dcb08f8d4e209c93b1c170207b26",
       "version_major": 2,
       "version_minor": 0
      },
      "text/plain": [
       "  0%|          | 0/10 [00:00<?, ?it/s]"
      ]
     },
     "metadata": {},
     "output_type": "display_data"
    },
    {
     "name": "stdout",
     "output_type": "stream",
     "text": [
      "Epoch [0/10], Loss: 5.442127227783203\n",
      "Epoch [9/10], Loss: 5.043913841247559\n"
     ]
    }
   ],
   "source": [
    "i = 10\n",
    "bos_token = eos_token = _text_tokenizer.bos_token\n",
    "model.train()\n",
    "for epoch in tqdm(range(i)):\n",
    "    try:\n",
    "        text_xs, text_ys, text_mask = next(text_dataloader_iter)\n",
    "    except StopIteration:\n",
    "        text_dataloader_iter = iter(fresh_text_dataloader())\n",
    "        text_xs, text_ys, text_mask = next(text_dataloader_iter)\n",
    "    try:\n",
    "        vqa_xs, vqa_ys, vqa_mask = next(vqa_dataloader_iter)\n",
    "    except StopIteration:\n",
    "        vqa_dataloader_iter = iter(fresh_vqa_dataloader())\n",
    "        vqa_xs, vqa_ys, vqa_mask = next(vqa_dataloader_iter)\n",
    "    x = torch.concat([text_xs, vqa_xs]).to(device)\n",
    "    y = torch.concat([text_ys, vqa_ys]).to(device)\n",
    "    m = torch.concat([text_mask, vqa_mask]).to(device)\n",
    "    # x = vqa_xs.to(device)\n",
    "    # y = vqa_ys.to(device).to(torch.long)\n",
    "    # m = vqa_mask.to(device)    \n",
    "    optimizer.zero_grad()\n",
    "    o = model(inputs_embeds=x)\n",
    "    p = lm_head(o.last_hidden_state)\n",
    "    loss = cross_entropy(p, y, m)\n",
    "    loss.backward()\n",
    "    optimizer.step()\n",
    "\n",
    "    if epoch % 50 == 0:\n",
    "        print(f\"Epoch [{epoch}/{i}], Loss: {loss.item()}\")\n",
    "print(f\"Epoch [{epoch}/{i}], Loss: {loss.item()}\")        "
   ]
  },
  {
   "cell_type": "markdown",
   "id": "7303fe88-f200-4549-8684-0721b123d962",
   "metadata": {},
   "source": [
    "# Control\n",
    "\n",
    "Notes:\n",
    "\n",
    "- Even though we're using reinforcement learning datasets, this isn't reinforcement learning.\n",
    "  - We never care about rewards.\n",
    "  - Our samples are from expert players. We just learn to mimic them.\n",
    "- I'm turning grid observations into images.\n",
    "  - More image training data."
   ]
  },
  {
   "cell_type": "code",
   "execution_count": 106,
   "id": "9d727ac3-9792-43af-b1b5-62ade9d634a4",
   "metadata": {},
   "outputs": [],
   "source": [
    "import minari\n",
    "\n",
    "minigrid_dataset = minari.load_dataset('D4RL/minigrid/fourrooms-v0', download=True)\n",
    "env  = minigrid_dataset.recover_environment()"
   ]
  },
  {
   "cell_type": "code",
   "execution_count": 107,
   "id": "15213a19-9fbf-4abb-a193-c0e9b1aebd18",
   "metadata": {},
   "outputs": [
    {
     "name": "stdout",
     "output_type": "stream",
     "text": [
      "Observation space: Dict('direction': Discrete(4), 'image': Box(0, 255, (7, 7, 3), uint8), 'mission': Text(1, 14, charset=                                                              ''''''''''''''''''''''''''''''''''''''''''''''''''''''''''''''''''''''''''''''''''''''''''''''''''''''''''''''''''''''''''''(),,,,,,,,,,,,,,,,,,,,,,,,,,,,,,,,,,,,,,,,,,,,,,,,,,,,,,,,,,,,,0123456789ABCDEFGHIJKLMNOPQRSTUVWXYZabcdeeeffghijklmnnoopqrrssttuvwxyzz{}))\n",
      "Action space: Discrete(7)\n",
      "Total episodes: 590\n",
      "Total steps: 10010\n"
     ]
    }
   ],
   "source": [
    "print(\"Observation space:\", minigrid_dataset.observation_space)\n",
    "print(\"Action space:\", minigrid_dataset.action_space)\n",
    "print(\"Total episodes:\", minigrid_dataset.total_episodes)\n",
    "print(\"Total steps:\", minigrid_dataset.total_steps)"
   ]
  },
  {
   "cell_type": "code",
   "execution_count": 108,
   "id": "e92b937f-a4ac-4315-beb0-27c67fcf63de",
   "metadata": {},
   "outputs": [
    {
     "name": "stdout",
     "output_type": "stream",
     "text": [
      "EPISODE ID'S SAMPLE 0: [31, 348, 9, 536, 400]\n",
      "EPISODE ID'S SAMPLE 1: [103, 265, 544, 204, 477]\n",
      "EPISODE ID'S SAMPLE 2: [302, 158, 14, 505, 522]\n",
      "EPISODE ID'S SAMPLE 3: [240, 125, 371, 87, 435]\n",
      "EPISODE ID'S SAMPLE 4: [468, 125, 305, 489, 469]\n"
     ]
    }
   ],
   "source": [
    "minigrid_dataset.set_seed(seed=123)\n",
    "\n",
    "for i in range(5):\n",
    "    # sample 5 episodes from the dataset\n",
    "    episodes = minigrid_dataset.sample_episodes(n_episodes=5)\n",
    "    # get id's from the sampled episodes\n",
    "    ids = list(map(lambda ep: ep.id, episodes))\n",
    "    print(f\"EPISODE ID'S SAMPLE {i}: {ids}\")"
   ]
  },
  {
   "cell_type": "code",
   "execution_count": 109,
   "id": "2b74b036-8798-4bee-acd9-b549b7052f0c",
   "metadata": {},
   "outputs": [
    {
     "data": {
      "text/plain": [
       "array([0, 0, 0, 0, 0, 0, 0, 3, 3, 3, 3])"
      ]
     },
     "execution_count": 109,
     "metadata": {},
     "output_type": "execute_result"
    }
   ],
   "source": [
    "episodes[0].observations[\"direction\"]"
   ]
  },
  {
   "cell_type": "code",
   "execution_count": 110,
   "id": "1fdd70c4-09b5-445f-b5bb-391df3b584fd",
   "metadata": {},
   "outputs": [],
   "source": [
    "episode = episodes[0]"
   ]
  },
  {
   "cell_type": "code",
   "execution_count": 111,
   "id": "17daa3df-485d-4b36-95a1-cdf377316747",
   "metadata": {},
   "outputs": [],
   "source": [
    "from minigrid.wrappers import RGBImgObsWrapper"
   ]
  },
  {
   "cell_type": "code",
   "execution_count": 112,
   "id": "6655d914-f99b-4689-be44-54baa430a1b8",
   "metadata": {},
   "outputs": [
    {
     "data": {
      "text/plain": [
       "array([2, 2, 2, 2, 2, 2, 0, 2, 2, 2])"
      ]
     },
     "execution_count": 112,
     "metadata": {},
     "output_type": "execute_result"
    }
   ],
   "source": [
    "episode.actions"
   ]
  },
  {
   "cell_type": "code",
   "execution_count": 113,
   "id": "8dd4020d-7d6c-47cf-a01f-5c0e05334d1c",
   "metadata": {},
   "outputs": [],
   "source": [
    "from minigrid.core import constants as mgc"
   ]
  },
  {
   "cell_type": "code",
   "execution_count": 114,
   "id": "899e5a17-61ca-4d29-b2e7-97fd155eee2b",
   "metadata": {},
   "outputs": [],
   "source": [
    "def minigrid_to_rgb(obs):\n",
    "    _obs = torch.zeros(obs.shape, dtype=torch.uint8)\n",
    "    for i in range(_obs.size(0)):\n",
    "        for j in range(_obs.size(1)):\n",
    "            _obs[i, j] = torch.from_numpy(mgc.COLORS[mgc.IDX_TO_COLOR[obs[i, j, 1]]]).to(torch.uint8)\n",
    "    return _obs.permute(2, 0, 1)"
   ]
  },
  {
   "cell_type": "code",
   "execution_count": 115,
   "id": "229940fc-d576-43cd-a24c-4c64eea02320",
   "metadata": {},
   "outputs": [
    {
     "data": {
      "text/plain": [
       "(7, 7, 3)"
      ]
     },
     "execution_count": 115,
     "metadata": {},
     "output_type": "execute_result"
    }
   ],
   "source": [
    "obs = episode.observations[\"image\"][0]\n",
    "obs.shape"
   ]
  },
  {
   "cell_type": "code",
   "execution_count": 116,
   "id": "f7ad6c46-0e31-4d23-93e8-478e28cbd4d4",
   "metadata": {},
   "outputs": [
    {
     "data": {
      "text/plain": [
       "array([[1, 0, 0],\n",
       "       [1, 0, 0],\n",
       "       [1, 0, 0],\n",
       "       [1, 0, 0],\n",
       "       [1, 0, 0],\n",
       "       [1, 0, 0],\n",
       "       [1, 0, 0]], dtype=uint8)"
      ]
     },
     "execution_count": 116,
     "metadata": {},
     "output_type": "execute_result"
    }
   ],
   "source": [
    "mgc.IDX_TO_COLOR\n",
    "obs[1]"
   ]
  },
  {
   "cell_type": "code",
   "execution_count": 117,
   "id": "fcfe225d-ccec-4e01-948d-30818dd309f3",
   "metadata": {},
   "outputs": [
    {
     "data": {
      "text/plain": [
       "tensor([[[255, 255, 255, 255, 100,   0, 255],\n",
       "         [255, 255, 255, 255, 100, 255, 255],\n",
       "         [255, 255, 255, 255, 100, 255, 255],\n",
       "         [255, 255, 255, 255, 100, 255, 255],\n",
       "         [255, 255, 255, 255, 100, 255, 255],\n",
       "         [255, 255, 255, 255, 100, 255, 255],\n",
       "         [255, 255, 255, 255, 100, 255, 255]],\n",
       "\n",
       "        [[  0,   0,   0,   0, 100, 255,   0],\n",
       "         [  0,   0,   0,   0, 100,   0,   0],\n",
       "         [  0,   0,   0,   0, 100,   0,   0],\n",
       "         [  0,   0,   0,   0, 100,   0,   0],\n",
       "         [  0,   0,   0,   0, 100,   0,   0],\n",
       "         [  0,   0,   0,   0, 100,   0,   0],\n",
       "         [  0,   0,   0,   0, 100,   0,   0]],\n",
       "\n",
       "        [[  0,   0,   0,   0, 100,   0,   0],\n",
       "         [  0,   0,   0,   0, 100,   0,   0],\n",
       "         [  0,   0,   0,   0, 100,   0,   0],\n",
       "         [  0,   0,   0,   0, 100,   0,   0],\n",
       "         [  0,   0,   0,   0, 100,   0,   0],\n",
       "         [  0,   0,   0,   0, 100,   0,   0],\n",
       "         [  0,   0,   0,   0, 100,   0,   0]]], dtype=torch.uint8)"
      ]
     },
     "execution_count": 117,
     "metadata": {},
     "output_type": "execute_result"
    }
   ],
   "source": [
    "minigrid_to_rgb(episode.observations[\"image\"][5])"
   ]
  },
  {
   "cell_type": "code",
   "execution_count": 118,
   "id": "d243861d-a311-4120-aef5-e7294928136d",
   "metadata": {},
   "outputs": [
    {
     "data": {
      "image/png": "[encoded data removed]",
      "text/plain": [
       "<Figure size 1500x1500 with 11 Axes>"
      ]
     },
     "metadata": {},
     "output_type": "display_data"
    }
   ],
   "source": [
    "l = episode.observations[\"image\"].shape[0]\n",
    "fig, axs = plt.subplots(l, 1, figsize=(15, 15))\n",
    "for i in range(l):\n",
    "    axs[i].imshow(minigrid_to_rgb(episode.observations[\"image\"][i]).permute(1, 2, 0))\n",
    "    axs[i].axis(\"off\")\n",
    "plt.tight_layout()\n",
    "plt.show()"
   ]
  },
  {
   "cell_type": "code",
   "execution_count": 119,
   "id": "72051048-3c03-4639-b062-81573b791c18",
   "metadata": {},
   "outputs": [],
   "source": [
    "image_resize = transforms.RandomResizedCrop((192, 192), (0.5, 1.0))"
   ]
  },
  {
   "cell_type": "code",
   "execution_count": 120,
   "id": "27465f47-85b1-4505-99b0-0f3e0b8f9ee7",
   "metadata": {},
   "outputs": [
    {
     "data": {
      "text/plain": [
       "torch.Size([3, 7, 7])"
      ]
     },
     "execution_count": 120,
     "metadata": {},
     "output_type": "execute_result"
    }
   ],
   "source": [
    "minigrid_to_rgb(episode.observations[\"image\"][5]).shape"
   ]
  },
  {
   "cell_type": "code",
   "execution_count": 121,
   "id": "8fa2f1d9-fa49-43e6-8b1e-88f4949872a4",
   "metadata": {},
   "outputs": [
    {
     "data": {
      "text/plain": [
       "torch.Size([3, 192, 192])"
      ]
     },
     "execution_count": 121,
     "metadata": {},
     "output_type": "execute_result"
    }
   ],
   "source": [
    "resized_minari_grid_observation_image = image_resize([minigrid_to_rgb(episode.observations[\"image\"][1])])\n",
    "resized_minari_grid_observation_image[0].shape"
   ]
  },
  {
   "cell_type": "code",
   "execution_count": 122,
   "id": "623ab239-eec7-42ee-853d-bf9c8ce37153",
   "metadata": {},
   "outputs": [
    {
     "data": {
      "text/plain": [
       "<matplotlib.image.AxesImage at 0x722239b68560>"
      ]
     },
     "execution_count": 122,
     "metadata": {},
     "output_type": "execute_result"
    },
    {
     "data": {
      "image/png": "[encoded data removed]",
      "text/plain": [
       "<Figure size 640x480 with 1 Axes>"
      ]
     },
     "metadata": {},
     "output_type": "display_data"
    }
   ],
   "source": [
    "plt.imshow(image_resize([minigrid_to_rgb(episode.observations[\"image\"][1])])[0].permute(1, 2, 0))"
   ]
  },
  {
   "cell_type": "code",
   "execution_count": 123,
   "id": "975df50b-52fd-4d06-9f38-4d56c5bc9418",
   "metadata": {},
   "outputs": [
    {
     "data": {
      "text/plain": [
       "EpisodeData(id=468, total_steps=10, observations={direction: ndarray of shape (11,) and dtype int64, image: ndarray of shape (11, 7, 7, 3) and dtype uint8, mission: ['reach the goal', 'reach the goal', 'reach the goal', 'reach the goal', 'reach the goal', 'reach the goal', 'reach the goal', 'reach the goal', 'reach the goal', 'reach the goal', 'reach the goal']}, actions=ndarray of shape (10,) and dtype int64, rewards=ndarray of 10 floats, terminations=ndarray of 10 bools, truncations=ndarray of 10 bools, infos=dict with the following keys: [])"
      ]
     },
     "execution_count": 123,
     "metadata": {},
     "output_type": "execute_result"
    }
   ],
   "source": [
    "episodes[0]"
   ]
  },
  {
   "cell_type": "markdown",
   "id": "30758eb3-78be-4faf-aa57-6e305822f8f2",
   "metadata": {},
   "source": [
    "### How many timesteps fit in a sequence length?\n",
    "\n",
    "See § 2, Gato randomly samples subsequences of L tokens."
   ]
  },
  {
   "cell_type": "markdown",
   "id": "8e156807-d3b3-44fd-bd5e-9f94260145ef",
   "metadata": {},
   "source": [
    "This is tough. MiniGrid is _like_ an image. But it's not. Do we treat it like an image as far as tokenization goes? It's 7x7x3. We're looking at 147 tokens if we treat them as discrete values. That's not too far below the number of tokens a 16x16 bunch of patches uses.\n",
    "\n",
    "I say we treat it like an image. That means we'll need to upscale it."
   ]
  },
  {
   "cell_type": "markdown",
   "id": "a887841f-1202-456d-9a35-99e42ad128d9",
   "metadata": {},
   "source": [
    "### Would CartPole be a better example dataset?"
   ]
  },
  {
   "cell_type": "code",
   "execution_count": 125,
   "id": "74db52ed-91f4-4d08-9488-499eb86f9516",
   "metadata": {},
   "outputs": [],
   "source": [
    "_discrete_embedding = nn.Embedding(1024, HIDDEN_DIMS)\n",
    "embed_discrete = _discrete_embedding"
   ]
  },
  {
   "cell_type": "code",
   "execution_count": 132,
   "id": "480cd4f5-4fc9-4730-9ad7-5b8b2e0f7c31",
   "metadata": {},
   "outputs": [],
   "source": [
    "batch = minigrid_dataset.sample_episodes(4)"
   ]
  },
  {
   "cell_type": "code",
   "execution_count": 239,
   "id": "dc8680f4-d6aa-4d0e-ab74-1bc3d94f7497",
   "metadata": {},
   "outputs": [
    {
     "data": {
      "text/plain": [
       "tensor([[91]])"
      ]
     },
     "execution_count": 239,
     "metadata": {},
     "output_type": "execute_result"
    }
   ],
   "source": [
    "separator_token = tokenize_text(\"|\", return_tensors=\"pt\")[\"input_ids\"]\n",
    "separator_token"
   ]
  },
  {
   "cell_type": "code",
   "execution_count": 244,
   "id": "b3b7febd-688b-4778-ac28-371d207410c0",
   "metadata": {},
   "outputs": [
    {
     "data": {
      "text/plain": [
       "torch.Size([1, 1, 432])"
      ]
     },
     "execution_count": 244,
     "metadata": {},
     "output_type": "execute_result"
    }
   ],
   "source": [
    "separator_embedding = embed_text(separator_token)\n",
    "separator_embedding.shape"
   ]
  },
  {
   "cell_type": "code",
   "execution_count": 232,
   "id": "3808575f-4fb9-41c3-ab21-09c728caac9b",
   "metadata": {},
   "outputs": [
    {
     "data": {
      "text/plain": [
       "(torch.Size([7, 3, 432]),\n",
       " torch.Size([7, 256, 432]),\n",
       " torch.Size([7, 1, 432]),\n",
       " torch.Size([6, 1, 432]))"
      ]
     },
     "execution_count": 232,
     "metadata": {},
     "output_type": "execute_result"
    }
   ],
   "source": [
    "# Sequence each sample from the batch individually\n",
    "#   Take random subsequence if the result is greater than context length\n",
    "#   Pad/mask if it's less than context length\n",
    "# torch.stack them into a batch.\n",
    "# return the batch (xs), the action (ys), and the mask\n",
    "\n",
    "# Text embeddings\n",
    "text_tokens = tokenize_text(batch[0].observations[\"mission\"], padding=\"longest\", return_tensors=\"pt\")\n",
    "text_embeddings = embed_text(text_tokens[\"input_ids\"])\n",
    "\n",
    "# Visual embeddings\n",
    "minigrid_images = [minigrid_to_rgb(image) for image in batch[0].observations[\"image\"]]\n",
    "minigrid_images_resized = [image_resize(image) for image in minigrid_images]\n",
    "image_tokens = tokenize_image(minigrid_images_resized)\n",
    "# batch[0].observation[\"image\"] is in numpy format, HxWxC.\n",
    "# heights, widths = map(torch.tensor, zip(*[image.shape[1:3] for image in batch[0].observations[\"image\"]]))\n",
    "heights, widths = map(torch.tensor, zip(*[image.shape[1:3] for image in minigrid_images_resized]))\n",
    "n_patch_rows, n_patch_cols = n_patch_rows_cols(12, 12, heights, widths)\n",
    "image_embeddings = embed_image(n_patch_rows, n_patch_cols, image_tokens)\n",
    "\n",
    "\n",
    "# Discrete embeddings\n",
    "discrete_embeddings = embed_discrete(torch.from_numpy(batch[0].observations[\"direction\"])).unsqueeze(dim=1)\n",
    "\n",
    "# Separator_embedding\n",
    "# defined above\n",
    "\n",
    "# Action embeddings\n",
    "action_embeddings = embed_discrete(torch.from_numpy(batch[0].actions)).unsqueeze(dim=1)\n",
    "\n",
    "text_embeddings.shape, image_embeddings.shape, discrete_embeddings.shape, action_embeddings.shape"
   ]
  },
  {
   "cell_type": "markdown",
   "id": "406ac0b9-823e-4dd8-a8d3-4ada9e10994c",
   "metadata": {},
   "source": [
    "### How do we combine the control embeddings into a sequence?"
   ]
  },
  {
   "cell_type": "code",
   "execution_count": 268,
   "id": "11d6ec30-50a2-437e-bd57-0bea21d5de83",
   "metadata": {},
   "outputs": [
    {
     "data": {
      "text/plain": [
       "torch.Size([1832, 432])"
      ]
     },
     "execution_count": 268,
     "metadata": {},
     "output_type": "execute_result"
    }
   ],
   "source": [
    "# Interleaving tensors\n",
    "sequence = []\n",
    "for i in range(action_embeddings.size(0)):\n",
    "    sequence.append(torch.concat([text_embeddings[i], image_embeddings[i], discrete_embeddings[i], separator_embedding[0], action_embeddings[i]]))\n",
    "sequence.append(torch.concat([text_embeddings[-1], image_embeddings[-1], discrete_embeddings[-1]]))\n",
    "sequence = torch.concat(sequence)\n",
    "sequence.shape"
   ]
  },
  {
   "cell_type": "markdown",
   "id": "23a1395d-d95b-41b1-bacd-43fda51a8854",
   "metadata": {},
   "source": [
    "### Wrapping that all up into a function"
   ]
  },
  {
   "cell_type": "code",
   "execution_count": 277,
   "id": "12e62a81-68a0-412b-bc70-e36912475860",
   "metadata": {},
   "outputs": [],
   "source": [
    "def sequence_control(tokenize_text, embed_text, tokenize_image, embed_image, embed_discrete, separator_embedding, batch):\n",
    "    sequenced_batch = []\n",
    "    for sample in batch:\n",
    "        # Text embeddings\n",
    "        text_tokens = tokenize_text(batch[0].observations[\"mission\"], padding=\"longest\", return_tensors=\"pt\")\n",
    "        text_embeddings = embed_text(text_tokens[\"input_ids\"])\n",
    "        \n",
    "        # Visual embeddings\n",
    "        minigrid_images = [minigrid_to_rgb(image) for image in batch[0].observations[\"image\"]]\n",
    "        minigrid_images_resized = [image_resize(image) for image in minigrid_images]\n",
    "        image_tokens = tokenize_image(minigrid_images_resized)\n",
    "        # batch[0].observation[\"image\"] is in numpy format, HxWxC.\n",
    "        # heights, widths = map(torch.tensor, zip(*[image.shape[1:3] for image in batch[0].observations[\"image\"]]))\n",
    "        heights, widths = map(torch.tensor, zip(*[image.shape[1:3] for image in minigrid_images_resized]))\n",
    "        n_patch_rows, n_patch_cols = n_patch_rows_cols(12, 12, heights, widths)\n",
    "        image_embeddings = embed_image(n_patch_rows, n_patch_cols, image_tokens)\n",
    "        \n",
    "        \n",
    "        # Discrete embeddings\n",
    "        discrete_embeddings = embed_discrete(torch.from_numpy(batch[0].observations[\"direction\"])).unsqueeze(dim=1)\n",
    "        \n",
    "        # Separator_embedding\n",
    "        # defined above\n",
    "        \n",
    "        # Action embeddings\n",
    "        action_embeddings = embed_discrete(torch.from_numpy(batch[0].actions)).unsqueeze(dim=1)\n",
    "\n",
    "        sequence = []\n",
    "        for i in range(action_embeddings.size(0)):\n",
    "            sequence.append(torch.concat([text_embeddings[i], image_embeddings[i], discrete_embeddings[i], separator_embedding[0], action_embeddings[i]]))\n",
    "        sequence.append(torch.concat([text_embeddings[-1], image_embeddings[-1], discrete_embeddings[-1]]))\n",
    "        sequence = torch.concat(sequence)\n",
    "\n",
    "        if len(sequence) > SEQUENCE_LENGTH:\n",
    "            offset = random.randint(0, len(sequence) - int(SEQUENCE_LENGTH // 2)) # / 2 to try to get final action more often than 1/SEQUENCE_LENGTH\n",
    "            sequence = sequence[offset:offset+SEQUENCE_LENGTH]\n",
    "            control_mask = torch.ones(SEQUENCE_LENGTH)\n",
    "        if len(sequence) < SEQUENCE_LENGTH:  # Can't be else, might shorten sequence in above if\n",
    "            padding = torch.zeros((SEQUENCE_LENGTH - len(sequence), *sequence.shape[1:]))\n",
    "            sequence = torch.concat([sequence, padding])\n",
    "            control_mask = torch.zeros((SEQUENCE_LENGTH)) + torch.ones(SEQUENCE_LENGTH)\n",
    "   \n",
    "        sequenced_batch.append(sequence)\n",
    "    return torch.stack(sequenced_batch)"
   ]
  },
  {
   "cell_type": "code",
   "execution_count": 278,
   "id": "72c67149-93a2-49c1-b17f-20bb7dcbdc37",
   "metadata": {},
   "outputs": [],
   "source": [
    "sequenced_batch = sequence_control(\n",
    "    tokenize_text,\n",
    "    embed_text,\n",
    "    tokenize_image,\n",
    "    embed_image,\n",
    "    embed_discrete,\n",
    "    separator_embedding,\n",
    "    batch\n",
    ")"
   ]
  },
  {
   "cell_type": "code",
   "execution_count": 279,
   "id": "72494b37-e932-4bed-9bdc-da888cf83ef2",
   "metadata": {},
   "outputs": [
    {
     "data": {
      "text/plain": [
       "torch.Size([4, 1024, 432])"
      ]
     },
     "execution_count": 279,
     "metadata": {},
     "output_type": "execute_result"
    }
   ],
   "source": [
    "sequenced_batch.shape"
   ]
  },
  {
   "cell_type": "markdown",
   "id": "13896e00-9570-43d1-b07a-22befa6bc612",
   "metadata": {},
   "source": [
    "### TODO: Do we need to mask out images here, like we do in visual question answering data?"
   ]
  },
  {
   "cell_type": "markdown",
   "id": "e9697a74-ab84-4216-b51a-4239f5fb6bd2",
   "metadata": {},
   "source": [
    "### If sequence > sequence length, sample random subsequence"
   ]
  },
  {
   "cell_type": "code",
   "execution_count": 269,
   "id": "6dc9b6ba-85df-4dfc-a348-85b61d29aa8a",
   "metadata": {},
   "outputs": [],
   "source": [
    "sequence = sequence[:-10]"
   ]
  },
  {
   "cell_type": "code",
   "execution_count": 270,
   "id": "9c57f948-7a31-4902-9e38-7d41ae0e0d58",
   "metadata": {},
   "outputs": [
    {
     "data": {
      "text/plain": [
       "(torch.Size([1024, 432]), torch.Size([1024]))"
      ]
     },
     "execution_count": 270,
     "metadata": {},
     "output_type": "execute_result"
    }
   ],
   "source": [
    "if len(sequence) > SEQUENCE_LENGTH:\n",
    "    offset = random.randint(0, len(sequence) - int(SEQUENCE_LENGTH // 2)) # / 2 to try to get final action more often than 1/SEQUENCE_LENGTH\n",
    "    sequence = sequence[offset:offset+SEQUENCE_LENGTH]\n",
    "    control_mask = torch.ones(SEQUENCE_LENGTH)\n",
    "if len(sequence) < SEQUENCE_LENGTH:  # Can't be else, might shorten sequence in above if\n",
    "    padding = torch.zeros((SEQUENCE_LENGTH - len(sequence), *sequence.shape[1:]))\n",
    "    sequence = torch.concat([sequence, padding])\n",
    "    control_mask = torch.zeros((SEQUENCE_LENGTH)) + torch.ones(SEQUENCE_LENGTH)\n",
    "sequence.shape, control_mask.shape"
   ]
  },
  {
   "cell_type": "code",
   "execution_count": 127,
   "id": "48069601-85b1-498f-8330-0e0d7ab87f5f",
   "metadata": {},
   "outputs": [],
   "source": [
    "separator = tokenize_text(\"|\")[\"input_ids\"]\n",
    "def minigrid_collate_fn(tokenize_text, embed_text, tokenize_image, embed_image, embed_discrete, batch):\n",
    "    \"\"\"For when the dataset is doing the batching.\"\"\"\n",
    "    result = torch.ones((SEQUENCE_LENGTH, batch.size(0))) * -1\n",
    "    text_embeddings = embed_text(tokenize_text(batch[\"mission\"]))\n",
    "    image_embeddings = embed_image(tokenize_image([image_resize(minigrid_to_rgb(i)) for i in episode.observations[\"image\"]]))\n",
    "    separators = embed_text([separator] * len(episode.actions))\n",
    "    action_tokens = embed_discrete(episode.actions)\n",
    "    return "
   ]
  },
  {
   "cell_type": "code",
   "execution_count": 128,
   "id": "684bbca5-b647-4370-b6fd-f61ca5333453",
   "metadata": {},
   "outputs": [
    {
     "data": {
      "text/plain": [
       "torch.Size([11, 3])"
      ]
     },
     "execution_count": 128,
     "metadata": {},
     "output_type": "execute_result"
    }
   ],
   "source": [
    "tokenize_text(episode.observations[\"mission\"], padding=\"longest\", truncation=True, return_tensors=\"pt\")[\"input_ids\"].shape"
   ]
  },
  {
   "cell_type": "markdown",
   "id": "fdcd25e5-4dfe-4557-8087-a32d03840a3e",
   "metadata": {},
   "source": [
    "# TODO: Pickup from here.\n",
    "\n",
    "You're trying to sequence a MiniGrid dataset. You'll need the batch to have an attention mask if the sequence doesn't fill the context window. And you'll want to randomly sample a subsequence if the sequence overflows the context window."
   ]
  },
  {
   "cell_type": "code",
   "execution_count": 129,
   "id": "a0433fbe-30b0-43f2-a1a5-63d0f612e781",
   "metadata": {},
   "outputs": [
    {
     "ename": "TypeError",
     "evalue": "embedding(): argument 'indices' (position 2) must be Tensor, not list",
     "output_type": "error",
     "traceback": [
      "\u001b[0;31m---------------------------------------------------------------------------\u001b[0m",
      "\u001b[0;31mTypeError\u001b[0m                                 Traceback (most recent call last)",
      "Cell \u001b[0;32mIn[129], line 1\u001b[0m\n\u001b[0;32m----> 1\u001b[0m text_embeddings \u001b[38;5;241m=\u001b[39m \u001b[43membed_text\u001b[49m\u001b[43m(\u001b[49m\u001b[43mtokenize_text\u001b[49m\u001b[43m(\u001b[49m\u001b[43mepisode\u001b[49m\u001b[38;5;241;43m.\u001b[39;49m\u001b[43mobservations\u001b[49m\u001b[43m[\u001b[49m\u001b[38;5;124;43m\"\u001b[39;49m\u001b[38;5;124;43mmission\u001b[39;49m\u001b[38;5;124;43m\"\u001b[39;49m\u001b[43m]\u001b[49m\u001b[43m)\u001b[49m\u001b[43m[\u001b[49m\u001b[38;5;124;43m\"\u001b[39;49m\u001b[38;5;124;43minput_ids\u001b[39;49m\u001b[38;5;124;43m\"\u001b[39;49m\u001b[43m]\u001b[49m\u001b[43m)\u001b[49m\n",
      "File \u001b[0;32m~/.virtualenvs/neko/lib/python3.12/site-packages/torch/nn/modules/module.py:1553\u001b[0m, in \u001b[0;36mModule._wrapped_call_impl\u001b[0;34m(self, *args, **kwargs)\u001b[0m\n\u001b[1;32m   1551\u001b[0m     \u001b[38;5;28;01mreturn\u001b[39;00m \u001b[38;5;28mself\u001b[39m\u001b[38;5;241m.\u001b[39m_compiled_call_impl(\u001b[38;5;241m*\u001b[39margs, \u001b[38;5;241m*\u001b[39m\u001b[38;5;241m*\u001b[39mkwargs)  \u001b[38;5;66;03m# type: ignore[misc]\u001b[39;00m\n\u001b[1;32m   1552\u001b[0m \u001b[38;5;28;01melse\u001b[39;00m:\n\u001b[0;32m-> 1553\u001b[0m     \u001b[38;5;28;01mreturn\u001b[39;00m \u001b[38;5;28;43mself\u001b[39;49m\u001b[38;5;241;43m.\u001b[39;49m\u001b[43m_call_impl\u001b[49m\u001b[43m(\u001b[49m\u001b[38;5;241;43m*\u001b[39;49m\u001b[43margs\u001b[49m\u001b[43m,\u001b[49m\u001b[43m \u001b[49m\u001b[38;5;241;43m*\u001b[39;49m\u001b[38;5;241;43m*\u001b[39;49m\u001b[43mkwargs\u001b[49m\u001b[43m)\u001b[49m\n",
      "File \u001b[0;32m~/.virtualenvs/neko/lib/python3.12/site-packages/torch/nn/modules/module.py:1562\u001b[0m, in \u001b[0;36mModule._call_impl\u001b[0;34m(self, *args, **kwargs)\u001b[0m\n\u001b[1;32m   1557\u001b[0m \u001b[38;5;66;03m# If we don't have any hooks, we want to skip the rest of the logic in\u001b[39;00m\n\u001b[1;32m   1558\u001b[0m \u001b[38;5;66;03m# this function, and just call forward.\u001b[39;00m\n\u001b[1;32m   1559\u001b[0m \u001b[38;5;28;01mif\u001b[39;00m \u001b[38;5;129;01mnot\u001b[39;00m (\u001b[38;5;28mself\u001b[39m\u001b[38;5;241m.\u001b[39m_backward_hooks \u001b[38;5;129;01mor\u001b[39;00m \u001b[38;5;28mself\u001b[39m\u001b[38;5;241m.\u001b[39m_backward_pre_hooks \u001b[38;5;129;01mor\u001b[39;00m \u001b[38;5;28mself\u001b[39m\u001b[38;5;241m.\u001b[39m_forward_hooks \u001b[38;5;129;01mor\u001b[39;00m \u001b[38;5;28mself\u001b[39m\u001b[38;5;241m.\u001b[39m_forward_pre_hooks\n\u001b[1;32m   1560\u001b[0m         \u001b[38;5;129;01mor\u001b[39;00m _global_backward_pre_hooks \u001b[38;5;129;01mor\u001b[39;00m _global_backward_hooks\n\u001b[1;32m   1561\u001b[0m         \u001b[38;5;129;01mor\u001b[39;00m _global_forward_hooks \u001b[38;5;129;01mor\u001b[39;00m _global_forward_pre_hooks):\n\u001b[0;32m-> 1562\u001b[0m     \u001b[38;5;28;01mreturn\u001b[39;00m \u001b[43mforward_call\u001b[49m\u001b[43m(\u001b[49m\u001b[38;5;241;43m*\u001b[39;49m\u001b[43margs\u001b[49m\u001b[43m,\u001b[49m\u001b[43m \u001b[49m\u001b[38;5;241;43m*\u001b[39;49m\u001b[38;5;241;43m*\u001b[39;49m\u001b[43mkwargs\u001b[49m\u001b[43m)\u001b[49m\n\u001b[1;32m   1564\u001b[0m \u001b[38;5;28;01mtry\u001b[39;00m:\n\u001b[1;32m   1565\u001b[0m     result \u001b[38;5;241m=\u001b[39m \u001b[38;5;28;01mNone\u001b[39;00m\n",
      "File \u001b[0;32m~/.virtualenvs/neko/lib/python3.12/site-packages/torch/nn/modules/sparse.py:164\u001b[0m, in \u001b[0;36mEmbedding.forward\u001b[0;34m(self, input)\u001b[0m\n\u001b[1;32m    163\u001b[0m \u001b[38;5;28;01mdef\u001b[39;00m \u001b[38;5;21mforward\u001b[39m(\u001b[38;5;28mself\u001b[39m, \u001b[38;5;28minput\u001b[39m: Tensor) \u001b[38;5;241m-\u001b[39m\u001b[38;5;241m>\u001b[39m Tensor:\n\u001b[0;32m--> 164\u001b[0m     \u001b[38;5;28;01mreturn\u001b[39;00m \u001b[43mF\u001b[49m\u001b[38;5;241;43m.\u001b[39;49m\u001b[43membedding\u001b[49m\u001b[43m(\u001b[49m\n\u001b[1;32m    165\u001b[0m \u001b[43m        \u001b[49m\u001b[38;5;28;43minput\u001b[39;49m\u001b[43m,\u001b[49m\u001b[43m \u001b[49m\u001b[38;5;28;43mself\u001b[39;49m\u001b[38;5;241;43m.\u001b[39;49m\u001b[43mweight\u001b[49m\u001b[43m,\u001b[49m\u001b[43m \u001b[49m\u001b[38;5;28;43mself\u001b[39;49m\u001b[38;5;241;43m.\u001b[39;49m\u001b[43mpadding_idx\u001b[49m\u001b[43m,\u001b[49m\u001b[43m \u001b[49m\u001b[38;5;28;43mself\u001b[39;49m\u001b[38;5;241;43m.\u001b[39;49m\u001b[43mmax_norm\u001b[49m\u001b[43m,\u001b[49m\n\u001b[1;32m    166\u001b[0m \u001b[43m        \u001b[49m\u001b[38;5;28;43mself\u001b[39;49m\u001b[38;5;241;43m.\u001b[39;49m\u001b[43mnorm_type\u001b[49m\u001b[43m,\u001b[49m\u001b[43m \u001b[49m\u001b[38;5;28;43mself\u001b[39;49m\u001b[38;5;241;43m.\u001b[39;49m\u001b[43mscale_grad_by_freq\u001b[49m\u001b[43m,\u001b[49m\u001b[43m \u001b[49m\u001b[38;5;28;43mself\u001b[39;49m\u001b[38;5;241;43m.\u001b[39;49m\u001b[43msparse\u001b[49m\u001b[43m)\u001b[49m\n",
      "File \u001b[0;32m~/.virtualenvs/neko/lib/python3.12/site-packages/torch/nn/functional.py:2267\u001b[0m, in \u001b[0;36membedding\u001b[0;34m(input, weight, padding_idx, max_norm, norm_type, scale_grad_by_freq, sparse)\u001b[0m\n\u001b[1;32m   2261\u001b[0m     \u001b[38;5;66;03m# Note [embedding_renorm set_grad_enabled]\u001b[39;00m\n\u001b[1;32m   2262\u001b[0m     \u001b[38;5;66;03m# XXX: equivalent to\u001b[39;00m\n\u001b[1;32m   2263\u001b[0m     \u001b[38;5;66;03m# with torch.no_grad():\u001b[39;00m\n\u001b[1;32m   2264\u001b[0m     \u001b[38;5;66;03m#   torch.embedding_renorm_\u001b[39;00m\n\u001b[1;32m   2265\u001b[0m     \u001b[38;5;66;03m# remove once script supports set_grad_enabled\u001b[39;00m\n\u001b[1;32m   2266\u001b[0m     _no_grad_embedding_renorm_(weight, \u001b[38;5;28minput\u001b[39m, max_norm, norm_type)\n\u001b[0;32m-> 2267\u001b[0m \u001b[38;5;28;01mreturn\u001b[39;00m \u001b[43mtorch\u001b[49m\u001b[38;5;241;43m.\u001b[39;49m\u001b[43membedding\u001b[49m\u001b[43m(\u001b[49m\u001b[43mweight\u001b[49m\u001b[43m,\u001b[49m\u001b[43m \u001b[49m\u001b[38;5;28;43minput\u001b[39;49m\u001b[43m,\u001b[49m\u001b[43m \u001b[49m\u001b[43mpadding_idx\u001b[49m\u001b[43m,\u001b[49m\u001b[43m \u001b[49m\u001b[43mscale_grad_by_freq\u001b[49m\u001b[43m,\u001b[49m\u001b[43m \u001b[49m\u001b[43msparse\u001b[49m\u001b[43m)\u001b[49m\n",
      "\u001b[0;31mTypeError\u001b[0m: embedding(): argument 'indices' (position 2) must be Tensor, not list"
     ]
    }
   ],
   "source": [
    "text_embeddings = embed_text(tokenize_text(episode.observations[\"mission\"])[\"input_ids\"])"
   ]
  },
  {
   "cell_type": "code",
   "execution_count": null,
   "id": "5a525151-1b4e-4356-8c2e-9dfcad625391",
   "metadata": {},
   "outputs": [],
   "source": []
  },
  {
   "cell_type": "code",
   "execution_count": null,
   "id": "d658568d-8ccd-48dc-94b4-244b356f6c10",
   "metadata": {},
   "outputs": [],
   "source": [
    "separator"
   ]
  },
  {
   "cell_type": "code",
   "execution_count": null,
   "id": "7bca7af8-05cc-4e67-8439-3c2a125cc143",
   "metadata": {},
   "outputs": [],
   "source": [
    "text_tokens = tokenize_text(episode.observations[\"mission\"][i])[\"input_ids\"]\n",
    "text_tokens"
   ]
  },
  {
   "cell_type": "code",
   "execution_count": 130,
   "id": "d7d60cff-bad9-4353-91a9-bd2d44bd29ac",
   "metadata": {},
   "outputs": [
    {
     "data": {
      "text/plain": [
       "torch.Size([1, 256, 432])"
      ]
     },
     "execution_count": 130,
     "metadata": {},
     "output_type": "execute_result"
    }
   ],
   "source": [
    "image = image_resize(minigrid_to_rgb(episode.observations[\"image\"][i]))\n",
    "image_tokens = tokenize_image([image])\n",
    "image_tokens.shape"
   ]
  },
  {
   "cell_type": "code",
   "execution_count": 131,
   "id": "c59ae924-c3c9-436d-9b29-2e7c72c0a2dc",
   "metadata": {},
   "outputs": [
    {
     "ename": "NameError",
     "evalue": "name 'text_tokens' is not defined",
     "output_type": "error",
     "traceback": [
      "\u001b[0;31m---------------------------------------------------------------------------\u001b[0m",
      "\u001b[0;31mNameError\u001b[0m                                 Traceback (most recent call last)",
      "Cell \u001b[0;32mIn[131], line 2\u001b[0m\n\u001b[1;32m      1\u001b[0m sequence \u001b[38;5;241m=\u001b[39m []\n\u001b[0;32m----> 2\u001b[0m sequence\u001b[38;5;241m.\u001b[39mextend(\u001b[43mtext_tokens\u001b[49m)\n\u001b[1;32m      3\u001b[0m sequence\u001b[38;5;241m.\u001b[39mextend(image_tokens)\n\u001b[1;32m      4\u001b[0m sequence\u001b[38;5;241m.\u001b[39mextend(separator)\n",
      "\u001b[0;31mNameError\u001b[0m: name 'text_tokens' is not defined"
     ]
    }
   ],
   "source": [
    "sequence = []\n",
    "sequence.extend(text_tokens)\n",
    "sequence.extend(image_tokens)\n",
    "sequence.extend(separator)\n",
    "sequence"
   ]
  },
  {
   "cell_type": "code",
   "execution_count": null,
   "id": "0e094208-1e27-4161-b6a5-c32d00c65bac",
   "metadata": {},
   "outputs": [],
   "source": [
    "minigrid_collate_fn(minigrid_dataset.sample_episodes(2))"
   ]
  },
  {
   "cell_type": "code",
   "execution_count": null,
   "id": "0583c6e6-4e4c-4cca-a344-6c7619874996",
   "metadata": {},
   "outputs": [],
   "source": [
    "resized_minari_grid_observation_image[0].shape"
   ]
  },
  {
   "cell_type": "code",
   "execution_count": null,
   "id": "685336ea-85de-4405-a9c9-692591de725b",
   "metadata": {},
   "outputs": [],
   "source": [
    "tokenize_image(resized_minari_grid_observation_image).shape"
   ]
  },
  {
   "cell_type": "code",
   "execution_count": null,
   "id": "37443b1d-765d-464c-a9b9-576211f6bc9a",
   "metadata": {},
   "outputs": [],
   "source": [
    "minigrid_dataloader = DataLoader(minigrid_dataset, collate_fn=minigrid_collate_fn)"
   ]
  },
  {
   "cell_type": "code",
   "execution_count": null,
   "id": "029365c2-860e-4a11-9d39-4b86c9fd8156",
   "metadata": {},
   "outputs": [],
   "source": [
    "next(iter(minigrid_dataloader))"
   ]
  },
  {
   "cell_type": "code",
   "execution_count": null,
   "id": "4b055d24-0313-4f55-a902-1499c0415630",
   "metadata": {},
   "outputs": [],
   "source": [
    "ed = minigrid_dataset.sample_episodes(2)[0]"
   ]
  },
  {
   "cell_type": "code",
   "execution_count": null,
   "id": "fcd7c43a-20b8-4c4c-b0d1-073513094e85",
   "metadata": {},
   "outputs": [],
   "source": [
    "dir(ed)"
   ]
  },
  {
   "cell_type": "code",
   "execution_count": null,
   "id": "edc6e992-3bb9-4c26-b294-766d4e04aa4a",
   "metadata": {},
   "outputs": [],
   "source": []
  }
 ],
 "metadata": {
  "kernelspec": {
   "display_name": "Python 3 (ipykernel)",
   "language": "python",
   "name": "python3"
  },
  "language_info": {
   "codemirror_mode": {
    "name": "ipython",
    "version": 3
   },
   "file_extension": ".py",
   "mimetype": "text/x-python",
   "name": "python",
   "nbconvert_exporter": "python",
   "pygments_lexer": "ipython3",
   "version": "3.12.4"
  }
 },
 "nbformat": 4,
 "nbformat_minor": 5
}
